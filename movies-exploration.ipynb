{
 "cells": [
  {
   "cell_type": "code",
   "execution_count": 1,
   "id": "11450ed0",
   "metadata": {
    "id": "11450ed0"
   },
   "outputs": [],
   "source": [
    "import pandas as pd\n",
    "import polars as pl\n",
    "import re\n",
    "import numpy as np\n",
    "import ast, os, zipfile\n",
    "import torch\n",
    "from pathlib import Path\n",
    "import pickle\n",
    "from typing import List\n",
    "from sklearn.metrics.pairwise import cosine_similarity\n",
    "from nltk import download\n",
    "from nltk.stem import PorterStemmer\n",
    "from collections import Counter\n",
    "# import concurrent.futures as cf\n",
    "# import time\n",
    "import string\n",
    "# import spacy\n",
    "import nltk\n",
    "from nltk.corpus import stopwords\n",
    "from nltk.tokenize import word_tokenize"
   ]
  },
  {
   "cell_type": "markdown",
   "id": "888a7e28",
   "metadata": {
    "id": "888a7e28"
   },
   "source": [
    "Dataset [link here](https://www.kaggle.com/datasets/moon114/imdb-all-movies-dataset)"
   ]
  },
  {
   "cell_type": "code",
   "execution_count": 2,
   "id": "1EPglL92eSER",
   "metadata": {
    "colab": {
     "base_uri": "https://localhost:8080/"
    },
    "id": "1EPglL92eSER",
    "outputId": "b33f9c84-6942-4b94-a5bd-ed41382b17a6"
   },
   "outputs": [],
   "source": [
    "# nltk.download('punkt')\n",
    "# nltk.download('stopwords')"
   ]
  },
  {
   "cell_type": "code",
   "execution_count": 3,
   "id": "IVrqGNwQUJYa",
   "metadata": {
    "colab": {
     "base_uri": "https://localhost:8080/"
    },
    "id": "IVrqGNwQUJYa",
    "outputId": "336334a6-9b37-4ac7-cdbe-c86a62951566"
   },
   "outputs": [],
   "source": [
    "if 'colab' in str(get_ipython()):\n",
    "    print('Running in COlab')\n",
    "\n",
    "    # download spacy model\n",
    "    # !python -m spacy download en_core_web_lg -q\n",
    "    # spacy.load(\"en_core_web_lg\")\n",
    "    download('stopwords')\n",
    "    download('punkt')\n",
    "\n",
    "    # get data\n",
    "    try:\n",
    "        ! git clone https://github.com/tikendraw/movie-recommender-system.git\n",
    "    except:\n",
    "        pass\n",
    "\n",
    "    os.chdir('movie-recommender-system')\n",
    "\n",
    "    with zipfile.ZipFile('imdb all movies dataset.zip') as f:\n",
    "        f.extractall('dataset/')"
   ]
  },
  {
   "cell_type": "code",
   "execution_count": 4,
   "id": "GiDQp7ctxrHK",
   "metadata": {
    "id": "GiDQp7ctxrHK"
   },
   "outputs": [],
   "source": [
    "# os.chdir('movie-recommender-system')"
   ]
  },
  {
   "cell_type": "code",
   "execution_count": 5,
   "id": "710ed0b6",
   "metadata": {
    "id": "710ed0b6"
   },
   "outputs": [],
   "source": [
    "dataset_filepath = Path('./dataset/movies.csv')\n",
    "\n",
    "# df = pd.read_csv(dataset_filepath)\n",
    "df = pl.read_csv(dataset_filepath)"
   ]
  },
  {
   "cell_type": "code",
   "execution_count": null,
   "id": "1PC_OmC8xzad",
   "metadata": {
    "id": "1PC_OmC8xzad"
   },
   "outputs": [],
   "source": []
  },
  {
   "cell_type": "code",
   "execution_count": 6,
   "id": "1007fc17",
   "metadata": {
    "id": "1007fc17"
   },
   "outputs": [],
   "source": [
    "#lower the column names for ease of typing\n",
    "df.columns = [i.lower() for i in df.columns]\n",
    "\n",
    "# try:\n",
    "#     # dropping extra columns if exists\n",
    "#     df.drop('unnamed: 0', inplace =True, axis = 1)\n",
    "# except:\n",
    "#     pass\n"
   ]
  },
  {
   "cell_type": "code",
   "execution_count": 7,
   "id": "675bc645",
   "metadata": {
    "colab": {
     "base_uri": "https://localhost:8080/"
    },
    "id": "675bc645",
    "outputId": "ec59e2e8-4afa-483f-9d14-4e89e2f1ab7d"
   },
   "outputs": [
    {
     "name": "stdout",
     "output_type": "stream",
     "text": [
      "<class 'pandas.core.frame.DataFrame'>\n",
      "RangeIndex: 285341 entries, 0 to 285340\n",
      "Data columns (total 16 columns):\n",
      " #   Column       Non-Null Count   Dtype  \n",
      "---  ------       --------------   -----  \n",
      " 0                285341 non-null  int64  \n",
      " 1   title        285340 non-null  object \n",
      " 2   year         245225 non-null  object \n",
      " 3   certificate  72952 non-null   object \n",
      " 4   genre        285341 non-null  object \n",
      " 5   time         204239 non-null  object \n",
      " 6   rating       184313 non-null  float64\n",
      " 7   rate         239176 non-null  object \n",
      " 8   synopsis     285341 non-null  object \n",
      " 9   content      285336 non-null  object \n",
      " 10  director     269260 non-null  object \n",
      " 11  actor 1      253716 non-null  object \n",
      " 12  actor 2      246317 non-null  object \n",
      " 13  actor 3      239798 non-null  object \n",
      " 14  actor 4      230068 non-null  object \n",
      " 15  votes        184368 non-null  object \n",
      "dtypes: float64(1), int64(1), object(14)\n",
      "memory usage: 34.8+ MB\n"
     ]
    },
    {
     "data": {
      "text/plain": [
       "((285341, 16), None)"
      ]
     },
     "execution_count": 7,
     "metadata": {},
     "output_type": "execute_result"
    }
   ],
   "source": [
    "df.shape, df.to_pandas().info()"
   ]
  },
  {
   "cell_type": "markdown",
   "id": "ffae942f",
   "metadata": {
    "id": "ffae942f"
   },
   "source": [
    "## Objective\n",
    "\n",
    "We will convert all important features of movies into vectors and then find similarity between movies.\n",
    "\n",
    "### Clean the data\n",
    "0. remove Duplicates\n",
    "1. Remove the alpha chars from years using regex\n",
    "2. Remove \\n chars from genres and synopsis, content using regex\n",
    "3. Remove rate column(no info), drop content(contains director and actors name which we already have)\n",
    "4. Remove spaces from names"
   ]
  },
  {
   "cell_type": "code",
   "execution_count": null,
   "id": "af117574-ca18-4c17-b302-768ccead8103",
   "metadata": {},
   "outputs": [],
   "source": []
  },
  {
   "cell_type": "code",
   "execution_count": 8,
   "id": "6e5b5498-b2a1-4257-8858-1ac9a1a3a70f",
   "metadata": {},
   "outputs": [],
   "source": [
    "def remove_newline_chars(text):\n",
    "    \"\"\"Removes `\\n` characters from a text string.\"\"\"\n",
    "    text_str = re.sub(r\"\\n\", \"\", text)\n",
    "    text_str = text_str.strip()\n",
    "    return text_str\n",
    "    \n",
    "\n",
    "def remove_punctuations(text):\n",
    "    # text = str(text).lower()\n",
    "    text = text.translate(str.maketrans(\"\", \"\", string.punctuation))\n",
    "    text = text.strip()\n",
    "    return text\n",
    "    \n",
    "\n",
    "def join_names(text):\n",
    "    # text = str(text).lower()\n",
    "    text = text.translate(str.maketrans(\"\", \"\", string.punctuation))\n",
    "    text = text.replace(' ','')\n",
    "    text = text.strip()\n",
    "    return text\n",
    "    \n",
    "\n",
    "def flatten_nested_list(nested_list):\n",
    "    return [item for sublist in nested_list for item in (flatten_nested_list(sublist) if isinstance(sublist, list) else [sublist])]\n",
    "\n",
    "\n",
    "def clean_genre(x):\n",
    "    x = str(x)\n",
    "    x = [remove_newline_chars(i) for i in x.split()]\n",
    "    x = ' '.join(x)\n",
    "    return x.strip()\n",
    "\n",
    "\n",
    "def clean_year(x):\n",
    "    x = remove_punctuations(x)\n",
    "    x = re.sub(r'[^0-9]', '', x)\n",
    "    if x == '':\n",
    "        x = 0\n",
    "    return int(x)"
   ]
  },
  {
   "cell_type": "code",
   "execution_count": 9,
   "id": "4d7fcc8e",
   "metadata": {
    "colab": {
     "base_uri": "https://localhost:8080/",
     "height": 255
    },
    "id": "4d7fcc8e",
    "outputId": "0c90a98d-e17a-4a33-f99d-e93a4971fe3d"
   },
   "outputs": [
    {
     "data": {
      "text/html": [
       "<div><style>\n",
       ".dataframe > thead > tr > th,\n",
       ".dataframe > tbody > tr > td {\n",
       "  text-align: right;\n",
       "}\n",
       "</style>\n",
       "<small>shape: (5, 16)</small><table border=\"1\" class=\"dataframe\"><thead><tr><th></th><th>title</th><th>year</th><th>certificate</th><th>genre</th><th>time</th><th>rating</th><th>rate</th><th>synopsis</th><th>content</th><th>director</th><th>actor 1</th><th>actor 2</th><th>actor 3</th><th>actor 4</th><th>votes</th></tr><tr><td>i64</td><td>str</td><td>str</td><td>str</td><td>str</td><td>str</td><td>f64</td><td>str</td><td>str</td><td>str</td><td>str</td><td>str</td><td>str</td><td>str</td><td>str</td><td>str</td></tr></thead><tbody><tr><td>0</td><td>&quot;Indiana Jones …</td><td>&quot;-2023&quot;</td><td>&quot;PG-13&quot;</td><td>&quot;\n",
       "Action, Adven…</td><td>&quot;154 min&quot;</td><td>6.9</td><td>&quot;Rate this&quot;</td><td>&quot;\n",
       "Archaeologist…</td><td>&quot;\n",
       "    Director:…</td><td>&quot;James Mangold&quot;</td><td>&quot;Harrison Ford&quot;</td><td>&quot;Phoebe Waller-…</td><td>&quot;Antonio Bander…</td><td>&quot;Karen Allen&quot;</td><td>&quot;41,029&quot;</td></tr><tr><td>1</td><td>&quot;The Flash&quot;</td><td>&quot;-2023&quot;</td><td>&quot;PG-13&quot;</td><td>&quot;\n",
       "Action, Adven…</td><td>&quot;144 min&quot;</td><td>7.2</td><td>&quot;Rate this&quot;</td><td>&quot;\n",
       "Barry Allen u…</td><td>&quot;\n",
       "    Director:…</td><td>&quot;Andy Muschiett…</td><td>&quot;Ezra Miller&quot;</td><td>&quot;Michael Keaton…</td><td>&quot;Sasha Calle&quot;</td><td>&quot;Michael Shanno…</td><td>&quot;80,814&quot;</td></tr><tr><td>2</td><td>&quot;Spider-Man: Ac…</td><td>&quot;-2023&quot;</td><td>&quot;PG&quot;</td><td>&quot;\n",
       "Animation, Ac…</td><td>&quot;140 min&quot;</td><td>8.9</td><td>&quot;Rate this&quot;</td><td>&quot;\n",
       "Miles Morales…</td><td>&quot;\n",
       "    Directors…</td><td>&quot;Joaquim Dos Sa…</td><td>&quot;Kemp Powers&quot;</td><td>&quot;Justin K. Thom…</td><td>&quot;Shameik Moore&quot;</td><td>&quot;Hailee Steinfe…</td><td>&quot;1,68,355&quot;</td></tr><tr><td>3</td><td>&quot;Extraction II&quot;</td><td>&quot;-2023&quot;</td><td>&quot;R&quot;</td><td>&quot;\n",
       "Action, Thril…</td><td>&quot;122 min&quot;</td><td>7.1</td><td>&quot;Rate this&quot;</td><td>&quot;\n",
       "After barely …</td><td>&quot;\n",
       "    Director:…</td><td>&quot;Sam Hargrave&quot;</td><td>&quot;Chris Hemswort…</td><td>&quot;Golshifteh Far…</td><td>&quot;Adam Bessa&quot;</td><td>&quot;Tornike Gogric…</td><td>&quot;81,123&quot;</td></tr><tr><td>4</td><td>&quot;Avatar: The Wa…</td><td>&quot;-2022&quot;</td><td>&quot;PG-13&quot;</td><td>&quot;\n",
       "Action, Adven…</td><td>&quot;192 min&quot;</td><td>7.6</td><td>&quot;Rate this&quot;</td><td>&quot;\n",
       "Jake Sully li…</td><td>&quot;\n",
       "    Director:…</td><td>&quot;James Cameron&quot;</td><td>&quot;Sam Worthingto…</td><td>&quot;Zoe Saldana&quot;</td><td>&quot;Sigourney Weav…</td><td>&quot;Stephen Lang&quot;</td><td>&quot;4,24,931&quot;</td></tr></tbody></table></div>"
      ],
      "text/plain": [
       "shape: (5, 16)\n",
       "┌─────┬─────────────┬───────┬─────────────┬───┬─────────────┬─────────────┬─────────────┬──────────┐\n",
       "│     ┆ title       ┆ year  ┆ certificate ┆ … ┆ actor 2     ┆ actor 3     ┆ actor 4     ┆ votes    │\n",
       "│ --- ┆ ---         ┆ ---   ┆ ---         ┆   ┆ ---         ┆ ---         ┆ ---         ┆ ---      │\n",
       "│ i64 ┆ str         ┆ str   ┆ str         ┆   ┆ str         ┆ str         ┆ str         ┆ str      │\n",
       "╞═════╪═════════════╪═══════╪═════════════╪═══╪═════════════╪═════════════╪═════════════╪══════════╡\n",
       "│ 0   ┆ Indiana     ┆ -2023 ┆ PG-13       ┆ … ┆ Phoebe Wall ┆ Antonio     ┆ Karen Allen ┆ 41,029   │\n",
       "│     ┆ Jones and   ┆       ┆             ┆   ┆ er-Bridge   ┆ Banderas    ┆             ┆          │\n",
       "│     ┆ the Dial of ┆       ┆             ┆   ┆             ┆             ┆             ┆          │\n",
       "│     ┆ De…         ┆       ┆             ┆   ┆             ┆             ┆             ┆          │\n",
       "│ 1   ┆ The Flash   ┆ -2023 ┆ PG-13       ┆ … ┆ Michael     ┆ Sasha Calle ┆ Michael     ┆ 80,814   │\n",
       "│     ┆             ┆       ┆             ┆   ┆ Keaton      ┆             ┆ Shannon     ┆          │\n",
       "│ 2   ┆ Spider-Man: ┆ -2023 ┆ PG          ┆ … ┆ Justin K.   ┆ Shameik     ┆ Hailee      ┆ 1,68,355 │\n",
       "│     ┆ Across the  ┆       ┆             ┆   ┆ Thompson    ┆ Moore       ┆ Steinfeld   ┆          │\n",
       "│     ┆ Spider-Ve…  ┆       ┆             ┆   ┆             ┆             ┆             ┆          │\n",
       "│ 3   ┆ Extraction  ┆ -2023 ┆ R           ┆ … ┆ Golshifteh  ┆ Adam Bessa  ┆ Tornike     ┆ 81,123   │\n",
       "│     ┆ II          ┆       ┆             ┆   ┆ Farahani    ┆             ┆ Gogrichiani ┆          │\n",
       "│ 4   ┆ Avatar: The ┆ -2022 ┆ PG-13       ┆ … ┆ Zoe Saldana ┆ Sigourney   ┆ Stephen     ┆ 4,24,931 │\n",
       "│     ┆ Way of      ┆       ┆             ┆   ┆             ┆ Weaver      ┆ Lang        ┆          │\n",
       "│     ┆ Water       ┆       ┆             ┆   ┆             ┆             ┆             ┆          │\n",
       "└─────┴─────────────┴───────┴─────────────┴───┴─────────────┴─────────────┴─────────────┴──────────┘"
      ]
     },
     "execution_count": 9,
     "metadata": {},
     "output_type": "execute_result"
    }
   ],
   "source": [
    "df.head()"
   ]
  },
  {
   "cell_type": "markdown",
   "id": "5ff03435",
   "metadata": {},
   "source": [
    "# Removing Nulls"
   ]
  },
  {
   "cell_type": "code",
   "execution_count": 10,
   "id": "c5190deb",
   "metadata": {
    "colab": {
     "base_uri": "https://localhost:8080/",
     "height": 129
    },
    "id": "c5190deb",
    "outputId": "cd0df9e8-dd1a-4a7e-9b86-713eaad52d9b"
   },
   "outputs": [
    {
     "data": {
      "text/html": [
       "<div><style>\n",
       ".dataframe > thead > tr > th,\n",
       ".dataframe > tbody > tr > td {\n",
       "  text-align: right;\n",
       "}\n",
       "</style>\n",
       "<small>shape: (1, 16)</small><table border=\"1\" class=\"dataframe\"><thead><tr><th></th><th>title</th><th>year</th><th>certificate</th><th>genre</th><th>time</th><th>rating</th><th>rate</th><th>synopsis</th><th>content</th><th>director</th><th>actor 1</th><th>actor 2</th><th>actor 3</th><th>actor 4</th><th>votes</th></tr><tr><td>u32</td><td>u32</td><td>u32</td><td>u32</td><td>u32</td><td>u32</td><td>u32</td><td>u32</td><td>u32</td><td>u32</td><td>u32</td><td>u32</td><td>u32</td><td>u32</td><td>u32</td><td>u32</td></tr></thead><tbody><tr><td>0</td><td>1</td><td>40116</td><td>212389</td><td>0</td><td>81102</td><td>101028</td><td>46165</td><td>0</td><td>5</td><td>16081</td><td>31625</td><td>39024</td><td>45543</td><td>55273</td><td>100973</td></tr></tbody></table></div>"
      ],
      "text/plain": [
       "shape: (1, 16)\n",
       "┌─────┬───────┬───────┬─────────────┬───┬─────────┬─────────┬─────────┬────────┐\n",
       "│     ┆ title ┆ year  ┆ certificate ┆ … ┆ actor 2 ┆ actor 3 ┆ actor 4 ┆ votes  │\n",
       "│ --- ┆ ---   ┆ ---   ┆ ---         ┆   ┆ ---     ┆ ---     ┆ ---     ┆ ---    │\n",
       "│ u32 ┆ u32   ┆ u32   ┆ u32         ┆   ┆ u32     ┆ u32     ┆ u32     ┆ u32    │\n",
       "╞═════╪═══════╪═══════╪═════════════╪═══╪═════════╪═════════╪═════════╪════════╡\n",
       "│ 0   ┆ 1     ┆ 40116 ┆ 212389      ┆ … ┆ 39024   ┆ 45543   ┆ 55273   ┆ 100973 │\n",
       "└─────┴───────┴───────┴─────────────┴───┴─────────┴─────────┴─────────┴────────┘"
      ]
     },
     "execution_count": 10,
     "metadata": {},
     "output_type": "execute_result"
    }
   ],
   "source": [
    "# check for nulls\n",
    "df.null_count()"
   ]
  },
  {
   "cell_type": "code",
   "execution_count": 11,
   "id": "c6bac0e0",
   "metadata": {},
   "outputs": [],
   "source": [
    "# dropping movies with no ratings (if no cared to rate it, i wouldn't suggest it )\n",
    "df = df.drop_nulls(subset=['rating'])"
   ]
  },
  {
   "cell_type": "code",
   "execution_count": 12,
   "id": "84dd401f",
   "metadata": {},
   "outputs": [
    {
     "data": {
      "text/html": [
       "<div><style>\n",
       ".dataframe > thead > tr > th,\n",
       ".dataframe > tbody > tr > td {\n",
       "  text-align: right;\n",
       "}\n",
       "</style>\n",
       "<small>shape: (1, 16)</small><table border=\"1\" class=\"dataframe\"><thead><tr><th></th><th>title</th><th>year</th><th>certificate</th><th>genre</th><th>time</th><th>rating</th><th>rate</th><th>synopsis</th><th>content</th><th>director</th><th>actor 1</th><th>actor 2</th><th>actor 3</th><th>actor 4</th><th>votes</th></tr><tr><td>u32</td><td>u32</td><td>u32</td><td>u32</td><td>u32</td><td>u32</td><td>u32</td><td>u32</td><td>u32</td><td>u32</td><td>u32</td><td>u32</td><td>u32</td><td>u32</td><td>u32</td><td>u32</td></tr></thead><tbody><tr><td>0</td><td>0</td><td>24</td><td>115564</td><td>0</td><td>14778</td><td>0</td><td>0</td><td>0</td><td>5</td><td>216</td><td>1096</td><td>2075</td><td>3716</td><td>6848</td><td>0</td></tr></tbody></table></div>"
      ],
      "text/plain": [
       "shape: (1, 16)\n",
       "┌─────┬───────┬──────┬─────────────┬───┬─────────┬─────────┬─────────┬───────┐\n",
       "│     ┆ title ┆ year ┆ certificate ┆ … ┆ actor 2 ┆ actor 3 ┆ actor 4 ┆ votes │\n",
       "│ --- ┆ ---   ┆ ---  ┆ ---         ┆   ┆ ---     ┆ ---     ┆ ---     ┆ ---   │\n",
       "│ u32 ┆ u32   ┆ u32  ┆ u32         ┆   ┆ u32     ┆ u32     ┆ u32     ┆ u32   │\n",
       "╞═════╪═══════╪══════╪═════════════╪═══╪═════════╪═════════╪═════════╪═══════╡\n",
       "│ 0   ┆ 0     ┆ 24   ┆ 115564      ┆ … ┆ 2075    ┆ 3716    ┆ 6848    ┆ 0     │\n",
       "└─────┴───────┴──────┴─────────────┴───┴─────────┴─────────┴─────────┴───────┘"
      ]
     },
     "execution_count": 12,
     "metadata": {},
     "output_type": "execute_result"
    }
   ],
   "source": [
    "df.null_count()"
   ]
  },
  {
   "cell_type": "markdown",
   "id": "af1ada71",
   "metadata": {
    "id": "af1ada71"
   },
   "source": [
    "Here dataset sets has alot of missing values, That won't stop us from over purpose.\n",
    "\n",
    "The Most Important factor for Movie here is to have a title and synopsis. We will fill nans with space. and drop those who doesn't have title or synopsis."
   ]
  },
  {
   "cell_type": "code",
   "execution_count": 13,
   "id": "9a9f237d",
   "metadata": {
    "id": "9a9f237d"
   },
   "outputs": [],
   "source": [
    "# movie index with no title\n",
    "df = df.drop_nulls(subset=[\"title\"])"
   ]
  },
  {
   "cell_type": "code",
   "execution_count": 14,
   "id": "58e53563-89ae-47fb-bf58-06fb5aaa020c",
   "metadata": {},
   "outputs": [],
   "source": [
    "# This df is for filtering, and should have clean values\n",
    "ddf = df[['title', 'certificate', 'genre', 'rating', 'year','votes']]"
   ]
  },
  {
   "cell_type": "code",
   "execution_count": 15,
   "id": "a825a660-493a-4748-a57b-6c3000865d5b",
   "metadata": {},
   "outputs": [],
   "source": [
    "ddf= ddf.with_columns([\n",
    "    pl.Series(name=\"movies_id\", values=range(len(ddf)))\n",
    "])"
   ]
  },
  {
   "cell_type": "code",
   "execution_count": 17,
   "id": "97324653-7f35-439a-8ba6-9d8e09d8938e",
   "metadata": {},
   "outputs": [
    {
     "data": {
      "text/html": [
       "<div><style>\n",
       ".dataframe > thead > tr > th,\n",
       ".dataframe > tbody > tr > td {\n",
       "  text-align: right;\n",
       "}\n",
       "</style>\n",
       "<small>shape: (1, 7)</small><table border=\"1\" class=\"dataframe\"><thead><tr><th>title</th><th>certificate</th><th>genre</th><th>rating</th><th>year</th><th>votes</th><th>movies_id</th></tr><tr><td>u32</td><td>u32</td><td>u32</td><td>u32</td><td>u32</td><td>u32</td><td>u32</td></tr></thead><tbody><tr><td>0</td><td>115564</td><td>0</td><td>0</td><td>24</td><td>0</td><td>0</td></tr></tbody></table></div>"
      ],
      "text/plain": [
       "shape: (1, 7)\n",
       "┌───────┬─────────────┬───────┬────────┬──────┬───────┬───────────┐\n",
       "│ title ┆ certificate ┆ genre ┆ rating ┆ year ┆ votes ┆ movies_id │\n",
       "│ ---   ┆ ---         ┆ ---   ┆ ---    ┆ ---  ┆ ---   ┆ ---       │\n",
       "│ u32   ┆ u32         ┆ u32   ┆ u32    ┆ u32  ┆ u32   ┆ u32       │\n",
       "╞═══════╪═════════════╪═══════╪════════╪══════╪═══════╪═══════════╡\n",
       "│ 0     ┆ 115564      ┆ 0     ┆ 0      ┆ 24   ┆ 0     ┆ 0         │\n",
       "└───────┴─────────────┴───────┴────────┴──────┴───────┴───────────┘"
      ]
     },
     "execution_count": 17,
     "metadata": {},
     "output_type": "execute_result"
    }
   ],
   "source": [
    "ddf.null_count()"
   ]
  },
  {
   "cell_type": "code",
   "execution_count": 18,
   "id": "3280070d-a29b-47a3-863b-ee5244c9da31",
   "metadata": {},
   "outputs": [
    {
     "data": {
      "text/html": [
       "<div><style>\n",
       ".dataframe > thead > tr > th,\n",
       ".dataframe > tbody > tr > td {\n",
       "  text-align: right;\n",
       "}\n",
       "</style>\n",
       "<small>shape: (1, 7)</small><table border=\"1\" class=\"dataframe\"><thead><tr><th>title</th><th>certificate</th><th>genre</th><th>rating</th><th>year</th><th>votes</th><th>movies_id</th></tr><tr><td>str</td><td>str</td><td>str</td><td>f64</td><td>str</td><td>str</td><td>i64</td></tr></thead><tbody><tr><td>&quot;Indiana Jones …</td><td>&quot;PG-13&quot;</td><td>&quot;\n",
       "Action, Adven…</td><td>6.9</td><td>&quot;-2023&quot;</td><td>&quot;41,029&quot;</td><td>0</td></tr></tbody></table></div>"
      ],
      "text/plain": [
       "shape: (1, 7)\n",
       "┌───────────────────┬─────────────┬──────────────────────────┬────────┬───────┬────────┬───────────┐\n",
       "│ title             ┆ certificate ┆ genre                    ┆ rating ┆ year  ┆ votes  ┆ movies_id │\n",
       "│ ---               ┆ ---         ┆ ---                      ┆ ---    ┆ ---   ┆ ---    ┆ ---       │\n",
       "│ str               ┆ str         ┆ str                      ┆ f64    ┆ str   ┆ str    ┆ i64       │\n",
       "╞═══════════════════╪═════════════╪══════════════════════════╪════════╪═══════╪════════╪═══════════╡\n",
       "│ Indiana Jones and ┆ PG-13       ┆                          ┆ 6.9    ┆ -2023 ┆ 41,029 ┆ 0         │\n",
       "│ the Dial of De…   ┆             ┆ Action, Adventure        ┆        ┆       ┆        ┆           │\n",
       "└───────────────────┴─────────────┴──────────────────────────┴────────┴───────┴────────┴───────────┘"
      ]
     },
     "execution_count": 18,
     "metadata": {},
     "output_type": "execute_result"
    }
   ],
   "source": [
    "ddf.head(1)"
   ]
  },
  {
   "cell_type": "code",
   "execution_count": 19,
   "id": "4f317c56-7762-42e9-97df-e9fa9281a28c",
   "metadata": {},
   "outputs": [
    {
     "data": {
      "text/plain": [
       "(184313, 7)"
      ]
     },
     "execution_count": 19,
     "metadata": {},
     "output_type": "execute_result"
    }
   ],
   "source": [
    "ddf = ddf.drop_nulls(subset=['title'])"
   ]
  },
  {
   "cell_type": "code",
   "execution_count": 20,
   "id": "fab75c35-2d80-4685-b3f5-e0898fc526df",
   "metadata": {},
   "outputs": [],
   "source": [
    "ddf = ddf.with_columns([\n",
    "    pl.col('year').fill_null(0),\n",
    "    pl.col('certificate').fill_null('Unavailable'),\n",
    "    pl.col('rating').fill_null(0.1),\n",
    "    pl.col('votes').fill_null(0)\n",
    "    \n",
    "])"
   ]
  },
  {
   "cell_type": "code",
   "execution_count": null,
   "id": "3bf46d0d-bcf8-4a5e-a2b0-494caf2a8411",
   "metadata": {},
   "outputs": [],
   "source": []
  },
  {
   "cell_type": "code",
   "execution_count": null,
   "id": "2af96d04-8542-49cd-8230-53f5dd547b9b",
   "metadata": {},
   "outputs": [],
   "source": []
  },
  {
   "cell_type": "code",
   "execution_count": 21,
   "id": "5b34947d-5374-4d64-ac10-b1a5686dbfa5",
   "metadata": {},
   "outputs": [
    {
     "data": {
      "text/html": [
       "<div><style>\n",
       ".dataframe > thead > tr > th,\n",
       ".dataframe > tbody > tr > td {\n",
       "  text-align: right;\n",
       "}\n",
       "</style>\n",
       "<small>shape: (4, 7)</small><table border=\"1\" class=\"dataframe\"><thead><tr><th>title</th><th>certificate</th><th>genre</th><th>rating</th><th>year</th><th>votes</th><th>movies_id</th></tr><tr><td>str</td><td>str</td><td>str</td><td>f64</td><td>str</td><td>str</td><td>i64</td></tr></thead><tbody><tr><td>&quot;Indiana Jones …</td><td>&quot;PG-13&quot;</td><td>&quot;\n",
       "Action, Adven…</td><td>6.9</td><td>&quot;-2023&quot;</td><td>&quot;41,029&quot;</td><td>0</td></tr><tr><td>&quot;The Flash&quot;</td><td>&quot;PG-13&quot;</td><td>&quot;\n",
       "Action, Adven…</td><td>7.2</td><td>&quot;-2023&quot;</td><td>&quot;80,814&quot;</td><td>1</td></tr><tr><td>&quot;Spider-Man: Ac…</td><td>&quot;PG&quot;</td><td>&quot;\n",
       "Animation, Ac…</td><td>8.9</td><td>&quot;-2023&quot;</td><td>&quot;1,68,355&quot;</td><td>2</td></tr><tr><td>&quot;Extraction II&quot;</td><td>&quot;R&quot;</td><td>&quot;\n",
       "Action, Thril…</td><td>7.1</td><td>&quot;-2023&quot;</td><td>&quot;81,123&quot;</td><td>3</td></tr></tbody></table></div>"
      ],
      "text/plain": [
       "shape: (4, 7)\n",
       "┌──────────────────────┬─────────────┬─────────────────────┬────────┬───────┬──────────┬───────────┐\n",
       "│ title                ┆ certificate ┆ genre               ┆ rating ┆ year  ┆ votes    ┆ movies_id │\n",
       "│ ---                  ┆ ---         ┆ ---                 ┆ ---    ┆ ---   ┆ ---      ┆ ---       │\n",
       "│ str                  ┆ str         ┆ str                 ┆ f64    ┆ str   ┆ str      ┆ i64       │\n",
       "╞══════════════════════╪═════════════╪═════════════════════╪════════╪═══════╪══════════╪═══════════╡\n",
       "│ Indiana Jones and    ┆ PG-13       ┆                     ┆ 6.9    ┆ -2023 ┆ 41,029   ┆ 0         │\n",
       "│ the Dial of De…      ┆             ┆ Action, Adventure   ┆        ┆       ┆          ┆           │\n",
       "│ The Flash            ┆ PG-13       ┆                     ┆ 7.2    ┆ -2023 ┆ 80,814   ┆ 1         │\n",
       "│                      ┆             ┆ Action, Adventure,  ┆        ┆       ┆          ┆           │\n",
       "│                      ┆             ┆ Fantasy     …       ┆        ┆       ┆          ┆           │\n",
       "│ Spider-Man: Across   ┆ PG          ┆                     ┆ 8.9    ┆ -2023 ┆ 1,68,355 ┆ 2         │\n",
       "│ the Spider-Ve…       ┆             ┆ Animation, Action,  ┆        ┆       ┆          ┆           │\n",
       "│                      ┆             ┆ Adventure   …       ┆        ┆       ┆          ┆           │\n",
       "│ Extraction II        ┆ R           ┆                     ┆ 7.1    ┆ -2023 ┆ 81,123   ┆ 3         │\n",
       "│                      ┆             ┆ Action, Thriller    ┆        ┆       ┆          ┆           │\n",
       "└──────────────────────┴─────────────┴─────────────────────┴────────┴───────┴──────────┴───────────┘"
      ]
     },
     "execution_count": 21,
     "metadata": {},
     "output_type": "execute_result"
    }
   ],
   "source": [
    "ddf.head(4)"
   ]
  },
  {
   "cell_type": "code",
   "execution_count": 22,
   "id": "8ca8c017-1f45-40d6-b155-ecae87a26229",
   "metadata": {},
   "outputs": [],
   "source": [
    "ddf = ddf.with_columns([\n",
    "        pl.col('year').apply(clean_year),\n",
    "        pl.col('votes').apply(clean_year),\n",
    "        pl.col('genre').apply(clean_genre)\n",
    "])"
   ]
  },
  {
   "cell_type": "code",
   "execution_count": 23,
   "id": "422102c2-5486-4051-9d6f-8bd9a6b65cf4",
   "metadata": {},
   "outputs": [],
   "source": [
    "u_categories = ddf['certificate'].unique().to_list()\n",
    "u_genre = ddf['genre'].to_list()\n",
    "u_genre = list(set(flatten_nested_list(u_genre)))\n",
    "u_movies_latest = ddf.filter((pl.col('rating')>=8.0) & (pl.col('votes')>=10_000))['title'].to_list()[:50]\n",
    "u_year = ddf['year'].unique().to_list()\n"
   ]
  },
  {
   "cell_type": "code",
   "execution_count": 24,
   "id": "c2501014-9d21-4be1-9dd3-e059bde744f5",
   "metadata": {},
   "outputs": [],
   "source": [
    "\n",
    "movie_info = {'movie_list': u_movies_latest,\n",
    "              'categories': u_categories, \n",
    "              'genre'     : u_genre,\n",
    "              'year'      : u_year,\n",
    "             \n",
    "             }"
   ]
  },
  {
   "cell_type": "code",
   "execution_count": 25,
   "id": "3548d881-92cd-463a-88a2-5a0575f93852",
   "metadata": {},
   "outputs": [],
   "source": [
    "pickle.dump(movie_info, open('movie_info.pkl','wb'))"
   ]
  },
  {
   "cell_type": "code",
   "execution_count": 26,
   "id": "cf10d1ad-5fff-4770-bf63-c903654f0954",
   "metadata": {},
   "outputs": [
    {
     "data": {
      "text/html": [
       "<div><style>\n",
       ".dataframe > thead > tr > th,\n",
       ".dataframe > tbody > tr > td {\n",
       "  text-align: right;\n",
       "}\n",
       "</style>\n",
       "<small>shape: (5, 7)</small><table border=\"1\" class=\"dataframe\"><thead><tr><th>title</th><th>certificate</th><th>genre</th><th>rating</th><th>year</th><th>votes</th><th>movies_id</th></tr><tr><td>str</td><td>str</td><td>str</td><td>f64</td><td>i64</td><td>i64</td><td>i64</td></tr></thead><tbody><tr><td>&quot;Indiana Jones …</td><td>&quot;PG-13&quot;</td><td>&quot;Action, Advent…</td><td>6.9</td><td>2023</td><td>41029</td><td>0</td></tr><tr><td>&quot;The Flash&quot;</td><td>&quot;PG-13&quot;</td><td>&quot;Action, Advent…</td><td>7.2</td><td>2023</td><td>80814</td><td>1</td></tr><tr><td>&quot;Spider-Man: Ac…</td><td>&quot;PG&quot;</td><td>&quot;Animation, Act…</td><td>8.9</td><td>2023</td><td>168355</td><td>2</td></tr><tr><td>&quot;Extraction II&quot;</td><td>&quot;R&quot;</td><td>&quot;Action, Thrill…</td><td>7.1</td><td>2023</td><td>81123</td><td>3</td></tr><tr><td>&quot;Avatar: The Wa…</td><td>&quot;PG-13&quot;</td><td>&quot;Action, Advent…</td><td>7.6</td><td>2022</td><td>424931</td><td>4</td></tr></tbody></table></div>"
      ],
      "text/plain": [
       "shape: (5, 7)\n",
       "┌──────────────────────────┬─────────────┬────────────────────┬────────┬──────┬────────┬───────────┐\n",
       "│ title                    ┆ certificate ┆ genre              ┆ rating ┆ year ┆ votes  ┆ movies_id │\n",
       "│ ---                      ┆ ---         ┆ ---                ┆ ---    ┆ ---  ┆ ---    ┆ ---       │\n",
       "│ str                      ┆ str         ┆ str                ┆ f64    ┆ i64  ┆ i64    ┆ i64       │\n",
       "╞══════════════════════════╪═════════════╪════════════════════╪════════╪══════╪════════╪═══════════╡\n",
       "│ Indiana Jones and the    ┆ PG-13       ┆ Action, Adventure  ┆ 6.9    ┆ 2023 ┆ 41029  ┆ 0         │\n",
       "│ Dial of De…              ┆             ┆                    ┆        ┆      ┆        ┆           │\n",
       "│ The Flash                ┆ PG-13       ┆ Action, Adventure, ┆ 7.2    ┆ 2023 ┆ 80814  ┆ 1         │\n",
       "│                          ┆             ┆ Fantasy            ┆        ┆      ┆        ┆           │\n",
       "│ Spider-Man: Across the   ┆ PG          ┆ Animation, Action, ┆ 8.9    ┆ 2023 ┆ 168355 ┆ 2         │\n",
       "│ Spider-Ve…               ┆             ┆ Adventure          ┆        ┆      ┆        ┆           │\n",
       "│ Extraction II            ┆ R           ┆ Action, Thriller   ┆ 7.1    ┆ 2023 ┆ 81123  ┆ 3         │\n",
       "│ Avatar: The Way of Water ┆ PG-13       ┆ Action, Adventure, ┆ 7.6    ┆ 2022 ┆ 424931 ┆ 4         │\n",
       "│                          ┆             ┆ Fantasy            ┆        ┆      ┆        ┆           │\n",
       "└──────────────────────────┴─────────────┴────────────────────┴────────┴──────┴────────┴───────────┘"
      ]
     },
     "execution_count": 26,
     "metadata": {},
     "output_type": "execute_result"
    }
   ],
   "source": [
    "ddf.head()\n",
    "# ddf.null_count()"
   ]
  },
  {
   "cell_type": "code",
   "execution_count": 27,
   "id": "bd2ccd0a-2f92-4c4b-a7fe-6403af10be92",
   "metadata": {},
   "outputs": [],
   "source": [
    "ddf.write_csv(Path('./dataset/movies_clean_final.csv'))"
   ]
  },
  {
   "cell_type": "markdown",
   "id": "ee2f953d",
   "metadata": {
    "id": "ee2f953d"
   },
   "source": [
    "# Preprocessing"
   ]
  },
  {
   "cell_type": "code",
   "execution_count": 28,
   "id": "712c5d56",
   "metadata": {
    "colab": {
     "base_uri": "https://localhost:8080/"
    },
    "id": "712c5d56",
    "outputId": "8f8e20ff-b8cb-4fba-808e-57c38335014c"
   },
   "outputs": [
    {
     "data": {
      "text/plain": [
       "0"
      ]
     },
     "execution_count": 28,
     "metadata": {},
     "output_type": "execute_result"
    }
   ],
   "source": [
    "# check for duplicates\n",
    "df.is_duplicated().sum()"
   ]
  },
  {
   "cell_type": "markdown",
   "id": "d343c239",
   "metadata": {
    "id": "d343c239"
   },
   "source": [
    "## Removing Nulls"
   ]
  },
  {
   "cell_type": "markdown",
   "id": "9f595d6d",
   "metadata": {
    "id": "9f595d6d"
   },
   "source": [
    "## Dropping Columns"
   ]
  },
  {
   "cell_type": "markdown",
   "id": "hCX-EKqtXIg8",
   "metadata": {
    "id": "hCX-EKqtXIg8"
   },
   "source": [
    "Content column only contains 4 actors name and director's name  which we already have as columns, so dropping it"
   ]
  },
  {
   "cell_type": "code",
   "execution_count": 29,
   "id": "c832caf7",
   "metadata": {
    "id": "c832caf7"
   },
   "outputs": [],
   "source": [
    "#dropping columns\n",
    "df = df.drop(['rate', 'content', ''])"
   ]
  },
  {
   "cell_type": "code",
   "execution_count": 30,
   "id": "Nwc7jK4s3BqN",
   "metadata": {
    "colab": {
     "base_uri": "https://localhost:8080/"
    },
    "id": "Nwc7jK4s3BqN",
    "outputId": "9af69dff-1ec3-49d3-edb3-00be18f815ac"
   },
   "outputs": [
    {
     "data": {
      "text/plain": [
       "(184313, 13)"
      ]
     },
     "execution_count": 30,
     "metadata": {},
     "output_type": "execute_result"
    }
   ],
   "source": [
    "df.shape"
   ]
  },
  {
   "cell_type": "markdown",
   "id": "45a6c925",
   "metadata": {
    "id": "45a6c925"
   },
   "source": [
    "## Column preprocessing"
   ]
  },
  {
   "cell_type": "code",
   "execution_count": 31,
   "id": "1589edc3-9185-4b6f-b6cb-aac286cf40a8",
   "metadata": {},
   "outputs": [
    {
     "data": {
      "text/plain": [
       "'heloo  9093gg'"
      ]
     },
     "execution_count": 31,
     "metadata": {},
     "output_type": "execute_result"
    }
   ],
   "source": [
    "a = 'heloo  909)(*)()(&3gg '\n",
    "remove_punctuations(a)"
   ]
  },
  {
   "cell_type": "code",
   "execution_count": 32,
   "id": "8f121bb7",
   "metadata": {
    "id": "8f121bb7"
   },
   "outputs": [],
   "source": [
    "# Movies doesn't have any id, we will create id\n",
    "df= df.with_columns([\n",
    "    pl.Series(name=\"movies_id\", values=range(len(df)))\n",
    "])"
   ]
  },
  {
   "cell_type": "code",
   "execution_count": 33,
   "id": "b21d76cc",
   "metadata": {
    "id": "b21d76cc"
   },
   "outputs": [],
   "source": [
    "# cleaning number columns\n",
    "df = df.with_columns([\n",
    "    pl.col('year').str.replace_all(r'[^0-9]', '').alias('year'),\n",
    "    pl.col('time').str.replace_all(r'[^0-9]', '').alias('time'),\n",
    "    pl.col('votes').str.replace_all(r'[^0-9]', '').alias('votes'),\n",
    "])"
   ]
  },
  {
   "cell_type": "code",
   "execution_count": 34,
   "id": "1eb90b58-59b7-426a-a2ce-65717b9a8976",
   "metadata": {
    "id": "1eb90b58-59b7-426a-a2ce-65717b9a8976"
   },
   "outputs": [],
   "source": [
    "# filling 0 inplace of Nans, in votes number column (we need this for popular movies)\n",
    "df = df.with_columns(pl.col('votes').fill_null('0'))\n",
    "df = df.with_columns(pl.col('votes').cast(pl.Float64))\n",
    "df = df.with_columns(pl.col('votes').cast(pl.Int64))"
   ]
  },
  {
   "cell_type": "code",
   "execution_count": 35,
   "id": "41d7a0fb-117d-4205-b9e4-05546f87d6d5",
   "metadata": {},
   "outputs": [],
   "source": [
    "df = df.with_columns([\n",
    "    pl.col('certificate').apply(remove_punctuations),\n",
    "    pl.col('synopsis').apply(remove_punctuations),\n",
    "\n",
    "])"
   ]
  },
  {
   "cell_type": "code",
   "execution_count": 36,
   "id": "PdFfhAIl7eaD",
   "metadata": {
    "colab": {
     "base_uri": "https://localhost:8080/",
     "height": 255
    },
    "id": "PdFfhAIl7eaD",
    "outputId": "d63329f6-2072-4089-dc36-d1f70805fd9b",
    "scrolled": true
   },
   "outputs": [
    {
     "data": {
      "text/html": [
       "<div><style>\n",
       ".dataframe > thead > tr > th,\n",
       ".dataframe > tbody > tr > td {\n",
       "  text-align: right;\n",
       "}\n",
       "</style>\n",
       "<small>shape: (5, 14)</small><table border=\"1\" class=\"dataframe\"><thead><tr><th>title</th><th>year</th><th>certificate</th><th>genre</th><th>time</th><th>rating</th><th>synopsis</th><th>director</th><th>actor 1</th><th>actor 2</th><th>actor 3</th><th>actor 4</th><th>votes</th><th>movies_id</th></tr><tr><td>str</td><td>str</td><td>str</td><td>str</td><td>str</td><td>f64</td><td>str</td><td>str</td><td>str</td><td>str</td><td>str</td><td>str</td><td>i64</td><td>i64</td></tr></thead><tbody><tr><td>&quot;Indiana Jones …</td><td>&quot;2023&quot;</td><td>&quot;PG13&quot;</td><td>&quot;\n",
       "Action, Adven…</td><td>&quot;154&quot;</td><td>6.9</td><td>&quot;Archaeologist …</td><td>&quot;James Mangold&quot;</td><td>&quot;Harrison Ford&quot;</td><td>&quot;Phoebe Waller-…</td><td>&quot;Antonio Bander…</td><td>&quot;Karen Allen&quot;</td><td>41029</td><td>0</td></tr><tr><td>&quot;The Flash&quot;</td><td>&quot;2023&quot;</td><td>&quot;PG13&quot;</td><td>&quot;\n",
       "Action, Adven…</td><td>&quot;144&quot;</td><td>7.2</td><td>&quot;Barry Allen us…</td><td>&quot;Andy Muschiett…</td><td>&quot;Ezra Miller&quot;</td><td>&quot;Michael Keaton…</td><td>&quot;Sasha Calle&quot;</td><td>&quot;Michael Shanno…</td><td>80814</td><td>1</td></tr><tr><td>&quot;Spider-Man: Ac…</td><td>&quot;2023&quot;</td><td>&quot;PG&quot;</td><td>&quot;\n",
       "Animation, Ac…</td><td>&quot;140&quot;</td><td>8.9</td><td>&quot;Miles Morales …</td><td>&quot;Joaquim Dos Sa…</td><td>&quot;Kemp Powers&quot;</td><td>&quot;Justin K. Thom…</td><td>&quot;Shameik Moore&quot;</td><td>&quot;Hailee Steinfe…</td><td>168355</td><td>2</td></tr><tr><td>&quot;Extraction II&quot;</td><td>&quot;2023&quot;</td><td>&quot;R&quot;</td><td>&quot;\n",
       "Action, Thril…</td><td>&quot;122&quot;</td><td>7.1</td><td>&quot;After barely s…</td><td>&quot;Sam Hargrave&quot;</td><td>&quot;Chris Hemswort…</td><td>&quot;Golshifteh Far…</td><td>&quot;Adam Bessa&quot;</td><td>&quot;Tornike Gogric…</td><td>81123</td><td>3</td></tr><tr><td>&quot;Avatar: The Wa…</td><td>&quot;2022&quot;</td><td>&quot;PG13&quot;</td><td>&quot;\n",
       "Action, Adven…</td><td>&quot;192&quot;</td><td>7.6</td><td>&quot;Jake Sully liv…</td><td>&quot;James Cameron&quot;</td><td>&quot;Sam Worthingto…</td><td>&quot;Zoe Saldana&quot;</td><td>&quot;Sigourney Weav…</td><td>&quot;Stephen Lang&quot;</td><td>424931</td><td>4</td></tr></tbody></table></div>"
      ],
      "text/plain": [
       "shape: (5, 14)\n",
       "┌─────────────┬──────┬───────────┬─────────────┬───┬─────────────┬────────────┬────────┬───────────┐\n",
       "│ title       ┆ year ┆ certifica ┆ genre       ┆ … ┆ actor 3     ┆ actor 4    ┆ votes  ┆ movies_id │\n",
       "│ ---         ┆ ---  ┆ te        ┆ ---         ┆   ┆ ---         ┆ ---        ┆ ---    ┆ ---       │\n",
       "│ str         ┆ str  ┆ ---       ┆ str         ┆   ┆ str         ┆ str        ┆ i64    ┆ i64       │\n",
       "│             ┆      ┆ str       ┆             ┆   ┆             ┆            ┆        ┆           │\n",
       "╞═════════════╪══════╪═══════════╪═════════════╪═══╪═════════════╪════════════╪════════╪═══════════╡\n",
       "│ Indiana     ┆ 2023 ┆ PG13      ┆             ┆ … ┆ Antonio     ┆ Karen      ┆ 41029  ┆ 0         │\n",
       "│ Jones and   ┆      ┆           ┆ Action,     ┆   ┆ Banderas    ┆ Allen      ┆        ┆           │\n",
       "│ the Dial of ┆      ┆           ┆ Adventure   ┆   ┆             ┆            ┆        ┆           │\n",
       "│ De…         ┆      ┆           ┆             ┆   ┆             ┆            ┆        ┆           │\n",
       "│ The Flash   ┆ 2023 ┆ PG13      ┆             ┆ … ┆ Sasha Calle ┆ Michael    ┆ 80814  ┆ 1         │\n",
       "│             ┆      ┆           ┆ Action,     ┆   ┆             ┆ Shannon    ┆        ┆           │\n",
       "│             ┆      ┆           ┆ Adventure,  ┆   ┆             ┆            ┆        ┆           │\n",
       "│             ┆      ┆           ┆ Fantasy     ┆   ┆             ┆            ┆        ┆           │\n",
       "│             ┆      ┆           ┆ …           ┆   ┆             ┆            ┆        ┆           │\n",
       "│ Spider-Man: ┆ 2023 ┆ PG        ┆             ┆ … ┆ Shameik     ┆ Hailee     ┆ 168355 ┆ 2         │\n",
       "│ Across the  ┆      ┆           ┆ Animation,  ┆   ┆ Moore       ┆ Steinfeld  ┆        ┆           │\n",
       "│ Spider-Ve…  ┆      ┆           ┆ Action,     ┆   ┆             ┆            ┆        ┆           │\n",
       "│             ┆      ┆           ┆ Adventure   ┆   ┆             ┆            ┆        ┆           │\n",
       "│             ┆      ┆           ┆ …           ┆   ┆             ┆            ┆        ┆           │\n",
       "│ Extraction  ┆ 2023 ┆ R         ┆             ┆ … ┆ Adam Bessa  ┆ Tornike    ┆ 81123  ┆ 3         │\n",
       "│ II          ┆      ┆           ┆ Action,     ┆   ┆             ┆ Gogrichian ┆        ┆           │\n",
       "│             ┆      ┆           ┆ Thriller    ┆   ┆             ┆ i          ┆        ┆           │\n",
       "│ Avatar: The ┆ 2022 ┆ PG13      ┆             ┆ … ┆ Sigourney   ┆ Stephen    ┆ 424931 ┆ 4         │\n",
       "│ Way of      ┆      ┆           ┆ Action,     ┆   ┆ Weaver      ┆ Lang       ┆        ┆           │\n",
       "│ Water       ┆      ┆           ┆ Adventure,  ┆   ┆             ┆            ┆        ┆           │\n",
       "│             ┆      ┆           ┆ Fantasy     ┆   ┆             ┆            ┆        ┆           │\n",
       "│             ┆      ┆           ┆ …           ┆   ┆             ┆            ┆        ┆           │\n",
       "└─────────────┴──────┴───────────┴─────────────┴───┴─────────────┴────────────┴────────┴───────────┘"
      ]
     },
     "execution_count": 36,
     "metadata": {},
     "output_type": "execute_result"
    }
   ],
   "source": [
    "df.head()"
   ]
  },
  {
   "cell_type": "code",
   "execution_count": null,
   "id": "531b8c75-fde6-4630-8ef1-eab7482659ec",
   "metadata": {
    "id": "531b8c75-fde6-4630-8ef1-eab7482659ec"
   },
   "outputs": [],
   "source": []
  },
  {
   "cell_type": "code",
   "execution_count": 37,
   "id": "ce5cb2d7-36ab-4283-bf18-f56a3204d1e1",
   "metadata": {
    "id": "ce5cb2d7-36ab-4283-bf18-f56a3204d1e1"
   },
   "outputs": [],
   "source": [
    "# filling 0 inplace of Nans, in votes number column (we need this for popular movies)\n",
    "# df['year'] = pd.to_numeric(df['year'] )\n",
    "# df['year']=df.year.fillna(0)\n",
    "# df['year'] = df['year'].astype('int')\n",
    "\n",
    "df = df.with_columns(pl.col('year').fill_null(0))\n",
    "df = df.with_columns(pl.col('year').str.replace('', 0))\n",
    "df = df.with_columns(pl.col('year').cast(pl.Float64))\n",
    "df = df.with_columns(pl.col('year').cast(pl.Int64))"
   ]
  },
  {
   "cell_type": "code",
   "execution_count": 38,
   "id": "02be64a1-027f-481a-ab8c-81a8f67a9303",
   "metadata": {},
   "outputs": [],
   "source": [
    "df = df.with_columns(pl.col('rating').fill_null(0))\n",
    "df = df.with_columns(pl.col('rating').str.replace('', 0))\n",
    "df = df.with_columns(pl.col('rating').cast(pl.Float64))"
   ]
  },
  {
   "cell_type": "code",
   "execution_count": 39,
   "id": "959ab545-9bd2-46d9-badd-e9f7c74a1b9f",
   "metadata": {},
   "outputs": [],
   "source": [
    "df = df.with_columns(pl.col('time').fill_null(100))\n",
    "df = df.with_columns(pl.col('time').str.replace('', 0))\n",
    "df = df.with_columns(pl.col('time').cast(pl.Int64))"
   ]
  },
  {
   "cell_type": "code",
   "execution_count": 40,
   "id": "96d45a56-9cf7-4e54-a3fa-0ba03281ef8f",
   "metadata": {},
   "outputs": [
    {
     "data": {
      "text/html": [
       "<div><style>\n",
       ".dataframe > thead > tr > th,\n",
       ".dataframe > tbody > tr > td {\n",
       "  text-align: right;\n",
       "}\n",
       "</style>\n",
       "<small>shape: (1, 14)</small><table border=\"1\" class=\"dataframe\"><thead><tr><th>title</th><th>year</th><th>certificate</th><th>genre</th><th>time</th><th>rating</th><th>synopsis</th><th>director</th><th>actor 1</th><th>actor 2</th><th>actor 3</th><th>actor 4</th><th>votes</th><th>movies_id</th></tr><tr><td>u32</td><td>u32</td><td>u32</td><td>u32</td><td>u32</td><td>u32</td><td>u32</td><td>u32</td><td>u32</td><td>u32</td><td>u32</td><td>u32</td><td>u32</td><td>u32</td></tr></thead><tbody><tr><td>0</td><td>0</td><td>115564</td><td>0</td><td>0</td><td>0</td><td>0</td><td>216</td><td>1096</td><td>2075</td><td>3716</td><td>6848</td><td>0</td><td>0</td></tr></tbody></table></div>"
      ],
      "text/plain": [
       "shape: (1, 14)\n",
       "┌───────┬──────┬─────────────┬───────┬───┬─────────┬─────────┬───────┬───────────┐\n",
       "│ title ┆ year ┆ certificate ┆ genre ┆ … ┆ actor 3 ┆ actor 4 ┆ votes ┆ movies_id │\n",
       "│ ---   ┆ ---  ┆ ---         ┆ ---   ┆   ┆ ---     ┆ ---     ┆ ---   ┆ ---       │\n",
       "│ u32   ┆ u32  ┆ u32         ┆ u32   ┆   ┆ u32     ┆ u32     ┆ u32   ┆ u32       │\n",
       "╞═══════╪══════╪═════════════╪═══════╪═══╪═════════╪═════════╪═══════╪═══════════╡\n",
       "│ 0     ┆ 0    ┆ 115564      ┆ 0     ┆ … ┆ 3716    ┆ 6848    ┆ 0     ┆ 0         │\n",
       "└───────┴──────┴─────────────┴───────┴───┴─────────┴─────────┴───────┴───────────┘"
      ]
     },
     "execution_count": 40,
     "metadata": {},
     "output_type": "execute_result"
    }
   ],
   "source": [
    "df.null_count()"
   ]
  },
  {
   "cell_type": "code",
   "execution_count": null,
   "id": "242751fa-5d56-4e18-948f-35d0c95dae74",
   "metadata": {},
   "outputs": [],
   "source": []
  },
  {
   "cell_type": "code",
   "execution_count": 41,
   "id": "ad64fdcc-64a6-4b01-a089-4e02579b3eb8",
   "metadata": {
    "scrolled": true
   },
   "outputs": [
    {
     "data": {
      "text/html": [
       "<div><style>\n",
       ".dataframe > thead > tr > th,\n",
       ".dataframe > tbody > tr > td {\n",
       "  text-align: right;\n",
       "}\n",
       "</style>\n",
       "<small>shape: (5, 14)</small><table border=\"1\" class=\"dataframe\"><thead><tr><th>title</th><th>year</th><th>certificate</th><th>genre</th><th>time</th><th>rating</th><th>synopsis</th><th>director</th><th>actor 1</th><th>actor 2</th><th>actor 3</th><th>actor 4</th><th>votes</th><th>movies_id</th></tr><tr><td>str</td><td>i64</td><td>str</td><td>str</td><td>i64</td><td>f64</td><td>str</td><td>str</td><td>str</td><td>str</td><td>str</td><td>str</td><td>i64</td><td>i64</td></tr></thead><tbody><tr><td>&quot;Indiana Jones …</td><td>2023</td><td>&quot;PG13&quot;</td><td>&quot;\n",
       "Action, Adven…</td><td>154</td><td>6.9</td><td>&quot;Archaeologist …</td><td>&quot;James Mangold&quot;</td><td>&quot;Harrison Ford&quot;</td><td>&quot;Phoebe Waller-…</td><td>&quot;Antonio Bander…</td><td>&quot;Karen Allen&quot;</td><td>41029</td><td>0</td></tr><tr><td>&quot;The Flash&quot;</td><td>2023</td><td>&quot;PG13&quot;</td><td>&quot;\n",
       "Action, Adven…</td><td>144</td><td>7.2</td><td>&quot;Barry Allen us…</td><td>&quot;Andy Muschiett…</td><td>&quot;Ezra Miller&quot;</td><td>&quot;Michael Keaton…</td><td>&quot;Sasha Calle&quot;</td><td>&quot;Michael Shanno…</td><td>80814</td><td>1</td></tr><tr><td>&quot;Spider-Man: Ac…</td><td>2023</td><td>&quot;PG&quot;</td><td>&quot;\n",
       "Animation, Ac…</td><td>140</td><td>8.9</td><td>&quot;Miles Morales …</td><td>&quot;Joaquim Dos Sa…</td><td>&quot;Kemp Powers&quot;</td><td>&quot;Justin K. Thom…</td><td>&quot;Shameik Moore&quot;</td><td>&quot;Hailee Steinfe…</td><td>168355</td><td>2</td></tr><tr><td>&quot;Extraction II&quot;</td><td>2023</td><td>&quot;R&quot;</td><td>&quot;\n",
       "Action, Thril…</td><td>122</td><td>7.1</td><td>&quot;After barely s…</td><td>&quot;Sam Hargrave&quot;</td><td>&quot;Chris Hemswort…</td><td>&quot;Golshifteh Far…</td><td>&quot;Adam Bessa&quot;</td><td>&quot;Tornike Gogric…</td><td>81123</td><td>3</td></tr><tr><td>&quot;Avatar: The Wa…</td><td>2022</td><td>&quot;PG13&quot;</td><td>&quot;\n",
       "Action, Adven…</td><td>192</td><td>7.6</td><td>&quot;Jake Sully liv…</td><td>&quot;James Cameron&quot;</td><td>&quot;Sam Worthingto…</td><td>&quot;Zoe Saldana&quot;</td><td>&quot;Sigourney Weav…</td><td>&quot;Stephen Lang&quot;</td><td>424931</td><td>4</td></tr></tbody></table></div>"
      ],
      "text/plain": [
       "shape: (5, 14)\n",
       "┌─────────────┬──────┬───────────┬─────────────┬───┬─────────────┬────────────┬────────┬───────────┐\n",
       "│ title       ┆ year ┆ certifica ┆ genre       ┆ … ┆ actor 3     ┆ actor 4    ┆ votes  ┆ movies_id │\n",
       "│ ---         ┆ ---  ┆ te        ┆ ---         ┆   ┆ ---         ┆ ---        ┆ ---    ┆ ---       │\n",
       "│ str         ┆ i64  ┆ ---       ┆ str         ┆   ┆ str         ┆ str        ┆ i64    ┆ i64       │\n",
       "│             ┆      ┆ str       ┆             ┆   ┆             ┆            ┆        ┆           │\n",
       "╞═════════════╪══════╪═══════════╪═════════════╪═══╪═════════════╪════════════╪════════╪═══════════╡\n",
       "│ Indiana     ┆ 2023 ┆ PG13      ┆             ┆ … ┆ Antonio     ┆ Karen      ┆ 41029  ┆ 0         │\n",
       "│ Jones and   ┆      ┆           ┆ Action,     ┆   ┆ Banderas    ┆ Allen      ┆        ┆           │\n",
       "│ the Dial of ┆      ┆           ┆ Adventure   ┆   ┆             ┆            ┆        ┆           │\n",
       "│ De…         ┆      ┆           ┆             ┆   ┆             ┆            ┆        ┆           │\n",
       "│ The Flash   ┆ 2023 ┆ PG13      ┆             ┆ … ┆ Sasha Calle ┆ Michael    ┆ 80814  ┆ 1         │\n",
       "│             ┆      ┆           ┆ Action,     ┆   ┆             ┆ Shannon    ┆        ┆           │\n",
       "│             ┆      ┆           ┆ Adventure,  ┆   ┆             ┆            ┆        ┆           │\n",
       "│             ┆      ┆           ┆ Fantasy     ┆   ┆             ┆            ┆        ┆           │\n",
       "│             ┆      ┆           ┆ …           ┆   ┆             ┆            ┆        ┆           │\n",
       "│ Spider-Man: ┆ 2023 ┆ PG        ┆             ┆ … ┆ Shameik     ┆ Hailee     ┆ 168355 ┆ 2         │\n",
       "│ Across the  ┆      ┆           ┆ Animation,  ┆   ┆ Moore       ┆ Steinfeld  ┆        ┆           │\n",
       "│ Spider-Ve…  ┆      ┆           ┆ Action,     ┆   ┆             ┆            ┆        ┆           │\n",
       "│             ┆      ┆           ┆ Adventure   ┆   ┆             ┆            ┆        ┆           │\n",
       "│             ┆      ┆           ┆ …           ┆   ┆             ┆            ┆        ┆           │\n",
       "│ Extraction  ┆ 2023 ┆ R         ┆             ┆ … ┆ Adam Bessa  ┆ Tornike    ┆ 81123  ┆ 3         │\n",
       "│ II          ┆      ┆           ┆ Action,     ┆   ┆             ┆ Gogrichian ┆        ┆           │\n",
       "│             ┆      ┆           ┆ Thriller    ┆   ┆             ┆ i          ┆        ┆           │\n",
       "│ Avatar: The ┆ 2022 ┆ PG13      ┆             ┆ … ┆ Sigourney   ┆ Stephen    ┆ 424931 ┆ 4         │\n",
       "│ Way of      ┆      ┆           ┆ Action,     ┆   ┆ Weaver      ┆ Lang       ┆        ┆           │\n",
       "│ Water       ┆      ┆           ┆ Adventure,  ┆   ┆             ┆            ┆        ┆           │\n",
       "│             ┆      ┆           ┆ Fantasy     ┆   ┆             ┆            ┆        ┆           │\n",
       "│             ┆      ┆           ┆ …           ┆   ┆             ┆            ┆        ┆           │\n",
       "└─────────────┴──────┴───────────┴─────────────┴───┴─────────────┴────────────┴────────┴───────────┘"
      ]
     },
     "execution_count": 41,
     "metadata": {},
     "output_type": "execute_result"
    }
   ],
   "source": [
    "df.head()"
   ]
  },
  {
   "cell_type": "code",
   "execution_count": null,
   "id": "f6553a37",
   "metadata": {
    "id": "f6553a37"
   },
   "outputs": [],
   "source": []
  },
  {
   "cell_type": "code",
   "execution_count": 42,
   "id": "fd41fd10",
   "metadata": {
    "id": "fd41fd10",
    "scrolled": true
   },
   "outputs": [],
   "source": [
    "# df[\"genre\"] = df[\"genre\"].apply(remove_newline_chars)\n",
    "# df[\"synopsis\"] = df[\"synopsis\"].apply(remove_newline_chars)\n",
    "\n",
    "\n",
    "df = df.with_columns([\n",
    "    pl.col('genre').apply(remove_newline_chars),\n",
    "    pl.col('synopsis').apply(remove_newline_chars)\n",
    "])"
   ]
  },
  {
   "cell_type": "code",
   "execution_count": 43,
   "id": "b8e3da9b",
   "metadata": {
    "colab": {
     "base_uri": "https://localhost:8080/",
     "height": 255
    },
    "id": "b8e3da9b",
    "outputId": "55fa40c4-bad3-4826-aa36-30c1e8efe8a9"
   },
   "outputs": [
    {
     "data": {
      "text/html": [
       "<div><style>\n",
       ".dataframe > thead > tr > th,\n",
       ".dataframe > tbody > tr > td {\n",
       "  text-align: right;\n",
       "}\n",
       "</style>\n",
       "<small>shape: (5, 14)</small><table border=\"1\" class=\"dataframe\"><thead><tr><th>title</th><th>year</th><th>certificate</th><th>genre</th><th>time</th><th>rating</th><th>synopsis</th><th>director</th><th>actor 1</th><th>actor 2</th><th>actor 3</th><th>actor 4</th><th>votes</th><th>movies_id</th></tr><tr><td>str</td><td>i64</td><td>str</td><td>str</td><td>i64</td><td>f64</td><td>str</td><td>str</td><td>str</td><td>str</td><td>str</td><td>str</td><td>i64</td><td>i64</td></tr></thead><tbody><tr><td>&quot;Indiana Jones …</td><td>2023</td><td>&quot;PG13&quot;</td><td>&quot;Action, Advent…</td><td>154</td><td>6.9</td><td>&quot;Archaeologist …</td><td>&quot;James Mangold&quot;</td><td>&quot;Harrison Ford&quot;</td><td>&quot;Phoebe Waller-…</td><td>&quot;Antonio Bander…</td><td>&quot;Karen Allen&quot;</td><td>41029</td><td>0</td></tr><tr><td>&quot;The Flash&quot;</td><td>2023</td><td>&quot;PG13&quot;</td><td>&quot;Action, Advent…</td><td>144</td><td>7.2</td><td>&quot;Barry Allen us…</td><td>&quot;Andy Muschiett…</td><td>&quot;Ezra Miller&quot;</td><td>&quot;Michael Keaton…</td><td>&quot;Sasha Calle&quot;</td><td>&quot;Michael Shanno…</td><td>80814</td><td>1</td></tr><tr><td>&quot;Spider-Man: Ac…</td><td>2023</td><td>&quot;PG&quot;</td><td>&quot;Animation, Act…</td><td>140</td><td>8.9</td><td>&quot;Miles Morales …</td><td>&quot;Joaquim Dos Sa…</td><td>&quot;Kemp Powers&quot;</td><td>&quot;Justin K. Thom…</td><td>&quot;Shameik Moore&quot;</td><td>&quot;Hailee Steinfe…</td><td>168355</td><td>2</td></tr><tr><td>&quot;Extraction II&quot;</td><td>2023</td><td>&quot;R&quot;</td><td>&quot;Action, Thrill…</td><td>122</td><td>7.1</td><td>&quot;After barely s…</td><td>&quot;Sam Hargrave&quot;</td><td>&quot;Chris Hemswort…</td><td>&quot;Golshifteh Far…</td><td>&quot;Adam Bessa&quot;</td><td>&quot;Tornike Gogric…</td><td>81123</td><td>3</td></tr><tr><td>&quot;Avatar: The Wa…</td><td>2022</td><td>&quot;PG13&quot;</td><td>&quot;Action, Advent…</td><td>192</td><td>7.6</td><td>&quot;Jake Sully liv…</td><td>&quot;James Cameron&quot;</td><td>&quot;Sam Worthingto…</td><td>&quot;Zoe Saldana&quot;</td><td>&quot;Sigourney Weav…</td><td>&quot;Stephen Lang&quot;</td><td>424931</td><td>4</td></tr></tbody></table></div>"
      ],
      "text/plain": [
       "shape: (5, 14)\n",
       "┌─────────────┬──────┬───────────┬─────────────┬───┬─────────────┬────────────┬────────┬───────────┐\n",
       "│ title       ┆ year ┆ certifica ┆ genre       ┆ … ┆ actor 3     ┆ actor 4    ┆ votes  ┆ movies_id │\n",
       "│ ---         ┆ ---  ┆ te        ┆ ---         ┆   ┆ ---         ┆ ---        ┆ ---    ┆ ---       │\n",
       "│ str         ┆ i64  ┆ ---       ┆ str         ┆   ┆ str         ┆ str        ┆ i64    ┆ i64       │\n",
       "│             ┆      ┆ str       ┆             ┆   ┆             ┆            ┆        ┆           │\n",
       "╞═════════════╪══════╪═══════════╪═════════════╪═══╪═════════════╪════════════╪════════╪═══════════╡\n",
       "│ Indiana     ┆ 2023 ┆ PG13      ┆ Action,     ┆ … ┆ Antonio     ┆ Karen      ┆ 41029  ┆ 0         │\n",
       "│ Jones and   ┆      ┆           ┆ Adventure   ┆   ┆ Banderas    ┆ Allen      ┆        ┆           │\n",
       "│ the Dial of ┆      ┆           ┆             ┆   ┆             ┆            ┆        ┆           │\n",
       "│ De…         ┆      ┆           ┆             ┆   ┆             ┆            ┆        ┆           │\n",
       "│ The Flash   ┆ 2023 ┆ PG13      ┆ Action,     ┆ … ┆ Sasha Calle ┆ Michael    ┆ 80814  ┆ 1         │\n",
       "│             ┆      ┆           ┆ Adventure,  ┆   ┆             ┆ Shannon    ┆        ┆           │\n",
       "│             ┆      ┆           ┆ Fantasy     ┆   ┆             ┆            ┆        ┆           │\n",
       "│ Spider-Man: ┆ 2023 ┆ PG        ┆ Animation,  ┆ … ┆ Shameik     ┆ Hailee     ┆ 168355 ┆ 2         │\n",
       "│ Across the  ┆      ┆           ┆ Action,     ┆   ┆ Moore       ┆ Steinfeld  ┆        ┆           │\n",
       "│ Spider-Ve…  ┆      ┆           ┆ Adventure   ┆   ┆             ┆            ┆        ┆           │\n",
       "│ Extraction  ┆ 2023 ┆ R         ┆ Action,     ┆ … ┆ Adam Bessa  ┆ Tornike    ┆ 81123  ┆ 3         │\n",
       "│ II          ┆      ┆           ┆ Thriller    ┆   ┆             ┆ Gogrichian ┆        ┆           │\n",
       "│             ┆      ┆           ┆             ┆   ┆             ┆ i          ┆        ┆           │\n",
       "│ Avatar: The ┆ 2022 ┆ PG13      ┆ Action,     ┆ … ┆ Sigourney   ┆ Stephen    ┆ 424931 ┆ 4         │\n",
       "│ Way of      ┆      ┆           ┆ Adventure,  ┆   ┆ Weaver      ┆ Lang       ┆        ┆           │\n",
       "│ Water       ┆      ┆           ┆ Fantasy     ┆   ┆             ┆            ┆        ┆           │\n",
       "└─────────────┴──────┴───────────┴─────────────┴───┴─────────────┴────────────┴────────┴───────────┘"
      ]
     },
     "execution_count": 43,
     "metadata": {},
     "output_type": "execute_result"
    }
   ],
   "source": [
    "df.head()"
   ]
  },
  {
   "cell_type": "code",
   "execution_count": 44,
   "id": "23cb95a3-d597-412b-962d-6b8ea607d9f8",
   "metadata": {},
   "outputs": [
    {
     "data": {
      "text/plain": [
       "'Action, Adventure'"
      ]
     },
     "execution_count": 44,
     "metadata": {},
     "output_type": "execute_result"
    }
   ],
   "source": [
    "df['genre'][0]"
   ]
  },
  {
   "cell_type": "code",
   "execution_count": 45,
   "id": "2Uw0DWQ9XUTf",
   "metadata": {
    "id": "2Uw0DWQ9XUTf"
   },
   "outputs": [],
   "source": [
    "#removing space bw name and surname"
   ]
  },
  {
   "cell_type": "code",
   "execution_count": 46,
   "id": "18843103",
   "metadata": {
    "id": "18843103"
   },
   "outputs": [],
   "source": [
    "df = df.with_columns([\n",
    "    pl.col('director').apply(join_names),\n",
    "    pl.col('actor 1' ).apply(join_names),\n",
    "    pl.col('actor 2' ).apply(join_names),\n",
    "    pl.col('actor 3' ).apply(join_names),\n",
    "    pl.col('actor 4' ).apply(join_names),\n",
    "    pl.col('genre'   ).apply(clean_genre),\n",
    "])\n"
   ]
  },
  {
   "cell_type": "code",
   "execution_count": 47,
   "id": "46cc1b70",
   "metadata": {
    "colab": {
     "base_uri": "https://localhost:8080/",
     "height": 255
    },
    "id": "46cc1b70",
    "outputId": "db9d6b07-6d81-44f2-d4cb-8eb4329c2256",
    "scrolled": true
   },
   "outputs": [
    {
     "data": {
      "text/html": [
       "<div><style>\n",
       ".dataframe > thead > tr > th,\n",
       ".dataframe > tbody > tr > td {\n",
       "  text-align: right;\n",
       "}\n",
       "</style>\n",
       "<small>shape: (5, 14)</small><table border=\"1\" class=\"dataframe\"><thead><tr><th>title</th><th>year</th><th>certificate</th><th>genre</th><th>time</th><th>rating</th><th>synopsis</th><th>director</th><th>actor 1</th><th>actor 2</th><th>actor 3</th><th>actor 4</th><th>votes</th><th>movies_id</th></tr><tr><td>str</td><td>i64</td><td>str</td><td>str</td><td>i64</td><td>f64</td><td>str</td><td>str</td><td>str</td><td>str</td><td>str</td><td>str</td><td>i64</td><td>i64</td></tr></thead><tbody><tr><td>&quot;Indiana Jones …</td><td>2023</td><td>&quot;PG13&quot;</td><td>&quot;Action, Advent…</td><td>154</td><td>6.9</td><td>&quot;Archaeologist …</td><td>&quot;JamesMangold&quot;</td><td>&quot;HarrisonFord&quot;</td><td>&quot;PhoebeWallerBr…</td><td>&quot;AntonioBandera…</td><td>&quot;KarenAllen&quot;</td><td>41029</td><td>0</td></tr><tr><td>&quot;The Flash&quot;</td><td>2023</td><td>&quot;PG13&quot;</td><td>&quot;Action, Advent…</td><td>144</td><td>7.2</td><td>&quot;Barry Allen us…</td><td>&quot;AndyMuschietti…</td><td>&quot;EzraMiller&quot;</td><td>&quot;MichaelKeaton&quot;</td><td>&quot;SashaCalle&quot;</td><td>&quot;MichaelShannon…</td><td>80814</td><td>1</td></tr><tr><td>&quot;Spider-Man: Ac…</td><td>2023</td><td>&quot;PG&quot;</td><td>&quot;Animation, Act…</td><td>140</td><td>8.9</td><td>&quot;Miles Morales …</td><td>&quot;JoaquimDosSant…</td><td>&quot;KempPowers&quot;</td><td>&quot;JustinKThompso…</td><td>&quot;ShameikMoore&quot;</td><td>&quot;HaileeSteinfel…</td><td>168355</td><td>2</td></tr><tr><td>&quot;Extraction II&quot;</td><td>2023</td><td>&quot;R&quot;</td><td>&quot;Action, Thrill…</td><td>122</td><td>7.1</td><td>&quot;After barely s…</td><td>&quot;SamHargrave&quot;</td><td>&quot;ChrisHemsworth…</td><td>&quot;GolshiftehFara…</td><td>&quot;AdamBessa&quot;</td><td>&quot;TornikeGogrich…</td><td>81123</td><td>3</td></tr><tr><td>&quot;Avatar: The Wa…</td><td>2022</td><td>&quot;PG13&quot;</td><td>&quot;Action, Advent…</td><td>192</td><td>7.6</td><td>&quot;Jake Sully liv…</td><td>&quot;JamesCameron&quot;</td><td>&quot;SamWorthington…</td><td>&quot;ZoeSaldana&quot;</td><td>&quot;SigourneyWeave…</td><td>&quot;StephenLang&quot;</td><td>424931</td><td>4</td></tr></tbody></table></div>"
      ],
      "text/plain": [
       "shape: (5, 14)\n",
       "┌─────────────┬──────┬───────────┬─────────────┬───┬─────────────┬────────────┬────────┬───────────┐\n",
       "│ title       ┆ year ┆ certifica ┆ genre       ┆ … ┆ actor 3     ┆ actor 4    ┆ votes  ┆ movies_id │\n",
       "│ ---         ┆ ---  ┆ te        ┆ ---         ┆   ┆ ---         ┆ ---        ┆ ---    ┆ ---       │\n",
       "│ str         ┆ i64  ┆ ---       ┆ str         ┆   ┆ str         ┆ str        ┆ i64    ┆ i64       │\n",
       "│             ┆      ┆ str       ┆             ┆   ┆             ┆            ┆        ┆           │\n",
       "╞═════════════╪══════╪═══════════╪═════════════╪═══╪═════════════╪════════════╪════════╪═══════════╡\n",
       "│ Indiana     ┆ 2023 ┆ PG13      ┆ Action,     ┆ … ┆ AntonioBand ┆ KarenAllen ┆ 41029  ┆ 0         │\n",
       "│ Jones and   ┆      ┆           ┆ Adventure   ┆   ┆ eras        ┆            ┆        ┆           │\n",
       "│ the Dial of ┆      ┆           ┆             ┆   ┆             ┆            ┆        ┆           │\n",
       "│ De…         ┆      ┆           ┆             ┆   ┆             ┆            ┆        ┆           │\n",
       "│ The Flash   ┆ 2023 ┆ PG13      ┆ Action,     ┆ … ┆ SashaCalle  ┆ MichaelSha ┆ 80814  ┆ 1         │\n",
       "│             ┆      ┆           ┆ Adventure,  ┆   ┆             ┆ nnon       ┆        ┆           │\n",
       "│             ┆      ┆           ┆ Fantasy     ┆   ┆             ┆            ┆        ┆           │\n",
       "│ Spider-Man: ┆ 2023 ┆ PG        ┆ Animation,  ┆ … ┆ ShameikMoor ┆ HaileeStei ┆ 168355 ┆ 2         │\n",
       "│ Across the  ┆      ┆           ┆ Action,     ┆   ┆ e           ┆ nfeld      ┆        ┆           │\n",
       "│ Spider-Ve…  ┆      ┆           ┆ Adventure   ┆   ┆             ┆            ┆        ┆           │\n",
       "│ Extraction  ┆ 2023 ┆ R         ┆ Action,     ┆ … ┆ AdamBessa   ┆ TornikeGog ┆ 81123  ┆ 3         │\n",
       "│ II          ┆      ┆           ┆ Thriller    ┆   ┆             ┆ richiani   ┆        ┆           │\n",
       "│ Avatar: The ┆ 2022 ┆ PG13      ┆ Action,     ┆ … ┆ SigourneyWe ┆ StephenLan ┆ 424931 ┆ 4         │\n",
       "│ Way of      ┆      ┆           ┆ Adventure,  ┆   ┆ aver        ┆ g          ┆        ┆           │\n",
       "│ Water       ┆      ┆           ┆ Fantasy     ┆   ┆             ┆            ┆        ┆           │\n",
       "└─────────────┴──────┴───────────┴─────────────┴───┴─────────────┴────────────┴────────┴───────────┘"
      ]
     },
     "execution_count": 47,
     "metadata": {},
     "output_type": "execute_result"
    }
   ],
   "source": [
    "df.head()"
   ]
  },
  {
   "cell_type": "markdown",
   "id": "8ba35865-79fe-41eb-9d74-c642527f5caa",
   "metadata": {
    "id": "8ba35865-79fe-41eb-9d74-c642527f5caa"
   },
   "source": [
    "## Joining Names and SUrnames"
   ]
  },
  {
   "cell_type": "code",
   "execution_count": 48,
   "id": "Uo29bsDNIPVM",
   "metadata": {
    "colab": {
     "base_uri": "https://localhost:8080/",
     "height": 35
    },
    "id": "Uo29bsDNIPVM",
    "outputId": "dd687b40-aaaa-4000-d947-85d551ce916d"
   },
   "outputs": [
    {
     "data": {
      "text/plain": [
       "' I wanted to join all names in the data, but it crashes and requires more RAM,\\n'"
      ]
     },
     "execution_count": 48,
     "metadata": {},
     "output_type": "execute_result"
    }
   ],
   "source": [
    "''' I wanted to join all names in the data, but it crashes and requires more RAM,\n",
    "'''"
   ]
  },
  {
   "cell_type": "code",
   "execution_count": 49,
   "id": "950e6c6e",
   "metadata": {
    "colab": {
     "base_uri": "https://localhost:8080/"
    },
    "id": "950e6c6e",
    "outputId": "acc5d373-4a91-4591-b7f1-45ebb7525542"
   },
   "outputs": [],
   "source": [
    "# def concatenate_names(sentence):\n",
    "#     nlp = spacy.load(\"en_core_web_lg\")\n",
    "#     ner_dict = dict()\n",
    "\n",
    "#     # Extract names from the sentence using NER\n",
    "#     doc = nlp(sentence)\n",
    "\n",
    "#     for ent in doc.ents:\n",
    "#         if ent.label_ == \"PERSON\":\n",
    "#             name = ent.text\n",
    "#             new_name = name.replace(' ','')\n",
    "#             ner_dict[name] = new_name\n",
    "\n",
    "#     # Replace names with names without spaces in the sentence\n",
    "#     for i, j in ner_dict.items():\n",
    "#         sentence = sentence.replace(i,j)\n",
    "\n",
    "#     return sentence\n",
    "\n",
    "# # Test the function\n",
    "# # sentence = \"Ryan Holiday is an author, and Ryan is famous for his books.\"\n",
    "# sentence = 'my name is dick greyson and this is my girifriend harley quinn'\n",
    "# result = concatenate_names(sentence)\n",
    "# print(result)\n"
   ]
  },
  {
   "cell_type": "code",
   "execution_count": 50,
   "id": "13dd684c-9efb-4414-a793-7ed15ed09982",
   "metadata": {
    "id": "13dd684c-9efb-4414-a793-7ed15ed09982"
   },
   "outputs": [],
   "source": [
    "# all_synopsis = df['synopsis'].to_list()"
   ]
  },
  {
   "cell_type": "code",
   "execution_count": 51,
   "id": "EXvvAb2NfM6T",
   "metadata": {
    "id": "EXvvAb2NfM6T"
   },
   "outputs": [],
   "source": [
    "# all_syn = ' <sos> '.join(all_synopsis)"
   ]
  },
  {
   "cell_type": "code",
   "execution_count": 52,
   "id": "N3DqPR1fb_bA",
   "metadata": {
    "id": "N3DqPR1fb_bA"
   },
   "outputs": [],
   "source": [
    "# df  = df.with_columns(\n",
    "#     pl.col('synopsis').apply(concatenate_names).alias('new')\n",
    "# )"
   ]
  },
  {
   "cell_type": "code",
   "execution_count": null,
   "id": "ID0U9s4Xdjj1",
   "metadata": {
    "id": "ID0U9s4Xdjj1"
   },
   "outputs": [],
   "source": []
  },
  {
   "cell_type": "code",
   "execution_count": 53,
   "id": "b9d4f4ca-21e7-47d7-98ba-71abbdfab269",
   "metadata": {
    "id": "b9d4f4ca-21e7-47d7-98ba-71abbdfab269"
   },
   "outputs": [],
   "source": [
    "# start_time = time.perf_counter()\n",
    "# print('Strated :',  time.strftime(\"%H:%M:%S\", time.localtime()))\n",
    "\n",
    "# with cf.ProcessPoolExecutor() as executer:\n",
    "#     dodo = [executer.submit(concatenate_names, i) for i in all_synopsis]\n",
    "#     # clean_tags = dodo.result()\n",
    "\n",
    "# print('Took: ',time.perf_counter()-start_time)\n",
    "# print('Finished :',  time.strftime(\"%H:%M:%S\", time.localtime()))\n"
   ]
  },
  {
   "cell_type": "markdown",
   "id": "1pbQ8yiOO9NO",
   "metadata": {
    "id": "1pbQ8yiOO9NO"
   },
   "source": [
    "# Create a Tag Column\n",
    "Combining all data"
   ]
  },
  {
   "cell_type": "code",
   "execution_count": 54,
   "id": "4d7cae26",
   "metadata": {
    "colab": {
     "base_uri": "https://localhost:8080/"
    },
    "id": "4d7cae26",
    "outputId": "d5d5b61e-307d-4c62-fd24-c1d2b76c00b8"
   },
   "outputs": [
    {
     "name": "stdout",
     "output_type": "stream",
     "text": [
      "<class 'pandas.core.frame.DataFrame'>\n",
      "RangeIndex: 184313 entries, 0 to 184312\n",
      "Data columns (total 14 columns):\n",
      " #   Column       Non-Null Count   Dtype  \n",
      "---  ------       --------------   -----  \n",
      " 0   title        184313 non-null  object \n",
      " 1   year         184313 non-null  int64  \n",
      " 2   certificate  68749 non-null   object \n",
      " 3   genre        184313 non-null  object \n",
      " 4   time         184313 non-null  int64  \n",
      " 5   rating       184313 non-null  float64\n",
      " 6   synopsis     184313 non-null  object \n",
      " 7   director     184097 non-null  object \n",
      " 8   actor 1      183217 non-null  object \n",
      " 9   actor 2      182238 non-null  object \n",
      " 10  actor 3      180597 non-null  object \n",
      " 11  actor 4      177465 non-null  object \n",
      " 12  votes        184313 non-null  int64  \n",
      " 13  movies_id    184313 non-null  int64  \n",
      "dtypes: float64(1), int64(4), object(9)\n",
      "memory usage: 19.7+ MB\n"
     ]
    }
   ],
   "source": [
    "df.to_pandas().info()"
   ]
  },
  {
   "cell_type": "code",
   "execution_count": 55,
   "id": "kFOqU0-CMmGK",
   "metadata": {
    "id": "kFOqU0-CMmGK"
   },
   "outputs": [],
   "source": [
    "\n",
    "# df = df.fill_nan('')\n",
    "df = df.fill_null('')\n"
   ]
  },
  {
   "cell_type": "code",
   "execution_count": 56,
   "id": "1a9JK8rDMRe3",
   "metadata": {
    "id": "1a9JK8rDMRe3"
   },
   "outputs": [],
   "source": [
    "df = df.with_columns(\n",
    "    pl.col('year').cast(pl.Utf8).alias('year_as_str'),\n",
    "    pl.col('rating').cast(pl.Utf8).alias('rating_as_str'),\n",
    "    pl.col('time').cast(pl.Utf8).alias('time_as_str')\n",
    ")"
   ]
  },
  {
   "cell_type": "code",
   "execution_count": 57,
   "id": "f4b47d08-f150-410c-a5e2-7bf95e8332fa",
   "metadata": {},
   "outputs": [
    {
     "name": "stdout",
     "output_type": "stream",
     "text": [
      "['title', 'year', 'certificate', 'genre', 'time', 'rating', 'synopsis', 'director', 'actor 1', 'actor 2', 'actor 3', 'actor 4', 'votes', 'movies_id', 'year_as_str', 'rating_as_str', 'time_as_str']\n"
     ]
    }
   ],
   "source": [
    "print(df.columns)"
   ]
  },
  {
   "cell_type": "code",
   "execution_count": 58,
   "id": "d130227e-1ce5-47bd-a8fd-b35a8ea28772",
   "metadata": {
    "id": "d130227e-1ce5-47bd-a8fd-b35a8ea28772"
   },
   "outputs": [],
   "source": [
    "cols_to_combine = ['title', 'year_as_str', 'certificate', 'genre', 'time_as_str', 'rating_as_str', 'synopsis', \n",
    "                   'director', 'actor 1', 'actor 2', 'actor 3', 'actor 4', ]"
   ]
  },
  {
   "cell_type": "code",
   "execution_count": 59,
   "id": "bb915623",
   "metadata": {
    "id": "bb915623"
   },
   "outputs": [],
   "source": [
    "df = df.with_columns(pl.Series('tags', values = df[cols_to_combine].apply(' '.join).to_series()))\n"
   ]
  },
  {
   "cell_type": "code",
   "execution_count": 60,
   "id": "b3722732",
   "metadata": {
    "colab": {
     "base_uri": "https://localhost:8080/",
     "height": 255
    },
    "id": "b3722732",
    "outputId": "2908f54c-6450-4711-ba35-82a65563dcc5"
   },
   "outputs": [
    {
     "data": {
      "text/html": [
       "<div><style>\n",
       ".dataframe > thead > tr > th,\n",
       ".dataframe > tbody > tr > td {\n",
       "  text-align: right;\n",
       "}\n",
       "</style>\n",
       "<small>shape: (5, 18)</small><table border=\"1\" class=\"dataframe\"><thead><tr><th>title</th><th>year</th><th>certificate</th><th>genre</th><th>time</th><th>rating</th><th>synopsis</th><th>director</th><th>actor 1</th><th>actor 2</th><th>actor 3</th><th>actor 4</th><th>votes</th><th>movies_id</th><th>year_as_str</th><th>rating_as_str</th><th>time_as_str</th><th>tags</th></tr><tr><td>str</td><td>i64</td><td>str</td><td>str</td><td>i64</td><td>f64</td><td>str</td><td>str</td><td>str</td><td>str</td><td>str</td><td>str</td><td>i64</td><td>i64</td><td>str</td><td>str</td><td>str</td><td>str</td></tr></thead><tbody><tr><td>&quot;Indiana Jones …</td><td>2023</td><td>&quot;PG13&quot;</td><td>&quot;Action, Advent…</td><td>154</td><td>6.9</td><td>&quot;Archaeologist …</td><td>&quot;JamesMangold&quot;</td><td>&quot;HarrisonFord&quot;</td><td>&quot;PhoebeWallerBr…</td><td>&quot;AntonioBandera…</td><td>&quot;KarenAllen&quot;</td><td>41029</td><td>0</td><td>&quot;2023&quot;</td><td>&quot;6.9&quot;</td><td>&quot;154&quot;</td><td>&quot;Indiana Jones …</td></tr><tr><td>&quot;The Flash&quot;</td><td>2023</td><td>&quot;PG13&quot;</td><td>&quot;Action, Advent…</td><td>144</td><td>7.2</td><td>&quot;Barry Allen us…</td><td>&quot;AndyMuschietti…</td><td>&quot;EzraMiller&quot;</td><td>&quot;MichaelKeaton&quot;</td><td>&quot;SashaCalle&quot;</td><td>&quot;MichaelShannon…</td><td>80814</td><td>1</td><td>&quot;2023&quot;</td><td>&quot;7.2&quot;</td><td>&quot;144&quot;</td><td>&quot;The Flash 2023…</td></tr><tr><td>&quot;Spider-Man: Ac…</td><td>2023</td><td>&quot;PG&quot;</td><td>&quot;Animation, Act…</td><td>140</td><td>8.9</td><td>&quot;Miles Morales …</td><td>&quot;JoaquimDosSant…</td><td>&quot;KempPowers&quot;</td><td>&quot;JustinKThompso…</td><td>&quot;ShameikMoore&quot;</td><td>&quot;HaileeSteinfel…</td><td>168355</td><td>2</td><td>&quot;2023&quot;</td><td>&quot;8.9&quot;</td><td>&quot;140&quot;</td><td>&quot;Spider-Man: Ac…</td></tr><tr><td>&quot;Extraction II&quot;</td><td>2023</td><td>&quot;R&quot;</td><td>&quot;Action, Thrill…</td><td>122</td><td>7.1</td><td>&quot;After barely s…</td><td>&quot;SamHargrave&quot;</td><td>&quot;ChrisHemsworth…</td><td>&quot;GolshiftehFara…</td><td>&quot;AdamBessa&quot;</td><td>&quot;TornikeGogrich…</td><td>81123</td><td>3</td><td>&quot;2023&quot;</td><td>&quot;7.1&quot;</td><td>&quot;122&quot;</td><td>&quot;Extraction II …</td></tr><tr><td>&quot;Avatar: The Wa…</td><td>2022</td><td>&quot;PG13&quot;</td><td>&quot;Action, Advent…</td><td>192</td><td>7.6</td><td>&quot;Jake Sully liv…</td><td>&quot;JamesCameron&quot;</td><td>&quot;SamWorthington…</td><td>&quot;ZoeSaldana&quot;</td><td>&quot;SigourneyWeave…</td><td>&quot;StephenLang&quot;</td><td>424931</td><td>4</td><td>&quot;2022&quot;</td><td>&quot;7.6&quot;</td><td>&quot;192&quot;</td><td>&quot;Avatar: The Wa…</td></tr></tbody></table></div>"
      ],
      "text/plain": [
       "shape: (5, 18)\n",
       "┌────────────┬──────┬───────────┬────────────┬───┬───────────┬────────────┬───────────┬────────────┐\n",
       "│ title      ┆ year ┆ certifica ┆ genre      ┆ … ┆ year_as_s ┆ rating_as_ ┆ time_as_s ┆ tags       │\n",
       "│ ---        ┆ ---  ┆ te        ┆ ---        ┆   ┆ tr        ┆ str        ┆ tr        ┆ ---        │\n",
       "│ str        ┆ i64  ┆ ---       ┆ str        ┆   ┆ ---       ┆ ---        ┆ ---       ┆ str        │\n",
       "│            ┆      ┆ str       ┆            ┆   ┆ str       ┆ str        ┆ str       ┆            │\n",
       "╞════════════╪══════╪═══════════╪════════════╪═══╪═══════════╪════════════╪═══════════╪════════════╡\n",
       "│ Indiana    ┆ 2023 ┆ PG13      ┆ Action,    ┆ … ┆ 2023      ┆ 6.9        ┆ 154       ┆ Indiana    │\n",
       "│ Jones and  ┆      ┆           ┆ Adventure  ┆   ┆           ┆            ┆           ┆ Jones and  │\n",
       "│ the Dial   ┆      ┆           ┆            ┆   ┆           ┆            ┆           ┆ the Dial   │\n",
       "│ of De…     ┆      ┆           ┆            ┆   ┆           ┆            ┆           ┆ of De…     │\n",
       "│ The Flash  ┆ 2023 ┆ PG13      ┆ Action,    ┆ … ┆ 2023      ┆ 7.2        ┆ 144       ┆ The Flash  │\n",
       "│            ┆      ┆           ┆ Adventure, ┆   ┆           ┆            ┆           ┆ 2023 PG13  │\n",
       "│            ┆      ┆           ┆ Fantasy    ┆   ┆           ┆            ┆           ┆ Action,    │\n",
       "│            ┆      ┆           ┆            ┆   ┆           ┆            ┆           ┆ Adve…      │\n",
       "│ Spider-Man ┆ 2023 ┆ PG        ┆ Animation, ┆ … ┆ 2023      ┆ 8.9        ┆ 140       ┆ Spider-Man │\n",
       "│ : Across   ┆      ┆           ┆ Action,    ┆   ┆           ┆            ┆           ┆ : Across   │\n",
       "│ the        ┆      ┆           ┆ Adventure  ┆   ┆           ┆            ┆           ┆ the        │\n",
       "│ Spider-Ve… ┆      ┆           ┆            ┆   ┆           ┆            ┆           ┆ Spider-Ve… │\n",
       "│ Extraction ┆ 2023 ┆ R         ┆ Action,    ┆ … ┆ 2023      ┆ 7.1        ┆ 122       ┆ Extraction │\n",
       "│ II         ┆      ┆           ┆ Thriller   ┆   ┆           ┆            ┆           ┆ II 2023 R  │\n",
       "│            ┆      ┆           ┆            ┆   ┆           ┆            ┆           ┆ Action,    │\n",
       "│            ┆      ┆           ┆            ┆   ┆           ┆            ┆           ┆ Thr…       │\n",
       "│ Avatar:    ┆ 2022 ┆ PG13      ┆ Action,    ┆ … ┆ 2022      ┆ 7.6        ┆ 192       ┆ Avatar:    │\n",
       "│ The Way of ┆      ┆           ┆ Adventure, ┆   ┆           ┆            ┆           ┆ The Way of │\n",
       "│ Water      ┆      ┆           ┆ Fantasy    ┆   ┆           ┆            ┆           ┆ Water 2022 │\n",
       "│            ┆      ┆           ┆            ┆   ┆           ┆            ┆           ┆ PG…        │\n",
       "└────────────┴──────┴───────────┴────────────┴───┴───────────┴────────────┴───────────┴────────────┘"
      ]
     },
     "execution_count": 60,
     "metadata": {},
     "output_type": "execute_result"
    }
   ],
   "source": [
    "df.head()"
   ]
  },
  {
   "cell_type": "code",
   "execution_count": null,
   "id": "4b4d1fd6",
   "metadata": {
    "id": "4b4d1fd6"
   },
   "outputs": [],
   "source": []
  },
  {
   "cell_type": "code",
   "execution_count": 61,
   "id": "edb65125",
   "metadata": {
    "id": "edb65125"
   },
   "outputs": [],
   "source": [
    "df = df.with_columns(pl.col('tags').apply(remove_punctuations))"
   ]
  },
  {
   "cell_type": "code",
   "execution_count": 62,
   "id": "aLXVbaUzSInm",
   "metadata": {
    "id": "aLXVbaUzSInm"
   },
   "outputs": [],
   "source": [
    "# Create a PorterStemmer object\n",
    "stemmer = PorterStemmer()\n",
    "\n",
    "# Apply the stemming function to each word in the series\n",
    "df = df.with_columns(pl.col('tags').apply(stemmer.stem))\n"
   ]
  },
  {
   "cell_type": "code",
   "execution_count": 63,
   "id": "6fa4f7d3",
   "metadata": {
    "id": "6fa4f7d3"
   },
   "outputs": [],
   "source": [
    "dff = df[['title', 'movies_id', 'tags', 'votes', 'rating']]"
   ]
  },
  {
   "cell_type": "code",
   "execution_count": 64,
   "id": "1fc5f2ad",
   "metadata": {
    "colab": {
     "base_uri": "https://localhost:8080/",
     "height": 255
    },
    "id": "1fc5f2ad",
    "outputId": "2183b5ad-30fd-4ef8-ac3d-397dc833e818"
   },
   "outputs": [
    {
     "data": {
      "text/html": [
       "<div><style>\n",
       ".dataframe > thead > tr > th,\n",
       ".dataframe > tbody > tr > td {\n",
       "  text-align: right;\n",
       "}\n",
       "</style>\n",
       "<small>shape: (5, 5)</small><table border=\"1\" class=\"dataframe\"><thead><tr><th>title</th><th>movies_id</th><th>tags</th><th>votes</th><th>rating</th></tr><tr><td>str</td><td>i64</td><td>str</td><td>i64</td><td>f64</td></tr></thead><tbody><tr><td>&quot;Indiana Jones …</td><td>0</td><td>&quot;indiana jones …</td><td>41029</td><td>6.9</td></tr><tr><td>&quot;The Flash&quot;</td><td>1</td><td>&quot;the flash 2023…</td><td>80814</td><td>7.2</td></tr><tr><td>&quot;Spider-Man: Ac…</td><td>2</td><td>&quot;spiderman acro…</td><td>168355</td><td>8.9</td></tr><tr><td>&quot;Extraction II&quot;</td><td>3</td><td>&quot;extraction ii …</td><td>81123</td><td>7.1</td></tr><tr><td>&quot;Avatar: The Wa…</td><td>4</td><td>&quot;avatar the way…</td><td>424931</td><td>7.6</td></tr></tbody></table></div>"
      ],
      "text/plain": [
       "shape: (5, 5)\n",
       "┌──────────────────────────────────┬───────────┬─────────────────────────────────┬────────┬────────┐\n",
       "│ title                            ┆ movies_id ┆ tags                            ┆ votes  ┆ rating │\n",
       "│ ---                              ┆ ---       ┆ ---                             ┆ ---    ┆ ---    │\n",
       "│ str                              ┆ i64       ┆ str                             ┆ i64    ┆ f64    │\n",
       "╞══════════════════════════════════╪═══════════╪═════════════════════════════════╪════════╪════════╡\n",
       "│ Indiana Jones and the Dial of    ┆ 0         ┆ indiana jones and the dial of   ┆ 41029  ┆ 6.9    │\n",
       "│ De…                              ┆           ┆ de…                             ┆        ┆        │\n",
       "│ The Flash                        ┆ 1         ┆ the flash 2023 pg13 action      ┆ 80814  ┆ 7.2    │\n",
       "│                                  ┆           ┆ adven…                          ┆        ┆        │\n",
       "│ Spider-Man: Across the           ┆ 2         ┆ spiderman across the            ┆ 168355 ┆ 8.9    │\n",
       "│ Spider-Ve…                       ┆           ┆ spiderverse…                    ┆        ┆        │\n",
       "│ Extraction II                    ┆ 3         ┆ extraction ii 2023 r action     ┆ 81123  ┆ 7.1    │\n",
       "│                                  ┆           ┆ thri…                           ┆        ┆        │\n",
       "│ Avatar: The Way of Water         ┆ 4         ┆ avatar the way of water 2022    ┆ 424931 ┆ 7.6    │\n",
       "│                                  ┆           ┆ pg1…                            ┆        ┆        │\n",
       "└──────────────────────────────────┴───────────┴─────────────────────────────────┴────────┴────────┘"
      ]
     },
     "execution_count": 64,
     "metadata": {},
     "output_type": "execute_result"
    }
   ],
   "source": [
    "dff.head()"
   ]
  },
  {
   "cell_type": "code",
   "execution_count": 65,
   "id": "c0097ff9-7777-4dcb-892f-ede516db69b8",
   "metadata": {
    "id": "c0097ff9-7777-4dcb-892f-ede516db69b8"
   },
   "outputs": [],
   "source": [
    "# dff['tags'] = dff['tags'].str.split()\n",
    "# dff = dff.with_columns(pl.col('tags').str.split(' '))\n"
   ]
  },
  {
   "cell_type": "code",
   "execution_count": 66,
   "id": "4c4f587c",
   "metadata": {
    "id": "4c4f587c"
   },
   "outputs": [],
   "source": [
    "all_words = dff['tags'].to_list()"
   ]
  },
  {
   "cell_type": "code",
   "execution_count": null,
   "id": "d7b83437",
   "metadata": {
    "id": "d7b83437"
   },
   "outputs": [],
   "source": []
  },
  {
   "cell_type": "code",
   "execution_count": 67,
   "id": "397c85fd",
   "metadata": {
    "id": "397c85fd"
   },
   "outputs": [],
   "source": [
    "all_wordss = flatten_nested_list(all_words)"
   ]
  },
  {
   "cell_type": "code",
   "execution_count": 68,
   "id": "12825677",
   "metadata": {
    "colab": {
     "base_uri": "https://localhost:8080/"
    },
    "id": "12825677",
    "outputId": "c9fdae90-4088-4725-f441-8246d480472f"
   },
   "outputs": [
    {
     "data": {
      "text/plain": [
       "(184313, 184311)"
      ]
     },
     "execution_count": 68,
     "metadata": {},
     "output_type": "execute_result"
    }
   ],
   "source": [
    "len(all_wordss), len(set(all_wordss))"
   ]
  },
  {
   "cell_type": "code",
   "execution_count": 69,
   "id": "18f1faee",
   "metadata": {
    "id": "18f1faee"
   },
   "outputs": [],
   "source": [
    "from sklearn.feature_extraction.text import  CountVectorizer"
   ]
  },
  {
   "cell_type": "code",
   "execution_count": 70,
   "id": "c39bb616",
   "metadata": {
    "id": "c39bb616"
   },
   "outputs": [],
   "source": [
    "cv = CountVectorizer(lowercase=True, stop_words='english', max_features=5000, dtype=np.int16 )"
   ]
  },
  {
   "cell_type": "code",
   "execution_count": 71,
   "id": "1e752346",
   "metadata": {
    "id": "1e752346"
   },
   "outputs": [],
   "source": [
    "vector = cv.fit_transform(dff['tags'].to_list())"
   ]
  },
  {
   "cell_type": "code",
   "execution_count": 72,
   "id": "99081a64-93dc-4a8c-9e95-c2e9df4998aa",
   "metadata": {
    "colab": {
     "base_uri": "https://localhost:8080/"
    },
    "id": "99081a64-93dc-4a8c-9e95-c2e9df4998aa",
    "outputId": "bff9b88b-852b-45cb-f3d1-5c3c900b7207"
   },
   "outputs": [
    {
     "data": {
      "text/plain": [
       "<184313x5000 sparse matrix of type '<class 'numpy.int16'>'\n",
       "\twith 3002100 stored elements in Compressed Sparse Row format>"
      ]
     },
     "execution_count": 72,
     "metadata": {},
     "output_type": "execute_result"
    }
   ],
   "source": [
    "vector"
   ]
  },
  {
   "cell_type": "code",
   "execution_count": null,
   "id": "601be4f9",
   "metadata": {
    "id": "601be4f9"
   },
   "outputs": [],
   "source": []
  },
  {
   "cell_type": "code",
   "execution_count": 73,
   "id": "ee907234-77bd-404a-818d-9ec9aa2bb0f5",
   "metadata": {
    "colab": {
     "base_uri": "https://localhost:8080/"
    },
    "id": "ee907234-77bd-404a-818d-9ec9aa2bb0f5",
    "outputId": "e2f50a84-26b0-4856-f448-513d1ad1297a"
   },
   "outputs": [
    {
     "data": {
      "text/plain": [
       "<1x5000 sparse matrix of type '<class 'numpy.int16'>'\n",
       "\twith 20 stored elements in Compressed Sparse Row format>"
      ]
     },
     "execution_count": 73,
     "metadata": {},
     "output_type": "execute_result"
    }
   ],
   "source": [
    "vector[2]"
   ]
  },
  {
   "cell_type": "code",
   "execution_count": 74,
   "id": "963fb732",
   "metadata": {
    "id": "963fb732"
   },
   "outputs": [],
   "source": [
    "# pickle.dump(movie_vector, open('movie_vector.pkl','wb'))  # creates file of 2.6 gb\n",
    "pickle.dump(vector, open('vector.pkl','wb'))"
   ]
  },
  {
   "cell_type": "code",
   "execution_count": 75,
   "id": "zGMLc9l-Z2oV",
   "metadata": {
    "colab": {
     "base_uri": "https://localhost:8080/"
    },
    "id": "zGMLc9l-Z2oV",
    "outputId": "df5df77c-2d79-42ee-9808-9565b60894eb"
   },
   "outputs": [
    {
     "name": "stdout",
     "output_type": "stream",
     "text": [
      "<class 'pandas.core.frame.DataFrame'>\n",
      "RangeIndex: 184313 entries, 0 to 184312\n",
      "Data columns (total 5 columns):\n",
      " #   Column     Non-Null Count   Dtype  \n",
      "---  ------     --------------   -----  \n",
      " 0   title      184313 non-null  object \n",
      " 1   movies_id  184313 non-null  int64  \n",
      " 2   tags       184313 non-null  object \n",
      " 3   votes      184313 non-null  int64  \n",
      " 4   rating     184313 non-null  float64\n",
      "dtypes: float64(1), int64(2), object(2)\n",
      "memory usage: 7.0+ MB\n"
     ]
    }
   ],
   "source": [
    "dff.to_pandas().info()"
   ]
  },
  {
   "cell_type": "code",
   "execution_count": 76,
   "id": "6b8f693a",
   "metadata": {
    "id": "6b8f693a"
   },
   "outputs": [],
   "source": [
    "def find_similar_movies(x:str, k = 5) -> List[str]:\n",
    "    movie_id  = dff.filter(pl.col('title') == x)['movies_id'].to_list()[0]\n",
    "    # print(movie_id)\n",
    "    sim_vec  = cosine_similarity(vector, vector[movie_id])\n",
    "    y = sorted(enumerate(sim_vec), key=lambda x: x[1], reverse=True)\n",
    "    recommended_movies_ids = [i[0] for i in y[1:k+1]]\n",
    "    # print(recommended_movies_ids)\n",
    "    for i in recommended_movies_ids:\n",
    "        print(dff.filter(pl.col('movies_id') == i)['title'].to_list()[0])"
   ]
  },
  {
   "cell_type": "code",
   "execution_count": 77,
   "id": "ea6c78ee",
   "metadata": {
    "colab": {
     "base_uri": "https://localhost:8080/"
    },
    "id": "ea6c78ee",
    "outputId": "fa248d8e-b944-4e14-90dc-4a23bcc20f5d"
   },
   "outputs": [
    {
     "name": "stdout",
     "output_type": "stream",
     "text": [
      "Elli Kelimelik Mektuplar\n",
      "Viddikalude Maash\n",
      "Caravaggio's Shadow\n",
      "Botev\n",
      "Charandas Chor\n",
      "Haemolymph\n",
      "Panduan Mempersiapkan Perpisahan\n",
      "Az énekesnõ\n",
      "Ninne Pelladutha\n",
      "¿Cuándo volverás?\n"
     ]
    }
   ],
   "source": [
    "find_similar_movies(\n",
    " 'Killing a Traitor',\n",
    "k = 10)"
   ]
  },
  {
   "cell_type": "code",
   "execution_count": 78,
   "id": "135dfb37",
   "metadata": {
    "colab": {
     "base_uri": "https://localhost:8080/"
    },
    "id": "135dfb37",
    "outputId": "499ff7ba-6b22-4524-f18a-9e3d0c16bd81"
   },
   "outputs": [
    {
     "data": {
      "text/plain": [
       "['Web Series: The Movie',\n",
       " 'Funkytown',\n",
       " 'SüperTürk',\n",
       " 'The Outdoorsman',\n",
       " 'Akhri Khat',\n",
       " 'The Uh-Oh Show',\n",
       " 'Shall We Dance?',\n",
       " 'The Peacekeeper',\n",
       " 'Aha Naa Pellanta',\n",
       " 'Sanky Panky 3',\n",
       " '\\ufeffSinners and Saints',\n",
       " 'Pathrosinte Padappukal',\n",
       " 'Next Enti?',\n",
       " 'Covert Action',\n",
       " 'Reshma Aur Shera',\n",
       " 'Adukkan Entheluppam',\n",
       " 'Sure Death! Brown, You Bounder!',\n",
       " 'In Syria',\n",
       " 'Martín Fierro',\n",
       " 'Undenama',\n",
       " 'Kahwin 5',\n",
       " 'Meet Me Outside',\n",
       " 'Journey Into Solitude',\n",
       " 'The Skinny',\n",
       " 'Video Girl',\n",
       " 'Newcastle',\n",
       " 'House of Pleasure',\n",
       " 'Ragalaipuram',\n",
       " 'Jhyanakuti',\n",
       " 'Family Heist',\n",
       " 'Die lustigen Weiber von Tirol',\n",
       " 'Basil',\n",
       " 'Aamayum Muyalum',\n",
       " 'Begurebis gadaprena',\n",
       " 'Only One Day in Berlin',\n",
       " 'Thangigagi',\n",
       " 'The Caddy',\n",
       " 'Dumb Boxer',\n",
       " 'Brighton',\n",
       " 'La Traviata on Sydney Harbour',\n",
       " 'Thamizh Padam',\n",
       " 'Elf on the Run',\n",
       " 'Jujutsu Kaisen 0',\n",
       " 'The Naughty Ones',\n",
       " 'Eine Handvoll Helden',\n",
       " 'III: The Ritual',\n",
       " 'Coo: Come from a Distant Ocean Coo',\n",
       " \"Please, Don't Bury Me Alive!\",\n",
       " 'The Paranormals',\n",
       " 'Crimen en familia']"
      ]
     },
     "execution_count": 78,
     "metadata": {},
     "output_type": "execute_result"
    }
   ],
   "source": [
    "dff['title'].sample(50).to_list()"
   ]
  },
  {
   "cell_type": "code",
   "execution_count": 79,
   "id": "f933c647",
   "metadata": {
    "colab": {
     "base_uri": "https://localhost:8080/",
     "height": 882
    },
    "id": "f933c647",
    "outputId": "1d527dcf-e820-4802-f3d9-8ff98c77b6d0"
   },
   "outputs": [
    {
     "data": {
      "text/html": [
       "<div><style>\n",
       ".dataframe > thead > tr > th,\n",
       ".dataframe > tbody > tr > td {\n",
       "  text-align: right;\n",
       "}\n",
       "</style>\n",
       "<small>shape: (184_313, 18)</small><table border=\"1\" class=\"dataframe\"><thead><tr><th>title</th><th>year</th><th>certificate</th><th>genre</th><th>time</th><th>rating</th><th>synopsis</th><th>director</th><th>actor 1</th><th>actor 2</th><th>actor 3</th><th>actor 4</th><th>votes</th><th>movies_id</th><th>year_as_str</th><th>rating_as_str</th><th>time_as_str</th><th>tags</th></tr><tr><td>str</td><td>i64</td><td>str</td><td>str</td><td>i64</td><td>f64</td><td>str</td><td>str</td><td>str</td><td>str</td><td>str</td><td>str</td><td>i64</td><td>i64</td><td>str</td><td>str</td><td>str</td><td>str</td></tr></thead><tbody><tr><td>&quot;The Shawshank …</td><td>1994</td><td>&quot;R&quot;</td><td>&quot;Drama&quot;</td><td>142</td><td>9.3</td><td>&quot;Over the cours…</td><td>&quot;FrankDarabont&quot;</td><td>&quot;TimRobbins&quot;</td><td>&quot;MorganFreeman&quot;</td><td>&quot;BobGunton&quot;</td><td>&quot;WilliamSadler&quot;</td><td>2761119</td><td>103901</td><td>&quot;1994&quot;</td><td>&quot;9.3&quot;</td><td>&quot;142&quot;</td><td>&quot;the shawshank …</td></tr><tr><td>&quot;The Dark Knigh…</td><td>2008</td><td>&quot;PG13&quot;</td><td>&quot;Action, Crime,…</td><td>152</td><td>9.0</td><td>&quot;When the menac…</td><td>&quot;ChristopherNol…</td><td>&quot;ChristianBale&quot;</td><td>&quot;HeathLedger&quot;</td><td>&quot;AaronEckhart&quot;</td><td>&quot;MichaelCaine&quot;</td><td>2733681</td><td>31</td><td>&quot;2008&quot;</td><td>&quot;9.0&quot;</td><td>&quot;152&quot;</td><td>&quot;the dark knigh…</td></tr><tr><td>&quot;Inception&quot;</td><td>2010</td><td>&quot;PG13&quot;</td><td>&quot;Action, Advent…</td><td>148</td><td>8.8</td><td>&quot;A thief who st…</td><td>&quot;ChristopherNol…</td><td>&quot;LeonardoDiCapr…</td><td>&quot;JosephGordonLe…</td><td>&quot;ElliotPage&quot;</td><td>&quot;KenWatanabe&quot;</td><td>2425939</td><td>33</td><td>&quot;2010&quot;</td><td>&quot;8.8&quot;</td><td>&quot;148&quot;</td><td>&quot;inception 2010…</td></tr><tr><td>&quot;Fight Club&quot;</td><td>1999</td><td>&quot;R&quot;</td><td>&quot;Drama&quot;</td><td>139</td><td>8.8</td><td>&quot;An insomniac o…</td><td>&quot;DavidFincher&quot;</td><td>&quot;BradPitt&quot;</td><td>&quot;EdwardNorton&quot;</td><td>&quot;MeatLoaf&quot;</td><td>&quot;ZachGrenier&quot;</td><td>2198501</td><td>103915</td><td>&quot;1999&quot;</td><td>&quot;8.8&quot;</td><td>&quot;139&quot;</td><td>&quot;fight club 199…</td></tr><tr><td>&quot;Forrest Gump&quot;</td><td>1994</td><td>&quot;PG13&quot;</td><td>&quot;Drama, Romance…</td><td>142</td><td>8.8</td><td>&quot;The history of…</td><td>&quot;RobertZemeckis…</td><td>&quot;TomHanks&quot;</td><td>&quot;RobinWright&quot;</td><td>&quot;GarySinise&quot;</td><td>&quot;SallyField&quot;</td><td>2147674</td><td>103918</td><td>&quot;1994&quot;</td><td>&quot;8.8&quot;</td><td>&quot;142&quot;</td><td>&quot;forrest gump 1…</td></tr><tr><td>&quot;Pulp Fiction&quot;</td><td>1994</td><td>&quot;R&quot;</td><td>&quot;Crime, Drama&quot;</td><td>154</td><td>8.9</td><td>&quot;The lives of t…</td><td>&quot;QuentinTaranti…</td><td>&quot;JohnTravolta&quot;</td><td>&quot;UmaThurman&quot;</td><td>&quot;SamuelLJackson…</td><td>&quot;BruceWillis&quot;</td><td>2119742</td><td>94924</td><td>&quot;1994&quot;</td><td>&quot;8.9&quot;</td><td>&quot;154&quot;</td><td>&quot;pulp fiction 1…</td></tr><tr><td>&quot;The Matrix&quot;</td><td>1999</td><td>&quot;R&quot;</td><td>&quot;Action, Sci-Fi…</td><td>136</td><td>8.7</td><td>&quot;When a beautif…</td><td>&quot;LanaWachowski&quot;</td><td>&quot;LillyWachowski…</td><td>&quot;KeanuReeves&quot;</td><td>&quot;LaurenceFishbu…</td><td>&quot;CarrieAnneMoss…</td><td>1967085</td><td>66</td><td>&quot;1999&quot;</td><td>&quot;8.7&quot;</td><td>&quot;136&quot;</td><td>&quot;the matrix 199…</td></tr><tr><td>&quot;Interstellar&quot;</td><td>2014</td><td>&quot;PG13&quot;</td><td>&quot;Adventure, Dra…</td><td>169</td><td>8.7</td><td>&quot;When Earth bec…</td><td>&quot;ChristopherNol…</td><td>&quot;MatthewMcConau…</td><td>&quot;AnneHathaway&quot;</td><td>&quot;JessicaChastai…</td><td>&quot;MackenzieFoy&quot;</td><td>1928943</td><td>28375</td><td>&quot;2014&quot;</td><td>&quot;8.7&quot;</td><td>&quot;169&quot;</td><td>&quot;interstellar 2…</td></tr><tr><td>&quot;The Lord of th…</td><td>2001</td><td>&quot;PG13&quot;</td><td>&quot;Action, Advent…</td><td>178</td><td>8.8</td><td>&quot;A meek Hobbit …</td><td>&quot;PeterJackson&quot;</td><td>&quot;ElijahWood&quot;</td><td>&quot;IanMcKellen&quot;</td><td>&quot;OrlandoBloom&quot;</td><td>&quot;SeanBean&quot;</td><td>1923733</td><td>50</td><td>&quot;2001&quot;</td><td>&quot;8.8&quot;</td><td>&quot;178&quot;</td><td>&quot;the lord of th…</td></tr><tr><td>&quot;The Godfather&quot;</td><td>1972</td><td>&quot;R&quot;</td><td>&quot;Crime, Drama&quot;</td><td>175</td><td>9.2</td><td>&quot;Don Vito Corle…</td><td>&quot;FrancisFordCop…</td><td>&quot;MarlonBrando&quot;</td><td>&quot;AlPacino&quot;</td><td>&quot;JamesCaan&quot;</td><td>&quot;DianeKeaton&quot;</td><td>1921318</td><td>94925</td><td>&quot;1972&quot;</td><td>&quot;9.2&quot;</td><td>&quot;175&quot;</td><td>&quot;the godfather …</td></tr><tr><td>&quot;The Lord of th…</td><td>2003</td><td>&quot;PG13&quot;</td><td>&quot;Action, Advent…</td><td>201</td><td>9.0</td><td>&quot;Gandalf and Ar…</td><td>&quot;PeterJackson&quot;</td><td>&quot;ElijahWood&quot;</td><td>&quot;ViggoMortensen…</td><td>&quot;IanMcKellen&quot;</td><td>&quot;OrlandoBloom&quot;</td><td>1895296</td><td>126</td><td>&quot;2003&quot;</td><td>&quot;9.0&quot;</td><td>&quot;201&quot;</td><td>&quot;the lord of th…</td></tr><tr><td>&quot;The Dark Knigh…</td><td>2012</td><td>&quot;PG13&quot;</td><td>&quot;Action, Drama,…</td><td>164</td><td>8.4</td><td>&quot;Eight years af…</td><td>&quot;ChristopherNol…</td><td>&quot;ChristianBale&quot;</td><td>&quot;TomHardy&quot;</td><td>&quot;AnneHathaway&quot;</td><td>&quot;GaryOldman&quot;</td><td>1750036</td><td>79</td><td>&quot;2012&quot;</td><td>&quot;8.4&quot;</td><td>&quot;164&quot;</td><td>&quot;the dark knigh…</td></tr><tr><td>&hellip;</td><td>&hellip;</td><td>&hellip;</td><td>&hellip;</td><td>&hellip;</td><td>&hellip;</td><td>&hellip;</td><td>&hellip;</td><td>&hellip;</td><td>&hellip;</td><td>&hellip;</td><td>&hellip;</td><td>&hellip;</td><td>&hellip;</td><td>&hellip;</td><td>&hellip;</td><td>&hellip;</td><td>&hellip;</td></tr><tr><td>&quot;BottleNeck&quot;</td><td>2019</td><td>&quot;&quot;</td><td>&quot;Thriller&quot;</td><td>49</td><td>2.8</td><td>&quot;Living in a Br…</td><td>&quot;JayEhlen&quot;</td><td>&quot;TomHaywood&quot;</td><td>&quot;FionaDunn&quot;</td><td>&quot;RyanMarks&quot;</td><td>&quot;AlexLoyden&quot;</td><td>5</td><td>180873</td><td>&quot;2019&quot;</td><td>&quot;2.8&quot;</td><td>&quot;49&quot;</td><td>&quot;bottleneck 201…</td></tr><tr><td>&quot;Peacekeeping F…</td><td>2018</td><td>&quot;&quot;</td><td>&quot;War&quot;</td><td>100</td><td>2.8</td><td>&quot;Add a Plot&quot;</td><td>&quot;&quot;</td><td>&quot;&quot;</td><td>&quot;&quot;</td><td>&quot;&quot;</td><td>&quot;&quot;</td><td>5</td><td>182355</td><td>&quot;2018&quot;</td><td>&quot;2.8&quot;</td><td>&quot;100&quot;</td><td>&quot;peacekeeping f…</td></tr><tr><td>&quot;Power 2&quot;</td><td>2022</td><td>&quot;&quot;</td><td>&quot;Drama&quot;</td><td>100</td><td>2.6</td><td>&quot;Add a Plot&quot;</td><td>&quot;MherMkrtchyan&quot;</td><td>&quot;ArmineAndreasy…</td><td>&quot;ArcrunChobanya…</td><td>&quot;LevsDatyan&quot;</td><td>&quot;AniGhazaryan&quot;</td><td>5</td><td>154439</td><td>&quot;2022&quot;</td><td>&quot;2.6&quot;</td><td>&quot;100&quot;</td><td>&quot;power 2 2022  …</td></tr><tr><td>&quot;Hülyam&quot;</td><td>1982</td><td>&quot;&quot;</td><td>&quot;Drama, Music, …</td><td>100</td><td>2.6</td><td>&quot;Add a Plot&quot;</td><td>&quot;OsmanFSeden&quot;</td><td>&quot;GökhanGüney&quot;</td><td>&quot;GüngörBayrak&quot;</td><td>&quot;AhmetMekin&quot;</td><td>&quot;ÜnsalEmre&quot;</td><td>5</td><td>172120</td><td>&quot;1982&quot;</td><td>&quot;2.6&quot;</td><td>&quot;100&quot;</td><td>&quot;hülyam 1982  d…</td></tr><tr><td>&quot;Down the Road&quot;</td><td>2021</td><td>&quot;&quot;</td><td>&quot;Drama, Mystery…</td><td>84</td><td>2.4</td><td>&quot;When a paperbo…</td><td>&quot;ErikMargolin&quot;</td><td>&quot;LukeTarzian&quot;</td><td>&quot;RErfani&quot;</td><td>&quot;NicholasKadi&quot;</td><td>&quot;KarenFlathers&quot;</td><td>5</td><td>113531</td><td>&quot;2021&quot;</td><td>&quot;2.4&quot;</td><td>&quot;84&quot;</td><td>&quot;down the road …</td></tr><tr><td>&quot;Purpose of Reu…</td><td>2018</td><td>&quot;&quot;</td><td>&quot;Romance&quot;</td><td>80</td><td>2.4</td><td>&quot;Add a Plot&quot;</td><td>&quot;&quot;</td><td>&quot;&quot;</td><td>&quot;&quot;</td><td>&quot;&quot;</td><td>&quot;&quot;</td><td>5</td><td>174402</td><td>&quot;2018&quot;</td><td>&quot;2.4&quot;</td><td>&quot;80&quot;</td><td>&quot;purpose of reu…</td></tr><tr><td>&quot;Steel Heel&quot;</td><td>1993</td><td>&quot;&quot;</td><td>&quot;Action, Drama&quot;</td><td>95</td><td>2.2</td><td>&quot;Add a Plot&quot;</td><td>&quot;EricThiermann&quot;</td><td>&quot;ElizabethAtkes…</td><td>&quot;DarrylMcCane&quot;</td><td>&quot;LoryMichaelRin…</td><td>&quot;BrianSpencer&quot;</td><td>5</td><td>26904</td><td>&quot;1993&quot;</td><td>&quot;2.2&quot;</td><td>&quot;95&quot;</td><td>&quot;steel heel 199…</td></tr><tr><td>&quot;Death Ouija&quot;</td><td>2014</td><td>&quot;&quot;</td><td>&quot;Horror&quot;</td><td>95</td><td>2.2</td><td>&quot;A group of you…</td><td>&quot;YiWang&quot;</td><td>&quot;LikSunFong&quot;</td><td>&quot;XueweiHan&quot;</td><td>&quot;AppleHong&quot;</td><td>&quot;XiangJingLiu&quot;</td><td>5</td><td>171452</td><td>&quot;2014&quot;</td><td>&quot;2.2&quot;</td><td>&quot;95&quot;</td><td>&quot;death ouija 20…</td></tr><tr><td>&quot;Synapsy&quot;</td><td>2021</td><td>&quot;&quot;</td><td>&quot;Sci-Fi&quot;</td><td>81</td><td>2.2</td><td>&quot;Add a Plot&quot;</td><td>&quot;AndreaCiavatta…</td><td>&quot;LeoBarbato&quot;</td><td>&quot;MassimilianoBa…</td><td>&quot;AndreaCiavatta…</td><td>&quot;SilviaMaioli&quot;</td><td>5</td><td>177742</td><td>&quot;2021&quot;</td><td>&quot;2.2&quot;</td><td>&quot;81&quot;</td><td>&quot;synapsy 2021  …</td></tr><tr><td>&quot;Revenge of the…</td><td>2018</td><td>&quot;&quot;</td><td>&quot;Horror&quot;</td><td>100</td><td>1.8</td><td>&quot;Add a Plot&quot;</td><td>&quot;Yoshi&quot;</td><td>&quot;MatthewEwald&quot;</td><td>&quot;MatthewKeys&quot;</td><td>&quot;OlumKwanko&quot;</td><td>&quot;JohnCrosby&quot;</td><td>5</td><td>170198</td><td>&quot;2018&quot;</td><td>&quot;1.8&quot;</td><td>&quot;100&quot;</td><td>&quot;revenge of the…</td></tr><tr><td>&quot;Laagi Tohse La…</td><td>2015</td><td>&quot;&quot;</td><td>&quot;Drama&quot;</td><td>155</td><td>1.6</td><td>&quot;Indian Bhojpur…</td><td>&quot;RaviHKashyap&quot;</td><td>&quot;RandeepShantha…</td><td>&quot;YashKumarr&quot;</td><td>&quot;AnjanaSingh&quot;</td><td>&quot;&quot;</td><td>5</td><td>148869</td><td>&quot;2015&quot;</td><td>&quot;1.6&quot;</td><td>&quot;155&quot;</td><td>&quot;laagi tohse la…</td></tr><tr><td>&quot;Sledgehammer&quot;</td><td>2017</td><td>&quot;&quot;</td><td>&quot;Comedy, Horror…</td><td>89</td><td>1.4</td><td>&quot;Having a reall…</td><td>&quot;JoshuaMiller&quot;</td><td>&quot;StephenMiller&quot;</td><td>&quot;SamanthaGreen&quot;</td><td>&quot;JeremyCastaldo…</td><td>&quot;EddieKarch&quot;</td><td>5</td><td>70907</td><td>&quot;2017&quot;</td><td>&quot;1.4&quot;</td><td>&quot;89&quot;</td><td>&quot;sledgehammer 2…</td></tr></tbody></table></div>"
      ],
      "text/plain": [
       "shape: (184_313, 18)\n",
       "┌────────────┬──────┬───────────┬────────────┬───┬───────────┬────────────┬───────────┬────────────┐\n",
       "│ title      ┆ year ┆ certifica ┆ genre      ┆ … ┆ year_as_s ┆ rating_as_ ┆ time_as_s ┆ tags       │\n",
       "│ ---        ┆ ---  ┆ te        ┆ ---        ┆   ┆ tr        ┆ str        ┆ tr        ┆ ---        │\n",
       "│ str        ┆ i64  ┆ ---       ┆ str        ┆   ┆ ---       ┆ ---        ┆ ---       ┆ str        │\n",
       "│            ┆      ┆ str       ┆            ┆   ┆ str       ┆ str        ┆ str       ┆            │\n",
       "╞════════════╪══════╪═══════════╪════════════╪═══╪═══════════╪════════════╪═══════════╪════════════╡\n",
       "│ The        ┆ 1994 ┆ R         ┆ Drama      ┆ … ┆ 1994      ┆ 9.3        ┆ 142       ┆ the        │\n",
       "│ Shawshank  ┆      ┆           ┆            ┆   ┆           ┆            ┆           ┆ shawshank  │\n",
       "│ Redemption ┆      ┆           ┆            ┆   ┆           ┆            ┆           ┆ redemption │\n",
       "│            ┆      ┆           ┆            ┆   ┆           ┆            ┆           ┆ 1994 r …   │\n",
       "│ The Dark   ┆ 2008 ┆ PG13      ┆ Action,    ┆ … ┆ 2008      ┆ 9.0        ┆ 152       ┆ the dark   │\n",
       "│ Knight     ┆      ┆           ┆ Crime,     ┆   ┆           ┆            ┆           ┆ knight     │\n",
       "│            ┆      ┆           ┆ Drama      ┆   ┆           ┆            ┆           ┆ 2008 pg13  │\n",
       "│            ┆      ┆           ┆            ┆   ┆           ┆            ┆           ┆ action…    │\n",
       "│ Inception  ┆ 2010 ┆ PG13      ┆ Action,    ┆ … ┆ 2010      ┆ 8.8        ┆ 148       ┆ inception  │\n",
       "│            ┆      ┆           ┆ Adventure, ┆   ┆           ┆            ┆           ┆ 2010 pg13  │\n",
       "│            ┆      ┆           ┆ Sci-Fi     ┆   ┆           ┆            ┆           ┆ action     │\n",
       "│            ┆      ┆           ┆            ┆   ┆           ┆            ┆           ┆ adven…     │\n",
       "│ Fight Club ┆ 1999 ┆ R         ┆ Drama      ┆ … ┆ 1999      ┆ 8.8        ┆ 139       ┆ fight club │\n",
       "│            ┆      ┆           ┆            ┆   ┆           ┆            ┆           ┆ 1999 r     │\n",
       "│            ┆      ┆           ┆            ┆   ┆           ┆            ┆           ┆ drama 139  │\n",
       "│            ┆      ┆           ┆            ┆   ┆           ┆            ┆           ┆ 88 a…      │\n",
       "│ …          ┆ …    ┆ …         ┆ …          ┆ … ┆ …         ┆ …          ┆ …         ┆ …          │\n",
       "│ Synapsy    ┆ 2021 ┆           ┆ Sci-Fi     ┆ … ┆ 2021      ┆ 2.2        ┆ 81        ┆ synapsy    │\n",
       "│            ┆      ┆           ┆            ┆   ┆           ┆            ┆           ┆ 2021       │\n",
       "│            ┆      ┆           ┆            ┆   ┆           ┆            ┆           ┆ scifi 81   │\n",
       "│            ┆      ┆           ┆            ┆   ┆           ┆            ┆           ┆ 22 add a … │\n",
       "│ Revenge of ┆ 2018 ┆           ┆ Horror     ┆ … ┆ 2018      ┆ 1.8        ┆ 100       ┆ revenge of │\n",
       "│ the        ┆      ┆           ┆            ┆   ┆           ┆            ┆           ┆ the        │\n",
       "│ Exorcist   ┆      ┆           ┆            ┆   ┆           ┆            ┆           ┆ exorcist   │\n",
       "│            ┆      ┆           ┆            ┆   ┆           ┆            ┆           ┆ 2018  ho…  │\n",
       "│ Laagi      ┆ 2015 ┆           ┆ Drama      ┆ … ┆ 2015      ┆ 1.6        ┆ 155       ┆ laagi      │\n",
       "│ Tohse      ┆      ┆           ┆            ┆   ┆           ┆            ┆           ┆ tohse      │\n",
       "│ Lagan      ┆      ┆           ┆            ┆   ┆           ┆            ┆           ┆ lagan 2015 │\n",
       "│            ┆      ┆           ┆            ┆   ┆           ┆            ┆           ┆ drama 15…  │\n",
       "│ Sledgehamm ┆ 2017 ┆           ┆ Comedy,    ┆ … ┆ 2017      ┆ 1.4        ┆ 89        ┆ sledgehamm │\n",
       "│ er         ┆      ┆           ┆ Horror     ┆   ┆           ┆            ┆           ┆ er 2017    │\n",
       "│            ┆      ┆           ┆            ┆   ┆           ┆            ┆           ┆ comedy     │\n",
       "│            ┆      ┆           ┆            ┆   ┆           ┆            ┆           ┆ horror…    │\n",
       "└────────────┴──────┴───────────┴────────────┴───┴───────────┴────────────┴───────────┴────────────┘"
      ]
     },
     "execution_count": 79,
     "metadata": {},
     "output_type": "execute_result"
    }
   ],
   "source": [
    "df.sort(by=['votes','rating'], descending=True)"
   ]
  },
  {
   "cell_type": "code",
   "execution_count": 83,
   "id": "770671d9",
   "metadata": {
    "id": "770671d9"
   },
   "outputs": [],
   "source": [
    "dff.write_csv(Path('./dataset/movies_cleaned.csv'))"
   ]
  },
  {
   "cell_type": "code",
   "execution_count": 85,
   "id": "60e5877e",
   "metadata": {
    "id": "60e5877e"
   },
   "outputs": [
    {
     "data": {
      "text/plain": [
       "((184313, 5), (184313, 7))"
      ]
     },
     "execution_count": 85,
     "metadata": {},
     "output_type": "execute_result"
    }
   ],
   "source": [
    "dff.shape, ddf.shape"
   ]
  },
  {
   "cell_type": "code",
   "execution_count": null,
   "id": "9c2933b6",
   "metadata": {},
   "outputs": [],
   "source": []
  },
  {
   "cell_type": "code",
   "execution_count": null,
   "id": "739f1b02",
   "metadata": {},
   "outputs": [],
   "source": []
  }
 ],
 "metadata": {
  "colab": {
   "provenance": []
  },
  "kernelspec": {
   "display_name": "lenv",
   "language": "python",
   "name": "lenv"
  },
  "language_info": {
   "codemirror_mode": {
    "name": "ipython",
    "version": 3
   },
   "file_extension": ".py",
   "mimetype": "text/x-python",
   "name": "python",
   "nbconvert_exporter": "python",
   "pygments_lexer": "ipython3",
   "version": "3.10.10"
  }
 },
 "nbformat": 4,
 "nbformat_minor": 5
}
