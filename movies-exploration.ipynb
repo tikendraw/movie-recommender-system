{
 "cells": [
  {
   "cell_type": "code",
   "execution_count": 25,
   "id": "11450ed0",
   "metadata": {
    "id": "11450ed0"
   },
   "outputs": [],
   "source": [
    "import pandas as pd\n",
    "import polars as pl\n",
    "import re\n",
    "import numpy as np\n",
    "import ast, os, zipfile\n",
    "import torch\n",
    "from pathlib import Path\n",
    "import pickle\n",
    "from typing import List\n",
    "from sklearn.metrics.pairwise import cosine_similarity\n",
    "from nltk import download\n",
    "from nltk.stem import PorterStemmer\n",
    "from collections import Counter\n",
    "# import concurrent.futures as cf\n",
    "# import time\n",
    "import string\n",
    "# import spacy\n",
    "import nltk\n",
    "from nltk.corpus import stopwords\n",
    "from nltk.tokenize import word_tokenize"
   ]
  },
  {
   "cell_type": "markdown",
   "id": "888a7e28",
   "metadata": {
    "id": "888a7e28"
   },
   "source": [
    "Dataset [link here](https://www.kaggle.com/datasets/moon114/imdb-all-movies-dataset)"
   ]
  },
  {
   "cell_type": "code",
   "execution_count": 26,
   "id": "1EPglL92eSER",
   "metadata": {
    "colab": {
     "base_uri": "https://localhost:8080/"
    },
    "id": "1EPglL92eSER",
    "outputId": "b33f9c84-6942-4b94-a5bd-ed41382b17a6"
   },
   "outputs": [],
   "source": [
    "# nltk.download('punkt')\n",
    "# nltk.download('stopwords')"
   ]
  },
  {
   "cell_type": "code",
   "execution_count": 27,
   "id": "IVrqGNwQUJYa",
   "metadata": {
    "colab": {
     "base_uri": "https://localhost:8080/"
    },
    "id": "IVrqGNwQUJYa",
    "outputId": "336334a6-9b37-4ac7-cdbe-c86a62951566"
   },
   "outputs": [],
   "source": [
    "if 'colab' in str(get_ipython()):\n",
    "    print('Running in COlab')\n",
    "\n",
    "    # download spacy model\n",
    "    # !python -m spacy download en_core_web_lg -q\n",
    "    # spacy.load(\"en_core_web_lg\")\n",
    "    download('stopwords')\n",
    "    download('punkt')\n",
    "\n",
    "    # get data\n",
    "    try:\n",
    "        ! git clone https://github.com/tikendraw/movie-recommender-system.git\n",
    "    except:\n",
    "        pass\n",
    "\n",
    "    os.chdir('movie-recommender-system')\n",
    "\n",
    "    with zipfile.ZipFile('imdb all movies dataset.zip') as f:\n",
    "        f.extractall('dataset/')"
   ]
  },
  {
   "cell_type": "code",
   "execution_count": 28,
   "id": "GiDQp7ctxrHK",
   "metadata": {
    "id": "GiDQp7ctxrHK"
   },
   "outputs": [],
   "source": [
    "# os.chdir('movie-recommender-system')"
   ]
  },
  {
   "cell_type": "code",
   "execution_count": 29,
   "id": "710ed0b6",
   "metadata": {
    "id": "710ed0b6"
   },
   "outputs": [],
   "source": [
    "dataset_filepath = Path('./dataset/movies.csv')\n",
    "\n",
    "# df = pd.read_csv(dataset_filepath)\n",
    "df = pl.read_csv(dataset_filepath)"
   ]
  },
  {
   "cell_type": "code",
   "execution_count": null,
   "id": "1PC_OmC8xzad",
   "metadata": {
    "id": "1PC_OmC8xzad"
   },
   "outputs": [],
   "source": []
  },
  {
   "cell_type": "code",
   "execution_count": 30,
   "id": "1007fc17",
   "metadata": {
    "id": "1007fc17"
   },
   "outputs": [],
   "source": [
    "#lower the column names for ease of typing\n",
    "df.columns = [i.lower() for i in df.columns]\n",
    "\n",
    "# try:\n",
    "#     # dropping extra columns if exists\n",
    "#     df.drop('unnamed: 0', inplace =True, axis = 1)\n",
    "# except:\n",
    "#     pass\n"
   ]
  },
  {
   "cell_type": "code",
   "execution_count": 31,
   "id": "675bc645",
   "metadata": {
    "colab": {
     "base_uri": "https://localhost:8080/"
    },
    "id": "675bc645",
    "outputId": "ec59e2e8-4afa-483f-9d14-4e89e2f1ab7d"
   },
   "outputs": [
    {
     "name": "stdout",
     "output_type": "stream",
     "text": [
      "<class 'pandas.core.frame.DataFrame'>\n",
      "RangeIndex: 285341 entries, 0 to 285340\n",
      "Data columns (total 16 columns):\n",
      " #   Column       Non-Null Count   Dtype  \n",
      "---  ------       --------------   -----  \n",
      " 0                285341 non-null  int64  \n",
      " 1   title        285340 non-null  object \n",
      " 2   year         245225 non-null  object \n",
      " 3   certificate  72952 non-null   object \n",
      " 4   genre        285341 non-null  object \n",
      " 5   time         204239 non-null  object \n",
      " 6   rating       184313 non-null  float64\n",
      " 7   rate         239176 non-null  object \n",
      " 8   synopsis     285341 non-null  object \n",
      " 9   content      285336 non-null  object \n",
      " 10  director     269260 non-null  object \n",
      " 11  actor 1      253716 non-null  object \n",
      " 12  actor 2      246317 non-null  object \n",
      " 13  actor 3      239798 non-null  object \n",
      " 14  actor 4      230068 non-null  object \n",
      " 15  votes        184368 non-null  object \n",
      "dtypes: float64(1), int64(1), object(14)\n",
      "memory usage: 34.8+ MB\n"
     ]
    },
    {
     "data": {
      "text/plain": [
       "((285341, 16), None)"
      ]
     },
     "execution_count": 31,
     "metadata": {},
     "output_type": "execute_result"
    }
   ],
   "source": [
    "df.shape, df.to_pandas().info()"
   ]
  },
  {
   "cell_type": "markdown",
   "id": "ffae942f",
   "metadata": {
    "id": "ffae942f"
   },
   "source": [
    "## Objective\n",
    "\n",
    "We will convert all important features of movies into vectors and then find similarity between movies.\n",
    "\n",
    "### Clean the data\n",
    "0. remove Duplicates\n",
    "1. Remove the alpha chars from years using regex\n",
    "2. Remove \\n chars from genres and synopsis, content using regex\n",
    "3. Remove rate column(no info), drop content(contains director and actors name which we already have)\n",
    "4. Remove spaces from names"
   ]
  },
  {
   "cell_type": "code",
   "execution_count": null,
   "id": "af117574-ca18-4c17-b302-768ccead8103",
   "metadata": {},
   "outputs": [],
   "source": []
  },
  {
   "cell_type": "code",
   "execution_count": 32,
   "id": "6e5b5498-b2a1-4257-8858-1ac9a1a3a70f",
   "metadata": {},
   "outputs": [],
   "source": [
    "def remove_newline_chars(text):\n",
    "    \"\"\"Removes `\\n` characters from a text string.\"\"\"\n",
    "    text_str = re.sub(r\"\\n\", \"\", text)\n",
    "    text_str = text_str.strip()\n",
    "    return text_str\n",
    "    \n",
    "\n",
    "def remove_punctuations(text):\n",
    "    # text = str(text).lower()\n",
    "    text = text.translate(str.maketrans(\"\", \"\", string.punctuation))\n",
    "    text = text.strip()\n",
    "    return text\n",
    "    \n",
    "\n",
    "def join_names(text):\n",
    "    # text = str(text).lower()\n",
    "    text = text.translate(str.maketrans(\"\", \"\", string.punctuation))\n",
    "    text = text.replace(' ','')\n",
    "    text = text.strip()\n",
    "    return text\n",
    "    \n",
    "\n",
    "def flatten_nested_list(nested_list):\n",
    "    return [item for sublist in nested_list for item in (flatten_nested_list(sublist) if isinstance(sublist, list) else [sublist])]\n",
    "\n",
    "\n",
    "def clean_genre(x):\n",
    "    x = str(x)\n",
    "    x = [remove_newline_chars(i) for i in x.split()]\n",
    "    x = ' '.join(x)\n",
    "    return x.strip()\n",
    "\n",
    "\n",
    "def clean_year(x):\n",
    "    x = remove_punctuations(x)\n",
    "    x = re.sub(r'[^0-9]', '', x)\n",
    "    if x == '':\n",
    "        x = 0\n",
    "    return int(x)"
   ]
  },
  {
   "cell_type": "code",
   "execution_count": 33,
   "id": "4d7fcc8e",
   "metadata": {
    "colab": {
     "base_uri": "https://localhost:8080/",
     "height": 255
    },
    "id": "4d7fcc8e",
    "outputId": "0c90a98d-e17a-4a33-f99d-e93a4971fe3d"
   },
   "outputs": [
    {
     "data": {
      "text/html": [
       "<div><style>\n",
       ".dataframe > thead > tr > th,\n",
       ".dataframe > tbody > tr > td {\n",
       "  text-align: right;\n",
       "}\n",
       "</style>\n",
       "<small>shape: (5, 16)</small><table border=\"1\" class=\"dataframe\"><thead><tr><th></th><th>title</th><th>year</th><th>certificate</th><th>genre</th><th>time</th><th>rating</th><th>rate</th><th>synopsis</th><th>content</th><th>director</th><th>actor 1</th><th>actor 2</th><th>actor 3</th><th>actor 4</th><th>votes</th></tr><tr><td>i64</td><td>str</td><td>str</td><td>str</td><td>str</td><td>str</td><td>f64</td><td>str</td><td>str</td><td>str</td><td>str</td><td>str</td><td>str</td><td>str</td><td>str</td><td>str</td></tr></thead><tbody><tr><td>0</td><td>&quot;Indiana Jones …</td><td>&quot;-2023&quot;</td><td>&quot;PG-13&quot;</td><td>&quot;\n",
       "Action, Adven…</td><td>&quot;154 min&quot;</td><td>6.9</td><td>&quot;Rate this&quot;</td><td>&quot;\n",
       "Archaeologist…</td><td>&quot;\n",
       "    Director:…</td><td>&quot;James Mangold&quot;</td><td>&quot;Harrison Ford&quot;</td><td>&quot;Phoebe Waller-…</td><td>&quot;Antonio Bander…</td><td>&quot;Karen Allen&quot;</td><td>&quot;41,029&quot;</td></tr><tr><td>1</td><td>&quot;The Flash&quot;</td><td>&quot;-2023&quot;</td><td>&quot;PG-13&quot;</td><td>&quot;\n",
       "Action, Adven…</td><td>&quot;144 min&quot;</td><td>7.2</td><td>&quot;Rate this&quot;</td><td>&quot;\n",
       "Barry Allen u…</td><td>&quot;\n",
       "    Director:…</td><td>&quot;Andy Muschiett…</td><td>&quot;Ezra Miller&quot;</td><td>&quot;Michael Keaton…</td><td>&quot;Sasha Calle&quot;</td><td>&quot;Michael Shanno…</td><td>&quot;80,814&quot;</td></tr><tr><td>2</td><td>&quot;Spider-Man: Ac…</td><td>&quot;-2023&quot;</td><td>&quot;PG&quot;</td><td>&quot;\n",
       "Animation, Ac…</td><td>&quot;140 min&quot;</td><td>8.9</td><td>&quot;Rate this&quot;</td><td>&quot;\n",
       "Miles Morales…</td><td>&quot;\n",
       "    Directors…</td><td>&quot;Joaquim Dos Sa…</td><td>&quot;Kemp Powers&quot;</td><td>&quot;Justin K. Thom…</td><td>&quot;Shameik Moore&quot;</td><td>&quot;Hailee Steinfe…</td><td>&quot;1,68,355&quot;</td></tr><tr><td>3</td><td>&quot;Extraction II&quot;</td><td>&quot;-2023&quot;</td><td>&quot;R&quot;</td><td>&quot;\n",
       "Action, Thril…</td><td>&quot;122 min&quot;</td><td>7.1</td><td>&quot;Rate this&quot;</td><td>&quot;\n",
       "After barely …</td><td>&quot;\n",
       "    Director:…</td><td>&quot;Sam Hargrave&quot;</td><td>&quot;Chris Hemswort…</td><td>&quot;Golshifteh Far…</td><td>&quot;Adam Bessa&quot;</td><td>&quot;Tornike Gogric…</td><td>&quot;81,123&quot;</td></tr><tr><td>4</td><td>&quot;Avatar: The Wa…</td><td>&quot;-2022&quot;</td><td>&quot;PG-13&quot;</td><td>&quot;\n",
       "Action, Adven…</td><td>&quot;192 min&quot;</td><td>7.6</td><td>&quot;Rate this&quot;</td><td>&quot;\n",
       "Jake Sully li…</td><td>&quot;\n",
       "    Director:…</td><td>&quot;James Cameron&quot;</td><td>&quot;Sam Worthingto…</td><td>&quot;Zoe Saldana&quot;</td><td>&quot;Sigourney Weav…</td><td>&quot;Stephen Lang&quot;</td><td>&quot;4,24,931&quot;</td></tr></tbody></table></div>"
      ],
      "text/plain": [
       "shape: (5, 16)\n",
       "┌─────┬─────────────┬───────┬─────────────┬───┬─────────────┬─────────────┬─────────────┬──────────┐\n",
       "│     ┆ title       ┆ year  ┆ certificate ┆ … ┆ actor 2     ┆ actor 3     ┆ actor 4     ┆ votes    │\n",
       "│ --- ┆ ---         ┆ ---   ┆ ---         ┆   ┆ ---         ┆ ---         ┆ ---         ┆ ---      │\n",
       "│ i64 ┆ str         ┆ str   ┆ str         ┆   ┆ str         ┆ str         ┆ str         ┆ str      │\n",
       "╞═════╪═════════════╪═══════╪═════════════╪═══╪═════════════╪═════════════╪═════════════╪══════════╡\n",
       "│ 0   ┆ Indiana     ┆ -2023 ┆ PG-13       ┆ … ┆ Phoebe Wall ┆ Antonio     ┆ Karen Allen ┆ 41,029   │\n",
       "│     ┆ Jones and   ┆       ┆             ┆   ┆ er-Bridge   ┆ Banderas    ┆             ┆          │\n",
       "│     ┆ the Dial of ┆       ┆             ┆   ┆             ┆             ┆             ┆          │\n",
       "│     ┆ De…         ┆       ┆             ┆   ┆             ┆             ┆             ┆          │\n",
       "│ 1   ┆ The Flash   ┆ -2023 ┆ PG-13       ┆ … ┆ Michael     ┆ Sasha Calle ┆ Michael     ┆ 80,814   │\n",
       "│     ┆             ┆       ┆             ┆   ┆ Keaton      ┆             ┆ Shannon     ┆          │\n",
       "│ 2   ┆ Spider-Man: ┆ -2023 ┆ PG          ┆ … ┆ Justin K.   ┆ Shameik     ┆ Hailee      ┆ 1,68,355 │\n",
       "│     ┆ Across the  ┆       ┆             ┆   ┆ Thompson    ┆ Moore       ┆ Steinfeld   ┆          │\n",
       "│     ┆ Spider-Ve…  ┆       ┆             ┆   ┆             ┆             ┆             ┆          │\n",
       "│ 3   ┆ Extraction  ┆ -2023 ┆ R           ┆ … ┆ Golshifteh  ┆ Adam Bessa  ┆ Tornike     ┆ 81,123   │\n",
       "│     ┆ II          ┆       ┆             ┆   ┆ Farahani    ┆             ┆ Gogrichiani ┆          │\n",
       "│ 4   ┆ Avatar: The ┆ -2022 ┆ PG-13       ┆ … ┆ Zoe Saldana ┆ Sigourney   ┆ Stephen     ┆ 4,24,931 │\n",
       "│     ┆ Way of      ┆       ┆             ┆   ┆             ┆ Weaver      ┆ Lang        ┆          │\n",
       "│     ┆ Water       ┆       ┆             ┆   ┆             ┆             ┆             ┆          │\n",
       "└─────┴─────────────┴───────┴─────────────┴───┴─────────────┴─────────────┴─────────────┴──────────┘"
      ]
     },
     "execution_count": 33,
     "metadata": {},
     "output_type": "execute_result"
    }
   ],
   "source": [
    "df.head()"
   ]
  },
  {
   "cell_type": "code",
   "execution_count": 34,
   "id": "58e53563-89ae-47fb-bf58-06fb5aaa020c",
   "metadata": {},
   "outputs": [],
   "source": [
    "# This df is for filtering, and should have clean values\n",
    "ddf = df[['title', 'certificate', 'genre', 'rating', 'year','votes']]"
   ]
  },
  {
   "cell_type": "code",
   "execution_count": 35,
   "id": "a825a660-493a-4748-a57b-6c3000865d5b",
   "metadata": {},
   "outputs": [],
   "source": [
    "ddf= ddf.with_columns([\n",
    "    pl.Series(name=\"movies_id\", values=range(len(ddf)))\n",
    "])"
   ]
  },
  {
   "cell_type": "code",
   "execution_count": 36,
   "id": "35362113-1f69-4c60-96b6-a9c4f88ea5ab",
   "metadata": {},
   "outputs": [
    {
     "data": {
      "text/plain": [
       "(285341, 7)"
      ]
     },
     "execution_count": 36,
     "metadata": {},
     "output_type": "execute_result"
    }
   ],
   "source": [
    "ddf.shape"
   ]
  },
  {
   "cell_type": "code",
   "execution_count": 37,
   "id": "97324653-7f35-439a-8ba6-9d8e09d8938e",
   "metadata": {},
   "outputs": [
    {
     "data": {
      "text/html": [
       "<div><style>\n",
       ".dataframe > thead > tr > th,\n",
       ".dataframe > tbody > tr > td {\n",
       "  text-align: right;\n",
       "}\n",
       "</style>\n",
       "<small>shape: (1, 7)</small><table border=\"1\" class=\"dataframe\"><thead><tr><th>title</th><th>certificate</th><th>genre</th><th>rating</th><th>year</th><th>votes</th><th>movies_id</th></tr><tr><td>u32</td><td>u32</td><td>u32</td><td>u32</td><td>u32</td><td>u32</td><td>u32</td></tr></thead><tbody><tr><td>1</td><td>212389</td><td>0</td><td>101028</td><td>40116</td><td>100973</td><td>0</td></tr></tbody></table></div>"
      ],
      "text/plain": [
       "shape: (1, 7)\n",
       "┌───────┬─────────────┬───────┬────────┬───────┬────────┬───────────┐\n",
       "│ title ┆ certificate ┆ genre ┆ rating ┆ year  ┆ votes  ┆ movies_id │\n",
       "│ ---   ┆ ---         ┆ ---   ┆ ---    ┆ ---   ┆ ---    ┆ ---       │\n",
       "│ u32   ┆ u32         ┆ u32   ┆ u32    ┆ u32   ┆ u32    ┆ u32       │\n",
       "╞═══════╪═════════════╪═══════╪════════╪═══════╪════════╪═══════════╡\n",
       "│ 1     ┆ 212389      ┆ 0     ┆ 101028 ┆ 40116 ┆ 100973 ┆ 0         │\n",
       "└───────┴─────────────┴───────┴────────┴───────┴────────┴───────────┘"
      ]
     },
     "execution_count": 37,
     "metadata": {},
     "output_type": "execute_result"
    }
   ],
   "source": [
    "ddf.null_count()"
   ]
  },
  {
   "cell_type": "code",
   "execution_count": 38,
   "id": "3280070d-a29b-47a3-863b-ee5244c9da31",
   "metadata": {},
   "outputs": [
    {
     "data": {
      "text/html": [
       "<div><style>\n",
       ".dataframe > thead > tr > th,\n",
       ".dataframe > tbody > tr > td {\n",
       "  text-align: right;\n",
       "}\n",
       "</style>\n",
       "<small>shape: (1, 7)</small><table border=\"1\" class=\"dataframe\"><thead><tr><th>title</th><th>certificate</th><th>genre</th><th>rating</th><th>year</th><th>votes</th><th>movies_id</th></tr><tr><td>str</td><td>str</td><td>str</td><td>f64</td><td>str</td><td>str</td><td>i64</td></tr></thead><tbody><tr><td>&quot;Indiana Jones …</td><td>&quot;PG-13&quot;</td><td>&quot;\n",
       "Action, Adven…</td><td>6.9</td><td>&quot;-2023&quot;</td><td>&quot;41,029&quot;</td><td>0</td></tr></tbody></table></div>"
      ],
      "text/plain": [
       "shape: (1, 7)\n",
       "┌───────────────────┬─────────────┬──────────────────────────┬────────┬───────┬────────┬───────────┐\n",
       "│ title             ┆ certificate ┆ genre                    ┆ rating ┆ year  ┆ votes  ┆ movies_id │\n",
       "│ ---               ┆ ---         ┆ ---                      ┆ ---    ┆ ---   ┆ ---    ┆ ---       │\n",
       "│ str               ┆ str         ┆ str                      ┆ f64    ┆ str   ┆ str    ┆ i64       │\n",
       "╞═══════════════════╪═════════════╪══════════════════════════╪════════╪═══════╪════════╪═══════════╡\n",
       "│ Indiana Jones and ┆ PG-13       ┆                          ┆ 6.9    ┆ -2023 ┆ 41,029 ┆ 0         │\n",
       "│ the Dial of De…   ┆             ┆ Action, Adventure        ┆        ┆       ┆        ┆           │\n",
       "└───────────────────┴─────────────┴──────────────────────────┴────────┴───────┴────────┴───────────┘"
      ]
     },
     "execution_count": 38,
     "metadata": {},
     "output_type": "execute_result"
    }
   ],
   "source": [
    "ddf.head(1)"
   ]
  },
  {
   "cell_type": "code",
   "execution_count": 39,
   "id": "4f317c56-7762-42e9-97df-e9fa9281a28c",
   "metadata": {},
   "outputs": [
    {
     "data": {
      "text/plain": [
       "(285340, 7)"
      ]
     },
     "execution_count": 39,
     "metadata": {},
     "output_type": "execute_result"
    }
   ],
   "source": [
    "ddf = ddf.drop_nulls(subset=['title'])\n",
    "ddf.shape"
   ]
  },
  {
   "cell_type": "code",
   "execution_count": 40,
   "id": "fab75c35-2d80-4685-b3f5-e0898fc526df",
   "metadata": {},
   "outputs": [],
   "source": [
    "ddf = ddf.with_columns([\n",
    "    pl.col('year').fill_null(0),\n",
    "    pl.col('certificate').fill_null('Unavailable'),\n",
    "    pl.col('rating').fill_null(0.1),\n",
    "    pl.col('votes').fill_null(0)\n",
    "    \n",
    "])"
   ]
  },
  {
   "cell_type": "code",
   "execution_count": null,
   "id": "3bf46d0d-bcf8-4a5e-a2b0-494caf2a8411",
   "metadata": {},
   "outputs": [],
   "source": []
  },
  {
   "cell_type": "code",
   "execution_count": null,
   "id": "2af96d04-8542-49cd-8230-53f5dd547b9b",
   "metadata": {},
   "outputs": [],
   "source": []
  },
  {
   "cell_type": "code",
   "execution_count": 41,
   "id": "5b34947d-5374-4d64-ac10-b1a5686dbfa5",
   "metadata": {},
   "outputs": [
    {
     "data": {
      "text/html": [
       "<div><style>\n",
       ".dataframe > thead > tr > th,\n",
       ".dataframe > tbody > tr > td {\n",
       "  text-align: right;\n",
       "}\n",
       "</style>\n",
       "<small>shape: (4, 7)</small><table border=\"1\" class=\"dataframe\"><thead><tr><th>title</th><th>certificate</th><th>genre</th><th>rating</th><th>year</th><th>votes</th><th>movies_id</th></tr><tr><td>str</td><td>str</td><td>str</td><td>f64</td><td>str</td><td>str</td><td>i64</td></tr></thead><tbody><tr><td>&quot;Indiana Jones …</td><td>&quot;PG-13&quot;</td><td>&quot;\n",
       "Action, Adven…</td><td>6.9</td><td>&quot;-2023&quot;</td><td>&quot;41,029&quot;</td><td>0</td></tr><tr><td>&quot;The Flash&quot;</td><td>&quot;PG-13&quot;</td><td>&quot;\n",
       "Action, Adven…</td><td>7.2</td><td>&quot;-2023&quot;</td><td>&quot;80,814&quot;</td><td>1</td></tr><tr><td>&quot;Spider-Man: Ac…</td><td>&quot;PG&quot;</td><td>&quot;\n",
       "Animation, Ac…</td><td>8.9</td><td>&quot;-2023&quot;</td><td>&quot;1,68,355&quot;</td><td>2</td></tr><tr><td>&quot;Extraction II&quot;</td><td>&quot;R&quot;</td><td>&quot;\n",
       "Action, Thril…</td><td>7.1</td><td>&quot;-2023&quot;</td><td>&quot;81,123&quot;</td><td>3</td></tr></tbody></table></div>"
      ],
      "text/plain": [
       "shape: (4, 7)\n",
       "┌──────────────────────┬─────────────┬─────────────────────┬────────┬───────┬──────────┬───────────┐\n",
       "│ title                ┆ certificate ┆ genre               ┆ rating ┆ year  ┆ votes    ┆ movies_id │\n",
       "│ ---                  ┆ ---         ┆ ---                 ┆ ---    ┆ ---   ┆ ---      ┆ ---       │\n",
       "│ str                  ┆ str         ┆ str                 ┆ f64    ┆ str   ┆ str      ┆ i64       │\n",
       "╞══════════════════════╪═════════════╪═════════════════════╪════════╪═══════╪══════════╪═══════════╡\n",
       "│ Indiana Jones and    ┆ PG-13       ┆                     ┆ 6.9    ┆ -2023 ┆ 41,029   ┆ 0         │\n",
       "│ the Dial of De…      ┆             ┆ Action, Adventure   ┆        ┆       ┆          ┆           │\n",
       "│ The Flash            ┆ PG-13       ┆                     ┆ 7.2    ┆ -2023 ┆ 80,814   ┆ 1         │\n",
       "│                      ┆             ┆ Action, Adventure,  ┆        ┆       ┆          ┆           │\n",
       "│                      ┆             ┆ Fantasy     …       ┆        ┆       ┆          ┆           │\n",
       "│ Spider-Man: Across   ┆ PG          ┆                     ┆ 8.9    ┆ -2023 ┆ 1,68,355 ┆ 2         │\n",
       "│ the Spider-Ve…       ┆             ┆ Animation, Action,  ┆        ┆       ┆          ┆           │\n",
       "│                      ┆             ┆ Adventure   …       ┆        ┆       ┆          ┆           │\n",
       "│ Extraction II        ┆ R           ┆                     ┆ 7.1    ┆ -2023 ┆ 81,123   ┆ 3         │\n",
       "│                      ┆             ┆ Action, Thriller    ┆        ┆       ┆          ┆           │\n",
       "└──────────────────────┴─────────────┴─────────────────────┴────────┴───────┴──────────┴───────────┘"
      ]
     },
     "execution_count": 41,
     "metadata": {},
     "output_type": "execute_result"
    }
   ],
   "source": [
    "ddf.head(4)"
   ]
  },
  {
   "cell_type": "code",
   "execution_count": 42,
   "id": "8ca8c017-1f45-40d6-b155-ecae87a26229",
   "metadata": {},
   "outputs": [],
   "source": [
    "ddf = ddf.with_columns([\n",
    "        pl.col('year').apply(clean_year),\n",
    "        pl.col('votes').apply(clean_year),\n",
    "        pl.col('genre').apply(clean_genre)\n",
    "])"
   ]
  },
  {
   "cell_type": "code",
   "execution_count": 43,
   "id": "422102c2-5486-4051-9d6f-8bd9a6b65cf4",
   "metadata": {},
   "outputs": [],
   "source": [
    "u_categories = ddf['certificate'].unique().to_list()\n",
    "u_genre = ddf['genre'].to_list()\n",
    "u_genre = list(set(flatten_nested_list(u_genre)))\n",
    "u_movies_latest = ddf.filter((pl.col('rating')>=8.0) & (pl.col('votes')>=10_000))['title'].to_list()[:50]\n",
    "u_year = ddf['year'].unique().to_list()\n"
   ]
  },
  {
   "cell_type": "code",
   "execution_count": 44,
   "id": "c2501014-9d21-4be1-9dd3-e059bde744f5",
   "metadata": {},
   "outputs": [],
   "source": [
    "\n",
    "movie_info = {'movie_list': u_movies_latest,\n",
    "              'categories': u_categories, \n",
    "              'genre'     : u_genre,\n",
    "              'year'      : u_year,\n",
    "             \n",
    "             }"
   ]
  },
  {
   "cell_type": "code",
   "execution_count": 45,
   "id": "3548d881-92cd-463a-88a2-5a0575f93852",
   "metadata": {},
   "outputs": [],
   "source": [
    "pickle.dump(movie_info, open('movie_info.pkl','wb'))"
   ]
  },
  {
   "cell_type": "code",
   "execution_count": 46,
   "id": "cf10d1ad-5fff-4770-bf63-c903654f0954",
   "metadata": {},
   "outputs": [
    {
     "data": {
      "text/html": [
       "<div><style>\n",
       ".dataframe > thead > tr > th,\n",
       ".dataframe > tbody > tr > td {\n",
       "  text-align: right;\n",
       "}\n",
       "</style>\n",
       "<small>shape: (5, 7)</small><table border=\"1\" class=\"dataframe\"><thead><tr><th>title</th><th>certificate</th><th>genre</th><th>rating</th><th>year</th><th>votes</th><th>movies_id</th></tr><tr><td>str</td><td>str</td><td>str</td><td>f64</td><td>i64</td><td>i64</td><td>i64</td></tr></thead><tbody><tr><td>&quot;Indiana Jones …</td><td>&quot;PG-13&quot;</td><td>&quot;Action, Advent…</td><td>6.9</td><td>2023</td><td>41029</td><td>0</td></tr><tr><td>&quot;The Flash&quot;</td><td>&quot;PG-13&quot;</td><td>&quot;Action, Advent…</td><td>7.2</td><td>2023</td><td>80814</td><td>1</td></tr><tr><td>&quot;Spider-Man: Ac…</td><td>&quot;PG&quot;</td><td>&quot;Animation, Act…</td><td>8.9</td><td>2023</td><td>168355</td><td>2</td></tr><tr><td>&quot;Extraction II&quot;</td><td>&quot;R&quot;</td><td>&quot;Action, Thrill…</td><td>7.1</td><td>2023</td><td>81123</td><td>3</td></tr><tr><td>&quot;Avatar: The Wa…</td><td>&quot;PG-13&quot;</td><td>&quot;Action, Advent…</td><td>7.6</td><td>2022</td><td>424931</td><td>4</td></tr></tbody></table></div>"
      ],
      "text/plain": [
       "shape: (5, 7)\n",
       "┌──────────────────────────┬─────────────┬────────────────────┬────────┬──────┬────────┬───────────┐\n",
       "│ title                    ┆ certificate ┆ genre              ┆ rating ┆ year ┆ votes  ┆ movies_id │\n",
       "│ ---                      ┆ ---         ┆ ---                ┆ ---    ┆ ---  ┆ ---    ┆ ---       │\n",
       "│ str                      ┆ str         ┆ str                ┆ f64    ┆ i64  ┆ i64    ┆ i64       │\n",
       "╞══════════════════════════╪═════════════╪════════════════════╪════════╪══════╪════════╪═══════════╡\n",
       "│ Indiana Jones and the    ┆ PG-13       ┆ Action, Adventure  ┆ 6.9    ┆ 2023 ┆ 41029  ┆ 0         │\n",
       "│ Dial of De…              ┆             ┆                    ┆        ┆      ┆        ┆           │\n",
       "│ The Flash                ┆ PG-13       ┆ Action, Adventure, ┆ 7.2    ┆ 2023 ┆ 80814  ┆ 1         │\n",
       "│                          ┆             ┆ Fantasy            ┆        ┆      ┆        ┆           │\n",
       "│ Spider-Man: Across the   ┆ PG          ┆ Animation, Action, ┆ 8.9    ┆ 2023 ┆ 168355 ┆ 2         │\n",
       "│ Spider-Ve…               ┆             ┆ Adventure          ┆        ┆      ┆        ┆           │\n",
       "│ Extraction II            ┆ R           ┆ Action, Thriller   ┆ 7.1    ┆ 2023 ┆ 81123  ┆ 3         │\n",
       "│ Avatar: The Way of Water ┆ PG-13       ┆ Action, Adventure, ┆ 7.6    ┆ 2022 ┆ 424931 ┆ 4         │\n",
       "│                          ┆             ┆ Fantasy            ┆        ┆      ┆        ┆           │\n",
       "└──────────────────────────┴─────────────┴────────────────────┴────────┴──────┴────────┴───────────┘"
      ]
     },
     "execution_count": 46,
     "metadata": {},
     "output_type": "execute_result"
    }
   ],
   "source": [
    "ddf.head()\n",
    "# ddf.null_count()"
   ]
  },
  {
   "cell_type": "code",
   "execution_count": 47,
   "id": "bd2ccd0a-2f92-4c4b-a7fe-6403af10be92",
   "metadata": {},
   "outputs": [],
   "source": [
    "ddf.write_csv(Path('./dataset/movies_clean_final.csv'))"
   ]
  },
  {
   "cell_type": "markdown",
   "id": "ee2f953d",
   "metadata": {
    "id": "ee2f953d"
   },
   "source": [
    "# Preprocessing"
   ]
  },
  {
   "cell_type": "code",
   "execution_count": 16,
   "id": "712c5d56",
   "metadata": {
    "colab": {
     "base_uri": "https://localhost:8080/"
    },
    "id": "712c5d56",
    "outputId": "8f8e20ff-b8cb-4fba-808e-57c38335014c"
   },
   "outputs": [
    {
     "data": {
      "text/plain": [
       "0"
      ]
     },
     "execution_count": 16,
     "metadata": {},
     "output_type": "execute_result"
    }
   ],
   "source": [
    "# check for duplicates\n",
    "df.is_duplicated().sum()"
   ]
  },
  {
   "cell_type": "markdown",
   "id": "d343c239",
   "metadata": {
    "id": "d343c239"
   },
   "source": [
    "## Removing Nulls"
   ]
  },
  {
   "cell_type": "code",
   "execution_count": null,
   "id": "c5190deb",
   "metadata": {
    "colab": {
     "base_uri": "https://localhost:8080/",
     "height": 129
    },
    "id": "c5190deb",
    "outputId": "cd0df9e8-dd1a-4a7e-9b86-713eaad52d9b"
   },
   "outputs": [],
   "source": [
    "# check for nulls\n",
    "df.null_count()"
   ]
  },
  {
   "cell_type": "markdown",
   "id": "af1ada71",
   "metadata": {
    "id": "af1ada71"
   },
   "source": [
    "Here dataset sets has alot of missing values, That won't stop us from over purpose.\n",
    "\n",
    "The Most Important factor for Movie here is to have a title and synopsis. We will fill nans with space. and drop those who doesn't have title or synopsis."
   ]
  },
  {
   "cell_type": "code",
   "execution_count": null,
   "id": "8bTvOLsozoNd",
   "metadata": {
    "colab": {
     "base_uri": "https://localhost:8080/"
    },
    "id": "8bTvOLsozoNd",
    "outputId": "61b93923-54a9-40b4-f863-9e0a12ac83a8"
   },
   "outputs": [],
   "source": [
    "df.shape"
   ]
  },
  {
   "cell_type": "code",
   "execution_count": null,
   "id": "9a9f237d",
   "metadata": {
    "id": "9a9f237d"
   },
   "outputs": [],
   "source": [
    "# movie index with no title\n",
    "df = df.drop_nulls(subset=[\"title\"])"
   ]
  },
  {
   "cell_type": "code",
   "execution_count": null,
   "id": "buTaolkO0lKR",
   "metadata": {
    "colab": {
     "base_uri": "https://localhost:8080/"
    },
    "id": "buTaolkO0lKR",
    "outputId": "099caf0b-eaa6-4d13-82cc-fe988b455023"
   },
   "outputs": [],
   "source": [
    "df.shape"
   ]
  },
  {
   "cell_type": "markdown",
   "id": "9f595d6d",
   "metadata": {
    "id": "9f595d6d"
   },
   "source": [
    "## Dropping Columns"
   ]
  },
  {
   "cell_type": "markdown",
   "id": "hCX-EKqtXIg8",
   "metadata": {
    "id": "hCX-EKqtXIg8"
   },
   "source": [
    "Content column only contains 4 actors name and director's name  which we already have as columns, so dropping it"
   ]
  },
  {
   "cell_type": "code",
   "execution_count": null,
   "id": "c832caf7",
   "metadata": {
    "id": "c832caf7"
   },
   "outputs": [],
   "source": [
    "#dropping columns\n",
    "df = df.drop(['rate', 'content', ''])"
   ]
  },
  {
   "cell_type": "code",
   "execution_count": null,
   "id": "Nwc7jK4s3BqN",
   "metadata": {
    "colab": {
     "base_uri": "https://localhost:8080/"
    },
    "id": "Nwc7jK4s3BqN",
    "outputId": "9af69dff-1ec3-49d3-edb3-00be18f815ac"
   },
   "outputs": [],
   "source": [
    "df.shape"
   ]
  },
  {
   "cell_type": "markdown",
   "id": "45a6c925",
   "metadata": {
    "id": "45a6c925"
   },
   "source": [
    "## Column preprocessing"
   ]
  },
  {
   "cell_type": "code",
   "execution_count": null,
   "id": "1589edc3-9185-4b6f-b6cb-aac286cf40a8",
   "metadata": {},
   "outputs": [],
   "source": [
    "a = 'heloo  909)(*)()(&3gg '\n",
    "remove_punctuations(a)"
   ]
  },
  {
   "cell_type": "code",
   "execution_count": null,
   "id": "8f121bb7",
   "metadata": {
    "id": "8f121bb7"
   },
   "outputs": [],
   "source": [
    "# Movies doesn't have any id, we will create id\n",
    "df= df.with_columns([\n",
    "    pl.Series(name=\"movies_id\", values=range(len(df)))\n",
    "])"
   ]
  },
  {
   "cell_type": "code",
   "execution_count": null,
   "id": "b21d76cc",
   "metadata": {
    "id": "b21d76cc"
   },
   "outputs": [],
   "source": [
    "# cleaning number columns\n",
    "df = df.with_columns([\n",
    "    pl.col('year').str.replace_all(r'[^0-9]', '').alias('year'),\n",
    "    pl.col('time').str.replace_all(r'[^0-9]', '').alias('time'),\n",
    "    pl.col('votes').str.replace_all(r'[^0-9]', '').alias('votes'),\n",
    "])"
   ]
  },
  {
   "cell_type": "code",
   "execution_count": null,
   "id": "1eb90b58-59b7-426a-a2ce-65717b9a8976",
   "metadata": {
    "id": "1eb90b58-59b7-426a-a2ce-65717b9a8976"
   },
   "outputs": [],
   "source": [
    "# filling 0 inplace of Nans, in votes number column (we need this for popular movies)\n",
    "df = df.with_columns(pl.col('votes').fill_null('0'))\n",
    "df = df.with_columns(pl.col('votes').cast(pl.Float64))\n",
    "df = df.with_columns(pl.col('votes').cast(pl.Int64))"
   ]
  },
  {
   "cell_type": "code",
   "execution_count": null,
   "id": "41d7a0fb-117d-4205-b9e4-05546f87d6d5",
   "metadata": {},
   "outputs": [],
   "source": [
    "df = df.with_columns([\n",
    "    pl.col('certificate').apply(remove_punctuations),\n",
    "    pl.col('synopsis').apply(remove_punctuations),\n",
    "\n",
    "])"
   ]
  },
  {
   "cell_type": "code",
   "execution_count": null,
   "id": "PdFfhAIl7eaD",
   "metadata": {
    "colab": {
     "base_uri": "https://localhost:8080/",
     "height": 255
    },
    "id": "PdFfhAIl7eaD",
    "outputId": "d63329f6-2072-4089-dc36-d1f70805fd9b",
    "scrolled": true
   },
   "outputs": [],
   "source": [
    "df.head()"
   ]
  },
  {
   "cell_type": "code",
   "execution_count": null,
   "id": "531b8c75-fde6-4630-8ef1-eab7482659ec",
   "metadata": {
    "id": "531b8c75-fde6-4630-8ef1-eab7482659ec"
   },
   "outputs": [],
   "source": []
  },
  {
   "cell_type": "code",
   "execution_count": null,
   "id": "ce5cb2d7-36ab-4283-bf18-f56a3204d1e1",
   "metadata": {
    "id": "ce5cb2d7-36ab-4283-bf18-f56a3204d1e1"
   },
   "outputs": [],
   "source": [
    "# filling 0 inplace of Nans, in votes number column (we need this for popular movies)\n",
    "# df['year'] = pd.to_numeric(df['year'] )\n",
    "# df['year']=df.year.fillna(0)\n",
    "# df['year'] = df['year'].astype('int')\n",
    "\n",
    "df = df.with_columns(pl.col('year').fill_null(0))\n",
    "df = df.with_columns(pl.col('year').str.replace('', 0))\n",
    "df = df.with_columns(pl.col('year').cast(pl.Float64))\n",
    "df = df.with_columns(pl.col('year').cast(pl.Int64))"
   ]
  },
  {
   "cell_type": "code",
   "execution_count": null,
   "id": "02be64a1-027f-481a-ab8c-81a8f67a9303",
   "metadata": {},
   "outputs": [],
   "source": [
    "df = df.with_columns(pl.col('rating').fill_null(0))\n",
    "df = df.with_columns(pl.col('rating').str.replace('', 0))\n",
    "df = df.with_columns(pl.col('rating').cast(pl.Float64))"
   ]
  },
  {
   "cell_type": "code",
   "execution_count": null,
   "id": "959ab545-9bd2-46d9-badd-e9f7c74a1b9f",
   "metadata": {},
   "outputs": [],
   "source": [
    "df = df.with_columns(pl.col('time').fill_null(100))\n",
    "df = df.with_columns(pl.col('time').str.replace('', 0))\n",
    "df = df.with_columns(pl.col('time').cast(pl.Int64))"
   ]
  },
  {
   "cell_type": "code",
   "execution_count": null,
   "id": "96d45a56-9cf7-4e54-a3fa-0ba03281ef8f",
   "metadata": {},
   "outputs": [],
   "source": [
    "df.null_count()"
   ]
  },
  {
   "cell_type": "code",
   "execution_count": null,
   "id": "242751fa-5d56-4e18-948f-35d0c95dae74",
   "metadata": {},
   "outputs": [],
   "source": []
  },
  {
   "cell_type": "code",
   "execution_count": null,
   "id": "ad64fdcc-64a6-4b01-a089-4e02579b3eb8",
   "metadata": {
    "scrolled": true
   },
   "outputs": [],
   "source": [
    "df.head()"
   ]
  },
  {
   "cell_type": "code",
   "execution_count": null,
   "id": "f6553a37",
   "metadata": {
    "id": "f6553a37"
   },
   "outputs": [],
   "source": []
  },
  {
   "cell_type": "code",
   "execution_count": null,
   "id": "fd41fd10",
   "metadata": {
    "id": "fd41fd10",
    "scrolled": true
   },
   "outputs": [],
   "source": [
    "# df[\"genre\"] = df[\"genre\"].apply(remove_newline_chars)\n",
    "# df[\"synopsis\"] = df[\"synopsis\"].apply(remove_newline_chars)\n",
    "\n",
    "\n",
    "df = df.with_columns([\n",
    "    pl.col('genre').apply(remove_newline_chars),\n",
    "    pl.col('synopsis').apply(remove_newline_chars)\n",
    "])"
   ]
  },
  {
   "cell_type": "code",
   "execution_count": null,
   "id": "b8e3da9b",
   "metadata": {
    "colab": {
     "base_uri": "https://localhost:8080/",
     "height": 255
    },
    "id": "b8e3da9b",
    "outputId": "55fa40c4-bad3-4826-aa36-30c1e8efe8a9"
   },
   "outputs": [],
   "source": [
    "df.head()"
   ]
  },
  {
   "cell_type": "code",
   "execution_count": null,
   "id": "23cb95a3-d597-412b-962d-6b8ea607d9f8",
   "metadata": {},
   "outputs": [],
   "source": [
    "df['genre'][0]"
   ]
  },
  {
   "cell_type": "code",
   "execution_count": null,
   "id": "2Uw0DWQ9XUTf",
   "metadata": {
    "id": "2Uw0DWQ9XUTf"
   },
   "outputs": [],
   "source": [
    "#removing space bw name and surname"
   ]
  },
  {
   "cell_type": "code",
   "execution_count": null,
   "id": "18843103",
   "metadata": {
    "id": "18843103"
   },
   "outputs": [],
   "source": [
    "df = df.with_columns([\n",
    "    pl.col('director').apply(join_names),\n",
    "    pl.col('actor 1' ).apply(join_names),\n",
    "    pl.col('actor 2' ).apply(join_names),\n",
    "    pl.col('actor 3' ).apply(join_names),\n",
    "    pl.col('actor 4' ).apply(join_names),\n",
    "    pl.col('genre'   ).apply(clean_genre),\n",
    "])\n"
   ]
  },
  {
   "cell_type": "code",
   "execution_count": null,
   "id": "46cc1b70",
   "metadata": {
    "colab": {
     "base_uri": "https://localhost:8080/",
     "height": 255
    },
    "id": "46cc1b70",
    "outputId": "db9d6b07-6d81-44f2-d4cb-8eb4329c2256",
    "scrolled": true
   },
   "outputs": [],
   "source": [
    "df.head()"
   ]
  },
  {
   "cell_type": "markdown",
   "id": "8ba35865-79fe-41eb-9d74-c642527f5caa",
   "metadata": {
    "id": "8ba35865-79fe-41eb-9d74-c642527f5caa"
   },
   "source": [
    "## Joining Names and SUrnames"
   ]
  },
  {
   "cell_type": "code",
   "execution_count": null,
   "id": "Uo29bsDNIPVM",
   "metadata": {
    "colab": {
     "base_uri": "https://localhost:8080/",
     "height": 35
    },
    "id": "Uo29bsDNIPVM",
    "outputId": "dd687b40-aaaa-4000-d947-85d551ce916d"
   },
   "outputs": [],
   "source": [
    "''' I wanted to join all names in the data, but it crashes and requires more RAM,\n",
    "'''"
   ]
  },
  {
   "cell_type": "code",
   "execution_count": null,
   "id": "950e6c6e",
   "metadata": {
    "colab": {
     "base_uri": "https://localhost:8080/"
    },
    "id": "950e6c6e",
    "outputId": "acc5d373-4a91-4591-b7f1-45ebb7525542"
   },
   "outputs": [],
   "source": [
    "# def concatenate_names(sentence):\n",
    "#     nlp = spacy.load(\"en_core_web_lg\")\n",
    "#     ner_dict = dict()\n",
    "\n",
    "#     # Extract names from the sentence using NER\n",
    "#     doc = nlp(sentence)\n",
    "\n",
    "#     for ent in doc.ents:\n",
    "#         if ent.label_ == \"PERSON\":\n",
    "#             name = ent.text\n",
    "#             new_name = name.replace(' ','')\n",
    "#             ner_dict[name] = new_name\n",
    "\n",
    "#     # Replace names with names without spaces in the sentence\n",
    "#     for i, j in ner_dict.items():\n",
    "#         sentence = sentence.replace(i,j)\n",
    "\n",
    "#     return sentence\n",
    "\n",
    "# # Test the function\n",
    "# # sentence = \"Ryan Holiday is an author, and Ryan is famous for his books.\"\n",
    "# sentence = 'my name is dick greyson and this is my girifriend harley quinn'\n",
    "# result = concatenate_names(sentence)\n",
    "# print(result)\n"
   ]
  },
  {
   "cell_type": "code",
   "execution_count": null,
   "id": "13dd684c-9efb-4414-a793-7ed15ed09982",
   "metadata": {
    "id": "13dd684c-9efb-4414-a793-7ed15ed09982"
   },
   "outputs": [],
   "source": [
    "# all_synopsis = df['synopsis'].to_list()"
   ]
  },
  {
   "cell_type": "code",
   "execution_count": null,
   "id": "EXvvAb2NfM6T",
   "metadata": {
    "id": "EXvvAb2NfM6T"
   },
   "outputs": [],
   "source": [
    "# all_syn = ' <sos> '.join(all_synopsis)"
   ]
  },
  {
   "cell_type": "code",
   "execution_count": null,
   "id": "N3DqPR1fb_bA",
   "metadata": {
    "id": "N3DqPR1fb_bA"
   },
   "outputs": [],
   "source": [
    "# df  = df.with_columns(\n",
    "#     pl.col('synopsis').apply(concatenate_names).alias('new')\n",
    "# )"
   ]
  },
  {
   "cell_type": "code",
   "execution_count": null,
   "id": "ID0U9s4Xdjj1",
   "metadata": {
    "id": "ID0U9s4Xdjj1"
   },
   "outputs": [],
   "source": []
  },
  {
   "cell_type": "code",
   "execution_count": null,
   "id": "b9d4f4ca-21e7-47d7-98ba-71abbdfab269",
   "metadata": {
    "id": "b9d4f4ca-21e7-47d7-98ba-71abbdfab269"
   },
   "outputs": [],
   "source": [
    "# start_time = time.perf_counter()\n",
    "# print('Strated :',  time.strftime(\"%H:%M:%S\", time.localtime()))\n",
    "\n",
    "# with cf.ProcessPoolExecutor() as executer:\n",
    "#     dodo = [executer.submit(concatenate_names, i) for i in all_synopsis]\n",
    "#     # clean_tags = dodo.result()\n",
    "\n",
    "# print('Took: ',time.perf_counter()-start_time)\n",
    "# print('Finished :',  time.strftime(\"%H:%M:%S\", time.localtime()))\n"
   ]
  },
  {
   "cell_type": "markdown",
   "id": "1pbQ8yiOO9NO",
   "metadata": {
    "id": "1pbQ8yiOO9NO"
   },
   "source": [
    "# Create a Tag Column\n",
    "Combining all data"
   ]
  },
  {
   "cell_type": "code",
   "execution_count": null,
   "id": "4d7cae26",
   "metadata": {
    "colab": {
     "base_uri": "https://localhost:8080/"
    },
    "id": "4d7cae26",
    "outputId": "d5d5b61e-307d-4c62-fd24-c1d2b76c00b8"
   },
   "outputs": [],
   "source": [
    "df.to_pandas().info()"
   ]
  },
  {
   "cell_type": "code",
   "execution_count": null,
   "id": "kFOqU0-CMmGK",
   "metadata": {
    "id": "kFOqU0-CMmGK"
   },
   "outputs": [],
   "source": [
    "\n",
    "# df = df.fill_nan('')\n",
    "df = df.fill_null('')\n"
   ]
  },
  {
   "cell_type": "code",
   "execution_count": null,
   "id": "1a9JK8rDMRe3",
   "metadata": {
    "id": "1a9JK8rDMRe3"
   },
   "outputs": [],
   "source": [
    "df = df.with_columns(\n",
    "    pl.col('year').cast(pl.Utf8).alias('year_as_str'),\n",
    "    pl.col('rating').cast(pl.Utf8).alias('rating_as_str'),\n",
    "    pl.col('time').cast(pl.Utf8).alias('time_as_str')\n",
    ")"
   ]
  },
  {
   "cell_type": "code",
   "execution_count": null,
   "id": "f4b47d08-f150-410c-a5e2-7bf95e8332fa",
   "metadata": {},
   "outputs": [],
   "source": [
    "print(df.columns)"
   ]
  },
  {
   "cell_type": "code",
   "execution_count": null,
   "id": "d130227e-1ce5-47bd-a8fd-b35a8ea28772",
   "metadata": {
    "id": "d130227e-1ce5-47bd-a8fd-b35a8ea28772"
   },
   "outputs": [],
   "source": [
    "cols_to_combine = ['title', 'year_as_str', 'certificate', 'genre', 'time_as_str', 'rating_as_str', 'synopsis', \n",
    "                   'director', 'actor 1', 'actor 2', 'actor 3', 'actor 4', ]"
   ]
  },
  {
   "cell_type": "code",
   "execution_count": null,
   "id": "bb915623",
   "metadata": {
    "id": "bb915623"
   },
   "outputs": [],
   "source": [
    "df = df.with_columns(pl.Series('tags', values = df[cols_to_combine].apply(' '.join).to_series()))\n"
   ]
  },
  {
   "cell_type": "code",
   "execution_count": null,
   "id": "b3722732",
   "metadata": {
    "colab": {
     "base_uri": "https://localhost:8080/",
     "height": 255
    },
    "id": "b3722732",
    "outputId": "2908f54c-6450-4711-ba35-82a65563dcc5"
   },
   "outputs": [],
   "source": [
    "df.head()"
   ]
  },
  {
   "cell_type": "code",
   "execution_count": null,
   "id": "4b4d1fd6",
   "metadata": {
    "id": "4b4d1fd6"
   },
   "outputs": [],
   "source": []
  },
  {
   "cell_type": "code",
   "execution_count": null,
   "id": "edb65125",
   "metadata": {
    "id": "edb65125"
   },
   "outputs": [],
   "source": [
    "df = df.with_columns(pl.col('tags').apply(remove_punctuations))"
   ]
  },
  {
   "cell_type": "code",
   "execution_count": null,
   "id": "aLXVbaUzSInm",
   "metadata": {
    "id": "aLXVbaUzSInm"
   },
   "outputs": [],
   "source": [
    "# Create a PorterStemmer object\n",
    "stemmer = PorterStemmer()\n",
    "\n",
    "# Apply the stemming function to each word in the series\n",
    "df = df.with_columns(pl.col('tags').apply(stemmer.stem))\n"
   ]
  },
  {
   "cell_type": "code",
   "execution_count": null,
   "id": "6fa4f7d3",
   "metadata": {
    "id": "6fa4f7d3"
   },
   "outputs": [],
   "source": [
    "dff = df[['title', 'movies_id', 'tags', 'votes', 'rating']]"
   ]
  },
  {
   "cell_type": "code",
   "execution_count": null,
   "id": "1fc5f2ad",
   "metadata": {
    "colab": {
     "base_uri": "https://localhost:8080/",
     "height": 255
    },
    "id": "1fc5f2ad",
    "outputId": "2183b5ad-30fd-4ef8-ac3d-397dc833e818"
   },
   "outputs": [],
   "source": [
    "dff.head()"
   ]
  },
  {
   "cell_type": "code",
   "execution_count": null,
   "id": "c0097ff9-7777-4dcb-892f-ede516db69b8",
   "metadata": {
    "id": "c0097ff9-7777-4dcb-892f-ede516db69b8"
   },
   "outputs": [],
   "source": [
    "# dff['tags'] = dff['tags'].str.split()\n",
    "# dff = dff.with_columns(pl.col('tags').str.split(' '))\n"
   ]
  },
  {
   "cell_type": "code",
   "execution_count": null,
   "id": "4c4f587c",
   "metadata": {
    "id": "4c4f587c"
   },
   "outputs": [],
   "source": [
    "all_words = dff['tags'].to_list()"
   ]
  },
  {
   "cell_type": "code",
   "execution_count": null,
   "id": "d7b83437",
   "metadata": {
    "id": "d7b83437"
   },
   "outputs": [],
   "source": []
  },
  {
   "cell_type": "code",
   "execution_count": null,
   "id": "397c85fd",
   "metadata": {
    "id": "397c85fd"
   },
   "outputs": [],
   "source": [
    "all_wordss = flatten_nested_list(all_words)"
   ]
  },
  {
   "cell_type": "code",
   "execution_count": null,
   "id": "12825677",
   "metadata": {
    "colab": {
     "base_uri": "https://localhost:8080/"
    },
    "id": "12825677",
    "outputId": "c9fdae90-4088-4725-f441-8246d480472f"
   },
   "outputs": [],
   "source": [
    "len(all_wordss), len(set(all_wordss))"
   ]
  },
  {
   "cell_type": "code",
   "execution_count": null,
   "id": "18f1faee",
   "metadata": {
    "id": "18f1faee"
   },
   "outputs": [],
   "source": [
    "from sklearn.feature_extraction.text import  CountVectorizer"
   ]
  },
  {
   "cell_type": "code",
   "execution_count": null,
   "id": "c39bb616",
   "metadata": {
    "id": "c39bb616"
   },
   "outputs": [],
   "source": [
    "cv = CountVectorizer(lowercase=True, stop_words='english', max_features=5000, dtype=np.int16 )"
   ]
  },
  {
   "cell_type": "code",
   "execution_count": null,
   "id": "1e752346",
   "metadata": {
    "id": "1e752346"
   },
   "outputs": [],
   "source": [
    "vector = cv.fit_transform(dff['tags'].to_list())"
   ]
  },
  {
   "cell_type": "code",
   "execution_count": null,
   "id": "99081a64-93dc-4a8c-9e95-c2e9df4998aa",
   "metadata": {
    "colab": {
     "base_uri": "https://localhost:8080/"
    },
    "id": "99081a64-93dc-4a8c-9e95-c2e9df4998aa",
    "outputId": "bff9b88b-852b-45cb-f3d1-5c3c900b7207"
   },
   "outputs": [],
   "source": [
    "vector"
   ]
  },
  {
   "cell_type": "code",
   "execution_count": null,
   "id": "601be4f9",
   "metadata": {
    "id": "601be4f9"
   },
   "outputs": [],
   "source": []
  },
  {
   "cell_type": "code",
   "execution_count": null,
   "id": "ee907234-77bd-404a-818d-9ec9aa2bb0f5",
   "metadata": {
    "colab": {
     "base_uri": "https://localhost:8080/"
    },
    "id": "ee907234-77bd-404a-818d-9ec9aa2bb0f5",
    "outputId": "e2f50a84-26b0-4856-f448-513d1ad1297a"
   },
   "outputs": [],
   "source": [
    "vector[2]"
   ]
  },
  {
   "cell_type": "code",
   "execution_count": null,
   "id": "963fb732",
   "metadata": {
    "id": "963fb732"
   },
   "outputs": [],
   "source": [
    "# pickle.dump(movie_vector, open('movie_vector.pkl','wb'))  # creates file of 2.6 gb\n",
    "pickle.dump(vector, open('vector.pkl','wb'))"
   ]
  },
  {
   "cell_type": "code",
   "execution_count": null,
   "id": "zGMLc9l-Z2oV",
   "metadata": {
    "colab": {
     "base_uri": "https://localhost:8080/"
    },
    "id": "zGMLc9l-Z2oV",
    "outputId": "df5df77c-2d79-42ee-9808-9565b60894eb"
   },
   "outputs": [],
   "source": [
    "dff.to_pandas().info()"
   ]
  },
  {
   "cell_type": "code",
   "execution_count": null,
   "id": "6b8f693a",
   "metadata": {
    "id": "6b8f693a"
   },
   "outputs": [],
   "source": [
    "def find_similar_movies(x:str, k = 5) -> List[str]:\n",
    "    movie_id  = dff.filter(pl.col('title') == x)['movies_id'].to_list()[0]\n",
    "    # print(movie_id)\n",
    "    sim_vec  = cosine_similarity(vector, vector[movie_id])\n",
    "    y = sorted(enumerate(sim_vec), key=lambda x: x[1], reverse=True)\n",
    "    recommended_movies_ids = [i[0] for i in y[1:k+1]]\n",
    "    # print(recommended_movies_ids)\n",
    "    for i in recommended_movies_ids:\n",
    "        print(dff.filter(pl.col('movies_id') == i)['title'].to_list()[0])"
   ]
  },
  {
   "cell_type": "code",
   "execution_count": null,
   "id": "ea6c78ee",
   "metadata": {
    "colab": {
     "base_uri": "https://localhost:8080/"
    },
    "id": "ea6c78ee",
    "outputId": "fa248d8e-b944-4e14-90dc-4a23bcc20f5d"
   },
   "outputs": [],
   "source": [
    "find_similar_movies(\n",
    " 'Killing a Traitor',\n",
    "k = 10)"
   ]
  },
  {
   "cell_type": "code",
   "execution_count": null,
   "id": "135dfb37",
   "metadata": {
    "colab": {
     "base_uri": "https://localhost:8080/"
    },
    "id": "135dfb37",
    "outputId": "499ff7ba-6b22-4524-f18a-9e3d0c16bd81"
   },
   "outputs": [],
   "source": [
    "dff['title'].sample(50).to_list()"
   ]
  },
  {
   "cell_type": "code",
   "execution_count": null,
   "id": "f933c647",
   "metadata": {
    "colab": {
     "base_uri": "https://localhost:8080/",
     "height": 882
    },
    "id": "f933c647",
    "outputId": "1d527dcf-e820-4802-f3d9-8ff98c77b6d0"
   },
   "outputs": [],
   "source": [
    "df.sort(by=['votes','rating'], descending=True)"
   ]
  },
  {
   "cell_type": "code",
   "execution_count": null,
   "id": "770671d9",
   "metadata": {
    "id": "770671d9"
   },
   "outputs": [],
   "source": [
    "dff.write_csv(Path('./dataset/movies_cleaned.csv'))"
   ]
  },
  {
   "cell_type": "code",
   "execution_count": null,
   "id": "60e5877e",
   "metadata": {
    "id": "60e5877e"
   },
   "outputs": [],
   "source": []
  }
 ],
 "metadata": {
  "colab": {
   "provenance": []
  },
  "kernelspec": {
   "display_name": "deep",
   "language": "python",
   "name": "deep"
  },
  "language_info": {
   "codemirror_mode": {
    "name": "ipython",
    "version": 3
   },
   "file_extension": ".py",
   "mimetype": "text/x-python",
   "name": "python",
   "nbconvert_exporter": "python",
   "pygments_lexer": "ipython3",
   "version": "3.11.4"
  }
 },
 "nbformat": 4,
 "nbformat_minor": 5
}
