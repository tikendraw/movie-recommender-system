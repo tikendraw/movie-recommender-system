{
 "cells": [
  {
   "cell_type": "code",
   "execution_count": 116,
   "id": "11450ed0",
   "metadata": {
    "id": "11450ed0"
   },
   "outputs": [],
   "source": [
    "import pandas as pd\n",
    "import polars as pl\n",
    "import re\n",
    "import numpy as np\n",
    "import ast, os, zipfile\n",
    "import torch\n",
    "from pathlib import Path\n",
    "import pickle\n",
    "from typing import List\n",
    "from sklearn.metrics.pairwise import cosine_similarity\n",
    "from nltk import download\n",
    "from nltk.stem import PorterStemmer\n",
    "# import concurrent.futures as cf\n",
    "# import time\n",
    "import string\n",
    "# import spacy\n",
    "import nltk\n",
    "from nltk.corpus import stopwords\n",
    "from nltk.tokenize import word_tokenize"
   ]
  },
  {
   "cell_type": "markdown",
   "id": "888a7e28",
   "metadata": {
    "id": "888a7e28"
   },
   "source": [
    "Dataset [link here](https://www.kaggle.com/datasets/moon114/imdb-all-movies-dataset)"
   ]
  },
  {
   "cell_type": "code",
   "execution_count": 30,
   "id": "1EPglL92eSER",
   "metadata": {
    "colab": {
     "base_uri": "https://localhost:8080/"
    },
    "id": "1EPglL92eSER",
    "outputId": "b33f9c84-6942-4b94-a5bd-ed41382b17a6"
   },
   "outputs": [],
   "source": [
    "# nltk.download('punkt')\n",
    "# nltk.download('stopwords')"
   ]
  },
  {
   "cell_type": "code",
   "execution_count": 31,
   "id": "IVrqGNwQUJYa",
   "metadata": {
    "colab": {
     "base_uri": "https://localhost:8080/"
    },
    "id": "IVrqGNwQUJYa",
    "outputId": "336334a6-9b37-4ac7-cdbe-c86a62951566"
   },
   "outputs": [],
   "source": [
    "if 'colab' in str(get_ipython()):\n",
    "    print('Running in COlab')\n",
    "\n",
    "    # download spacy model\n",
    "    # !python -m spacy download en_core_web_lg -q\n",
    "    # spacy.load(\"en_core_web_lg\")\n",
    "    download('stopwords')\n",
    "    download('punkt')\n",
    "\n",
    "    # get data\n",
    "    try:\n",
    "        ! git clone https://github.com/tikendraw/movie-recommender-system.git\n",
    "    except:\n",
    "        pass\n",
    "\n",
    "    os.chdir('movie-recommender-system')\n",
    "\n",
    "    with zipfile.ZipFile('imdb all movies dataset.zip') as f:\n",
    "        f.extractall('dataset/')"
   ]
  },
  {
   "cell_type": "code",
   "execution_count": 32,
   "id": "GiDQp7ctxrHK",
   "metadata": {
    "id": "GiDQp7ctxrHK"
   },
   "outputs": [],
   "source": [
    "# os.chdir('movie-recommender-system')"
   ]
  },
  {
   "cell_type": "code",
   "execution_count": 33,
   "id": "710ed0b6",
   "metadata": {
    "id": "710ed0b6"
   },
   "outputs": [],
   "source": [
    "dataset_filepath = Path('./dataset/movies.csv')\n",
    "\n",
    "# df = pd.read_csv(dataset_filepath)\n",
    "df = pl.read_csv(dataset_filepath)"
   ]
  },
  {
   "cell_type": "code",
   "execution_count": null,
   "id": "1PC_OmC8xzad",
   "metadata": {
    "id": "1PC_OmC8xzad"
   },
   "outputs": [],
   "source": []
  },
  {
   "cell_type": "code",
   "execution_count": 34,
   "id": "1007fc17",
   "metadata": {
    "id": "1007fc17"
   },
   "outputs": [],
   "source": [
    "#lower the column names for ease of typing\n",
    "df.columns = [i.lower() for i in df.columns]\n",
    "\n",
    "# try:\n",
    "#     # dropping extra columns if exists\n",
    "#     df.drop('unnamed: 0', inplace =True, axis = 1)\n",
    "# except:\n",
    "#     pass\n"
   ]
  },
  {
   "cell_type": "code",
   "execution_count": 35,
   "id": "675bc645",
   "metadata": {
    "colab": {
     "base_uri": "https://localhost:8080/"
    },
    "id": "675bc645",
    "outputId": "ec59e2e8-4afa-483f-9d14-4e89e2f1ab7d"
   },
   "outputs": [
    {
     "name": "stdout",
     "output_type": "stream",
     "text": [
      "<class 'pandas.core.frame.DataFrame'>\n",
      "RangeIndex: 285341 entries, 0 to 285340\n",
      "Data columns (total 16 columns):\n",
      " #   Column       Non-Null Count   Dtype  \n",
      "---  ------       --------------   -----  \n",
      " 0                285341 non-null  int64  \n",
      " 1   title        285340 non-null  object \n",
      " 2   year         245225 non-null  object \n",
      " 3   certificate  72952 non-null   object \n",
      " 4   genre        285341 non-null  object \n",
      " 5   time         204239 non-null  object \n",
      " 6   rating       184313 non-null  float64\n",
      " 7   rate         239176 non-null  object \n",
      " 8   synopsis     285341 non-null  object \n",
      " 9   content      285336 non-null  object \n",
      " 10  director     269260 non-null  object \n",
      " 11  actor 1      253716 non-null  object \n",
      " 12  actor 2      246317 non-null  object \n",
      " 13  actor 3      239798 non-null  object \n",
      " 14  actor 4      230068 non-null  object \n",
      " 15  votes        184368 non-null  object \n",
      "dtypes: float64(1), int64(1), object(14)\n",
      "memory usage: 34.8+ MB\n"
     ]
    },
    {
     "data": {
      "text/plain": [
       "((285341, 16), None)"
      ]
     },
     "execution_count": 35,
     "metadata": {},
     "output_type": "execute_result"
    }
   ],
   "source": [
    "df.shape, df.to_pandas().info()"
   ]
  },
  {
   "cell_type": "markdown",
   "id": "ffae942f",
   "metadata": {
    "id": "ffae942f"
   },
   "source": [
    "## Objective\n",
    "\n",
    "We will convert all important features of movies into vectors and then find similarity between movies.\n",
    "\n",
    "### Clean the data\n",
    "0. remove Duplicates\n",
    "1. Remove the alpha chars from years using regex\n",
    "2. Remove \\n chars from genres and synopsis, content using regex\n",
    "3. Remove rate column(no info), drop content(contains director and actors name which we already have)\n",
    "4. Remove spaces from names"
   ]
  },
  {
   "cell_type": "code",
   "execution_count": 36,
   "id": "4d7fcc8e",
   "metadata": {
    "colab": {
     "base_uri": "https://localhost:8080/",
     "height": 255
    },
    "id": "4d7fcc8e",
    "outputId": "0c90a98d-e17a-4a33-f99d-e93a4971fe3d"
   },
   "outputs": [
    {
     "data": {
      "text/html": [
       "<div><style>\n",
       ".dataframe > thead > tr > th,\n",
       ".dataframe > tbody > tr > td {\n",
       "  text-align: right;\n",
       "}\n",
       "</style>\n",
       "<small>shape: (5, 16)</small><table border=\"1\" class=\"dataframe\"><thead><tr><th></th><th>title</th><th>year</th><th>certificate</th><th>genre</th><th>time</th><th>rating</th><th>rate</th><th>synopsis</th><th>content</th><th>director</th><th>actor 1</th><th>actor 2</th><th>actor 3</th><th>actor 4</th><th>votes</th></tr><tr><td>i64</td><td>str</td><td>str</td><td>str</td><td>str</td><td>str</td><td>f64</td><td>str</td><td>str</td><td>str</td><td>str</td><td>str</td><td>str</td><td>str</td><td>str</td><td>str</td></tr></thead><tbody><tr><td>0</td><td>&quot;Indiana Jones …</td><td>&quot;-2023&quot;</td><td>&quot;PG-13&quot;</td><td>&quot;\n",
       "Action, Adven…</td><td>&quot;154 min&quot;</td><td>6.9</td><td>&quot;Rate this&quot;</td><td>&quot;\n",
       "Archaeologist…</td><td>&quot;\n",
       "    Director:…</td><td>&quot;James Mangold&quot;</td><td>&quot;Harrison Ford&quot;</td><td>&quot;Phoebe Waller-…</td><td>&quot;Antonio Bander…</td><td>&quot;Karen Allen&quot;</td><td>&quot;41,029&quot;</td></tr><tr><td>1</td><td>&quot;The Flash&quot;</td><td>&quot;-2023&quot;</td><td>&quot;PG-13&quot;</td><td>&quot;\n",
       "Action, Adven…</td><td>&quot;144 min&quot;</td><td>7.2</td><td>&quot;Rate this&quot;</td><td>&quot;\n",
       "Barry Allen u…</td><td>&quot;\n",
       "    Director:…</td><td>&quot;Andy Muschiett…</td><td>&quot;Ezra Miller&quot;</td><td>&quot;Michael Keaton…</td><td>&quot;Sasha Calle&quot;</td><td>&quot;Michael Shanno…</td><td>&quot;80,814&quot;</td></tr><tr><td>2</td><td>&quot;Spider-Man: Ac…</td><td>&quot;-2023&quot;</td><td>&quot;PG&quot;</td><td>&quot;\n",
       "Animation, Ac…</td><td>&quot;140 min&quot;</td><td>8.9</td><td>&quot;Rate this&quot;</td><td>&quot;\n",
       "Miles Morales…</td><td>&quot;\n",
       "    Directors…</td><td>&quot;Joaquim Dos Sa…</td><td>&quot;Kemp Powers&quot;</td><td>&quot;Justin K. Thom…</td><td>&quot;Shameik Moore&quot;</td><td>&quot;Hailee Steinfe…</td><td>&quot;1,68,355&quot;</td></tr><tr><td>3</td><td>&quot;Extraction II&quot;</td><td>&quot;-2023&quot;</td><td>&quot;R&quot;</td><td>&quot;\n",
       "Action, Thril…</td><td>&quot;122 min&quot;</td><td>7.1</td><td>&quot;Rate this&quot;</td><td>&quot;\n",
       "After barely …</td><td>&quot;\n",
       "    Director:…</td><td>&quot;Sam Hargrave&quot;</td><td>&quot;Chris Hemswort…</td><td>&quot;Golshifteh Far…</td><td>&quot;Adam Bessa&quot;</td><td>&quot;Tornike Gogric…</td><td>&quot;81,123&quot;</td></tr><tr><td>4</td><td>&quot;Avatar: The Wa…</td><td>&quot;-2022&quot;</td><td>&quot;PG-13&quot;</td><td>&quot;\n",
       "Action, Adven…</td><td>&quot;192 min&quot;</td><td>7.6</td><td>&quot;Rate this&quot;</td><td>&quot;\n",
       "Jake Sully li…</td><td>&quot;\n",
       "    Director:…</td><td>&quot;James Cameron&quot;</td><td>&quot;Sam Worthingto…</td><td>&quot;Zoe Saldana&quot;</td><td>&quot;Sigourney Weav…</td><td>&quot;Stephen Lang&quot;</td><td>&quot;4,24,931&quot;</td></tr></tbody></table></div>"
      ],
      "text/plain": [
       "shape: (5, 16)\n",
       "┌─────┬─────────────┬───────┬─────────────┬───┬─────────────┬─────────────┬─────────────┬──────────┐\n",
       "│     ┆ title       ┆ year  ┆ certificate ┆ … ┆ actor 2     ┆ actor 3     ┆ actor 4     ┆ votes    │\n",
       "│ --- ┆ ---         ┆ ---   ┆ ---         ┆   ┆ ---         ┆ ---         ┆ ---         ┆ ---      │\n",
       "│ i64 ┆ str         ┆ str   ┆ str         ┆   ┆ str         ┆ str         ┆ str         ┆ str      │\n",
       "╞═════╪═════════════╪═══════╪═════════════╪═══╪═════════════╪═════════════╪═════════════╪══════════╡\n",
       "│ 0   ┆ Indiana     ┆ -2023 ┆ PG-13       ┆ … ┆ Phoebe Wall ┆ Antonio     ┆ Karen Allen ┆ 41,029   │\n",
       "│     ┆ Jones and   ┆       ┆             ┆   ┆ er-Bridge   ┆ Banderas    ┆             ┆          │\n",
       "│     ┆ the Dial of ┆       ┆             ┆   ┆             ┆             ┆             ┆          │\n",
       "│     ┆ De…         ┆       ┆             ┆   ┆             ┆             ┆             ┆          │\n",
       "│ 1   ┆ The Flash   ┆ -2023 ┆ PG-13       ┆ … ┆ Michael     ┆ Sasha Calle ┆ Michael     ┆ 80,814   │\n",
       "│     ┆             ┆       ┆             ┆   ┆ Keaton      ┆             ┆ Shannon     ┆          │\n",
       "│ 2   ┆ Spider-Man: ┆ -2023 ┆ PG          ┆ … ┆ Justin K.   ┆ Shameik     ┆ Hailee      ┆ 1,68,355 │\n",
       "│     ┆ Across the  ┆       ┆             ┆   ┆ Thompson    ┆ Moore       ┆ Steinfeld   ┆          │\n",
       "│     ┆ Spider-Ve…  ┆       ┆             ┆   ┆             ┆             ┆             ┆          │\n",
       "│ 3   ┆ Extraction  ┆ -2023 ┆ R           ┆ … ┆ Golshifteh  ┆ Adam Bessa  ┆ Tornike     ┆ 81,123   │\n",
       "│     ┆ II          ┆       ┆             ┆   ┆ Farahani    ┆             ┆ Gogrichiani ┆          │\n",
       "│ 4   ┆ Avatar: The ┆ -2022 ┆ PG-13       ┆ … ┆ Zoe Saldana ┆ Sigourney   ┆ Stephen     ┆ 4,24,931 │\n",
       "│     ┆ Way of      ┆       ┆             ┆   ┆             ┆ Weaver      ┆ Lang        ┆          │\n",
       "│     ┆ Water       ┆       ┆             ┆   ┆             ┆             ┆             ┆          │\n",
       "└─────┴─────────────┴───────┴─────────────┴───┴─────────────┴─────────────┴─────────────┴──────────┘"
      ]
     },
     "execution_count": 36,
     "metadata": {},
     "output_type": "execute_result"
    }
   ],
   "source": [
    "df.head()"
   ]
  },
  {
   "cell_type": "markdown",
   "id": "ee2f953d",
   "metadata": {
    "id": "ee2f953d"
   },
   "source": [
    "# Preprocessing"
   ]
  },
  {
   "cell_type": "code",
   "execution_count": 37,
   "id": "712c5d56",
   "metadata": {
    "colab": {
     "base_uri": "https://localhost:8080/"
    },
    "id": "712c5d56",
    "outputId": "8f8e20ff-b8cb-4fba-808e-57c38335014c"
   },
   "outputs": [
    {
     "data": {
      "text/plain": [
       "0"
      ]
     },
     "execution_count": 37,
     "metadata": {},
     "output_type": "execute_result"
    }
   ],
   "source": [
    "# check for duplicates\n",
    "df.is_duplicated().sum()"
   ]
  },
  {
   "cell_type": "markdown",
   "id": "d343c239",
   "metadata": {
    "id": "d343c239"
   },
   "source": [
    "## Removing Nulls"
   ]
  },
  {
   "cell_type": "code",
   "execution_count": 38,
   "id": "c5190deb",
   "metadata": {
    "colab": {
     "base_uri": "https://localhost:8080/",
     "height": 129
    },
    "id": "c5190deb",
    "outputId": "cd0df9e8-dd1a-4a7e-9b86-713eaad52d9b"
   },
   "outputs": [
    {
     "data": {
      "text/html": [
       "<div><style>\n",
       ".dataframe > thead > tr > th,\n",
       ".dataframe > tbody > tr > td {\n",
       "  text-align: right;\n",
       "}\n",
       "</style>\n",
       "<small>shape: (1, 16)</small><table border=\"1\" class=\"dataframe\"><thead><tr><th></th><th>title</th><th>year</th><th>certificate</th><th>genre</th><th>time</th><th>rating</th><th>rate</th><th>synopsis</th><th>content</th><th>director</th><th>actor 1</th><th>actor 2</th><th>actor 3</th><th>actor 4</th><th>votes</th></tr><tr><td>u32</td><td>u32</td><td>u32</td><td>u32</td><td>u32</td><td>u32</td><td>u32</td><td>u32</td><td>u32</td><td>u32</td><td>u32</td><td>u32</td><td>u32</td><td>u32</td><td>u32</td><td>u32</td></tr></thead><tbody><tr><td>0</td><td>1</td><td>40116</td><td>212389</td><td>0</td><td>81102</td><td>101028</td><td>46165</td><td>0</td><td>5</td><td>16081</td><td>31625</td><td>39024</td><td>45543</td><td>55273</td><td>100973</td></tr></tbody></table></div>"
      ],
      "text/plain": [
       "shape: (1, 16)\n",
       "┌─────┬───────┬───────┬─────────────┬───┬─────────┬─────────┬─────────┬────────┐\n",
       "│     ┆ title ┆ year  ┆ certificate ┆ … ┆ actor 2 ┆ actor 3 ┆ actor 4 ┆ votes  │\n",
       "│ --- ┆ ---   ┆ ---   ┆ ---         ┆   ┆ ---     ┆ ---     ┆ ---     ┆ ---    │\n",
       "│ u32 ┆ u32   ┆ u32   ┆ u32         ┆   ┆ u32     ┆ u32     ┆ u32     ┆ u32    │\n",
       "╞═════╪═══════╪═══════╪═════════════╪═══╪═════════╪═════════╪═════════╪════════╡\n",
       "│ 0   ┆ 1     ┆ 40116 ┆ 212389      ┆ … ┆ 39024   ┆ 45543   ┆ 55273   ┆ 100973 │\n",
       "└─────┴───────┴───────┴─────────────┴───┴─────────┴─────────┴─────────┴────────┘"
      ]
     },
     "execution_count": 38,
     "metadata": {},
     "output_type": "execute_result"
    }
   ],
   "source": [
    "# check for nulls\n",
    "df.null_count()"
   ]
  },
  {
   "cell_type": "markdown",
   "id": "af1ada71",
   "metadata": {
    "id": "af1ada71"
   },
   "source": [
    "Here dataset sets has alot of missing values, That won't stop us from over purpose.\n",
    "\n",
    "The Most Important factor for Movie here is to have a title and synopsis. We will fill nans with space. and drop those who doesn't have title or synopsis."
   ]
  },
  {
   "cell_type": "code",
   "execution_count": 39,
   "id": "8bTvOLsozoNd",
   "metadata": {
    "colab": {
     "base_uri": "https://localhost:8080/"
    },
    "id": "8bTvOLsozoNd",
    "outputId": "61b93923-54a9-40b4-f863-9e0a12ac83a8"
   },
   "outputs": [
    {
     "data": {
      "text/plain": [
       "(285341, 16)"
      ]
     },
     "execution_count": 39,
     "metadata": {},
     "output_type": "execute_result"
    }
   ],
   "source": [
    "df.shape"
   ]
  },
  {
   "cell_type": "code",
   "execution_count": 40,
   "id": "9a9f237d",
   "metadata": {
    "id": "9a9f237d"
   },
   "outputs": [],
   "source": [
    "# movie index with no title\n",
    "df = df.drop_nulls(subset=[\"title\"])"
   ]
  },
  {
   "cell_type": "code",
   "execution_count": 41,
   "id": "buTaolkO0lKR",
   "metadata": {
    "colab": {
     "base_uri": "https://localhost:8080/"
    },
    "id": "buTaolkO0lKR",
    "outputId": "099caf0b-eaa6-4d13-82cc-fe988b455023"
   },
   "outputs": [
    {
     "data": {
      "text/plain": [
       "(285340, 16)"
      ]
     },
     "execution_count": 41,
     "metadata": {},
     "output_type": "execute_result"
    }
   ],
   "source": [
    "df.shape"
   ]
  },
  {
   "cell_type": "markdown",
   "id": "9f595d6d",
   "metadata": {
    "id": "9f595d6d"
   },
   "source": [
    "## Dropping Columns"
   ]
  },
  {
   "cell_type": "markdown",
   "id": "hCX-EKqtXIg8",
   "metadata": {
    "id": "hCX-EKqtXIg8"
   },
   "source": [
    "Content column only contains 4 actors name and director's name  which we already have as columns, so dropping it"
   ]
  },
  {
   "cell_type": "code",
   "execution_count": 42,
   "id": "c832caf7",
   "metadata": {
    "id": "c832caf7"
   },
   "outputs": [],
   "source": [
    "#dropping columns\n",
    "df = df.drop(['rate', 'content', ''])"
   ]
  },
  {
   "cell_type": "code",
   "execution_count": 43,
   "id": "Nwc7jK4s3BqN",
   "metadata": {
    "colab": {
     "base_uri": "https://localhost:8080/"
    },
    "id": "Nwc7jK4s3BqN",
    "outputId": "9af69dff-1ec3-49d3-edb3-00be18f815ac"
   },
   "outputs": [
    {
     "data": {
      "text/plain": [
       "(285340, 13)"
      ]
     },
     "execution_count": 43,
     "metadata": {},
     "output_type": "execute_result"
    }
   ],
   "source": [
    "df.shape"
   ]
  },
  {
   "cell_type": "markdown",
   "id": "45a6c925",
   "metadata": {
    "id": "45a6c925"
   },
   "source": [
    "## Column preprocessing"
   ]
  },
  {
   "cell_type": "code",
   "execution_count": 44,
   "id": "6e5b5498-b2a1-4257-8858-1ac9a1a3a70f",
   "metadata": {},
   "outputs": [],
   "source": [
    "def remove_newline_chars(text):\n",
    "    \"\"\"Removes `\\n` characters from a text string.\"\"\"\n",
    "    text_str = re.sub(r\"\\n\", \"\", text)\n",
    "    return text_str\n",
    "\n",
    "def remove_punctuations(text):\n",
    "    text = str(text).lower()\n",
    "    text = text.translate(str.maketrans(\"\", \"\", string.punctuation))\n",
    "    text = text.strip()\n",
    "    return text\n",
    "\n",
    "def join_names(text):\n",
    "    text = str(text).lower()\n",
    "    text = text.translate(str.maketrans(\"\", \"\", string.punctuation))\n",
    "    text = text.replace(' ','')\n",
    "    text = text.strip()\n",
    "    return text"
   ]
  },
  {
   "cell_type": "code",
   "execution_count": 45,
   "id": "1589edc3-9185-4b6f-b6cb-aac286cf40a8",
   "metadata": {},
   "outputs": [
    {
     "data": {
      "text/plain": [
       "'heloo  9093gg'"
      ]
     },
     "execution_count": 45,
     "metadata": {},
     "output_type": "execute_result"
    }
   ],
   "source": [
    "a = 'heloo  909)(*)()(&3gg '\n",
    "remove_punctuations(a)"
   ]
  },
  {
   "cell_type": "code",
   "execution_count": 46,
   "id": "8f121bb7",
   "metadata": {
    "id": "8f121bb7"
   },
   "outputs": [],
   "source": [
    "# Movies doesn't have any id, we will create id\n",
    "df= df.with_columns([\n",
    "    pl.Series(name=\"movies_id\", values=range(len(df)))\n",
    "])"
   ]
  },
  {
   "cell_type": "code",
   "execution_count": 47,
   "id": "b21d76cc",
   "metadata": {
    "id": "b21d76cc"
   },
   "outputs": [],
   "source": [
    "# cleaning number columns\n",
    "df = df.with_columns([\n",
    "    pl.col('year').str.replace_all(r'[^0-9]', '').alias('year'),\n",
    "    pl.col('time').str.replace_all(r'[^0-9]', '').alias('time'),\n",
    "    pl.col('votes').str.replace_all(r'[^0-9]', '').alias('votes'),\n",
    "])"
   ]
  },
  {
   "cell_type": "code",
   "execution_count": 48,
   "id": "1eb90b58-59b7-426a-a2ce-65717b9a8976",
   "metadata": {
    "id": "1eb90b58-59b7-426a-a2ce-65717b9a8976"
   },
   "outputs": [],
   "source": [
    "# filling 0 inplace of Nans, in votes number column (we need this for popular movies)\n",
    "df = df.with_columns(pl.col('votes').fill_null('0'))\n",
    "df = df.with_columns(pl.col('votes').cast(pl.Float64))\n",
    "df = df.with_columns(pl.col('votes').cast(pl.Int64))"
   ]
  },
  {
   "cell_type": "code",
   "execution_count": 49,
   "id": "41d7a0fb-117d-4205-b9e4-05546f87d6d5",
   "metadata": {},
   "outputs": [],
   "source": [
    "df = df.with_columns([\n",
    "    pl.col('certificate').apply(remove_punctuations),\n",
    "    pl.col('synopsis').apply(remove_punctuations),\n",
    "\n",
    "])"
   ]
  },
  {
   "cell_type": "code",
   "execution_count": 50,
   "id": "PdFfhAIl7eaD",
   "metadata": {
    "colab": {
     "base_uri": "https://localhost:8080/",
     "height": 255
    },
    "id": "PdFfhAIl7eaD",
    "outputId": "d63329f6-2072-4089-dc36-d1f70805fd9b",
    "scrolled": true
   },
   "outputs": [
    {
     "data": {
      "text/html": [
       "<div><style>\n",
       ".dataframe > thead > tr > th,\n",
       ".dataframe > tbody > tr > td {\n",
       "  text-align: right;\n",
       "}\n",
       "</style>\n",
       "<small>shape: (5, 14)</small><table border=\"1\" class=\"dataframe\"><thead><tr><th>title</th><th>year</th><th>certificate</th><th>genre</th><th>time</th><th>rating</th><th>synopsis</th><th>director</th><th>actor 1</th><th>actor 2</th><th>actor 3</th><th>actor 4</th><th>votes</th><th>movies_id</th></tr><tr><td>str</td><td>str</td><td>str</td><td>str</td><td>str</td><td>f64</td><td>str</td><td>str</td><td>str</td><td>str</td><td>str</td><td>str</td><td>i64</td><td>i64</td></tr></thead><tbody><tr><td>&quot;Indiana Jones …</td><td>&quot;2023&quot;</td><td>&quot;pg13&quot;</td><td>&quot;\n",
       "Action, Adven…</td><td>&quot;154&quot;</td><td>6.9</td><td>&quot;archaeologist …</td><td>&quot;James Mangold&quot;</td><td>&quot;Harrison Ford&quot;</td><td>&quot;Phoebe Waller-…</td><td>&quot;Antonio Bander…</td><td>&quot;Karen Allen&quot;</td><td>41029</td><td>0</td></tr><tr><td>&quot;The Flash&quot;</td><td>&quot;2023&quot;</td><td>&quot;pg13&quot;</td><td>&quot;\n",
       "Action, Adven…</td><td>&quot;144&quot;</td><td>7.2</td><td>&quot;barry allen us…</td><td>&quot;Andy Muschiett…</td><td>&quot;Ezra Miller&quot;</td><td>&quot;Michael Keaton…</td><td>&quot;Sasha Calle&quot;</td><td>&quot;Michael Shanno…</td><td>80814</td><td>1</td></tr><tr><td>&quot;Spider-Man: Ac…</td><td>&quot;2023&quot;</td><td>&quot;pg&quot;</td><td>&quot;\n",
       "Animation, Ac…</td><td>&quot;140&quot;</td><td>8.9</td><td>&quot;miles morales …</td><td>&quot;Joaquim Dos Sa…</td><td>&quot;Kemp Powers&quot;</td><td>&quot;Justin K. Thom…</td><td>&quot;Shameik Moore&quot;</td><td>&quot;Hailee Steinfe…</td><td>168355</td><td>2</td></tr><tr><td>&quot;Extraction II&quot;</td><td>&quot;2023&quot;</td><td>&quot;r&quot;</td><td>&quot;\n",
       "Action, Thril…</td><td>&quot;122&quot;</td><td>7.1</td><td>&quot;after barely s…</td><td>&quot;Sam Hargrave&quot;</td><td>&quot;Chris Hemswort…</td><td>&quot;Golshifteh Far…</td><td>&quot;Adam Bessa&quot;</td><td>&quot;Tornike Gogric…</td><td>81123</td><td>3</td></tr><tr><td>&quot;Avatar: The Wa…</td><td>&quot;2022&quot;</td><td>&quot;pg13&quot;</td><td>&quot;\n",
       "Action, Adven…</td><td>&quot;192&quot;</td><td>7.6</td><td>&quot;jake sully liv…</td><td>&quot;James Cameron&quot;</td><td>&quot;Sam Worthingto…</td><td>&quot;Zoe Saldana&quot;</td><td>&quot;Sigourney Weav…</td><td>&quot;Stephen Lang&quot;</td><td>424931</td><td>4</td></tr></tbody></table></div>"
      ],
      "text/plain": [
       "shape: (5, 14)\n",
       "┌─────────────┬──────┬───────────┬─────────────┬───┬─────────────┬────────────┬────────┬───────────┐\n",
       "│ title       ┆ year ┆ certifica ┆ genre       ┆ … ┆ actor 3     ┆ actor 4    ┆ votes  ┆ movies_id │\n",
       "│ ---         ┆ ---  ┆ te        ┆ ---         ┆   ┆ ---         ┆ ---        ┆ ---    ┆ ---       │\n",
       "│ str         ┆ str  ┆ ---       ┆ str         ┆   ┆ str         ┆ str        ┆ i64    ┆ i64       │\n",
       "│             ┆      ┆ str       ┆             ┆   ┆             ┆            ┆        ┆           │\n",
       "╞═════════════╪══════╪═══════════╪═════════════╪═══╪═════════════╪════════════╪════════╪═══════════╡\n",
       "│ Indiana     ┆ 2023 ┆ pg13      ┆             ┆ … ┆ Antonio     ┆ Karen      ┆ 41029  ┆ 0         │\n",
       "│ Jones and   ┆      ┆           ┆ Action,     ┆   ┆ Banderas    ┆ Allen      ┆        ┆           │\n",
       "│ the Dial of ┆      ┆           ┆ Adventure   ┆   ┆             ┆            ┆        ┆           │\n",
       "│ De…         ┆      ┆           ┆             ┆   ┆             ┆            ┆        ┆           │\n",
       "│ The Flash   ┆ 2023 ┆ pg13      ┆             ┆ … ┆ Sasha Calle ┆ Michael    ┆ 80814  ┆ 1         │\n",
       "│             ┆      ┆           ┆ Action,     ┆   ┆             ┆ Shannon    ┆        ┆           │\n",
       "│             ┆      ┆           ┆ Adventure,  ┆   ┆             ┆            ┆        ┆           │\n",
       "│             ┆      ┆           ┆ Fantasy     ┆   ┆             ┆            ┆        ┆           │\n",
       "│             ┆      ┆           ┆ …           ┆   ┆             ┆            ┆        ┆           │\n",
       "│ Spider-Man: ┆ 2023 ┆ pg        ┆             ┆ … ┆ Shameik     ┆ Hailee     ┆ 168355 ┆ 2         │\n",
       "│ Across the  ┆      ┆           ┆ Animation,  ┆   ┆ Moore       ┆ Steinfeld  ┆        ┆           │\n",
       "│ Spider-Ve…  ┆      ┆           ┆ Action,     ┆   ┆             ┆            ┆        ┆           │\n",
       "│             ┆      ┆           ┆ Adventure   ┆   ┆             ┆            ┆        ┆           │\n",
       "│             ┆      ┆           ┆ …           ┆   ┆             ┆            ┆        ┆           │\n",
       "│ Extraction  ┆ 2023 ┆ r         ┆             ┆ … ┆ Adam Bessa  ┆ Tornike    ┆ 81123  ┆ 3         │\n",
       "│ II          ┆      ┆           ┆ Action,     ┆   ┆             ┆ Gogrichian ┆        ┆           │\n",
       "│             ┆      ┆           ┆ Thriller    ┆   ┆             ┆ i          ┆        ┆           │\n",
       "│ Avatar: The ┆ 2022 ┆ pg13      ┆             ┆ … ┆ Sigourney   ┆ Stephen    ┆ 424931 ┆ 4         │\n",
       "│ Way of      ┆      ┆           ┆ Action,     ┆   ┆ Weaver      ┆ Lang       ┆        ┆           │\n",
       "│ Water       ┆      ┆           ┆ Adventure,  ┆   ┆             ┆            ┆        ┆           │\n",
       "│             ┆      ┆           ┆ Fantasy     ┆   ┆             ┆            ┆        ┆           │\n",
       "│             ┆      ┆           ┆ …           ┆   ┆             ┆            ┆        ┆           │\n",
       "└─────────────┴──────┴───────────┴─────────────┴───┴─────────────┴────────────┴────────┴───────────┘"
      ]
     },
     "execution_count": 50,
     "metadata": {},
     "output_type": "execute_result"
    }
   ],
   "source": [
    "df.head()"
   ]
  },
  {
   "cell_type": "code",
   "execution_count": null,
   "id": "531b8c75-fde6-4630-8ef1-eab7482659ec",
   "metadata": {
    "id": "531b8c75-fde6-4630-8ef1-eab7482659ec"
   },
   "outputs": [],
   "source": []
  },
  {
   "cell_type": "code",
   "execution_count": 51,
   "id": "ce5cb2d7-36ab-4283-bf18-f56a3204d1e1",
   "metadata": {
    "id": "ce5cb2d7-36ab-4283-bf18-f56a3204d1e1"
   },
   "outputs": [],
   "source": [
    "# filling 0 inplace of Nans, in votes number column (we need this for popular movies)\n",
    "# df['year'] = pd.to_numeric(df['year'] )\n",
    "# df['year']=df.year.fillna(0)\n",
    "# df['year'] = df['year'].astype('int')\n",
    "\n",
    "df = df.with_columns(pl.col('year').fill_null(0))\n",
    "df = df.with_columns(pl.col('year').str.replace('', 0))\n",
    "df = df.with_columns(pl.col('year').cast(pl.Float64))\n",
    "df = df.with_columns(pl.col('year').cast(pl.Int64))"
   ]
  },
  {
   "cell_type": "code",
   "execution_count": 52,
   "id": "02be64a1-027f-481a-ab8c-81a8f67a9303",
   "metadata": {},
   "outputs": [],
   "source": [
    "df = df.with_columns(pl.col('rating').fill_null(0))\n",
    "df = df.with_columns(pl.col('rating').str.replace('', 0))\n",
    "df = df.with_columns(pl.col('rating').cast(pl.Float64))"
   ]
  },
  {
   "cell_type": "code",
   "execution_count": 53,
   "id": "959ab545-9bd2-46d9-badd-e9f7c74a1b9f",
   "metadata": {},
   "outputs": [],
   "source": [
    "df = df.with_columns(pl.col('time').fill_null(100))\n",
    "df = df.with_columns(pl.col('time').str.replace('', 0))\n",
    "df = df.with_columns(pl.col('time').cast(pl.Int64))"
   ]
  },
  {
   "cell_type": "code",
   "execution_count": 54,
   "id": "96d45a56-9cf7-4e54-a3fa-0ba03281ef8f",
   "metadata": {},
   "outputs": [
    {
     "data": {
      "text/html": [
       "<div><style>\n",
       ".dataframe > thead > tr > th,\n",
       ".dataframe > tbody > tr > td {\n",
       "  text-align: right;\n",
       "}\n",
       "</style>\n",
       "<small>shape: (1, 14)</small><table border=\"1\" class=\"dataframe\"><thead><tr><th>title</th><th>year</th><th>certificate</th><th>genre</th><th>time</th><th>rating</th><th>synopsis</th><th>director</th><th>actor 1</th><th>actor 2</th><th>actor 3</th><th>actor 4</th><th>votes</th><th>movies_id</th></tr><tr><td>u32</td><td>u32</td><td>u32</td><td>u32</td><td>u32</td><td>u32</td><td>u32</td><td>u32</td><td>u32</td><td>u32</td><td>u32</td><td>u32</td><td>u32</td><td>u32</td></tr></thead><tbody><tr><td>0</td><td>0</td><td>212388</td><td>0</td><td>0</td><td>0</td><td>0</td><td>16081</td><td>31625</td><td>39024</td><td>45543</td><td>55273</td><td>0</td><td>0</td></tr></tbody></table></div>"
      ],
      "text/plain": [
       "shape: (1, 14)\n",
       "┌───────┬──────┬─────────────┬───────┬───┬─────────┬─────────┬───────┬───────────┐\n",
       "│ title ┆ year ┆ certificate ┆ genre ┆ … ┆ actor 3 ┆ actor 4 ┆ votes ┆ movies_id │\n",
       "│ ---   ┆ ---  ┆ ---         ┆ ---   ┆   ┆ ---     ┆ ---     ┆ ---   ┆ ---       │\n",
       "│ u32   ┆ u32  ┆ u32         ┆ u32   ┆   ┆ u32     ┆ u32     ┆ u32   ┆ u32       │\n",
       "╞═══════╪══════╪═════════════╪═══════╪═══╪═════════╪═════════╪═══════╪═══════════╡\n",
       "│ 0     ┆ 0    ┆ 212388      ┆ 0     ┆ … ┆ 45543   ┆ 55273   ┆ 0     ┆ 0         │\n",
       "└───────┴──────┴─────────────┴───────┴───┴─────────┴─────────┴───────┴───────────┘"
      ]
     },
     "execution_count": 54,
     "metadata": {},
     "output_type": "execute_result"
    }
   ],
   "source": [
    "df.null_count()"
   ]
  },
  {
   "cell_type": "code",
   "execution_count": null,
   "id": "242751fa-5d56-4e18-948f-35d0c95dae74",
   "metadata": {},
   "outputs": [],
   "source": []
  },
  {
   "cell_type": "code",
   "execution_count": 55,
   "id": "ad64fdcc-64a6-4b01-a089-4e02579b3eb8",
   "metadata": {
    "scrolled": true
   },
   "outputs": [
    {
     "data": {
      "text/html": [
       "<div><style>\n",
       ".dataframe > thead > tr > th,\n",
       ".dataframe > tbody > tr > td {\n",
       "  text-align: right;\n",
       "}\n",
       "</style>\n",
       "<small>shape: (5, 14)</small><table border=\"1\" class=\"dataframe\"><thead><tr><th>title</th><th>year</th><th>certificate</th><th>genre</th><th>time</th><th>rating</th><th>synopsis</th><th>director</th><th>actor 1</th><th>actor 2</th><th>actor 3</th><th>actor 4</th><th>votes</th><th>movies_id</th></tr><tr><td>str</td><td>i64</td><td>str</td><td>str</td><td>i64</td><td>f64</td><td>str</td><td>str</td><td>str</td><td>str</td><td>str</td><td>str</td><td>i64</td><td>i64</td></tr></thead><tbody><tr><td>&quot;Indiana Jones …</td><td>2023</td><td>&quot;pg13&quot;</td><td>&quot;\n",
       "Action, Adven…</td><td>154</td><td>6.9</td><td>&quot;archaeologist …</td><td>&quot;James Mangold&quot;</td><td>&quot;Harrison Ford&quot;</td><td>&quot;Phoebe Waller-…</td><td>&quot;Antonio Bander…</td><td>&quot;Karen Allen&quot;</td><td>41029</td><td>0</td></tr><tr><td>&quot;The Flash&quot;</td><td>2023</td><td>&quot;pg13&quot;</td><td>&quot;\n",
       "Action, Adven…</td><td>144</td><td>7.2</td><td>&quot;barry allen us…</td><td>&quot;Andy Muschiett…</td><td>&quot;Ezra Miller&quot;</td><td>&quot;Michael Keaton…</td><td>&quot;Sasha Calle&quot;</td><td>&quot;Michael Shanno…</td><td>80814</td><td>1</td></tr><tr><td>&quot;Spider-Man: Ac…</td><td>2023</td><td>&quot;pg&quot;</td><td>&quot;\n",
       "Animation, Ac…</td><td>140</td><td>8.9</td><td>&quot;miles morales …</td><td>&quot;Joaquim Dos Sa…</td><td>&quot;Kemp Powers&quot;</td><td>&quot;Justin K. Thom…</td><td>&quot;Shameik Moore&quot;</td><td>&quot;Hailee Steinfe…</td><td>168355</td><td>2</td></tr><tr><td>&quot;Extraction II&quot;</td><td>2023</td><td>&quot;r&quot;</td><td>&quot;\n",
       "Action, Thril…</td><td>122</td><td>7.1</td><td>&quot;after barely s…</td><td>&quot;Sam Hargrave&quot;</td><td>&quot;Chris Hemswort…</td><td>&quot;Golshifteh Far…</td><td>&quot;Adam Bessa&quot;</td><td>&quot;Tornike Gogric…</td><td>81123</td><td>3</td></tr><tr><td>&quot;Avatar: The Wa…</td><td>2022</td><td>&quot;pg13&quot;</td><td>&quot;\n",
       "Action, Adven…</td><td>192</td><td>7.6</td><td>&quot;jake sully liv…</td><td>&quot;James Cameron&quot;</td><td>&quot;Sam Worthingto…</td><td>&quot;Zoe Saldana&quot;</td><td>&quot;Sigourney Weav…</td><td>&quot;Stephen Lang&quot;</td><td>424931</td><td>4</td></tr></tbody></table></div>"
      ],
      "text/plain": [
       "shape: (5, 14)\n",
       "┌─────────────┬──────┬───────────┬─────────────┬───┬─────────────┬────────────┬────────┬───────────┐\n",
       "│ title       ┆ year ┆ certifica ┆ genre       ┆ … ┆ actor 3     ┆ actor 4    ┆ votes  ┆ movies_id │\n",
       "│ ---         ┆ ---  ┆ te        ┆ ---         ┆   ┆ ---         ┆ ---        ┆ ---    ┆ ---       │\n",
       "│ str         ┆ i64  ┆ ---       ┆ str         ┆   ┆ str         ┆ str        ┆ i64    ┆ i64       │\n",
       "│             ┆      ┆ str       ┆             ┆   ┆             ┆            ┆        ┆           │\n",
       "╞═════════════╪══════╪═══════════╪═════════════╪═══╪═════════════╪════════════╪════════╪═══════════╡\n",
       "│ Indiana     ┆ 2023 ┆ pg13      ┆             ┆ … ┆ Antonio     ┆ Karen      ┆ 41029  ┆ 0         │\n",
       "│ Jones and   ┆      ┆           ┆ Action,     ┆   ┆ Banderas    ┆ Allen      ┆        ┆           │\n",
       "│ the Dial of ┆      ┆           ┆ Adventure   ┆   ┆             ┆            ┆        ┆           │\n",
       "│ De…         ┆      ┆           ┆             ┆   ┆             ┆            ┆        ┆           │\n",
       "│ The Flash   ┆ 2023 ┆ pg13      ┆             ┆ … ┆ Sasha Calle ┆ Michael    ┆ 80814  ┆ 1         │\n",
       "│             ┆      ┆           ┆ Action,     ┆   ┆             ┆ Shannon    ┆        ┆           │\n",
       "│             ┆      ┆           ┆ Adventure,  ┆   ┆             ┆            ┆        ┆           │\n",
       "│             ┆      ┆           ┆ Fantasy     ┆   ┆             ┆            ┆        ┆           │\n",
       "│             ┆      ┆           ┆ …           ┆   ┆             ┆            ┆        ┆           │\n",
       "│ Spider-Man: ┆ 2023 ┆ pg        ┆             ┆ … ┆ Shameik     ┆ Hailee     ┆ 168355 ┆ 2         │\n",
       "│ Across the  ┆      ┆           ┆ Animation,  ┆   ┆ Moore       ┆ Steinfeld  ┆        ┆           │\n",
       "│ Spider-Ve…  ┆      ┆           ┆ Action,     ┆   ┆             ┆            ┆        ┆           │\n",
       "│             ┆      ┆           ┆ Adventure   ┆   ┆             ┆            ┆        ┆           │\n",
       "│             ┆      ┆           ┆ …           ┆   ┆             ┆            ┆        ┆           │\n",
       "│ Extraction  ┆ 2023 ┆ r         ┆             ┆ … ┆ Adam Bessa  ┆ Tornike    ┆ 81123  ┆ 3         │\n",
       "│ II          ┆      ┆           ┆ Action,     ┆   ┆             ┆ Gogrichian ┆        ┆           │\n",
       "│             ┆      ┆           ┆ Thriller    ┆   ┆             ┆ i          ┆        ┆           │\n",
       "│ Avatar: The ┆ 2022 ┆ pg13      ┆             ┆ … ┆ Sigourney   ┆ Stephen    ┆ 424931 ┆ 4         │\n",
       "│ Way of      ┆      ┆           ┆ Action,     ┆   ┆ Weaver      ┆ Lang       ┆        ┆           │\n",
       "│ Water       ┆      ┆           ┆ Adventure,  ┆   ┆             ┆            ┆        ┆           │\n",
       "│             ┆      ┆           ┆ Fantasy     ┆   ┆             ┆            ┆        ┆           │\n",
       "│             ┆      ┆           ┆ …           ┆   ┆             ┆            ┆        ┆           │\n",
       "└─────────────┴──────┴───────────┴─────────────┴───┴─────────────┴────────────┴────────┴───────────┘"
      ]
     },
     "execution_count": 55,
     "metadata": {},
     "output_type": "execute_result"
    }
   ],
   "source": [
    "df.head()"
   ]
  },
  {
   "cell_type": "code",
   "execution_count": null,
   "id": "f6553a37",
   "metadata": {
    "id": "f6553a37"
   },
   "outputs": [],
   "source": []
  },
  {
   "cell_type": "code",
   "execution_count": 56,
   "id": "fd41fd10",
   "metadata": {
    "id": "fd41fd10",
    "scrolled": true
   },
   "outputs": [],
   "source": [
    "# df[\"genre\"] = df[\"genre\"].apply(remove_newline_chars)\n",
    "# df[\"synopsis\"] = df[\"synopsis\"].apply(remove_newline_chars)\n",
    "\n",
    "\n",
    "df = df.with_columns([\n",
    "    pl.col('genre').apply(remove_newline_chars),\n",
    "    pl.col('synopsis').apply(remove_newline_chars)\n",
    "])"
   ]
  },
  {
   "cell_type": "code",
   "execution_count": 57,
   "id": "b8e3da9b",
   "metadata": {
    "colab": {
     "base_uri": "https://localhost:8080/",
     "height": 255
    },
    "id": "b8e3da9b",
    "outputId": "55fa40c4-bad3-4826-aa36-30c1e8efe8a9"
   },
   "outputs": [
    {
     "data": {
      "text/html": [
       "<div><style>\n",
       ".dataframe > thead > tr > th,\n",
       ".dataframe > tbody > tr > td {\n",
       "  text-align: right;\n",
       "}\n",
       "</style>\n",
       "<small>shape: (5, 14)</small><table border=\"1\" class=\"dataframe\"><thead><tr><th>title</th><th>year</th><th>certificate</th><th>genre</th><th>time</th><th>rating</th><th>synopsis</th><th>director</th><th>actor 1</th><th>actor 2</th><th>actor 3</th><th>actor 4</th><th>votes</th><th>movies_id</th></tr><tr><td>str</td><td>i64</td><td>str</td><td>str</td><td>i64</td><td>f64</td><td>str</td><td>str</td><td>str</td><td>str</td><td>str</td><td>str</td><td>i64</td><td>i64</td></tr></thead><tbody><tr><td>&quot;Indiana Jones …</td><td>2023</td><td>&quot;pg13&quot;</td><td>&quot;Action, Advent…</td><td>154</td><td>6.9</td><td>&quot;archaeologist …</td><td>&quot;James Mangold&quot;</td><td>&quot;Harrison Ford&quot;</td><td>&quot;Phoebe Waller-…</td><td>&quot;Antonio Bander…</td><td>&quot;Karen Allen&quot;</td><td>41029</td><td>0</td></tr><tr><td>&quot;The Flash&quot;</td><td>2023</td><td>&quot;pg13&quot;</td><td>&quot;Action, Advent…</td><td>144</td><td>7.2</td><td>&quot;barry allen us…</td><td>&quot;Andy Muschiett…</td><td>&quot;Ezra Miller&quot;</td><td>&quot;Michael Keaton…</td><td>&quot;Sasha Calle&quot;</td><td>&quot;Michael Shanno…</td><td>80814</td><td>1</td></tr><tr><td>&quot;Spider-Man: Ac…</td><td>2023</td><td>&quot;pg&quot;</td><td>&quot;Animation, Act…</td><td>140</td><td>8.9</td><td>&quot;miles morales …</td><td>&quot;Joaquim Dos Sa…</td><td>&quot;Kemp Powers&quot;</td><td>&quot;Justin K. Thom…</td><td>&quot;Shameik Moore&quot;</td><td>&quot;Hailee Steinfe…</td><td>168355</td><td>2</td></tr><tr><td>&quot;Extraction II&quot;</td><td>2023</td><td>&quot;r&quot;</td><td>&quot;Action, Thrill…</td><td>122</td><td>7.1</td><td>&quot;after barely s…</td><td>&quot;Sam Hargrave&quot;</td><td>&quot;Chris Hemswort…</td><td>&quot;Golshifteh Far…</td><td>&quot;Adam Bessa&quot;</td><td>&quot;Tornike Gogric…</td><td>81123</td><td>3</td></tr><tr><td>&quot;Avatar: The Wa…</td><td>2022</td><td>&quot;pg13&quot;</td><td>&quot;Action, Advent…</td><td>192</td><td>7.6</td><td>&quot;jake sully liv…</td><td>&quot;James Cameron&quot;</td><td>&quot;Sam Worthingto…</td><td>&quot;Zoe Saldana&quot;</td><td>&quot;Sigourney Weav…</td><td>&quot;Stephen Lang&quot;</td><td>424931</td><td>4</td></tr></tbody></table></div>"
      ],
      "text/plain": [
       "shape: (5, 14)\n",
       "┌─────────────┬──────┬───────────┬─────────────┬───┬─────────────┬────────────┬────────┬───────────┐\n",
       "│ title       ┆ year ┆ certifica ┆ genre       ┆ … ┆ actor 3     ┆ actor 4    ┆ votes  ┆ movies_id │\n",
       "│ ---         ┆ ---  ┆ te        ┆ ---         ┆   ┆ ---         ┆ ---        ┆ ---    ┆ ---       │\n",
       "│ str         ┆ i64  ┆ ---       ┆ str         ┆   ┆ str         ┆ str        ┆ i64    ┆ i64       │\n",
       "│             ┆      ┆ str       ┆             ┆   ┆             ┆            ┆        ┆           │\n",
       "╞═════════════╪══════╪═══════════╪═════════════╪═══╪═════════════╪════════════╪════════╪═══════════╡\n",
       "│ Indiana     ┆ 2023 ┆ pg13      ┆ Action,     ┆ … ┆ Antonio     ┆ Karen      ┆ 41029  ┆ 0         │\n",
       "│ Jones and   ┆      ┆           ┆ Adventure   ┆   ┆ Banderas    ┆ Allen      ┆        ┆           │\n",
       "│ the Dial of ┆      ┆           ┆             ┆   ┆             ┆            ┆        ┆           │\n",
       "│ De…         ┆      ┆           ┆             ┆   ┆             ┆            ┆        ┆           │\n",
       "│ The Flash   ┆ 2023 ┆ pg13      ┆ Action,     ┆ … ┆ Sasha Calle ┆ Michael    ┆ 80814  ┆ 1         │\n",
       "│             ┆      ┆           ┆ Adventure,  ┆   ┆             ┆ Shannon    ┆        ┆           │\n",
       "│             ┆      ┆           ┆ Fantasy     ┆   ┆             ┆            ┆        ┆           │\n",
       "│             ┆      ┆           ┆ …           ┆   ┆             ┆            ┆        ┆           │\n",
       "│ Spider-Man: ┆ 2023 ┆ pg        ┆ Animation,  ┆ … ┆ Shameik     ┆ Hailee     ┆ 168355 ┆ 2         │\n",
       "│ Across the  ┆      ┆           ┆ Action,     ┆   ┆ Moore       ┆ Steinfeld  ┆        ┆           │\n",
       "│ Spider-Ve…  ┆      ┆           ┆ Adventure   ┆   ┆             ┆            ┆        ┆           │\n",
       "│             ┆      ┆           ┆ …           ┆   ┆             ┆            ┆        ┆           │\n",
       "│ Extraction  ┆ 2023 ┆ r         ┆ Action,     ┆ … ┆ Adam Bessa  ┆ Tornike    ┆ 81123  ┆ 3         │\n",
       "│ II          ┆      ┆           ┆ Thriller    ┆   ┆             ┆ Gogrichian ┆        ┆           │\n",
       "│             ┆      ┆           ┆             ┆   ┆             ┆ i          ┆        ┆           │\n",
       "│ Avatar: The ┆ 2022 ┆ pg13      ┆ Action,     ┆ … ┆ Sigourney   ┆ Stephen    ┆ 424931 ┆ 4         │\n",
       "│ Way of      ┆      ┆           ┆ Adventure,  ┆   ┆ Weaver      ┆ Lang       ┆        ┆           │\n",
       "│ Water       ┆      ┆           ┆ Fantasy     ┆   ┆             ┆            ┆        ┆           │\n",
       "│             ┆      ┆           ┆ …           ┆   ┆             ┆            ┆        ┆           │\n",
       "└─────────────┴──────┴───────────┴─────────────┴───┴─────────────┴────────────┴────────┴───────────┘"
      ]
     },
     "execution_count": 57,
     "metadata": {},
     "output_type": "execute_result"
    }
   ],
   "source": [
    "df.head()"
   ]
  },
  {
   "cell_type": "code",
   "execution_count": 58,
   "id": "23cb95a3-d597-412b-962d-6b8ea607d9f8",
   "metadata": {},
   "outputs": [
    {
     "data": {
      "text/plain": [
       "'Action, Adventure            '"
      ]
     },
     "execution_count": 58,
     "metadata": {},
     "output_type": "execute_result"
    }
   ],
   "source": [
    "df['genre'][0]"
   ]
  },
  {
   "cell_type": "code",
   "execution_count": 59,
   "id": "2Uw0DWQ9XUTf",
   "metadata": {
    "id": "2Uw0DWQ9XUTf"
   },
   "outputs": [],
   "source": [
    "#removing space bw name and surname"
   ]
  },
  {
   "cell_type": "code",
   "execution_count": 60,
   "id": "18843103",
   "metadata": {
    "id": "18843103"
   },
   "outputs": [],
   "source": [
    "df = df.with_columns([\n",
    "    pl.col('director').apply(join_names),\n",
    "    pl.col('actor 1' ).apply(join_names),\n",
    "    pl.col('actor 2' ).apply(join_names),\n",
    "    pl.col('actor 3' ).apply(join_names),\n",
    "    pl.col('actor 4' ).apply(join_names),\n",
    "    pl.col('genre'   ).str.replace(' ', ''),\n",
    "])\n",
    "\n",
    "df= df.with_columns(pl.col('genre'   ).str.replace(',', ', '))"
   ]
  },
  {
   "cell_type": "code",
   "execution_count": 61,
   "id": "46cc1b70",
   "metadata": {
    "colab": {
     "base_uri": "https://localhost:8080/",
     "height": 255
    },
    "id": "46cc1b70",
    "outputId": "db9d6b07-6d81-44f2-d4cb-8eb4329c2256",
    "scrolled": true
   },
   "outputs": [
    {
     "data": {
      "text/html": [
       "<div><style>\n",
       ".dataframe > thead > tr > th,\n",
       ".dataframe > tbody > tr > td {\n",
       "  text-align: right;\n",
       "}\n",
       "</style>\n",
       "<small>shape: (5, 14)</small><table border=\"1\" class=\"dataframe\"><thead><tr><th>title</th><th>year</th><th>certificate</th><th>genre</th><th>time</th><th>rating</th><th>synopsis</th><th>director</th><th>actor 1</th><th>actor 2</th><th>actor 3</th><th>actor 4</th><th>votes</th><th>movies_id</th></tr><tr><td>str</td><td>i64</td><td>str</td><td>str</td><td>i64</td><td>f64</td><td>str</td><td>str</td><td>str</td><td>str</td><td>str</td><td>str</td><td>i64</td><td>i64</td></tr></thead><tbody><tr><td>&quot;Indiana Jones …</td><td>2023</td><td>&quot;pg13&quot;</td><td>&quot;Action, Advent…</td><td>154</td><td>6.9</td><td>&quot;archaeologist …</td><td>&quot;jamesmangold&quot;</td><td>&quot;harrisonford&quot;</td><td>&quot;phoebewallerbr…</td><td>&quot;antoniobandera…</td><td>&quot;karenallen&quot;</td><td>41029</td><td>0</td></tr><tr><td>&quot;The Flash&quot;</td><td>2023</td><td>&quot;pg13&quot;</td><td>&quot;Action, Advent…</td><td>144</td><td>7.2</td><td>&quot;barry allen us…</td><td>&quot;andymuschietti…</td><td>&quot;ezramiller&quot;</td><td>&quot;michaelkeaton&quot;</td><td>&quot;sashacalle&quot;</td><td>&quot;michaelshannon…</td><td>80814</td><td>1</td></tr><tr><td>&quot;Spider-Man: Ac…</td><td>2023</td><td>&quot;pg&quot;</td><td>&quot;Animation, Act…</td><td>140</td><td>8.9</td><td>&quot;miles morales …</td><td>&quot;joaquimdossant…</td><td>&quot;kemppowers&quot;</td><td>&quot;justinkthompso…</td><td>&quot;shameikmoore&quot;</td><td>&quot;haileesteinfel…</td><td>168355</td><td>2</td></tr><tr><td>&quot;Extraction II&quot;</td><td>2023</td><td>&quot;r&quot;</td><td>&quot;Action, Thrill…</td><td>122</td><td>7.1</td><td>&quot;after barely s…</td><td>&quot;samhargrave&quot;</td><td>&quot;chrishemsworth…</td><td>&quot;golshiftehfara…</td><td>&quot;adambessa&quot;</td><td>&quot;tornikegogrich…</td><td>81123</td><td>3</td></tr><tr><td>&quot;Avatar: The Wa…</td><td>2022</td><td>&quot;pg13&quot;</td><td>&quot;Action, Advent…</td><td>192</td><td>7.6</td><td>&quot;jake sully liv…</td><td>&quot;jamescameron&quot;</td><td>&quot;samworthington…</td><td>&quot;zoesaldana&quot;</td><td>&quot;sigourneyweave…</td><td>&quot;stephenlang&quot;</td><td>424931</td><td>4</td></tr></tbody></table></div>"
      ],
      "text/plain": [
       "shape: (5, 14)\n",
       "┌─────────────┬──────┬───────────┬─────────────┬───┬─────────────┬────────────┬────────┬───────────┐\n",
       "│ title       ┆ year ┆ certifica ┆ genre       ┆ … ┆ actor 3     ┆ actor 4    ┆ votes  ┆ movies_id │\n",
       "│ ---         ┆ ---  ┆ te        ┆ ---         ┆   ┆ ---         ┆ ---        ┆ ---    ┆ ---       │\n",
       "│ str         ┆ i64  ┆ ---       ┆ str         ┆   ┆ str         ┆ str        ┆ i64    ┆ i64       │\n",
       "│             ┆      ┆ str       ┆             ┆   ┆             ┆            ┆        ┆           │\n",
       "╞═════════════╪══════╪═══════════╪═════════════╪═══╪═════════════╪════════════╪════════╪═══════════╡\n",
       "│ Indiana     ┆ 2023 ┆ pg13      ┆ Action,     ┆ … ┆ antonioband ┆ karenallen ┆ 41029  ┆ 0         │\n",
       "│ Jones and   ┆      ┆           ┆ Adventure   ┆   ┆ eras        ┆            ┆        ┆           │\n",
       "│ the Dial of ┆      ┆           ┆             ┆   ┆             ┆            ┆        ┆           │\n",
       "│ De…         ┆      ┆           ┆             ┆   ┆             ┆            ┆        ┆           │\n",
       "│ The Flash   ┆ 2023 ┆ pg13      ┆ Action,     ┆ … ┆ sashacalle  ┆ michaelsha ┆ 80814  ┆ 1         │\n",
       "│             ┆      ┆           ┆ Adventure,  ┆   ┆             ┆ nnon       ┆        ┆           │\n",
       "│             ┆      ┆           ┆ Fantasy     ┆   ┆             ┆            ┆        ┆           │\n",
       "│             ┆      ┆           ┆ …           ┆   ┆             ┆            ┆        ┆           │\n",
       "│ Spider-Man: ┆ 2023 ┆ pg        ┆ Animation,  ┆ … ┆ shameikmoor ┆ haileestei ┆ 168355 ┆ 2         │\n",
       "│ Across the  ┆      ┆           ┆ Action,     ┆   ┆ e           ┆ nfeld      ┆        ┆           │\n",
       "│ Spider-Ve…  ┆      ┆           ┆ Adventure   ┆   ┆             ┆            ┆        ┆           │\n",
       "│             ┆      ┆           ┆ …           ┆   ┆             ┆            ┆        ┆           │\n",
       "│ Extraction  ┆ 2023 ┆ r         ┆ Action,     ┆ … ┆ adambessa   ┆ tornikegog ┆ 81123  ┆ 3         │\n",
       "│ II          ┆      ┆           ┆ Thriller    ┆   ┆             ┆ richiani   ┆        ┆           │\n",
       "│ Avatar: The ┆ 2022 ┆ pg13      ┆ Action,     ┆ … ┆ sigourneywe ┆ stephenlan ┆ 424931 ┆ 4         │\n",
       "│ Way of      ┆      ┆           ┆ Adventure,  ┆   ┆ aver        ┆ g          ┆        ┆           │\n",
       "│ Water       ┆      ┆           ┆ Fantasy     ┆   ┆             ┆            ┆        ┆           │\n",
       "│             ┆      ┆           ┆ …           ┆   ┆             ┆            ┆        ┆           │\n",
       "└─────────────┴──────┴───────────┴─────────────┴───┴─────────────┴────────────┴────────┴───────────┘"
      ]
     },
     "execution_count": 61,
     "metadata": {},
     "output_type": "execute_result"
    }
   ],
   "source": [
    "df.head()"
   ]
  },
  {
   "cell_type": "markdown",
   "id": "8ba35865-79fe-41eb-9d74-c642527f5caa",
   "metadata": {
    "id": "8ba35865-79fe-41eb-9d74-c642527f5caa"
   },
   "source": [
    "## Joining Names and SUrnames"
   ]
  },
  {
   "cell_type": "code",
   "execution_count": null,
   "id": "Uo29bsDNIPVM",
   "metadata": {
    "colab": {
     "base_uri": "https://localhost:8080/",
     "height": 35
    },
    "id": "Uo29bsDNIPVM",
    "outputId": "dd687b40-aaaa-4000-d947-85d551ce916d"
   },
   "outputs": [
    {
     "data": {
      "application/vnd.google.colaboratory.intrinsic+json": {
       "type": "string"
      },
      "text/plain": [
       "' I wanted to join all names in the data, but it crashes and requires more RAM,\\n'"
      ]
     },
     "execution_count": 32,
     "metadata": {},
     "output_type": "execute_result"
    }
   ],
   "source": [
    "''' I wanted to join all names in the data, but it crashes and requires more RAM,\n",
    "'''"
   ]
  },
  {
   "cell_type": "code",
   "execution_count": 63,
   "id": "950e6c6e",
   "metadata": {
    "colab": {
     "base_uri": "https://localhost:8080/"
    },
    "id": "950e6c6e",
    "outputId": "acc5d373-4a91-4591-b7f1-45ebb7525542"
   },
   "outputs": [
    {
     "name": "stdout",
     "output_type": "stream",
     "text": [
      "my name is dickgreyson and this is my girifriend harleyquinn\n"
     ]
    }
   ],
   "source": [
    "# def concatenate_names(sentence):\n",
    "#     nlp = spacy.load(\"en_core_web_lg\")\n",
    "#     ner_dict = dict()\n",
    "\n",
    "#     # Extract names from the sentence using NER\n",
    "#     doc = nlp(sentence)\n",
    "\n",
    "#     for ent in doc.ents:\n",
    "#         if ent.label_ == \"PERSON\":\n",
    "#             name = ent.text\n",
    "#             new_name = name.replace(' ','')\n",
    "#             ner_dict[name] = new_name\n",
    "\n",
    "#     # Replace names with names without spaces in the sentence\n",
    "#     for i, j in ner_dict.items():\n",
    "#         sentence = sentence.replace(i,j)\n",
    "\n",
    "#     return sentence\n",
    "\n",
    "# # Test the function\n",
    "# # sentence = \"Ryan Holiday is an author, and Ryan is famous for his books.\"\n",
    "# sentence = 'my name is dick greyson and this is my girifriend harley quinn'\n",
    "# result = concatenate_names(sentence)\n",
    "# print(result)\n"
   ]
  },
  {
   "cell_type": "code",
   "execution_count": null,
   "id": "13dd684c-9efb-4414-a793-7ed15ed09982",
   "metadata": {
    "id": "13dd684c-9efb-4414-a793-7ed15ed09982"
   },
   "outputs": [],
   "source": [
    "# all_synopsis = df['synopsis'].to_list()"
   ]
  },
  {
   "cell_type": "code",
   "execution_count": null,
   "id": "EXvvAb2NfM6T",
   "metadata": {
    "id": "EXvvAb2NfM6T"
   },
   "outputs": [],
   "source": [
    "# all_syn = ' <sos> '.join(all_synopsis)"
   ]
  },
  {
   "cell_type": "code",
   "execution_count": null,
   "id": "N3DqPR1fb_bA",
   "metadata": {
    "id": "N3DqPR1fb_bA"
   },
   "outputs": [],
   "source": [
    "# df  = df.with_columns(\n",
    "#     pl.col('synopsis').apply(concatenate_names).alias('new')\n",
    "# )"
   ]
  },
  {
   "cell_type": "code",
   "execution_count": null,
   "id": "ID0U9s4Xdjj1",
   "metadata": {
    "id": "ID0U9s4Xdjj1"
   },
   "outputs": [],
   "source": []
  },
  {
   "cell_type": "code",
   "execution_count": null,
   "id": "b9d4f4ca-21e7-47d7-98ba-71abbdfab269",
   "metadata": {
    "id": "b9d4f4ca-21e7-47d7-98ba-71abbdfab269"
   },
   "outputs": [],
   "source": [
    "# start_time = time.perf_counter()\n",
    "# print('Strated :',  time.strftime(\"%H:%M:%S\", time.localtime()))\n",
    "\n",
    "# with cf.ProcessPoolExecutor() as executer:\n",
    "#     dodo = [executer.submit(concatenate_names, i) for i in all_synopsis]\n",
    "#     # clean_tags = dodo.result()\n",
    "\n",
    "# print('Took: ',time.perf_counter()-start_time)\n",
    "# print('Finished :',  time.strftime(\"%H:%M:%S\", time.localtime()))\n"
   ]
  },
  {
   "cell_type": "markdown",
   "id": "1pbQ8yiOO9NO",
   "metadata": {
    "id": "1pbQ8yiOO9NO"
   },
   "source": [
    "# Create a Tag Column\n",
    "Combining all data"
   ]
  },
  {
   "cell_type": "code",
   "execution_count": 64,
   "id": "4d7cae26",
   "metadata": {
    "colab": {
     "base_uri": "https://localhost:8080/"
    },
    "id": "4d7cae26",
    "outputId": "d5d5b61e-307d-4c62-fd24-c1d2b76c00b8"
   },
   "outputs": [
    {
     "name": "stdout",
     "output_type": "stream",
     "text": [
      "<class 'pandas.core.frame.DataFrame'>\n",
      "RangeIndex: 285340 entries, 0 to 285339\n",
      "Data columns (total 14 columns):\n",
      " #   Column       Non-Null Count   Dtype  \n",
      "---  ------       --------------   -----  \n",
      " 0   title        285340 non-null  object \n",
      " 1   year         285340 non-null  int64  \n",
      " 2   certificate  72952 non-null   object \n",
      " 3   genre        285340 non-null  object \n",
      " 4   time         285340 non-null  int64  \n",
      " 5   rating       285340 non-null  float64\n",
      " 6   synopsis     285340 non-null  object \n",
      " 7   director     269259 non-null  object \n",
      " 8   actor 1      253715 non-null  object \n",
      " 9   actor 2      246316 non-null  object \n",
      " 10  actor 3      239797 non-null  object \n",
      " 11  actor 4      230067 non-null  object \n",
      " 12  votes        285340 non-null  int64  \n",
      " 13  movies_id    285340 non-null  int64  \n",
      "dtypes: float64(1), int64(4), object(9)\n",
      "memory usage: 30.5+ MB\n"
     ]
    }
   ],
   "source": [
    "df.to_pandas().info()"
   ]
  },
  {
   "cell_type": "code",
   "execution_count": 69,
   "id": "kFOqU0-CMmGK",
   "metadata": {
    "id": "kFOqU0-CMmGK"
   },
   "outputs": [],
   "source": [
    "\n",
    "# df = df.fill_nan('')\n",
    "df = df.fill_null('')\n"
   ]
  },
  {
   "cell_type": "code",
   "execution_count": 81,
   "id": "1a9JK8rDMRe3",
   "metadata": {
    "id": "1a9JK8rDMRe3"
   },
   "outputs": [],
   "source": [
    "df = df.with_columns(\n",
    "    pl.col('year').cast(pl.Utf8).alias('year_as_str'),\n",
    "    pl.col('rating').cast(pl.Utf8).alias('rating_as_str'),\n",
    "    pl.col('time').cast(pl.Utf8).alias('time_as_str')\n",
    ")"
   ]
  },
  {
   "cell_type": "code",
   "execution_count": 82,
   "id": "f4b47d08-f150-410c-a5e2-7bf95e8332fa",
   "metadata": {},
   "outputs": [
    {
     "name": "stdout",
     "output_type": "stream",
     "text": [
      "['title', 'year', 'certificate', 'genre', 'time', 'rating', 'synopsis', 'director', 'actor 1', 'actor 2', 'actor 3', 'actor 4', 'votes', 'movies_id', 'year_as_str', 'rating_as_str', 'time_as_str']\n"
     ]
    }
   ],
   "source": [
    "print(df.columns)"
   ]
  },
  {
   "cell_type": "code",
   "execution_count": 83,
   "id": "d130227e-1ce5-47bd-a8fd-b35a8ea28772",
   "metadata": {
    "id": "d130227e-1ce5-47bd-a8fd-b35a8ea28772"
   },
   "outputs": [],
   "source": [
    "cols_to_combine = ['title', 'year_as_str', 'certificate', 'genre', 'time_as_str', 'rating_as_str', 'synopsis', \n",
    "                   'director', 'actor 1', 'actor 2', 'actor 3', 'actor 4', ]"
   ]
  },
  {
   "cell_type": "code",
   "execution_count": 85,
   "id": "bb915623",
   "metadata": {
    "id": "bb915623"
   },
   "outputs": [],
   "source": [
    "df = df.with_columns(pl.Series('tags', values = df[cols_to_combine].apply(' '.join).to_series()))\n"
   ]
  },
  {
   "cell_type": "code",
   "execution_count": 86,
   "id": "b3722732",
   "metadata": {
    "colab": {
     "base_uri": "https://localhost:8080/",
     "height": 255
    },
    "id": "b3722732",
    "outputId": "2908f54c-6450-4711-ba35-82a65563dcc5"
   },
   "outputs": [
    {
     "data": {
      "text/html": [
       "<div><style>\n",
       ".dataframe > thead > tr > th,\n",
       ".dataframe > tbody > tr > td {\n",
       "  text-align: right;\n",
       "}\n",
       "</style>\n",
       "<small>shape: (5, 18)</small><table border=\"1\" class=\"dataframe\"><thead><tr><th>title</th><th>year</th><th>certificate</th><th>genre</th><th>time</th><th>rating</th><th>synopsis</th><th>director</th><th>actor 1</th><th>actor 2</th><th>actor 3</th><th>actor 4</th><th>votes</th><th>movies_id</th><th>year_as_str</th><th>rating_as_str</th><th>time_as_str</th><th>tags</th></tr><tr><td>str</td><td>i64</td><td>str</td><td>str</td><td>i64</td><td>f64</td><td>str</td><td>str</td><td>str</td><td>str</td><td>str</td><td>str</td><td>i64</td><td>i64</td><td>str</td><td>str</td><td>str</td><td>str</td></tr></thead><tbody><tr><td>&quot;Indiana Jones …</td><td>2023</td><td>&quot;pg13&quot;</td><td>&quot;Action, Advent…</td><td>154</td><td>6.9</td><td>&quot;archaeologist …</td><td>&quot;jamesmangold&quot;</td><td>&quot;harrisonford&quot;</td><td>&quot;phoebewallerbr…</td><td>&quot;antoniobandera…</td><td>&quot;karenallen&quot;</td><td>41029</td><td>0</td><td>&quot;2023&quot;</td><td>&quot;6.9&quot;</td><td>&quot;154&quot;</td><td>&quot;Indiana Jones …</td></tr><tr><td>&quot;The Flash&quot;</td><td>2023</td><td>&quot;pg13&quot;</td><td>&quot;Action, Advent…</td><td>144</td><td>7.2</td><td>&quot;barry allen us…</td><td>&quot;andymuschietti…</td><td>&quot;ezramiller&quot;</td><td>&quot;michaelkeaton&quot;</td><td>&quot;sashacalle&quot;</td><td>&quot;michaelshannon…</td><td>80814</td><td>1</td><td>&quot;2023&quot;</td><td>&quot;7.2&quot;</td><td>&quot;144&quot;</td><td>&quot;The Flash 2023…</td></tr><tr><td>&quot;Spider-Man: Ac…</td><td>2023</td><td>&quot;pg&quot;</td><td>&quot;Animation, Act…</td><td>140</td><td>8.9</td><td>&quot;miles morales …</td><td>&quot;joaquimdossant…</td><td>&quot;kemppowers&quot;</td><td>&quot;justinkthompso…</td><td>&quot;shameikmoore&quot;</td><td>&quot;haileesteinfel…</td><td>168355</td><td>2</td><td>&quot;2023&quot;</td><td>&quot;8.9&quot;</td><td>&quot;140&quot;</td><td>&quot;Spider-Man: Ac…</td></tr><tr><td>&quot;Extraction II&quot;</td><td>2023</td><td>&quot;r&quot;</td><td>&quot;Action, Thrill…</td><td>122</td><td>7.1</td><td>&quot;after barely s…</td><td>&quot;samhargrave&quot;</td><td>&quot;chrishemsworth…</td><td>&quot;golshiftehfara…</td><td>&quot;adambessa&quot;</td><td>&quot;tornikegogrich…</td><td>81123</td><td>3</td><td>&quot;2023&quot;</td><td>&quot;7.1&quot;</td><td>&quot;122&quot;</td><td>&quot;Extraction II …</td></tr><tr><td>&quot;Avatar: The Wa…</td><td>2022</td><td>&quot;pg13&quot;</td><td>&quot;Action, Advent…</td><td>192</td><td>7.6</td><td>&quot;jake sully liv…</td><td>&quot;jamescameron&quot;</td><td>&quot;samworthington…</td><td>&quot;zoesaldana&quot;</td><td>&quot;sigourneyweave…</td><td>&quot;stephenlang&quot;</td><td>424931</td><td>4</td><td>&quot;2022&quot;</td><td>&quot;7.6&quot;</td><td>&quot;192&quot;</td><td>&quot;Avatar: The Wa…</td></tr></tbody></table></div>"
      ],
      "text/plain": [
       "shape: (5, 18)\n",
       "┌────────────┬──────┬───────────┬────────────┬───┬───────────┬────────────┬───────────┬────────────┐\n",
       "│ title      ┆ year ┆ certifica ┆ genre      ┆ … ┆ year_as_s ┆ rating_as_ ┆ time_as_s ┆ tags       │\n",
       "│ ---        ┆ ---  ┆ te        ┆ ---        ┆   ┆ tr        ┆ str        ┆ tr        ┆ ---        │\n",
       "│ str        ┆ i64  ┆ ---       ┆ str        ┆   ┆ ---       ┆ ---        ┆ ---       ┆ str        │\n",
       "│            ┆      ┆ str       ┆            ┆   ┆ str       ┆ str        ┆ str       ┆            │\n",
       "╞════════════╪══════╪═══════════╪════════════╪═══╪═══════════╪════════════╪═══════════╪════════════╡\n",
       "│ Indiana    ┆ 2023 ┆ pg13      ┆ Action,    ┆ … ┆ 2023      ┆ 6.9        ┆ 154       ┆ Indiana    │\n",
       "│ Jones and  ┆      ┆           ┆ Adventure  ┆   ┆           ┆            ┆           ┆ Jones and  │\n",
       "│ the Dial   ┆      ┆           ┆            ┆   ┆           ┆            ┆           ┆ the Dial   │\n",
       "│ of De…     ┆      ┆           ┆            ┆   ┆           ┆            ┆           ┆ of De…     │\n",
       "│ The Flash  ┆ 2023 ┆ pg13      ┆ Action,    ┆ … ┆ 2023      ┆ 7.2        ┆ 144       ┆ The Flash  │\n",
       "│            ┆      ┆           ┆ Adventure, ┆   ┆           ┆            ┆           ┆ 2023 pg13  │\n",
       "│            ┆      ┆           ┆ Fantasy    ┆   ┆           ┆            ┆           ┆ Action,    │\n",
       "│            ┆      ┆           ┆ …          ┆   ┆           ┆            ┆           ┆ Adve…      │\n",
       "│ Spider-Man ┆ 2023 ┆ pg        ┆ Animation, ┆ … ┆ 2023      ┆ 8.9        ┆ 140       ┆ Spider-Man │\n",
       "│ : Across   ┆      ┆           ┆ Action,    ┆   ┆           ┆            ┆           ┆ : Across   │\n",
       "│ the        ┆      ┆           ┆ Adventure  ┆   ┆           ┆            ┆           ┆ the        │\n",
       "│ Spider-Ve… ┆      ┆           ┆ …          ┆   ┆           ┆            ┆           ┆ Spider-Ve… │\n",
       "│ Extraction ┆ 2023 ┆ r         ┆ Action,    ┆ … ┆ 2023      ┆ 7.1        ┆ 122       ┆ Extraction │\n",
       "│ II         ┆      ┆           ┆ Thriller   ┆   ┆           ┆            ┆           ┆ II 2023 r  │\n",
       "│            ┆      ┆           ┆            ┆   ┆           ┆            ┆           ┆ Action,    │\n",
       "│            ┆      ┆           ┆            ┆   ┆           ┆            ┆           ┆ Thr…       │\n",
       "│ Avatar:    ┆ 2022 ┆ pg13      ┆ Action,    ┆ … ┆ 2022      ┆ 7.6        ┆ 192       ┆ Avatar:    │\n",
       "│ The Way of ┆      ┆           ┆ Adventure, ┆   ┆           ┆            ┆           ┆ The Way of │\n",
       "│ Water      ┆      ┆           ┆ Fantasy    ┆   ┆           ┆            ┆           ┆ Water 2022 │\n",
       "│            ┆      ┆           ┆ …          ┆   ┆           ┆            ┆           ┆ pg…        │\n",
       "└────────────┴──────┴───────────┴────────────┴───┴───────────┴────────────┴───────────┴────────────┘"
      ]
     },
     "execution_count": 86,
     "metadata": {},
     "output_type": "execute_result"
    }
   ],
   "source": [
    "df.head()"
   ]
  },
  {
   "cell_type": "code",
   "execution_count": null,
   "id": "4b4d1fd6",
   "metadata": {
    "id": "4b4d1fd6"
   },
   "outputs": [],
   "source": []
  },
  {
   "cell_type": "code",
   "execution_count": 87,
   "id": "edb65125",
   "metadata": {
    "id": "edb65125"
   },
   "outputs": [],
   "source": [
    "df = df.with_columns(pl.col('tags').apply(remove_punctuations))"
   ]
  },
  {
   "cell_type": "code",
   "execution_count": 88,
   "id": "aLXVbaUzSInm",
   "metadata": {
    "id": "aLXVbaUzSInm"
   },
   "outputs": [],
   "source": [
    "# Create a PorterStemmer object\n",
    "stemmer = PorterStemmer()\n",
    "\n",
    "# Apply the stemming function to each word in the series\n",
    "df = df.with_columns(pl.col('tags').apply(stemmer.stem))\n"
   ]
  },
  {
   "cell_type": "code",
   "execution_count": 89,
   "id": "6fa4f7d3",
   "metadata": {
    "id": "6fa4f7d3"
   },
   "outputs": [],
   "source": [
    "dff = df[['title', 'movies_id', 'tags', 'votes', 'rating']]"
   ]
  },
  {
   "cell_type": "code",
   "execution_count": 90,
   "id": "1fc5f2ad",
   "metadata": {
    "colab": {
     "base_uri": "https://localhost:8080/",
     "height": 255
    },
    "id": "1fc5f2ad",
    "outputId": "2183b5ad-30fd-4ef8-ac3d-397dc833e818"
   },
   "outputs": [
    {
     "data": {
      "text/html": [
       "<div><style>\n",
       ".dataframe > thead > tr > th,\n",
       ".dataframe > tbody > tr > td {\n",
       "  text-align: right;\n",
       "}\n",
       "</style>\n",
       "<small>shape: (5, 5)</small><table border=\"1\" class=\"dataframe\"><thead><tr><th>title</th><th>movies_id</th><th>tags</th><th>votes</th><th>rating</th></tr><tr><td>str</td><td>i64</td><td>str</td><td>i64</td><td>f64</td></tr></thead><tbody><tr><td>&quot;Indiana Jones …</td><td>0</td><td>&quot;indiana jones …</td><td>41029</td><td>6.9</td></tr><tr><td>&quot;The Flash&quot;</td><td>1</td><td>&quot;the flash 2023…</td><td>80814</td><td>7.2</td></tr><tr><td>&quot;Spider-Man: Ac…</td><td>2</td><td>&quot;spiderman acro…</td><td>168355</td><td>8.9</td></tr><tr><td>&quot;Extraction II&quot;</td><td>3</td><td>&quot;extraction ii …</td><td>81123</td><td>7.1</td></tr><tr><td>&quot;Avatar: The Wa…</td><td>4</td><td>&quot;avatar the way…</td><td>424931</td><td>7.6</td></tr></tbody></table></div>"
      ],
      "text/plain": [
       "shape: (5, 5)\n",
       "┌──────────────────────────────────┬───────────┬─────────────────────────────────┬────────┬────────┐\n",
       "│ title                            ┆ movies_id ┆ tags                            ┆ votes  ┆ rating │\n",
       "│ ---                              ┆ ---       ┆ ---                             ┆ ---    ┆ ---    │\n",
       "│ str                              ┆ i64       ┆ str                             ┆ i64    ┆ f64    │\n",
       "╞══════════════════════════════════╪═══════════╪═════════════════════════════════╪════════╪════════╡\n",
       "│ Indiana Jones and the Dial of    ┆ 0         ┆ indiana jones and the dial of   ┆ 41029  ┆ 6.9    │\n",
       "│ De…                              ┆           ┆ de…                             ┆        ┆        │\n",
       "│ The Flash                        ┆ 1         ┆ the flash 2023 pg13 action      ┆ 80814  ┆ 7.2    │\n",
       "│                                  ┆           ┆ adven…                          ┆        ┆        │\n",
       "│ Spider-Man: Across the           ┆ 2         ┆ spiderman across the            ┆ 168355 ┆ 8.9    │\n",
       "│ Spider-Ve…                       ┆           ┆ spiderverse…                    ┆        ┆        │\n",
       "│ Extraction II                    ┆ 3         ┆ extraction ii 2023 r action     ┆ 81123  ┆ 7.1    │\n",
       "│                                  ┆           ┆ thri…                           ┆        ┆        │\n",
       "│ Avatar: The Way of Water         ┆ 4         ┆ avatar the way of water 2022    ┆ 424931 ┆ 7.6    │\n",
       "│                                  ┆           ┆ pg1…                            ┆        ┆        │\n",
       "└──────────────────────────────────┴───────────┴─────────────────────────────────┴────────┴────────┘"
      ]
     },
     "execution_count": 90,
     "metadata": {},
     "output_type": "execute_result"
    }
   ],
   "source": [
    "dff.head()"
   ]
  },
  {
   "cell_type": "code",
   "execution_count": 91,
   "id": "c0097ff9-7777-4dcb-892f-ede516db69b8",
   "metadata": {
    "id": "c0097ff9-7777-4dcb-892f-ede516db69b8"
   },
   "outputs": [],
   "source": [
    "# dff['tags'] = dff['tags'].str.split()\n",
    "# dff = dff.with_columns(pl.col('tags').str.split(' '))\n"
   ]
  },
  {
   "cell_type": "code",
   "execution_count": 93,
   "id": "4c4f587c",
   "metadata": {
    "id": "4c4f587c"
   },
   "outputs": [],
   "source": [
    "all_words = dff['tags'].to_list()"
   ]
  },
  {
   "cell_type": "code",
   "execution_count": 94,
   "id": "d7b83437",
   "metadata": {
    "id": "d7b83437"
   },
   "outputs": [],
   "source": [
    "def flatten_nested_list(nested_list):\n",
    "    return [item for sublist in nested_list for item in (flatten_nested_list(sublist) if isinstance(sublist, list) else [sublist])]\n"
   ]
  },
  {
   "cell_type": "code",
   "execution_count": 95,
   "id": "397c85fd",
   "metadata": {
    "id": "397c85fd"
   },
   "outputs": [],
   "source": [
    "all_wordss = flatten_nested_list(all_words)"
   ]
  },
  {
   "cell_type": "code",
   "execution_count": 96,
   "id": "12825677",
   "metadata": {
    "colab": {
     "base_uri": "https://localhost:8080/"
    },
    "id": "12825677",
    "outputId": "c9fdae90-4088-4725-f441-8246d480472f"
   },
   "outputs": [
    {
     "data": {
      "text/plain": [
       "(285340, 285335)"
      ]
     },
     "execution_count": 96,
     "metadata": {},
     "output_type": "execute_result"
    }
   ],
   "source": [
    "len(all_wordss), len(set(all_wordss))"
   ]
  },
  {
   "cell_type": "code",
   "execution_count": 97,
   "id": "18f1faee",
   "metadata": {
    "id": "18f1faee"
   },
   "outputs": [],
   "source": [
    "from sklearn.feature_extraction.text import  CountVectorizer"
   ]
  },
  {
   "cell_type": "code",
   "execution_count": 98,
   "id": "c39bb616",
   "metadata": {
    "id": "c39bb616"
   },
   "outputs": [],
   "source": [
    "cv = CountVectorizer(lowercase=True, stop_words='english', max_features=5000, dtype=np.int16 )"
   ]
  },
  {
   "cell_type": "code",
   "execution_count": 99,
   "id": "1e752346",
   "metadata": {
    "id": "1e752346"
   },
   "outputs": [],
   "source": [
    "vector = cv.fit_transform(dff['tags'].to_list())"
   ]
  },
  {
   "cell_type": "code",
   "execution_count": 100,
   "id": "99081a64-93dc-4a8c-9e95-c2e9df4998aa",
   "metadata": {
    "colab": {
     "base_uri": "https://localhost:8080/"
    },
    "id": "99081a64-93dc-4a8c-9e95-c2e9df4998aa",
    "outputId": "bff9b88b-852b-45cb-f3d1-5c3c900b7207"
   },
   "outputs": [
    {
     "data": {
      "text/plain": [
       "<285340x5000 sparse matrix of type '<class 'numpy.int16'>'\n",
       "\twith 4266507 stored elements in Compressed Sparse Row format>"
      ]
     },
     "execution_count": 100,
     "metadata": {},
     "output_type": "execute_result"
    }
   ],
   "source": [
    "vector"
   ]
  },
  {
   "cell_type": "code",
   "execution_count": null,
   "id": "601be4f9",
   "metadata": {
    "id": "601be4f9"
   },
   "outputs": [],
   "source": []
  },
  {
   "cell_type": "code",
   "execution_count": 101,
   "id": "ee907234-77bd-404a-818d-9ec9aa2bb0f5",
   "metadata": {
    "colab": {
     "base_uri": "https://localhost:8080/"
    },
    "id": "ee907234-77bd-404a-818d-9ec9aa2bb0f5",
    "outputId": "e2f50a84-26b0-4856-f448-513d1ad1297a"
   },
   "outputs": [
    {
     "data": {
      "text/plain": [
       "<1x5000 sparse matrix of type '<class 'numpy.int16'>'\n",
       "\twith 20 stored elements in Compressed Sparse Row format>"
      ]
     },
     "execution_count": 101,
     "metadata": {},
     "output_type": "execute_result"
    }
   ],
   "source": [
    "vector[2]"
   ]
  },
  {
   "cell_type": "code",
   "execution_count": 102,
   "id": "963fb732",
   "metadata": {
    "id": "963fb732"
   },
   "outputs": [],
   "source": [
    "# pickle.dump(movie_vector, open('movie_vector.pkl','wb'))  # creates file of 2.6 gb\n",
    "pickle.dump(vector, open('vector.pkl','wb'))"
   ]
  },
  {
   "cell_type": "code",
   "execution_count": 103,
   "id": "zGMLc9l-Z2oV",
   "metadata": {
    "colab": {
     "base_uri": "https://localhost:8080/"
    },
    "id": "zGMLc9l-Z2oV",
    "outputId": "df5df77c-2d79-42ee-9808-9565b60894eb"
   },
   "outputs": [
    {
     "name": "stdout",
     "output_type": "stream",
     "text": [
      "<class 'pandas.core.frame.DataFrame'>\n",
      "RangeIndex: 285340 entries, 0 to 285339\n",
      "Data columns (total 5 columns):\n",
      " #   Column     Non-Null Count   Dtype  \n",
      "---  ------     --------------   -----  \n",
      " 0   title      285340 non-null  object \n",
      " 1   movies_id  285340 non-null  int64  \n",
      " 2   tags       285340 non-null  object \n",
      " 3   votes      285340 non-null  int64  \n",
      " 4   rating     285340 non-null  float64\n",
      "dtypes: float64(1), int64(2), object(2)\n",
      "memory usage: 10.9+ MB\n"
     ]
    }
   ],
   "source": [
    "dff.to_pandas().info()"
   ]
  },
  {
   "cell_type": "code",
   "execution_count": 104,
   "id": "6b8f693a",
   "metadata": {
    "id": "6b8f693a"
   },
   "outputs": [],
   "source": [
    "def find_similar_movies(x:str, k = 5) -> List[str]:\n",
    "    movie_id  = dff.filter(pl.col('title') == x)['movies_id'].to_list()[0]\n",
    "    # print(movie_id)\n",
    "    sim_vec  = cosine_similarity(vector, vector[movie_id])\n",
    "    y = sorted(enumerate(sim_vec), key=lambda x: x[1], reverse=True)\n",
    "    recommended_movies_ids = [i[0] for i in y[1:k+1]]\n",
    "    # print(recommended_movies_ids)\n",
    "    for i in recommended_movies_ids:\n",
    "        print(dff.filter(pl.col('movies_id') == i)['title'].to_list()[0])"
   ]
  },
  {
   "cell_type": "code",
   "execution_count": 110,
   "id": "ea6c78ee",
   "metadata": {
    "colab": {
     "base_uri": "https://localhost:8080/"
    },
    "id": "ea6c78ee",
    "outputId": "fa248d8e-b944-4e14-90dc-4a23bcc20f5d"
   },
   "outputs": [
    {
     "name": "stdout",
     "output_type": "stream",
     "text": [
      "Elli Kelimelik Mektuplar\n",
      "Viddikalude Maash\n",
      "Budhiya\n",
      "Caravaggio's Shadow\n",
      "Botev\n",
      "Samo edna zelba\n",
      "Charandas Chor\n",
      "Haemolymph\n",
      "Chinna Sharma\n",
      "Panduan Mempersiapkan Perpisahan\n"
     ]
    }
   ],
   "source": [
    "find_similar_movies(\n",
    " 'Killing a Traitor',\n",
    "k = 10)"
   ]
  },
  {
   "cell_type": "code",
   "execution_count": 106,
   "id": "135dfb37",
   "metadata": {
    "colab": {
     "base_uri": "https://localhost:8080/"
    },
    "id": "135dfb37",
    "outputId": "499ff7ba-6b22-4524-f18a-9e3d0c16bd81"
   },
   "outputs": [
    {
     "data": {
      "text/plain": [
       "['Love Suicides',\n",
       " 'Court',\n",
       " 'Aroni Tokhon',\n",
       " 'Untitled Charlie Mohr Film',\n",
       " 'Killing a Traitor',\n",
       " 'Nava Pappa',\n",
       " 'The Table Read',\n",
       " 'Geçerken Ugradim',\n",
       " 'Crazy Moon',\n",
       " 'Bestezuelas',\n",
       " 'Basagan ng mukha',\n",
       " 'Andar Bahar',\n",
       " 'Mother Monster',\n",
       " 'Fantasy·World',\n",
       " 'El jinete solitario',\n",
       " 'A Grand Little Lie',\n",
       " 'O Thandri O Koduku',\n",
       " 'Les dépossédés',\n",
       " 'J.R. contraataca',\n",
       " 'Rakhta Charitra 2',\n",
       " 'Happy for You',\n",
       " 'Spirits of the Air: Gremlins of the Clouds',\n",
       " 'Hostage House',\n",
       " 'The Rest Is Silent',\n",
       " 'Arangetra Velai',\n",
       " 'Mr. Go',\n",
       " 'Oras na para lumaban',\n",
       " 'The Boy Who Played with Fusion',\n",
       " 'Shen mi xiao jie',\n",
       " 'Wild Roses',\n",
       " 'Gutland',\n",
       " 'Freedom Flight',\n",
       " 'Heroes Like Us',\n",
       " 'Ghoomketu',\n",
       " 'Strange Bedfellows',\n",
       " \"The Music Goes 'Round\",\n",
       " 'Els camps magnètics',\n",
       " 'Temps mort',\n",
       " 'The Real Reason (Men Commit Crimes)',\n",
       " 'Lola the Truck Driving Woman',\n",
       " 'Perfect Education: Maid, for You',\n",
       " 'The Hospital 2',\n",
       " 'Coming of Age 2',\n",
       " 'Valentines Night',\n",
       " 'Four Feathers',\n",
       " 'Muerte: Tales of Horror',\n",
       " 'Mr. Taxi: Happy Rising',\n",
       " 'Isi & Disi, alto voltaje',\n",
       " 'Sword and Flower',\n",
       " 'Gypsy Angels']"
      ]
     },
     "execution_count": 106,
     "metadata": {},
     "output_type": "execute_result"
    }
   ],
   "source": [
    "dff['title'].sample(50).to_list()"
   ]
  },
  {
   "cell_type": "code",
   "execution_count": 112,
   "id": "f933c647",
   "metadata": {
    "colab": {
     "base_uri": "https://localhost:8080/",
     "height": 882
    },
    "id": "f933c647",
    "outputId": "1d527dcf-e820-4802-f3d9-8ff98c77b6d0"
   },
   "outputs": [
    {
     "data": {
      "text/html": [
       "<div><style>\n",
       ".dataframe > thead > tr > th,\n",
       ".dataframe > tbody > tr > td {\n",
       "  text-align: right;\n",
       "}\n",
       "</style>\n",
       "<small>shape: (285_340, 18)</small><table border=\"1\" class=\"dataframe\"><thead><tr><th>title</th><th>year</th><th>certificate</th><th>genre</th><th>time</th><th>rating</th><th>synopsis</th><th>director</th><th>actor 1</th><th>actor 2</th><th>actor 3</th><th>actor 4</th><th>votes</th><th>movies_id</th><th>year_as_str</th><th>rating_as_str</th><th>time_as_str</th><th>tags</th></tr><tr><td>str</td><td>i64</td><td>str</td><td>str</td><td>i64</td><td>f64</td><td>str</td><td>str</td><td>str</td><td>str</td><td>str</td><td>str</td><td>i64</td><td>i64</td><td>str</td><td>str</td><td>str</td><td>str</td></tr></thead><tbody><tr><td>&quot;The Shawshank …</td><td>1994</td><td>&quot;r&quot;</td><td>&quot;Drama         …</td><td>142</td><td>9.3</td><td>&quot;over the cours…</td><td>&quot;frankdarabont&quot;</td><td>&quot;timrobbins&quot;</td><td>&quot;morganfreeman&quot;</td><td>&quot;bobgunton&quot;</td><td>&quot;williamsadler&quot;</td><td>2761119</td><td>151549</td><td>&quot;1994&quot;</td><td>&quot;9.3&quot;</td><td>&quot;142&quot;</td><td>&quot;the shawshank …</td></tr><tr><td>&quot;The Dark Knigh…</td><td>2008</td><td>&quot;pg13&quot;</td><td>&quot;Action, Crime,…</td><td>152</td><td>9.0</td><td>&quot;when the menac…</td><td>&quot;christophernol…</td><td>&quot;christianbale&quot;</td><td>&quot;heathledger&quot;</td><td>&quot;aaroneckhart&quot;</td><td>&quot;michaelcaine&quot;</td><td>2733681</td><td>38</td><td>&quot;2008&quot;</td><td>&quot;9.0&quot;</td><td>&quot;152&quot;</td><td>&quot;the dark knigh…</td></tr><tr><td>&quot;Inception&quot;</td><td>2010</td><td>&quot;pg13&quot;</td><td>&quot;Action, Advent…</td><td>148</td><td>8.8</td><td>&quot;a thief who st…</td><td>&quot;christophernol…</td><td>&quot;leonardodicapr…</td><td>&quot;josephgordonle…</td><td>&quot;elliotpage&quot;</td><td>&quot;kenwatanabe&quot;</td><td>2425939</td><td>40</td><td>&quot;2010&quot;</td><td>&quot;8.8&quot;</td><td>&quot;148&quot;</td><td>&quot;inception 2010…</td></tr><tr><td>&quot;Fight Club&quot;</td><td>1999</td><td>&quot;r&quot;</td><td>&quot;Drama         …</td><td>139</td><td>8.8</td><td>&quot;an insomniac o…</td><td>&quot;davidfincher&quot;</td><td>&quot;bradpitt&quot;</td><td>&quot;edwardnorton&quot;</td><td>&quot;meatloaf&quot;</td><td>&quot;zachgrenier&quot;</td><td>2198501</td><td>151563</td><td>&quot;1999&quot;</td><td>&quot;8.8&quot;</td><td>&quot;139&quot;</td><td>&quot;fight club 199…</td></tr><tr><td>&quot;Forrest Gump&quot;</td><td>1994</td><td>&quot;pg13&quot;</td><td>&quot;Drama, Romance…</td><td>142</td><td>8.8</td><td>&quot;the history of…</td><td>&quot;robertzemeckis…</td><td>&quot;tomhanks&quot;</td><td>&quot;robinwright&quot;</td><td>&quot;garysinise&quot;</td><td>&quot;sallyfield&quot;</td><td>2147674</td><td>151566</td><td>&quot;1994&quot;</td><td>&quot;8.8&quot;</td><td>&quot;142&quot;</td><td>&quot;forrest gump 1…</td></tr><tr><td>&quot;Pulp Fiction&quot;</td><td>1994</td><td>&quot;r&quot;</td><td>&quot;Crime, Drama  …</td><td>154</td><td>8.9</td><td>&quot;the lives of t…</td><td>&quot;quentintaranti…</td><td>&quot;johntravolta&quot;</td><td>&quot;umathurman&quot;</td><td>&quot;samuelljackson…</td><td>&quot;brucewillis&quot;</td><td>2119742</td><td>141031</td><td>&quot;1994&quot;</td><td>&quot;8.9&quot;</td><td>&quot;154&quot;</td><td>&quot;pulp fiction 1…</td></tr><tr><td>&quot;The Matrix&quot;</td><td>1999</td><td>&quot;r&quot;</td><td>&quot;Action, Sci-Fi…</td><td>136</td><td>8.7</td><td>&quot;when a beautif…</td><td>&quot;lanawachowski&quot;</td><td>&quot;lillywachowski…</td><td>&quot;keanureeves&quot;</td><td>&quot;laurencefishbu…</td><td>&quot;carrieannemoss…</td><td>1967085</td><td>75</td><td>&quot;1999&quot;</td><td>&quot;8.7&quot;</td><td>&quot;136&quot;</td><td>&quot;the matrix 199…</td></tr><tr><td>&quot;Interstellar&quot;</td><td>2014</td><td>&quot;pg13&quot;</td><td>&quot;Adventure, Dra…</td><td>169</td><td>8.7</td><td>&quot;when earth bec…</td><td>&quot;christophernol…</td><td>&quot;matthewmcconau…</td><td>&quot;annehathaway&quot;</td><td>&quot;jessicachastai…</td><td>&quot;mackenziefoy&quot;</td><td>1928943</td><td>49931</td><td>&quot;2014&quot;</td><td>&quot;8.7&quot;</td><td>&quot;169&quot;</td><td>&quot;interstellar 2…</td></tr><tr><td>&quot;The Lord of th…</td><td>2001</td><td>&quot;pg13&quot;</td><td>&quot;Action, Advent…</td><td>178</td><td>8.8</td><td>&quot;a meek hobbit …</td><td>&quot;peterjackson&quot;</td><td>&quot;elijahwood&quot;</td><td>&quot;ianmckellen&quot;</td><td>&quot;orlandobloom&quot;</td><td>&quot;seanbean&quot;</td><td>1923733</td><td>57</td><td>&quot;2001&quot;</td><td>&quot;8.8&quot;</td><td>&quot;178&quot;</td><td>&quot;the lord of th…</td></tr><tr><td>&quot;The Godfather&quot;</td><td>1972</td><td>&quot;r&quot;</td><td>&quot;Crime, Drama  …</td><td>175</td><td>9.2</td><td>&quot;don vito corle…</td><td>&quot;francisfordcop…</td><td>&quot;marlonbrando&quot;</td><td>&quot;alpacino&quot;</td><td>&quot;jamescaan&quot;</td><td>&quot;dianekeaton&quot;</td><td>1921318</td><td>141032</td><td>&quot;1972&quot;</td><td>&quot;9.2&quot;</td><td>&quot;175&quot;</td><td>&quot;the godfather …</td></tr><tr><td>&quot;The Lord of th…</td><td>2003</td><td>&quot;pg13&quot;</td><td>&quot;Action, Advent…</td><td>201</td><td>9.0</td><td>&quot;gandalf and ar…</td><td>&quot;peterjackson&quot;</td><td>&quot;elijahwood&quot;</td><td>&quot;viggomortensen…</td><td>&quot;ianmckellen&quot;</td><td>&quot;orlandobloom&quot;</td><td>1895296</td><td>143</td><td>&quot;2003&quot;</td><td>&quot;9.0&quot;</td><td>&quot;201&quot;</td><td>&quot;the lord of th…</td></tr><tr><td>&quot;The Dark Knigh…</td><td>2012</td><td>&quot;pg13&quot;</td><td>&quot;Action, Drama,…</td><td>164</td><td>8.4</td><td>&quot;eight years af…</td><td>&quot;christophernol…</td><td>&quot;christianbale&quot;</td><td>&quot;tomhardy&quot;</td><td>&quot;annehathaway&quot;</td><td>&quot;garyoldman&quot;</td><td>1750036</td><td>91</td><td>&quot;2012&quot;</td><td>&quot;8.4&quot;</td><td>&quot;164&quot;</td><td>&quot;the dark knigh…</td></tr><tr><td>&hellip;</td><td>&hellip;</td><td>&hellip;</td><td>&hellip;</td><td>&hellip;</td><td>&hellip;</td><td>&hellip;</td><td>&hellip;</td><td>&hellip;</td><td>&hellip;</td><td>&hellip;</td><td>&hellip;</td><td>&hellip;</td><td>&hellip;</td><td>&hellip;</td><td>&hellip;</td><td>&hellip;</td><td>&hellip;</td></tr><tr><td>&quot;Flashing Hoofs…</td><td>1928</td><td>&quot;&quot;</td><td>&quot;Western       …</td><td>100</td><td>0.0</td><td>&quot;add a plot&quot;</td><td>&quot;clifflyons&quot;</td><td>&quot;&quot;</td><td>&quot;&quot;</td><td>&quot;&quot;</td><td>&quot;&quot;</td><td>0</td><td>285328</td><td>&quot;1928&quot;</td><td>&quot;0.0&quot;</td><td>&quot;100&quot;</td><td>&quot;flashing hoofs…</td></tr><tr><td>&quot;Seven Sixgunne…</td><td>1987</td><td>&quot;&quot;</td><td>&quot;Western       …</td><td>88</td><td>0.0</td><td>&quot;flick farsom i…</td><td>&quot;georgepotter&quot;</td><td>&quot;larrybrooks&quot;</td><td>&quot;paulfogle&quot;</td><td>&quot;jaygammons&quot;</td><td>&quot;cathylane&quot;</td><td>0</td><td>285329</td><td>&quot;1987&quot;</td><td>&quot;0.0&quot;</td><td>&quot;88&quot;</td><td>&quot;seven sixgunne…</td></tr><tr><td>&quot;Cigarettes Lik…</td><td>0</td><td>&quot;&quot;</td><td>&quot;Western       …</td><td>100</td><td>0.0</td><td>&quot;a farmer is le…</td><td>&quot;jodybutler&quot;</td><td>&quot;jodybutler&quot;</td><td>&quot;&quot;</td><td>&quot;&quot;</td><td>&quot;&quot;</td><td>0</td><td>285330</td><td>&quot;0&quot;</td><td>&quot;0.0&quot;</td><td>&quot;100&quot;</td><td>&quot;cigarettes lik…</td></tr><tr><td>&quot;The Wyoming Wi…</td><td>1925</td><td>&quot;passed&quot;</td><td>&quot;Drama, Western…</td><td>50</td><td>0.0</td><td>&quot;cowboy phil st…</td><td>&quot;robertdelacey&quot;</td><td>&quot;tomtyler&quot;</td><td>&quot;virginiasouthe…</td><td>&quot;gilbertclayton…</td><td>&quot;ethanlaidlaw&quot;</td><td>0</td><td>285331</td><td>&quot;1925&quot;</td><td>&quot;0.0&quot;</td><td>&quot;50&quot;</td><td>&quot;the wyoming wi…</td></tr><tr><td>&quot;Alamo Reed&quot;</td><td>0</td><td>&quot;&quot;</td><td>&quot;Comedy, Drama,…</td><td>100</td><td>0.0</td><td>&quot;a mexican band…</td><td>&quot;&quot;</td><td>&quot;&quot;</td><td>&quot;&quot;</td><td>&quot;&quot;</td><td>&quot;&quot;</td><td>0</td><td>285332</td><td>&quot;0&quot;</td><td>&quot;0.0&quot;</td><td>&quot;100&quot;</td><td>&quot;alamo reed 0  …</td></tr><tr><td>&quot;Dugong Tigre&quot;</td><td>1964</td><td>&quot;&quot;</td><td>&quot;Western       …</td><td>100</td><td>0.0</td><td>&quot;add a plot&quot;</td><td>&quot;armandogarces&quot;</td><td>&quot;junaristorenas…</td><td>&quot;ginalaforteza&quot;</td><td>&quot;eddiegarcia&quot;</td><td>&quot;maxalvarado&quot;</td><td>0</td><td>285333</td><td>&quot;1964&quot;</td><td>&quot;0.0&quot;</td><td>&quot;100&quot;</td><td>&quot;dugong tigre 1…</td></tr><tr><td>&quot;Lone Fighter&quot;</td><td>1923</td><td>&quot;&quot;</td><td>&quot;Western       …</td><td>100</td><td>0.0</td><td>&quot;girls sweethea…</td><td>&quot;albertrussell&quot;</td><td>&quot;jbwarner&quot;</td><td>&quot;vesterpegg&quot;</td><td>&quot;josephinehill&quot;</td><td>&quot;joeryan&quot;</td><td>0</td><td>285334</td><td>&quot;1923&quot;</td><td>&quot;0.0&quot;</td><td>&quot;100&quot;</td><td>&quot;lone fighter 1…</td></tr><tr><td>&quot;Imposition&quot;</td><td>0</td><td>&quot;&quot;</td><td>&quot;Western       …</td><td>100</td><td>0.0</td><td>&quot;a mentally ill…</td><td>&quot;&quot;</td><td>&quot;&quot;</td><td>&quot;&quot;</td><td>&quot;&quot;</td><td>&quot;&quot;</td><td>0</td><td>285335</td><td>&quot;0&quot;</td><td>&quot;0.0&quot;</td><td>&quot;100&quot;</td><td>&quot;imposition 0  …</td></tr><tr><td>&quot;Man from the W…</td><td>0</td><td>&quot;&quot;</td><td>&quot;Western       …</td><td>100</td><td>0.0</td><td>&quot;1912 the old w…</td><td>&quot;jeanchristophe…</td><td>&quot;&quot;</td><td>&quot;&quot;</td><td>&quot;&quot;</td><td>&quot;&quot;</td><td>0</td><td>285336</td><td>&quot;0&quot;</td><td>&quot;0.0&quot;</td><td>&quot;100&quot;</td><td>&quot;man from the w…</td></tr><tr><td>&quot;Horizon: An Am…</td><td>0</td><td>&quot;&quot;</td><td>&quot;Western       …</td><td>100</td><td>0.0</td><td>&quot;plot under wra…</td><td>&quot;kevincostner&quot;</td><td>&quot;kevincostner&quot;</td><td>&quot;austinarcher&quot;</td><td>&quot;&quot;</td><td>&quot;&quot;</td><td>0</td><td>285337</td><td>&quot;0&quot;</td><td>&quot;0.0&quot;</td><td>&quot;100&quot;</td><td>&quot;horizon an ame…</td></tr><tr><td>&quot;Horizon: An Am…</td><td>0</td><td>&quot;&quot;</td><td>&quot;Western       …</td><td>100</td><td>0.0</td><td>&quot;plot under wra…</td><td>&quot;kevincostner&quot;</td><td>&quot;kevincostner&quot;</td><td>&quot;austinarcher&quot;</td><td>&quot;&quot;</td><td>&quot;&quot;</td><td>0</td><td>285338</td><td>&quot;0&quot;</td><td>&quot;0.0&quot;</td><td>&quot;100&quot;</td><td>&quot;horizon an ame…</td></tr><tr><td>&quot;The Perfect Ha…</td><td>2023</td><td>&quot;&quot;</td><td>&quot;Drama, Western…</td><td>113</td><td>0.0</td><td>&quot;a sharpshootin…</td><td>&quot;michaelfredian…</td><td>&quot;michaelfredian…</td><td>&quot;bryanhurd&quot;</td><td>&quot;danieledwardmi…</td><td>&quot;sydneyvandelft…</td><td>0</td><td>285339</td><td>&quot;2023&quot;</td><td>&quot;0.0&quot;</td><td>&quot;113&quot;</td><td>&quot;the perfect ha…</td></tr></tbody></table></div>"
      ],
      "text/plain": [
       "shape: (285_340, 18)\n",
       "┌────────────┬──────┬───────────┬────────────┬───┬───────────┬────────────┬───────────┬────────────┐\n",
       "│ title      ┆ year ┆ certifica ┆ genre      ┆ … ┆ year_as_s ┆ rating_as_ ┆ time_as_s ┆ tags       │\n",
       "│ ---        ┆ ---  ┆ te        ┆ ---        ┆   ┆ tr        ┆ str        ┆ tr        ┆ ---        │\n",
       "│ str        ┆ i64  ┆ ---       ┆ str        ┆   ┆ ---       ┆ ---        ┆ ---       ┆ str        │\n",
       "│            ┆      ┆ str       ┆            ┆   ┆ str       ┆ str        ┆ str       ┆            │\n",
       "╞════════════╪══════╪═══════════╪════════════╪═══╪═══════════╪════════════╪═══════════╪════════════╡\n",
       "│ The        ┆ 1994 ┆ r         ┆ Drama      ┆ … ┆ 1994      ┆ 9.3        ┆ 142       ┆ the        │\n",
       "│ Shawshank  ┆      ┆           ┆            ┆   ┆           ┆            ┆           ┆ shawshank  │\n",
       "│ Redemption ┆      ┆           ┆            ┆   ┆           ┆            ┆           ┆ redemption │\n",
       "│            ┆      ┆           ┆            ┆   ┆           ┆            ┆           ┆ 1994 r …   │\n",
       "│ The Dark   ┆ 2008 ┆ pg13      ┆ Action,    ┆ … ┆ 2008      ┆ 9.0        ┆ 152       ┆ the dark   │\n",
       "│ Knight     ┆      ┆           ┆ Crime,     ┆   ┆           ┆            ┆           ┆ knight     │\n",
       "│            ┆      ┆           ┆ Drama      ┆   ┆           ┆            ┆           ┆ 2008 pg13  │\n",
       "│            ┆      ┆           ┆            ┆   ┆           ┆            ┆           ┆ action…    │\n",
       "│ Inception  ┆ 2010 ┆ pg13      ┆ Action,    ┆ … ┆ 2010      ┆ 8.8        ┆ 148       ┆ inception  │\n",
       "│            ┆      ┆           ┆ Adventure, ┆   ┆           ┆            ┆           ┆ 2010 pg13  │\n",
       "│            ┆      ┆           ┆ Sci-Fi     ┆   ┆           ┆            ┆           ┆ action     │\n",
       "│            ┆      ┆           ┆ …          ┆   ┆           ┆            ┆           ┆ adven…     │\n",
       "│ Fight Club ┆ 1999 ┆ r         ┆ Drama      ┆ … ┆ 1999      ┆ 8.8        ┆ 139       ┆ fight club │\n",
       "│            ┆      ┆           ┆            ┆   ┆           ┆            ┆           ┆ 1999 r     │\n",
       "│            ┆      ┆           ┆            ┆   ┆           ┆            ┆           ┆ drama      │\n",
       "│            ┆      ┆           ┆            ┆   ┆           ┆            ┆           ┆ …          │\n",
       "│ …          ┆ …    ┆ …         ┆ …          ┆ … ┆ …         ┆ …          ┆ …         ┆ …          │\n",
       "│ Man from   ┆ 0    ┆           ┆ Western    ┆ … ┆ 0         ┆ 0.0        ┆ 100       ┆ man from   │\n",
       "│ the West   ┆      ┆           ┆            ┆   ┆           ┆            ┆           ┆ the west 0 │\n",
       "│            ┆      ┆           ┆            ┆   ┆           ┆            ┆           ┆ western    │\n",
       "│            ┆      ┆           ┆            ┆   ┆           ┆            ┆           ┆ …          │\n",
       "│ Horizon:   ┆ 0    ┆           ┆ Western    ┆ … ┆ 0         ┆ 0.0        ┆ 100       ┆ horizon an │\n",
       "│ An         ┆      ┆           ┆            ┆   ┆           ┆            ┆           ┆ american   │\n",
       "│ American   ┆      ┆           ┆            ┆   ┆           ┆            ┆           ┆ saga 4 0   │\n",
       "│ Saga 4     ┆      ┆           ┆            ┆   ┆           ┆            ┆           ┆ we…        │\n",
       "│ Horizon:   ┆ 0    ┆           ┆ Western    ┆ … ┆ 0         ┆ 0.0        ┆ 100       ┆ horizon an │\n",
       "│ An         ┆      ┆           ┆            ┆   ┆           ┆            ┆           ┆ american   │\n",
       "│ American   ┆      ┆           ┆            ┆   ┆           ┆            ┆           ┆ saga 3 0   │\n",
       "│ Saga 3     ┆      ┆           ┆            ┆   ┆           ┆            ┆           ┆ we…        │\n",
       "│ The        ┆ 2023 ┆           ┆ Drama,     ┆ … ┆ 2023      ┆ 0.0        ┆ 113       ┆ the        │\n",
       "│ Perfect    ┆      ┆           ┆ Western    ┆   ┆           ┆            ┆           ┆ perfect    │\n",
       "│ Hand       ┆      ┆           ┆            ┆   ┆           ┆            ┆           ┆ hand 2023  │\n",
       "│            ┆      ┆           ┆            ┆   ┆           ┆            ┆           ┆ drama wes… │\n",
       "└────────────┴──────┴───────────┴────────────┴───┴───────────┴────────────┴───────────┴────────────┘"
      ]
     },
     "execution_count": 112,
     "metadata": {},
     "output_type": "execute_result"
    }
   ],
   "source": [
    "df.sort(by=['votes','rating'], descending=True)"
   ]
  },
  {
   "cell_type": "code",
   "execution_count": 115,
   "id": "770671d9",
   "metadata": {
    "id": "770671d9"
   },
   "outputs": [],
   "source": [
    "dff.write_csv(Path('./dataset/movies_cleaned.csv'))"
   ]
  },
  {
   "cell_type": "code",
   "execution_count": null,
   "id": "60e5877e",
   "metadata": {
    "id": "60e5877e"
   },
   "outputs": [],
   "source": []
  }
 ],
 "metadata": {
  "colab": {
   "provenance": []
  },
  "kernelspec": {
   "display_name": "deep",
   "language": "python",
   "name": "deep"
  },
  "language_info": {
   "codemirror_mode": {
    "name": "ipython",
    "version": 3
   },
   "file_extension": ".py",
   "mimetype": "text/x-python",
   "name": "python",
   "nbconvert_exporter": "python",
   "pygments_lexer": "ipython3",
   "version": "3.11.4"
  }
 },
 "nbformat": 4,
 "nbformat_minor": 5
}
