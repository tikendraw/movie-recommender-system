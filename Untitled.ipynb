{
 "cells": [
  {
   "cell_type": "code",
   "execution_count": 5,
   "id": "11450ed0",
   "metadata": {},
   "outputs": [],
   "source": [
    "import pandas as pd\n",
    "import pygwalker as pyg\n",
    "import re\n",
    "import numpy as np\n",
    "import ast\n",
    "import torch\n",
    "from pathlib import Path\n",
    "import pickle\n",
    "from typing import List\n",
    "from sklearn.metrics.pairwise import cosine_similarity\n",
    "import nltk\n",
    "from nltk.stem import PorterStemmer"
   ]
  },
  {
   "cell_type": "markdown",
   "id": "888a7e28",
   "metadata": {},
   "source": [
    "Dataset [link here](https://www.kaggle.com/datasets/moon114/imdb-all-movies-dataset)"
   ]
  },
  {
   "cell_type": "code",
   "execution_count": 6,
   "id": "710ed0b6",
   "metadata": {},
   "outputs": [],
   "source": [
    "dataset_filepath = Path('./dataset/movies.csv')\n",
    "df = pd.read_csv(dataset_filepath)"
   ]
  },
  {
   "cell_type": "code",
   "execution_count": 7,
   "id": "1007fc17",
   "metadata": {},
   "outputs": [],
   "source": [
    "#lower the column names for ease of typing\n",
    "df.columns = df.columns.str.lower()\n",
    "\n",
    "try:\n",
    "    # dropping extra columns if exists\n",
    "    df.drop('unnamed: 0', inplace =True, axis = 1)\n",
    "except:\n",
    "    pass\n"
   ]
  },
  {
   "cell_type": "code",
   "execution_count": 8,
   "id": "675bc645",
   "metadata": {},
   "outputs": [
    {
     "name": "stdout",
     "output_type": "stream",
     "text": [
      "<class 'pandas.core.frame.DataFrame'>\n",
      "RangeIndex: 285341 entries, 0 to 285340\n",
      "Data columns (total 15 columns):\n",
      " #   Column       Non-Null Count   Dtype  \n",
      "---  ------       --------------   -----  \n",
      " 0   title        285340 non-null  object \n",
      " 1   year         245225 non-null  object \n",
      " 2   certificate  72952 non-null   object \n",
      " 3   genre        285341 non-null  object \n",
      " 4   time         204239 non-null  object \n",
      " 5   rating       184313 non-null  float64\n",
      " 6   rate         239176 non-null  object \n",
      " 7   synopsis     285341 non-null  object \n",
      " 8   content      285336 non-null  object \n",
      " 9   director     269260 non-null  object \n",
      " 10  actor 1      253716 non-null  object \n",
      " 11  actor 2      246317 non-null  object \n",
      " 12  actor 3      239798 non-null  object \n",
      " 13  actor 4      230068 non-null  object \n",
      " 14  votes        184368 non-null  object \n",
      "dtypes: float64(1), object(14)\n",
      "memory usage: 32.7+ MB\n"
     ]
    },
    {
     "data": {
      "text/plain": [
       "((285341, 15), None)"
      ]
     },
     "execution_count": 8,
     "metadata": {},
     "output_type": "execute_result"
    }
   ],
   "source": [
    "df.shape, df.info()"
   ]
  },
  {
   "cell_type": "markdown",
   "id": "ffae942f",
   "metadata": {},
   "source": [
    "## Objective \n",
    "\n",
    "We will convert all important features of movies into vectors and then find similarity between movies.\n",
    "\n",
    "### Clean the data\n",
    "0. remove Duplicates\n",
    "1. Remove the alpha chars from years using regex\n",
    "2. Remove \\n chars from genres and synopsis, content using regex\n",
    "3. Remove rate column(no info), drop content(contains director and actors name which we already have)\n",
    "4. Remove spaces from names"
   ]
  },
  {
   "cell_type": "code",
   "execution_count": 9,
   "id": "4d7fcc8e",
   "metadata": {},
   "outputs": [
    {
     "data": {
      "text/html": [
       "<div>\n",
       "<style scoped>\n",
       "    .dataframe tbody tr th:only-of-type {\n",
       "        vertical-align: middle;\n",
       "    }\n",
       "\n",
       "    .dataframe tbody tr th {\n",
       "        vertical-align: top;\n",
       "    }\n",
       "\n",
       "    .dataframe thead th {\n",
       "        text-align: right;\n",
       "    }\n",
       "</style>\n",
       "<table border=\"1\" class=\"dataframe\">\n",
       "  <thead>\n",
       "    <tr style=\"text-align: right;\">\n",
       "      <th></th>\n",
       "      <th>title</th>\n",
       "      <th>year</th>\n",
       "      <th>certificate</th>\n",
       "      <th>genre</th>\n",
       "      <th>time</th>\n",
       "      <th>rating</th>\n",
       "      <th>rate</th>\n",
       "      <th>synopsis</th>\n",
       "      <th>content</th>\n",
       "      <th>director</th>\n",
       "      <th>actor 1</th>\n",
       "      <th>actor 2</th>\n",
       "      <th>actor 3</th>\n",
       "      <th>actor 4</th>\n",
       "      <th>votes</th>\n",
       "    </tr>\n",
       "  </thead>\n",
       "  <tbody>\n",
       "    <tr>\n",
       "      <th>0</th>\n",
       "      <td>Indiana Jones and the Dial of Destiny</td>\n",
       "      <td>-2023</td>\n",
       "      <td>PG-13</td>\n",
       "      <td>\\nAction, Adventure</td>\n",
       "      <td>154 min</td>\n",
       "      <td>6.9</td>\n",
       "      <td>Rate this</td>\n",
       "      <td>\\nArchaeologist Indiana Jones races against ti...</td>\n",
       "      <td>\\n    Director:\\nJames Mangold\\n              ...</td>\n",
       "      <td>James Mangold</td>\n",
       "      <td>Harrison Ford</td>\n",
       "      <td>Phoebe Waller-Bridge</td>\n",
       "      <td>Antonio Banderas</td>\n",
       "      <td>Karen Allen</td>\n",
       "      <td>41,029</td>\n",
       "    </tr>\n",
       "    <tr>\n",
       "      <th>1</th>\n",
       "      <td>The Flash</td>\n",
       "      <td>-2023</td>\n",
       "      <td>PG-13</td>\n",
       "      <td>\\nAction, Adventure, Fantasy</td>\n",
       "      <td>144 min</td>\n",
       "      <td>7.2</td>\n",
       "      <td>Rate this</td>\n",
       "      <td>\\nBarry Allen uses his super speed to change t...</td>\n",
       "      <td>\\n    Director:\\nAndy Muschietti\\n            ...</td>\n",
       "      <td>Andy Muschietti</td>\n",
       "      <td>Ezra Miller</td>\n",
       "      <td>Michael Keaton</td>\n",
       "      <td>Sasha Calle</td>\n",
       "      <td>Michael Shannon</td>\n",
       "      <td>80,814</td>\n",
       "    </tr>\n",
       "    <tr>\n",
       "      <th>2</th>\n",
       "      <td>Spider-Man: Across the Spider-Verse</td>\n",
       "      <td>-2023</td>\n",
       "      <td>PG</td>\n",
       "      <td>\\nAnimation, Action, Adventure</td>\n",
       "      <td>140 min</td>\n",
       "      <td>8.9</td>\n",
       "      <td>Rate this</td>\n",
       "      <td>\\nMiles Morales catapults across the Multivers...</td>\n",
       "      <td>\\n    Directors:\\nJoaquim Dos Santos, \\nKemp P...</td>\n",
       "      <td>Joaquim Dos Santos</td>\n",
       "      <td>Kemp Powers</td>\n",
       "      <td>Justin K. Thompson</td>\n",
       "      <td>Shameik Moore</td>\n",
       "      <td>Hailee Steinfeld</td>\n",
       "      <td>1,68,355</td>\n",
       "    </tr>\n",
       "    <tr>\n",
       "      <th>3</th>\n",
       "      <td>Extraction II</td>\n",
       "      <td>-2023</td>\n",
       "      <td>R</td>\n",
       "      <td>\\nAction, Thriller</td>\n",
       "      <td>122 min</td>\n",
       "      <td>7.1</td>\n",
       "      <td>Rate this</td>\n",
       "      <td>\\nAfter barely surviving his grievous wounds f...</td>\n",
       "      <td>\\n    Director:\\nSam Hargrave\\n               ...</td>\n",
       "      <td>Sam Hargrave</td>\n",
       "      <td>Chris Hemsworth</td>\n",
       "      <td>Golshifteh Farahani</td>\n",
       "      <td>Adam Bessa</td>\n",
       "      <td>Tornike Gogrichiani</td>\n",
       "      <td>81,123</td>\n",
       "    </tr>\n",
       "    <tr>\n",
       "      <th>4</th>\n",
       "      <td>Avatar: The Way of Water</td>\n",
       "      <td>-2022</td>\n",
       "      <td>PG-13</td>\n",
       "      <td>\\nAction, Adventure, Fantasy</td>\n",
       "      <td>192 min</td>\n",
       "      <td>7.6</td>\n",
       "      <td>Rate this</td>\n",
       "      <td>\\nJake Sully lives with his newfound family fo...</td>\n",
       "      <td>\\n    Director:\\nJames Cameron\\n              ...</td>\n",
       "      <td>James Cameron</td>\n",
       "      <td>Sam Worthington</td>\n",
       "      <td>Zoe Saldana</td>\n",
       "      <td>Sigourney Weaver</td>\n",
       "      <td>Stephen Lang</td>\n",
       "      <td>4,24,931</td>\n",
       "    </tr>\n",
       "  </tbody>\n",
       "</table>\n",
       "</div>"
      ],
      "text/plain": [
       "                                   title   year certificate  \\\n",
       "0  Indiana Jones and the Dial of Destiny  -2023       PG-13   \n",
       "1                              The Flash  -2023       PG-13   \n",
       "2    Spider-Man: Across the Spider-Verse  -2023          PG   \n",
       "3                          Extraction II  -2023           R   \n",
       "4               Avatar: The Way of Water  -2022       PG-13   \n",
       "\n",
       "                                        genre     time  rating       rate  \\\n",
       "0             \\nAction, Adventure              154 min     6.9  Rate this   \n",
       "1    \\nAction, Adventure, Fantasy              144 min     7.2  Rate this   \n",
       "2  \\nAnimation, Action, Adventure              140 min     8.9  Rate this   \n",
       "3              \\nAction, Thriller              122 min     7.1  Rate this   \n",
       "4    \\nAction, Adventure, Fantasy              192 min     7.6  Rate this   \n",
       "\n",
       "                                            synopsis  \\\n",
       "0  \\nArchaeologist Indiana Jones races against ti...   \n",
       "1  \\nBarry Allen uses his super speed to change t...   \n",
       "2  \\nMiles Morales catapults across the Multivers...   \n",
       "3  \\nAfter barely surviving his grievous wounds f...   \n",
       "4  \\nJake Sully lives with his newfound family fo...   \n",
       "\n",
       "                                             content            director  \\\n",
       "0  \\n    Director:\\nJames Mangold\\n              ...       James Mangold   \n",
       "1  \\n    Director:\\nAndy Muschietti\\n            ...     Andy Muschietti   \n",
       "2  \\n    Directors:\\nJoaquim Dos Santos, \\nKemp P...  Joaquim Dos Santos   \n",
       "3  \\n    Director:\\nSam Hargrave\\n               ...        Sam Hargrave   \n",
       "4  \\n    Director:\\nJames Cameron\\n              ...       James Cameron   \n",
       "\n",
       "           actor 1               actor 2           actor 3  \\\n",
       "0    Harrison Ford  Phoebe Waller-Bridge  Antonio Banderas   \n",
       "1      Ezra Miller        Michael Keaton       Sasha Calle   \n",
       "2      Kemp Powers    Justin K. Thompson     Shameik Moore   \n",
       "3  Chris Hemsworth   Golshifteh Farahani        Adam Bessa   \n",
       "4  Sam Worthington           Zoe Saldana  Sigourney Weaver   \n",
       "\n",
       "               actor 4     votes  \n",
       "0          Karen Allen    41,029  \n",
       "1      Michael Shannon    80,814  \n",
       "2     Hailee Steinfeld  1,68,355  \n",
       "3  Tornike Gogrichiani    81,123  \n",
       "4         Stephen Lang  4,24,931  "
      ]
     },
     "execution_count": 9,
     "metadata": {},
     "output_type": "execute_result"
    }
   ],
   "source": [
    "df.head()"
   ]
  },
  {
   "cell_type": "markdown",
   "id": "ee2f953d",
   "metadata": {},
   "source": [
    "# Preprocessing"
   ]
  },
  {
   "cell_type": "code",
   "execution_count": 10,
   "id": "712c5d56",
   "metadata": {},
   "outputs": [
    {
     "data": {
      "text/plain": [
       "0"
      ]
     },
     "execution_count": 10,
     "metadata": {},
     "output_type": "execute_result"
    }
   ],
   "source": [
    "# check for duplicates\n",
    "df.duplicated().sum()"
   ]
  },
  {
   "cell_type": "markdown",
   "id": "d343c239",
   "metadata": {},
   "source": [
    "## Removing Nulls"
   ]
  },
  {
   "cell_type": "code",
   "execution_count": 11,
   "id": "c5190deb",
   "metadata": {
    "scrolled": true
   },
   "outputs": [
    {
     "data": {
      "text/plain": [
       "title               1\n",
       "year            40116\n",
       "certificate    212389\n",
       "genre               0\n",
       "time            81102\n",
       "rating         101028\n",
       "rate            46165\n",
       "synopsis            0\n",
       "content             5\n",
       "director        16081\n",
       "actor 1         31625\n",
       "actor 2         39024\n",
       "actor 3         45543\n",
       "actor 4         55273\n",
       "votes          100973\n",
       "dtype: int64"
      ]
     },
     "execution_count": 11,
     "metadata": {},
     "output_type": "execute_result"
    }
   ],
   "source": [
    "# check for nulls\n",
    "df.isnull().sum()"
   ]
  },
  {
   "cell_type": "markdown",
   "id": "af1ada71",
   "metadata": {},
   "source": [
    "Here dataset sets has alot of missing values, That won't stop us from over purpose. \n",
    "\n",
    "The Most Important factor for Movie here is to have a title and content/synopsis. We will fill nans with space. and drop those who doesn't have title or content/synopsis."
   ]
  },
  {
   "cell_type": "code",
   "execution_count": 12,
   "id": "d3760b68",
   "metadata": {},
   "outputs": [],
   "source": [
    "idx_to_drop  = []"
   ]
  },
  {
   "cell_type": "code",
   "execution_count": 13,
   "id": "9a9f237d",
   "metadata": {},
   "outputs": [
    {
     "name": "stdout",
     "output_type": "stream",
     "text": [
      "[12708]\n"
     ]
    }
   ],
   "source": [
    "# movie index with no title\n",
    "print(df.index[df.title.isnull()].values)\n",
    "idx_to_drop.extend(df.index[df.title.isnull()].values)"
   ]
  },
  {
   "cell_type": "code",
   "execution_count": 14,
   "id": "4321551c",
   "metadata": {},
   "outputs": [
    {
     "name": "stdout",
     "output_type": "stream",
     "text": [
      "[ 55118 210224 269574 271950 285258]\n"
     ]
    }
   ],
   "source": [
    "# movie index with no content\n",
    "print(df.index[df.content.isnull()].values)\n",
    "idx_to_drop.extend(df.index[df.content.isnull()].values)"
   ]
  },
  {
   "cell_type": "code",
   "execution_count": 15,
   "id": "a055035e",
   "metadata": {},
   "outputs": [
    {
     "data": {
      "text/plain": [
       "[12708, 55118, 210224, 269574, 271950, 285258]"
      ]
     },
     "execution_count": 15,
     "metadata": {},
     "output_type": "execute_result"
    }
   ],
   "source": [
    "idx_to_drop"
   ]
  },
  {
   "cell_type": "code",
   "execution_count": 16,
   "id": "08533782",
   "metadata": {},
   "outputs": [
    {
     "data": {
      "text/plain": [
       "(285341, 15)"
      ]
     },
     "execution_count": 16,
     "metadata": {},
     "output_type": "execute_result"
    }
   ],
   "source": [
    "df.shape"
   ]
  },
  {
   "cell_type": "code",
   "execution_count": 17,
   "id": "06663a92",
   "metadata": {},
   "outputs": [],
   "source": [
    "df.drop(idx_to_drop, axis = 0, inplace = True)"
   ]
  },
  {
   "cell_type": "code",
   "execution_count": 18,
   "id": "a5b35fb8",
   "metadata": {},
   "outputs": [
    {
     "data": {
      "text/plain": [
       "(285335, 15)"
      ]
     },
     "execution_count": 18,
     "metadata": {},
     "output_type": "execute_result"
    }
   ],
   "source": [
    "df.shape"
   ]
  },
  {
   "cell_type": "markdown",
   "id": "9f595d6d",
   "metadata": {},
   "source": [
    "## Dropping Columns"
   ]
  },
  {
   "cell_type": "code",
   "execution_count": null,
   "id": "6dc92ec7",
   "metadata": {},
   "outputs": [],
   "source": []
  },
  {
   "cell_type": "code",
   "execution_count": 19,
   "id": "c832caf7",
   "metadata": {},
   "outputs": [],
   "source": [
    "#dropping columns\n",
    "df.drop(['rate', 'content'], axis = 1, inplace = True)"
   ]
  },
  {
   "cell_type": "markdown",
   "id": "45a6c925",
   "metadata": {},
   "source": [
    "## Column preprocessing"
   ]
  },
  {
   "cell_type": "code",
   "execution_count": 20,
   "id": "8f121bb7",
   "metadata": {},
   "outputs": [],
   "source": [
    "# Movies doesn't have any id, we will create id \n",
    "df['movies_id'] = np.arange(len(df))"
   ]
  },
  {
   "cell_type": "code",
   "execution_count": 21,
   "id": "b21d76cc",
   "metadata": {},
   "outputs": [],
   "source": [
    "# cleaning number columns \n",
    "df['year'] = df['year'].str.replace(r'[^0-9]', '', regex=True)\n",
    "df['time'] = df['time'].str.replace(r'[^0-9]', '', regex=True)\n",
    "df['votes'] = df['votes'].str.replace(r'[^0-9]', '', regex=True)\n",
    "# df['rating'] = df['rating'].str.replace(r'[^\\D]', '', regex=True)"
   ]
  },
  {
   "cell_type": "code",
   "execution_count": 22,
   "id": "1eb90b58-59b7-426a-a2ce-65717b9a8976",
   "metadata": {},
   "outputs": [],
   "source": [
    "# filling 0 inplace of Nans, in votes number column (we need this for popular movies)\n",
    "df['votes']=df.votes.fillna(0)\n",
    "df['votes'] = df['votes'].astype('int')"
   ]
  },
  {
   "cell_type": "code",
   "execution_count": null,
   "id": "531b8c75-fde6-4630-8ef1-eab7482659ec",
   "metadata": {},
   "outputs": [],
   "source": []
  },
  {
   "cell_type": "code",
   "execution_count": 23,
   "id": "ce5cb2d7-36ab-4283-bf18-f56a3204d1e1",
   "metadata": {},
   "outputs": [],
   "source": [
    "# filling 0 inplace of Nans, in votes number column (we need this for popular movies)\n",
    "df['year'] = pd.to_numeric(df['year'] )\n",
    "df['year']=df.year.fillna(0)\n",
    "df['year'] = df['year'].astype('int')"
   ]
  },
  {
   "cell_type": "code",
   "execution_count": 24,
   "id": "f6553a37",
   "metadata": {},
   "outputs": [],
   "source": [
    "def remove_newline_chars(text):\n",
    "    \"\"\"Removes `\\n` characters from a text string.\"\"\"\n",
    "    text_str = re.sub(r\"\\n\", \"\", text)\n",
    "    return text_str"
   ]
  },
  {
   "cell_type": "code",
   "execution_count": 25,
   "id": "fd41fd10",
   "metadata": {
    "scrolled": true
   },
   "outputs": [],
   "source": [
    "df[\"genre\"] = df[\"genre\"].apply(remove_newline_chars)\n",
    "df[\"synopsis\"] = df[\"synopsis\"].apply(remove_newline_chars)\n"
   ]
  },
  {
   "cell_type": "code",
   "execution_count": 26,
   "id": "b8e3da9b",
   "metadata": {
    "scrolled": true
   },
   "outputs": [
    {
     "data": {
      "text/html": [
       "<div>\n",
       "<style scoped>\n",
       "    .dataframe tbody tr th:only-of-type {\n",
       "        vertical-align: middle;\n",
       "    }\n",
       "\n",
       "    .dataframe tbody tr th {\n",
       "        vertical-align: top;\n",
       "    }\n",
       "\n",
       "    .dataframe thead th {\n",
       "        text-align: right;\n",
       "    }\n",
       "</style>\n",
       "<table border=\"1\" class=\"dataframe\">\n",
       "  <thead>\n",
       "    <tr style=\"text-align: right;\">\n",
       "      <th></th>\n",
       "      <th>title</th>\n",
       "      <th>year</th>\n",
       "      <th>certificate</th>\n",
       "      <th>genre</th>\n",
       "      <th>time</th>\n",
       "      <th>rating</th>\n",
       "      <th>synopsis</th>\n",
       "      <th>director</th>\n",
       "      <th>actor 1</th>\n",
       "      <th>actor 2</th>\n",
       "      <th>actor 3</th>\n",
       "      <th>actor 4</th>\n",
       "      <th>votes</th>\n",
       "      <th>movies_id</th>\n",
       "    </tr>\n",
       "  </thead>\n",
       "  <tbody>\n",
       "    <tr>\n",
       "      <th>0</th>\n",
       "      <td>Indiana Jones and the Dial of Destiny</td>\n",
       "      <td>2023</td>\n",
       "      <td>PG-13</td>\n",
       "      <td>Action, Adventure</td>\n",
       "      <td>154</td>\n",
       "      <td>6.9</td>\n",
       "      <td>Archaeologist Indiana Jones races against time...</td>\n",
       "      <td>James Mangold</td>\n",
       "      <td>Harrison Ford</td>\n",
       "      <td>Phoebe Waller-Bridge</td>\n",
       "      <td>Antonio Banderas</td>\n",
       "      <td>Karen Allen</td>\n",
       "      <td>41029</td>\n",
       "      <td>0</td>\n",
       "    </tr>\n",
       "    <tr>\n",
       "      <th>1</th>\n",
       "      <td>The Flash</td>\n",
       "      <td>2023</td>\n",
       "      <td>PG-13</td>\n",
       "      <td>Action, Adventure, Fantasy</td>\n",
       "      <td>144</td>\n",
       "      <td>7.2</td>\n",
       "      <td>Barry Allen uses his super speed to change the...</td>\n",
       "      <td>Andy Muschietti</td>\n",
       "      <td>Ezra Miller</td>\n",
       "      <td>Michael Keaton</td>\n",
       "      <td>Sasha Calle</td>\n",
       "      <td>Michael Shannon</td>\n",
       "      <td>80814</td>\n",
       "      <td>1</td>\n",
       "    </tr>\n",
       "    <tr>\n",
       "      <th>2</th>\n",
       "      <td>Spider-Man: Across the Spider-Verse</td>\n",
       "      <td>2023</td>\n",
       "      <td>PG</td>\n",
       "      <td>Animation, Action, Adventure</td>\n",
       "      <td>140</td>\n",
       "      <td>8.9</td>\n",
       "      <td>Miles Morales catapults across the Multiverse,...</td>\n",
       "      <td>Joaquim Dos Santos</td>\n",
       "      <td>Kemp Powers</td>\n",
       "      <td>Justin K. Thompson</td>\n",
       "      <td>Shameik Moore</td>\n",
       "      <td>Hailee Steinfeld</td>\n",
       "      <td>168355</td>\n",
       "      <td>2</td>\n",
       "    </tr>\n",
       "    <tr>\n",
       "      <th>3</th>\n",
       "      <td>Extraction II</td>\n",
       "      <td>2023</td>\n",
       "      <td>R</td>\n",
       "      <td>Action, Thriller</td>\n",
       "      <td>122</td>\n",
       "      <td>7.1</td>\n",
       "      <td>After barely surviving his grievous wounds fro...</td>\n",
       "      <td>Sam Hargrave</td>\n",
       "      <td>Chris Hemsworth</td>\n",
       "      <td>Golshifteh Farahani</td>\n",
       "      <td>Adam Bessa</td>\n",
       "      <td>Tornike Gogrichiani</td>\n",
       "      <td>81123</td>\n",
       "      <td>3</td>\n",
       "    </tr>\n",
       "    <tr>\n",
       "      <th>4</th>\n",
       "      <td>Avatar: The Way of Water</td>\n",
       "      <td>2022</td>\n",
       "      <td>PG-13</td>\n",
       "      <td>Action, Adventure, Fantasy</td>\n",
       "      <td>192</td>\n",
       "      <td>7.6</td>\n",
       "      <td>Jake Sully lives with his newfound family form...</td>\n",
       "      <td>James Cameron</td>\n",
       "      <td>Sam Worthington</td>\n",
       "      <td>Zoe Saldana</td>\n",
       "      <td>Sigourney Weaver</td>\n",
       "      <td>Stephen Lang</td>\n",
       "      <td>424931</td>\n",
       "      <td>4</td>\n",
       "    </tr>\n",
       "  </tbody>\n",
       "</table>\n",
       "</div>"
      ],
      "text/plain": [
       "                                   title  year certificate  \\\n",
       "0  Indiana Jones and the Dial of Destiny  2023       PG-13   \n",
       "1                              The Flash  2023       PG-13   \n",
       "2    Spider-Man: Across the Spider-Verse  2023          PG   \n",
       "3                          Extraction II  2023           R   \n",
       "4               Avatar: The Way of Water  2022       PG-13   \n",
       "\n",
       "                                      genre time  rating  \\\n",
       "0             Action, Adventure              154     6.9   \n",
       "1    Action, Adventure, Fantasy              144     7.2   \n",
       "2  Animation, Action, Adventure              140     8.9   \n",
       "3              Action, Thriller              122     7.1   \n",
       "4    Action, Adventure, Fantasy              192     7.6   \n",
       "\n",
       "                                            synopsis            director  \\\n",
       "0  Archaeologist Indiana Jones races against time...       James Mangold   \n",
       "1  Barry Allen uses his super speed to change the...     Andy Muschietti   \n",
       "2  Miles Morales catapults across the Multiverse,...  Joaquim Dos Santos   \n",
       "3  After barely surviving his grievous wounds fro...        Sam Hargrave   \n",
       "4  Jake Sully lives with his newfound family form...       James Cameron   \n",
       "\n",
       "           actor 1               actor 2           actor 3  \\\n",
       "0    Harrison Ford  Phoebe Waller-Bridge  Antonio Banderas   \n",
       "1      Ezra Miller        Michael Keaton       Sasha Calle   \n",
       "2      Kemp Powers    Justin K. Thompson     Shameik Moore   \n",
       "3  Chris Hemsworth   Golshifteh Farahani        Adam Bessa   \n",
       "4  Sam Worthington           Zoe Saldana  Sigourney Weaver   \n",
       "\n",
       "               actor 4   votes  movies_id  \n",
       "0          Karen Allen   41029          0  \n",
       "1      Michael Shannon   80814          1  \n",
       "2     Hailee Steinfeld  168355          2  \n",
       "3  Tornike Gogrichiani   81123          3  \n",
       "4         Stephen Lang  424931          4  "
      ]
     },
     "execution_count": 26,
     "metadata": {},
     "output_type": "execute_result"
    }
   ],
   "source": [
    "df.head()"
   ]
  },
  {
   "cell_type": "code",
   "execution_count": 27,
   "id": "18843103",
   "metadata": {},
   "outputs": [],
   "source": [
    "df['director'] = df['director'].str.replace(' ', '')\n",
    "df['actor 1'] = df['actor 1'].str.replace(' ', '')\n",
    "df['actor 2'] = df['actor 2'].str.replace(' ', '')\n",
    "df['actor 3'] = df['actor 3'].str.replace(' ', '')\n",
    "df['actor 4'] = df['actor 4'].str.replace(' ', '')\n",
    "df['genre']   = df['genre'].str.replace(' ', '')\n",
    "df['genre']   = df['genre'].str.replace(',', ', ')"
   ]
  },
  {
   "cell_type": "code",
   "execution_count": 28,
   "id": "46cc1b70",
   "metadata": {
    "scrolled": true
   },
   "outputs": [
    {
     "data": {
      "text/html": [
       "<div>\n",
       "<style scoped>\n",
       "    .dataframe tbody tr th:only-of-type {\n",
       "        vertical-align: middle;\n",
       "    }\n",
       "\n",
       "    .dataframe tbody tr th {\n",
       "        vertical-align: top;\n",
       "    }\n",
       "\n",
       "    .dataframe thead th {\n",
       "        text-align: right;\n",
       "    }\n",
       "</style>\n",
       "<table border=\"1\" class=\"dataframe\">\n",
       "  <thead>\n",
       "    <tr style=\"text-align: right;\">\n",
       "      <th></th>\n",
       "      <th>title</th>\n",
       "      <th>year</th>\n",
       "      <th>certificate</th>\n",
       "      <th>genre</th>\n",
       "      <th>time</th>\n",
       "      <th>rating</th>\n",
       "      <th>synopsis</th>\n",
       "      <th>director</th>\n",
       "      <th>actor 1</th>\n",
       "      <th>actor 2</th>\n",
       "      <th>actor 3</th>\n",
       "      <th>actor 4</th>\n",
       "      <th>votes</th>\n",
       "      <th>movies_id</th>\n",
       "    </tr>\n",
       "  </thead>\n",
       "  <tbody>\n",
       "    <tr>\n",
       "      <th>0</th>\n",
       "      <td>Indiana Jones and the Dial of Destiny</td>\n",
       "      <td>2023</td>\n",
       "      <td>PG-13</td>\n",
       "      <td>Action, Adventure</td>\n",
       "      <td>154</td>\n",
       "      <td>6.9</td>\n",
       "      <td>Archaeologist Indiana Jones races against time...</td>\n",
       "      <td>JamesMangold</td>\n",
       "      <td>HarrisonFord</td>\n",
       "      <td>PhoebeWaller-Bridge</td>\n",
       "      <td>AntonioBanderas</td>\n",
       "      <td>KarenAllen</td>\n",
       "      <td>41029</td>\n",
       "      <td>0</td>\n",
       "    </tr>\n",
       "    <tr>\n",
       "      <th>1</th>\n",
       "      <td>The Flash</td>\n",
       "      <td>2023</td>\n",
       "      <td>PG-13</td>\n",
       "      <td>Action, Adventure, Fantasy</td>\n",
       "      <td>144</td>\n",
       "      <td>7.2</td>\n",
       "      <td>Barry Allen uses his super speed to change the...</td>\n",
       "      <td>AndyMuschietti</td>\n",
       "      <td>EzraMiller</td>\n",
       "      <td>MichaelKeaton</td>\n",
       "      <td>SashaCalle</td>\n",
       "      <td>MichaelShannon</td>\n",
       "      <td>80814</td>\n",
       "      <td>1</td>\n",
       "    </tr>\n",
       "    <tr>\n",
       "      <th>2</th>\n",
       "      <td>Spider-Man: Across the Spider-Verse</td>\n",
       "      <td>2023</td>\n",
       "      <td>PG</td>\n",
       "      <td>Animation, Action, Adventure</td>\n",
       "      <td>140</td>\n",
       "      <td>8.9</td>\n",
       "      <td>Miles Morales catapults across the Multiverse,...</td>\n",
       "      <td>JoaquimDosSantos</td>\n",
       "      <td>KempPowers</td>\n",
       "      <td>JustinK.Thompson</td>\n",
       "      <td>ShameikMoore</td>\n",
       "      <td>HaileeSteinfeld</td>\n",
       "      <td>168355</td>\n",
       "      <td>2</td>\n",
       "    </tr>\n",
       "    <tr>\n",
       "      <th>3</th>\n",
       "      <td>Extraction II</td>\n",
       "      <td>2023</td>\n",
       "      <td>R</td>\n",
       "      <td>Action, Thriller</td>\n",
       "      <td>122</td>\n",
       "      <td>7.1</td>\n",
       "      <td>After barely surviving his grievous wounds fro...</td>\n",
       "      <td>SamHargrave</td>\n",
       "      <td>ChrisHemsworth</td>\n",
       "      <td>GolshiftehFarahani</td>\n",
       "      <td>AdamBessa</td>\n",
       "      <td>TornikeGogrichiani</td>\n",
       "      <td>81123</td>\n",
       "      <td>3</td>\n",
       "    </tr>\n",
       "    <tr>\n",
       "      <th>4</th>\n",
       "      <td>Avatar: The Way of Water</td>\n",
       "      <td>2022</td>\n",
       "      <td>PG-13</td>\n",
       "      <td>Action, Adventure, Fantasy</td>\n",
       "      <td>192</td>\n",
       "      <td>7.6</td>\n",
       "      <td>Jake Sully lives with his newfound family form...</td>\n",
       "      <td>JamesCameron</td>\n",
       "      <td>SamWorthington</td>\n",
       "      <td>ZoeSaldana</td>\n",
       "      <td>SigourneyWeaver</td>\n",
       "      <td>StephenLang</td>\n",
       "      <td>424931</td>\n",
       "      <td>4</td>\n",
       "    </tr>\n",
       "  </tbody>\n",
       "</table>\n",
       "</div>"
      ],
      "text/plain": [
       "                                   title  year certificate  \\\n",
       "0  Indiana Jones and the Dial of Destiny  2023       PG-13   \n",
       "1                              The Flash  2023       PG-13   \n",
       "2    Spider-Man: Across the Spider-Verse  2023          PG   \n",
       "3                          Extraction II  2023           R   \n",
       "4               Avatar: The Way of Water  2022       PG-13   \n",
       "\n",
       "                          genre time  rating  \\\n",
       "0             Action, Adventure  154     6.9   \n",
       "1    Action, Adventure, Fantasy  144     7.2   \n",
       "2  Animation, Action, Adventure  140     8.9   \n",
       "3              Action, Thriller  122     7.1   \n",
       "4    Action, Adventure, Fantasy  192     7.6   \n",
       "\n",
       "                                            synopsis          director  \\\n",
       "0  Archaeologist Indiana Jones races against time...      JamesMangold   \n",
       "1  Barry Allen uses his super speed to change the...    AndyMuschietti   \n",
       "2  Miles Morales catapults across the Multiverse,...  JoaquimDosSantos   \n",
       "3  After barely surviving his grievous wounds fro...       SamHargrave   \n",
       "4  Jake Sully lives with his newfound family form...      JamesCameron   \n",
       "\n",
       "          actor 1              actor 2          actor 3             actor 4  \\\n",
       "0    HarrisonFord  PhoebeWaller-Bridge  AntonioBanderas          KarenAllen   \n",
       "1      EzraMiller        MichaelKeaton       SashaCalle      MichaelShannon   \n",
       "2      KempPowers     JustinK.Thompson     ShameikMoore     HaileeSteinfeld   \n",
       "3  ChrisHemsworth   GolshiftehFarahani        AdamBessa  TornikeGogrichiani   \n",
       "4  SamWorthington           ZoeSaldana  SigourneyWeaver         StephenLang   \n",
       "\n",
       "    votes  movies_id  \n",
       "0   41029          0  \n",
       "1   80814          1  \n",
       "2  168355          2  \n",
       "3   81123          3  \n",
       "4  424931          4  "
      ]
     },
     "execution_count": 28,
     "metadata": {},
     "output_type": "execute_result"
    }
   ],
   "source": [
    "df.head()"
   ]
  },
  {
   "cell_type": "markdown",
   "id": "8ba35865-79fe-41eb-9d74-c642527f5caa",
   "metadata": {},
   "source": [
    "## Joining Names and SUrnames"
   ]
  },
  {
   "cell_type": "code",
   "execution_count": 3,
   "id": "950e6c6e",
   "metadata": {},
   "outputs": [
    {
     "name": "stdout",
     "output_type": "stream",
     "text": [
      "my name is dickgreyson and this is my girifriend harleyquinn\n"
     ]
    }
   ],
   "source": [
    "import spacy\n",
    "\n",
    "def concatenate_names(sentence):\n",
    "    nlp = spacy.load(\"en_core_web_lg\")\n",
    "    ner_dict = dict()\n",
    "\n",
    "    # Extract names from the sentence using NER\n",
    "    doc = nlp(sentence)\n",
    "    \n",
    "    for ent in doc.ents:\n",
    "        if ent.label_ == \"PERSON\":\n",
    "            name = ent.text\n",
    "            new_name = name.replace(' ','')\n",
    "            ner_dict[name] = new_name\n",
    "    \n",
    "    # Replace names with names without spaces in the sentence\n",
    "    for i, j in ner_dict.items():\n",
    "        sentence = sentence.replace(i,j)\n",
    "        \n",
    "    return sentence\n",
    "\n",
    "# Test the function\n",
    "# sentence = \"Ryan Holiday is an author, and Ryan is famous for his books.\"\n",
    "sentence = 'my name is dick greyson and this is my girifriend harley quinn'\n",
    "result = concatenate_names(sentence)\n",
    "print(result)\n"
   ]
  },
  {
   "cell_type": "code",
   "execution_count": 4,
   "id": "13dd684c-9efb-4414-a793-7ed15ed09982",
   "metadata": {},
   "outputs": [
    {
     "ename": "NameError",
     "evalue": "name 'df' is not defined",
     "output_type": "error",
     "traceback": [
      "\u001b[0;31m---------------------------------------------------------------------------\u001b[0m",
      "\u001b[0;31mNameError\u001b[0m                                 Traceback (most recent call last)",
      "Cell \u001b[0;32mIn[4], line 1\u001b[0m\n\u001b[0;32m----> 1\u001b[0m all_synopsis \u001b[38;5;241m=\u001b[39m \u001b[43mdf\u001b[49m[\u001b[38;5;124m'\u001b[39m\u001b[38;5;124msynopsis\u001b[39m\u001b[38;5;124m'\u001b[39m]\u001b[38;5;241m.\u001b[39mtolist()\n",
      "\u001b[0;31mNameError\u001b[0m: name 'df' is not defined"
     ]
    }
   ],
   "source": [
    "all_synopsis = df['synopsis'].tolist()"
   ]
  },
  {
   "cell_type": "code",
   "execution_count": 52,
   "id": "28223d05-7c25-40d2-831e-31b1f7124da9",
   "metadata": {},
   "outputs": [
    {
     "data": {
      "text/plain": [
       "285335"
      ]
     },
     "execution_count": 52,
     "metadata": {},
     "output_type": "execute_result"
    }
   ],
   "source": [
    "len(all_synopsis)"
   ]
  },
  {
   "cell_type": "code",
   "execution_count": 1,
   "id": "5b84669a-7c17-461f-96d7-527ea2c87501",
   "metadata": {},
   "outputs": [],
   "source": [
    "import concurrent.futures as cf\n",
    "import time\n",
    "import string\n"
   ]
  },
  {
   "cell_type": "code",
   "execution_count": null,
   "id": "b9d4f4ca-21e7-47d7-98ba-71abbdfab269",
   "metadata": {},
   "outputs": [
    {
     "name": "stdout",
     "output_type": "stream",
     "text": [
      "Strated : 13:35:44\n"
     ]
    }
   ],
   "source": [
    "start_time = time.perf_counter()\n",
    "print('Strated :',  time.strftime(\"%H:%M:%S\", time.localtime()))\n",
    "\n",
    "with cf.ProcessPoolExecutor(max_workers=3) as executer:\n",
    "    dodo = [executer.submit(concatenate_names, i) for i in all_synopsis]\n",
    "    clean_tags = dodo.result()\n",
    "\n",
    "print('Took: ',time.perf_counter()-a)\n",
    "print('Finished :',  time.strftime(\"%H:%M:%S\", time.localtime()))\n"
   ]
  },
  {
   "cell_type": "code",
   "execution_count": 100,
   "id": "4b4d1fd6",
   "metadata": {},
   "outputs": [],
   "source": [
    "\n",
    "def remove_punctuations(text):\n",
    "    return text.translate(str.maketrans(\"\", \"\", string.punctuation))"
   ]
  },
  {
   "cell_type": "code",
   "execution_count": 101,
   "id": "edb65125",
   "metadata": {},
   "outputs": [],
   "source": [
    "df['tags'] = df['tags'].apply(remove_punctuations)"
   ]
  },
  {
   "cell_type": "code",
   "execution_count": null,
   "id": "c051b4b8",
   "metadata": {
    "scrolled": true
   },
   "outputs": [],
   "source": [
    "df.columns"
   ]
  },
  {
   "cell_type": "code",
   "execution_count": null,
   "id": "4d7cae26",
   "metadata": {},
   "outputs": [],
   "source": [
    "df.info()"
   ]
  },
  {
   "cell_type": "code",
   "execution_count": null,
   "id": "d130227e-1ce5-47bd-a8fd-b35a8ea28772",
   "metadata": {},
   "outputs": [],
   "source": [
    "cols_to_combine = ['title', 'year', 'certificate', 'genre', 'time', 'rating', 'synopsis',\n",
    "       'director', 'actor 1', 'actor 2', 'actor 3', 'actor 4',\n",
    "       'movies_id']"
   ]
  },
  {
   "cell_type": "code",
   "execution_count": null,
   "id": "bb915623",
   "metadata": {},
   "outputs": [],
   "source": [
    "df['tags'] = df[cols_to_combine].astype(str).apply(' '.join, axis=1)\n"
   ]
  },
  {
   "cell_type": "code",
   "execution_count": null,
   "id": "b3722732",
   "metadata": {},
   "outputs": [],
   "source": [
    "df.head()"
   ]
  },
  {
   "cell_type": "code",
   "execution_count": null,
   "id": "6fa4f7d3",
   "metadata": {},
   "outputs": [],
   "source": [
    "dff = df[['title', 'movies_id', 'tags', 'votes', 'rating']]"
   ]
  },
  {
   "cell_type": "code",
   "execution_count": null,
   "id": "1fc5f2ad",
   "metadata": {},
   "outputs": [],
   "source": [
    "dff.head()"
   ]
  },
  {
   "cell_type": "code",
   "execution_count": null,
   "id": "1a3364c1",
   "metadata": {
    "scrolled": true
   },
   "outputs": [],
   "source": [
    "dff['tags'] = dff['tags'].str.lower()\n"
   ]
  },
  {
   "cell_type": "code",
   "execution_count": null,
   "id": "bb719e84-9412-4096-a36a-23cc6fb9720a",
   "metadata": {
    "scrolled": true
   },
   "outputs": [],
   "source": [
    "# Create a PorterStemmer object\n",
    "stemmer = PorterStemmer()\n",
    "\n",
    "# Apply the stemming function to each word in the series\n",
    "dff['tags'] = dff['tags'].apply(stemmer.stem)\n"
   ]
  },
  {
   "cell_type": "code",
   "execution_count": 33,
   "id": "c0097ff9-7777-4dcb-892f-ede516db69b8",
   "metadata": {},
   "outputs": [
    {
     "name": "stderr",
     "output_type": "stream",
     "text": [
      "/tmp/ipykernel_10411/347210390.py:1: SettingWithCopyWarning: \n",
      "A value is trying to be set on a copy of a slice from a DataFrame.\n",
      "Try using .loc[row_indexer,col_indexer] = value instead\n",
      "\n",
      "See the caveats in the documentation: https://pandas.pydata.org/pandas-docs/stable/user_guide/indexing.html#returning-a-view-versus-a-copy\n",
      "  dff['tags'] = dff['tags'].str.split()\n"
     ]
    }
   ],
   "source": [
    "dff['tags'] = dff['tags'].str.split()"
   ]
  },
  {
   "cell_type": "code",
   "execution_count": 34,
   "id": "d508815b",
   "metadata": {},
   "outputs": [
    {
     "data": {
      "text/html": [
       "<div>\n",
       "<style scoped>\n",
       "    .dataframe tbody tr th:only-of-type {\n",
       "        vertical-align: middle;\n",
       "    }\n",
       "\n",
       "    .dataframe tbody tr th {\n",
       "        vertical-align: top;\n",
       "    }\n",
       "\n",
       "    .dataframe thead th {\n",
       "        text-align: right;\n",
       "    }\n",
       "</style>\n",
       "<table border=\"1\" class=\"dataframe\">\n",
       "  <thead>\n",
       "    <tr style=\"text-align: right;\">\n",
       "      <th></th>\n",
       "      <th>title</th>\n",
       "      <th>movies_id</th>\n",
       "      <th>tags</th>\n",
       "      <th>votes</th>\n",
       "      <th>rating</th>\n",
       "    </tr>\n",
       "  </thead>\n",
       "  <tbody>\n",
       "    <tr>\n",
       "      <th>0</th>\n",
       "      <td>Indiana Jones and the Dial of Destiny</td>\n",
       "      <td>0</td>\n",
       "      <td>[indiana, jones, and, the, dial, of, destiny, ...</td>\n",
       "      <td>41029</td>\n",
       "      <td>6.9</td>\n",
       "    </tr>\n",
       "    <tr>\n",
       "      <th>1</th>\n",
       "      <td>The Flash</td>\n",
       "      <td>1</td>\n",
       "      <td>[the, flash, 80814, pg-13, action,, adventure,...</td>\n",
       "      <td>80814</td>\n",
       "      <td>7.2</td>\n",
       "    </tr>\n",
       "    <tr>\n",
       "      <th>2</th>\n",
       "      <td>Spider-Man: Across the Spider-Verse</td>\n",
       "      <td>2</td>\n",
       "      <td>[spider-man:, across, the, spider-verse, 16835...</td>\n",
       "      <td>168355</td>\n",
       "      <td>8.9</td>\n",
       "    </tr>\n",
       "    <tr>\n",
       "      <th>3</th>\n",
       "      <td>Extraction II</td>\n",
       "      <td>3</td>\n",
       "      <td>[extraction, ii, 81123, r, action,, thriller, ...</td>\n",
       "      <td>81123</td>\n",
       "      <td>7.1</td>\n",
       "    </tr>\n",
       "    <tr>\n",
       "      <th>4</th>\n",
       "      <td>Avatar: The Way of Water</td>\n",
       "      <td>4</td>\n",
       "      <td>[avatar:, the, way, of, water, 424931, pg-13, ...</td>\n",
       "      <td>424931</td>\n",
       "      <td>7.6</td>\n",
       "    </tr>\n",
       "  </tbody>\n",
       "</table>\n",
       "</div>"
      ],
      "text/plain": [
       "                                   title  movies_id  \\\n",
       "0  Indiana Jones and the Dial of Destiny          0   \n",
       "1                              The Flash          1   \n",
       "2    Spider-Man: Across the Spider-Verse          2   \n",
       "3                          Extraction II          3   \n",
       "4               Avatar: The Way of Water          4   \n",
       "\n",
       "                                                tags   votes  rating  \n",
       "0  [indiana, jones, and, the, dial, of, destiny, ...   41029     6.9  \n",
       "1  [the, flash, 80814, pg-13, action,, adventure,...   80814     7.2  \n",
       "2  [spider-man:, across, the, spider-verse, 16835...  168355     8.9  \n",
       "3  [extraction, ii, 81123, r, action,, thriller, ...   81123     7.1  \n",
       "4  [avatar:, the, way, of, water, 424931, pg-13, ...  424931     7.6  "
      ]
     },
     "execution_count": 34,
     "metadata": {},
     "output_type": "execute_result"
    }
   ],
   "source": [
    "dff.head()"
   ]
  },
  {
   "cell_type": "code",
   "execution_count": 35,
   "id": "4c4f587c",
   "metadata": {},
   "outputs": [],
   "source": [
    "all_words = dff['tags'].values.tolist()"
   ]
  },
  {
   "cell_type": "code",
   "execution_count": 36,
   "id": "d7b83437",
   "metadata": {},
   "outputs": [],
   "source": [
    "def flatten_nested_list(nested_list):\n",
    "    return [item for sublist in nested_list for item in (flatten_nested_list(sublist) if isinstance(sublist, list) else [sublist])]\n"
   ]
  },
  {
   "cell_type": "code",
   "execution_count": 37,
   "id": "397c85fd",
   "metadata": {},
   "outputs": [],
   "source": [
    "all_wordss = flatten_nested_list(all_words)"
   ]
  },
  {
   "cell_type": "code",
   "execution_count": 38,
   "id": "12825677",
   "metadata": {},
   "outputs": [
    {
     "data": {
      "text/plain": [
       "(11069853, 1105181)"
      ]
     },
     "execution_count": 38,
     "metadata": {},
     "output_type": "execute_result"
    }
   ],
   "source": [
    "len(all_wordss), len(set(all_wordss))"
   ]
  },
  {
   "cell_type": "code",
   "execution_count": 39,
   "id": "18f1faee",
   "metadata": {},
   "outputs": [],
   "source": [
    "from sklearn.feature_extraction.text import  CountVectorizer"
   ]
  },
  {
   "cell_type": "code",
   "execution_count": 40,
   "id": "c39bb616",
   "metadata": {},
   "outputs": [],
   "source": [
    "cv = CountVectorizer(lowercase=True, stop_words='english', max_features=5000, dtype=np.int16 )"
   ]
  },
  {
   "cell_type": "code",
   "execution_count": 41,
   "id": "1e752346",
   "metadata": {},
   "outputs": [],
   "source": [
    "vector = cv.fit_transform(df['tags'])"
   ]
  },
  {
   "cell_type": "code",
   "execution_count": 42,
   "id": "99081a64-93dc-4a8c-9e95-c2e9df4998aa",
   "metadata": {},
   "outputs": [
    {
     "data": {
      "text/plain": [
       "<285335x5000 sparse matrix of type '<class 'numpy.int16'>'\n",
       "\twith 4124550 stored elements in Compressed Sparse Row format>"
      ]
     },
     "execution_count": 42,
     "metadata": {},
     "output_type": "execute_result"
    }
   ],
   "source": [
    "vector"
   ]
  },
  {
   "cell_type": "code",
   "execution_count": null,
   "id": "601be4f9",
   "metadata": {},
   "outputs": [],
   "source": []
  },
  {
   "cell_type": "code",
   "execution_count": 43,
   "id": "ee907234-77bd-404a-818d-9ec9aa2bb0f5",
   "metadata": {},
   "outputs": [
    {
     "data": {
      "text/plain": [
       "<1x5000 sparse matrix of type '<class 'numpy.int16'>'\n",
       "\twith 22 stored elements in Compressed Sparse Row format>"
      ]
     },
     "execution_count": 43,
     "metadata": {},
     "output_type": "execute_result"
    }
   ],
   "source": [
    "vector[2]"
   ]
  },
  {
   "cell_type": "code",
   "execution_count": 44,
   "id": "963fb732",
   "metadata": {},
   "outputs": [],
   "source": [
    "# pickle.dump(movie_vector, open('movie_vector.pkl','wb'))  # creates file of 2.6 gb\n",
    "pickle.dump(vector, open('vector.pkl','wb'))"
   ]
  },
  {
   "cell_type": "code",
   "execution_count": 45,
   "id": "6b8f693a",
   "metadata": {},
   "outputs": [],
   "source": [
    "def find_similar_movies(x:str, k = 5) -> List[str]:\n",
    "    movie_id  = dff[dff.title == x].movies_id.values[0]\n",
    "    movie_idx = dff[dff.title == x].index.values[0]\n",
    "    # movie_vector  = vector.toarray()\n",
    "    sim_vec  = cosine_similarity(vector, vector[movie_idx])\n",
    "    y = sorted(enumerate(sim_vec), key=lambda x: x[1], reverse=True)\n",
    "    # print(movie_id, movie_idx)\n",
    "    # print(y[:4])\n",
    "    recommended_movies_ids = [i[0] for i in y[1:k+1]]\n",
    "    print(recommended_movies_ids)\n",
    "    for i in recommended_movies_ids:\n",
    "        print(df.iloc[i].title)"
   ]
  },
  {
   "cell_type": "code",
   "execution_count": 46,
   "id": "ea6c78ee",
   "metadata": {},
   "outputs": [
    {
     "name": "stdout",
     "output_type": "stream",
     "text": [
      "[298, 291, 1297, 1024, 53293, 3290, 52, 947, 100, 5]\n",
      "Iron Man 3\n",
      "Iron Man 2\n",
      "Spectral\n",
      "Bloodshot\n",
      "Centipede!\n",
      "Wing Commander\n",
      "Transformers\n",
      "Gemini Man\n",
      "The Fifth Element\n",
      "Transformers: Rise of the Beasts\n"
     ]
    }
   ],
   "source": [
    "find_similar_movies(\n",
    "    'Iron Man',\n",
    "\n",
    "k = 10)"
   ]
  },
  {
   "cell_type": "code",
   "execution_count": 47,
   "id": "94c36e13",
   "metadata": {},
   "outputs": [
    {
     "data": {
      "text/plain": [
       "0    Indiana Jones and the Dial of Destiny\n",
       "1                                The Flash\n",
       "2      Spider-Man: Across the Spider-Verse\n",
       "3                            Extraction II\n",
       "Name: title, dtype: object"
      ]
     },
     "execution_count": 47,
     "metadata": {},
     "output_type": "execute_result"
    }
   ],
   "source": [
    "dff.title[:4]"
   ]
  },
  {
   "cell_type": "code",
   "execution_count": 48,
   "id": "135dfb37",
   "metadata": {},
   "outputs": [
    {
     "data": {
      "text/plain": [
       "['La Secta',\n",
       " 'If Nothing Changes',\n",
       " 'The Legend Trip',\n",
       " 'Dutta Vs. Dutta',\n",
       " 'Suicide Love',\n",
       " 'Werner - Volles Rooäää!!!',\n",
       " 'Road to Hell',\n",
       " 'Das blinde Ohr der Oper',\n",
       " 'Just Like Weather',\n",
       " 'Lulu on the Bridge',\n",
       " 'Disappearance at Clifton Hill',\n",
       " 'The Protomen - Live in Nashville',\n",
       " 'Katana',\n",
       " 'Luen oi hang sing',\n",
       " 'Kamay ni Cain',\n",
       " 'My Crazy Mother',\n",
       " 'The Leaving',\n",
       " 'The Battle of Algiers',\n",
       " 'Private High Musical',\n",
       " 'The Secret of the Urn',\n",
       " 'Krishna Mantras',\n",
       " 'Super Monkey Returns',\n",
       " 'Devils to Worry',\n",
       " 'Mission: Love',\n",
       " 'Otra vuelta de tuerca',\n",
       " 'Exquisite Sinner',\n",
       " 'The Story of Hearts',\n",
       " \"Maskeli Süvari'nin Dönüsü\",\n",
       " 'The Real Us',\n",
       " 'Na putu za Katangu',\n",
       " 'A Man of No Importance',\n",
       " 'Addicts',\n",
       " 'Taurins Senior',\n",
       " 'The Private',\n",
       " 'The Little Crazy Thing',\n",
       " 'Asene Kunuba Hiyat',\n",
       " 'Horns',\n",
       " 'Losing Addison',\n",
       " 'School for Suicide',\n",
       " 'Intoxicated by Love',\n",
       " 'Butterflies',\n",
       " 'Aline',\n",
       " 'All Men Are Wicked',\n",
       " 'DeMonD the movie',\n",
       " 'Kadaisi Bench Karthi',\n",
       " 'Eli Regrets',\n",
       " 'Il ritorno dei Paninari',\n",
       " 'Fuerte',\n",
       " 'Tigry na ldu',\n",
       " 'Tape Recorder']"
      ]
     },
     "execution_count": 48,
     "metadata": {},
     "output_type": "execute_result"
    }
   ],
   "source": [
    "dff.title.sample(50).values.tolist()"
   ]
  },
  {
   "cell_type": "code",
   "execution_count": 49,
   "id": "f933c647",
   "metadata": {},
   "outputs": [
    {
     "data": {
      "text/html": [
       "<div>\n",
       "<style scoped>\n",
       "    .dataframe tbody tr th:only-of-type {\n",
       "        vertical-align: middle;\n",
       "    }\n",
       "\n",
       "    .dataframe tbody tr th {\n",
       "        vertical-align: top;\n",
       "    }\n",
       "\n",
       "    .dataframe thead th {\n",
       "        text-align: right;\n",
       "    }\n",
       "</style>\n",
       "<table border=\"1\" class=\"dataframe\">\n",
       "  <thead>\n",
       "    <tr style=\"text-align: right;\">\n",
       "      <th></th>\n",
       "      <th>title</th>\n",
       "      <th>movies_id</th>\n",
       "      <th>tags</th>\n",
       "      <th>votes</th>\n",
       "      <th>rating</th>\n",
       "    </tr>\n",
       "  </thead>\n",
       "  <tbody>\n",
       "    <tr>\n",
       "      <th>148</th>\n",
       "      <td>Iron Man</td>\n",
       "      <td>148</td>\n",
       "      <td>[iron, man, 1086969, pg-13, action,, adventure...</td>\n",
       "      <td>1086969</td>\n",
       "      <td>7.9</td>\n",
       "    </tr>\n",
       "  </tbody>\n",
       "</table>\n",
       "</div>"
      ],
      "text/plain": [
       "        title  movies_id                                               tags  \\\n",
       "148  Iron Man        148  [iron, man, 1086969, pg-13, action,, adventure...   \n",
       "\n",
       "       votes  rating  \n",
       "148  1086969     7.9  "
      ]
     },
     "execution_count": 49,
     "metadata": {},
     "output_type": "execute_result"
    }
   ],
   "source": [
    "dff[dff.title=='Iron Man']"
   ]
  },
  {
   "cell_type": "code",
   "execution_count": 50,
   "id": "758bbed7",
   "metadata": {},
   "outputs": [],
   "source": [
    "def find_popular_movies( k = 5) -> List[str]:\n",
    "    movie_id  = dff[dff.title == x].movies_id.values[0]\n",
    "    movie_idx = dff[dff.title == x].index.values[0]\n",
    "    # movie_vector  = vector.toarray()\n",
    "    sim_vec  = cosine_similarity(vector, vector[movie_idx])\n",
    "    y = sorted(enumerate(sim_vec), key=lambda x: x[1], reverse=True)\n",
    "    # print(movie_id, movie_idx)\n",
    "    # print(y[:4])\n",
    "    recommended_movies_ids = [i[0] for i in y[1:k+1]]\n",
    "    print(recommended_movies_ids)\n",
    "    for i in recommended_movies_ids:\n",
    "        print(df.iloc[i].title)"
   ]
  },
  {
   "cell_type": "code",
   "execution_count": 51,
   "id": "84552c46-4000-4adf-8308-de43f53c2725",
   "metadata": {},
   "outputs": [
    {
     "data": {
      "text/plain": [
       "Index(['title', 'year', 'certificate', 'genre', 'time', 'rating', 'synopsis',\n",
       "       'director', 'actor 1', 'actor 2', 'actor 3', 'actor 4', 'votes',\n",
       "       'movies_id', 'tags'],\n",
       "      dtype='object')"
      ]
     },
     "execution_count": 51,
     "metadata": {},
     "output_type": "execute_result"
    }
   ],
   "source": [
    "df.columns"
   ]
  },
  {
   "cell_type": "code",
   "execution_count": 52,
   "id": "3b12221c-8d0c-4838-a8a7-2a71553fc4cd",
   "metadata": {},
   "outputs": [
    {
     "name": "stdout",
     "output_type": "stream",
     "text": [
      "<class 'pandas.core.frame.DataFrame'>\n",
      "Index: 285335 entries, 0 to 285340\n",
      "Data columns (total 15 columns):\n",
      " #   Column       Non-Null Count   Dtype  \n",
      "---  ------       --------------   -----  \n",
      " 0   title        285335 non-null  object \n",
      " 1   year         285335 non-null  int64  \n",
      " 2   certificate  72950 non-null   object \n",
      " 3   genre        285335 non-null  object \n",
      " 4   time         204235 non-null  object \n",
      " 5   rating       184308 non-null  float64\n",
      " 6   synopsis     285335 non-null  object \n",
      " 7   director     269259 non-null  object \n",
      " 8   actor 1      253715 non-null  object \n",
      " 9   actor 2      246316 non-null  object \n",
      " 10  actor 3      239797 non-null  object \n",
      " 11  actor 4      230067 non-null  object \n",
      " 12  votes        285335 non-null  int64  \n",
      " 13  movies_id    285335 non-null  int64  \n",
      " 14  tags         285335 non-null  object \n",
      "dtypes: float64(1), int64(3), object(11)\n",
      "memory usage: 34.8+ MB\n"
     ]
    }
   ],
   "source": [
    "df.info()"
   ]
  },
  {
   "cell_type": "code",
   "execution_count": null,
   "id": "d257e496-95c2-4fe7-83f3-27ae473b527a",
   "metadata": {},
   "outputs": [],
   "source": []
  },
  {
   "cell_type": "code",
   "execution_count": null,
   "id": "c20b2fb9-9426-4751-a340-c1b7cc7d0012",
   "metadata": {},
   "outputs": [],
   "source": []
  },
  {
   "cell_type": "code",
   "execution_count": 53,
   "id": "0eb8b706",
   "metadata": {
    "scrolled": true
   },
   "outputs": [
    {
     "data": {
      "text/html": [
       "<div>\n",
       "<style scoped>\n",
       "    .dataframe tbody tr th:only-of-type {\n",
       "        vertical-align: middle;\n",
       "    }\n",
       "\n",
       "    .dataframe tbody tr th {\n",
       "        vertical-align: top;\n",
       "    }\n",
       "\n",
       "    .dataframe thead th {\n",
       "        text-align: right;\n",
       "    }\n",
       "</style>\n",
       "<table border=\"1\" class=\"dataframe\">\n",
       "  <thead>\n",
       "    <tr style=\"text-align: right;\">\n",
       "      <th></th>\n",
       "      <th>title</th>\n",
       "      <th>year</th>\n",
       "      <th>certificate</th>\n",
       "      <th>genre</th>\n",
       "      <th>time</th>\n",
       "      <th>rating</th>\n",
       "      <th>synopsis</th>\n",
       "      <th>director</th>\n",
       "      <th>actor 1</th>\n",
       "      <th>actor 2</th>\n",
       "      <th>actor 3</th>\n",
       "      <th>actor 4</th>\n",
       "      <th>votes</th>\n",
       "      <th>movies_id</th>\n",
       "      <th>tags</th>\n",
       "    </tr>\n",
       "  </thead>\n",
       "  <tbody>\n",
       "    <tr>\n",
       "      <th>151550</th>\n",
       "      <td>The Shawshank Redemption</td>\n",
       "      <td>2761119</td>\n",
       "      <td>R</td>\n",
       "      <td>Drama</td>\n",
       "      <td>142</td>\n",
       "      <td>9.3</td>\n",
       "      <td>Over the course of several years, two convicts...</td>\n",
       "      <td>FrankDarabont</td>\n",
       "      <td>TimRobbins</td>\n",
       "      <td>MorganFreeman</td>\n",
       "      <td>BobGunton</td>\n",
       "      <td>WilliamSadler</td>\n",
       "      <td>2761119</td>\n",
       "      <td>151548</td>\n",
       "      <td>The Shawshank Redemption 2761119 R Drama 142 9...</td>\n",
       "    </tr>\n",
       "    <tr>\n",
       "      <th>38</th>\n",
       "      <td>The Dark Knight</td>\n",
       "      <td>2733681</td>\n",
       "      <td>PG-13</td>\n",
       "      <td>Action, Crime, Drama</td>\n",
       "      <td>152</td>\n",
       "      <td>9.0</td>\n",
       "      <td>When the menace known as the Joker wreaks havo...</td>\n",
       "      <td>ChristopherNolan</td>\n",
       "      <td>ChristianBale</td>\n",
       "      <td>HeathLedger</td>\n",
       "      <td>AaronEckhart</td>\n",
       "      <td>MichaelCaine</td>\n",
       "      <td>2733681</td>\n",
       "      <td>38</td>\n",
       "      <td>The Dark Knight 2733681 PG-13 Action, Crime, D...</td>\n",
       "    </tr>\n",
       "    <tr>\n",
       "      <th>40</th>\n",
       "      <td>Inception</td>\n",
       "      <td>2425939</td>\n",
       "      <td>PG-13</td>\n",
       "      <td>Action, Adventure, Sci-Fi</td>\n",
       "      <td>148</td>\n",
       "      <td>8.8</td>\n",
       "      <td>A thief who steals corporate secrets through t...</td>\n",
       "      <td>ChristopherNolan</td>\n",
       "      <td>LeonardoDiCaprio</td>\n",
       "      <td>JosephGordon-Levitt</td>\n",
       "      <td>ElliotPage</td>\n",
       "      <td>KenWatanabe</td>\n",
       "      <td>2425939</td>\n",
       "      <td>40</td>\n",
       "      <td>Inception 2425939 PG-13 Action, Adventure, Sci...</td>\n",
       "    </tr>\n",
       "    <tr>\n",
       "      <th>151564</th>\n",
       "      <td>Fight Club</td>\n",
       "      <td>2198501</td>\n",
       "      <td>R</td>\n",
       "      <td>Drama</td>\n",
       "      <td>139</td>\n",
       "      <td>8.8</td>\n",
       "      <td>An insomniac office worker and a devil-may-car...</td>\n",
       "      <td>DavidFincher</td>\n",
       "      <td>BradPitt</td>\n",
       "      <td>EdwardNorton</td>\n",
       "      <td>MeatLoaf</td>\n",
       "      <td>ZachGrenier</td>\n",
       "      <td>2198501</td>\n",
       "      <td>151562</td>\n",
       "      <td>Fight Club 2198501 R Drama 139 8.8 An insomnia...</td>\n",
       "    </tr>\n",
       "    <tr>\n",
       "      <th>151567</th>\n",
       "      <td>Forrest Gump</td>\n",
       "      <td>2147674</td>\n",
       "      <td>PG-13</td>\n",
       "      <td>Drama, Romance</td>\n",
       "      <td>142</td>\n",
       "      <td>8.8</td>\n",
       "      <td>The history of the United States from the 1950...</td>\n",
       "      <td>RobertZemeckis</td>\n",
       "      <td>TomHanks</td>\n",
       "      <td>RobinWright</td>\n",
       "      <td>GarySinise</td>\n",
       "      <td>SallyField</td>\n",
       "      <td>2147674</td>\n",
       "      <td>151565</td>\n",
       "      <td>Forrest Gump 2147674 PG-13 Drama, Romance 142 ...</td>\n",
       "    </tr>\n",
       "    <tr>\n",
       "      <th>...</th>\n",
       "      <td>...</td>\n",
       "      <td>...</td>\n",
       "      <td>...</td>\n",
       "      <td>...</td>\n",
       "      <td>...</td>\n",
       "      <td>...</td>\n",
       "      <td>...</td>\n",
       "      <td>...</td>\n",
       "      <td>...</td>\n",
       "      <td>...</td>\n",
       "      <td>...</td>\n",
       "      <td>...</td>\n",
       "      <td>...</td>\n",
       "      <td>...</td>\n",
       "      <td>...</td>\n",
       "    </tr>\n",
       "    <tr>\n",
       "      <th>285336</th>\n",
       "      <td>Imposition</td>\n",
       "      <td>0</td>\n",
       "      <td>NaN</td>\n",
       "      <td>Western</td>\n",
       "      <td>NaN</td>\n",
       "      <td>NaN</td>\n",
       "      <td>A mentally ill killer causes mayhem during a m...</td>\n",
       "      <td>NaN</td>\n",
       "      <td>NaN</td>\n",
       "      <td>NaN</td>\n",
       "      <td>NaN</td>\n",
       "      <td>NaN</td>\n",
       "      <td>0</td>\n",
       "      <td>285330</td>\n",
       "      <td>Imposition 0 nan Western nan nan A mentally il...</td>\n",
       "    </tr>\n",
       "    <tr>\n",
       "      <th>285337</th>\n",
       "      <td>Man from the West</td>\n",
       "      <td>0</td>\n",
       "      <td>NaN</td>\n",
       "      <td>Western</td>\n",
       "      <td>NaN</td>\n",
       "      <td>NaN</td>\n",
       "      <td>1912. The Old West is dying when an aging outl...</td>\n",
       "      <td>Jean-ChristopheJeauffre</td>\n",
       "      <td>NaN</td>\n",
       "      <td>NaN</td>\n",
       "      <td>NaN</td>\n",
       "      <td>NaN</td>\n",
       "      <td>0</td>\n",
       "      <td>285331</td>\n",
       "      <td>Man from the West 0 nan Western nan nan 1912. ...</td>\n",
       "    </tr>\n",
       "    <tr>\n",
       "      <th>285338</th>\n",
       "      <td>Horizon: An American Saga 4</td>\n",
       "      <td>0</td>\n",
       "      <td>NaN</td>\n",
       "      <td>Western</td>\n",
       "      <td>NaN</td>\n",
       "      <td>NaN</td>\n",
       "      <td>Plot under wraps.</td>\n",
       "      <td>KevinCostner</td>\n",
       "      <td>KevinCostner</td>\n",
       "      <td>AustinArcher</td>\n",
       "      <td>NaN</td>\n",
       "      <td>NaN</td>\n",
       "      <td>0</td>\n",
       "      <td>285332</td>\n",
       "      <td>Horizon: An American Saga 4 0 nan Western nan ...</td>\n",
       "    </tr>\n",
       "    <tr>\n",
       "      <th>285339</th>\n",
       "      <td>Horizon: An American Saga 3</td>\n",
       "      <td>0</td>\n",
       "      <td>NaN</td>\n",
       "      <td>Western</td>\n",
       "      <td>NaN</td>\n",
       "      <td>NaN</td>\n",
       "      <td>Plot under wraps.</td>\n",
       "      <td>KevinCostner</td>\n",
       "      <td>KevinCostner</td>\n",
       "      <td>AustinArcher</td>\n",
       "      <td>NaN</td>\n",
       "      <td>NaN</td>\n",
       "      <td>0</td>\n",
       "      <td>285333</td>\n",
       "      <td>Horizon: An American Saga 3 0 nan Western nan ...</td>\n",
       "    </tr>\n",
       "    <tr>\n",
       "      <th>285340</th>\n",
       "      <td>The Perfect Hand</td>\n",
       "      <td>0</td>\n",
       "      <td>NaN</td>\n",
       "      <td>Drama, Western</td>\n",
       "      <td>113</td>\n",
       "      <td>NaN</td>\n",
       "      <td>A sharp-shooting sheriff tracks down the con a...</td>\n",
       "      <td>MichaelFredianelli</td>\n",
       "      <td>MichaelFredianelli</td>\n",
       "      <td>BryanHurd</td>\n",
       "      <td>DanielEdwardMiller</td>\n",
       "      <td>SydneyVanDelft</td>\n",
       "      <td>0</td>\n",
       "      <td>285334</td>\n",
       "      <td>The Perfect Hand 0 nan Drama, Western 113 nan ...</td>\n",
       "    </tr>\n",
       "  </tbody>\n",
       "</table>\n",
       "<p>285335 rows × 15 columns</p>\n",
       "</div>"
      ],
      "text/plain": [
       "                              title     year certificate  \\\n",
       "151550     The Shawshank Redemption  2761119           R   \n",
       "38                  The Dark Knight  2733681       PG-13   \n",
       "40                        Inception  2425939       PG-13   \n",
       "151564                   Fight Club  2198501           R   \n",
       "151567                 Forrest Gump  2147674       PG-13   \n",
       "...                             ...      ...         ...   \n",
       "285336                   Imposition        0         NaN   \n",
       "285337            Man from the West        0         NaN   \n",
       "285338  Horizon: An American Saga 4        0         NaN   \n",
       "285339  Horizon: An American Saga 3        0         NaN   \n",
       "285340             The Perfect Hand        0         NaN   \n",
       "\n",
       "                            genre time  rating  \\\n",
       "151550                      Drama  142     9.3   \n",
       "38           Action, Crime, Drama  152     9.0   \n",
       "40      Action, Adventure, Sci-Fi  148     8.8   \n",
       "151564                      Drama  139     8.8   \n",
       "151567             Drama, Romance  142     8.8   \n",
       "...                           ...  ...     ...   \n",
       "285336                    Western  NaN     NaN   \n",
       "285337                    Western  NaN     NaN   \n",
       "285338                    Western  NaN     NaN   \n",
       "285339                    Western  NaN     NaN   \n",
       "285340             Drama, Western  113     NaN   \n",
       "\n",
       "                                                 synopsis  \\\n",
       "151550  Over the course of several years, two convicts...   \n",
       "38      When the menace known as the Joker wreaks havo...   \n",
       "40      A thief who steals corporate secrets through t...   \n",
       "151564  An insomniac office worker and a devil-may-car...   \n",
       "151567  The history of the United States from the 1950...   \n",
       "...                                                   ...   \n",
       "285336  A mentally ill killer causes mayhem during a m...   \n",
       "285337  1912. The Old West is dying when an aging outl...   \n",
       "285338                                  Plot under wraps.   \n",
       "285339                                  Plot under wraps.   \n",
       "285340  A sharp-shooting sheriff tracks down the con a...   \n",
       "\n",
       "                       director             actor 1              actor 2  \\\n",
       "151550            FrankDarabont          TimRobbins        MorganFreeman   \n",
       "38             ChristopherNolan       ChristianBale          HeathLedger   \n",
       "40             ChristopherNolan    LeonardoDiCaprio  JosephGordon-Levitt   \n",
       "151564             DavidFincher            BradPitt         EdwardNorton   \n",
       "151567           RobertZemeckis            TomHanks          RobinWright   \n",
       "...                         ...                 ...                  ...   \n",
       "285336                      NaN                 NaN                  NaN   \n",
       "285337  Jean-ChristopheJeauffre                 NaN                  NaN   \n",
       "285338             KevinCostner        KevinCostner         AustinArcher   \n",
       "285339             KevinCostner        KevinCostner         AustinArcher   \n",
       "285340       MichaelFredianelli  MichaelFredianelli            BryanHurd   \n",
       "\n",
       "                   actor 3         actor 4    votes  movies_id  \\\n",
       "151550           BobGunton   WilliamSadler  2761119     151548   \n",
       "38            AaronEckhart    MichaelCaine  2733681         38   \n",
       "40              ElliotPage     KenWatanabe  2425939         40   \n",
       "151564            MeatLoaf     ZachGrenier  2198501     151562   \n",
       "151567          GarySinise      SallyField  2147674     151565   \n",
       "...                    ...             ...      ...        ...   \n",
       "285336                 NaN             NaN        0     285330   \n",
       "285337                 NaN             NaN        0     285331   \n",
       "285338                 NaN             NaN        0     285332   \n",
       "285339                 NaN             NaN        0     285333   \n",
       "285340  DanielEdwardMiller  SydneyVanDelft        0     285334   \n",
       "\n",
       "                                                     tags  \n",
       "151550  The Shawshank Redemption 2761119 R Drama 142 9...  \n",
       "38      The Dark Knight 2733681 PG-13 Action, Crime, D...  \n",
       "40      Inception 2425939 PG-13 Action, Adventure, Sci...  \n",
       "151564  Fight Club 2198501 R Drama 139 8.8 An insomnia...  \n",
       "151567  Forrest Gump 2147674 PG-13 Drama, Romance 142 ...  \n",
       "...                                                   ...  \n",
       "285336  Imposition 0 nan Western nan nan A mentally il...  \n",
       "285337  Man from the West 0 nan Western nan nan 1912. ...  \n",
       "285338  Horizon: An American Saga 4 0 nan Western nan ...  \n",
       "285339  Horizon: An American Saga 3 0 nan Western nan ...  \n",
       "285340  The Perfect Hand 0 nan Drama, Western 113 nan ...  \n",
       "\n",
       "[285335 rows x 15 columns]"
      ]
     },
     "execution_count": 53,
     "metadata": {},
     "output_type": "execute_result"
    }
   ],
   "source": [
    "df.sort_values(['votes','rating' ], ascending=False)"
   ]
  },
  {
   "cell_type": "code",
   "execution_count": null,
   "id": "770671d9",
   "metadata": {},
   "outputs": [],
   "source": []
  },
  {
   "cell_type": "code",
   "execution_count": null,
   "id": "60e5877e",
   "metadata": {},
   "outputs": [],
   "source": []
  }
 ],
 "metadata": {
  "kernelspec": {
   "display_name": "deep",
   "language": "python",
   "name": "deep"
  },
  "language_info": {
   "codemirror_mode": {
    "name": "ipython",
    "version": 3
   },
   "file_extension": ".py",
   "mimetype": "text/x-python",
   "name": "python",
   "nbconvert_exporter": "python",
   "pygments_lexer": "ipython3",
   "version": "3.11.4"
  }
 },
 "nbformat": 4,
 "nbformat_minor": 5
}
