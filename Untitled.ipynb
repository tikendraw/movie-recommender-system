{
  "cells": [
    {
      "cell_type": "code",
      "execution_count": null,
      "id": "11450ed0",
      "metadata": {
        "id": "11450ed0"
      },
      "outputs": [],
      "source": [
        "import pandas as pd\n",
        "import polars as pl\n",
        "import re\n",
        "import numpy as np\n",
        "import ast, os, zipfile\n",
        "import torch\n",
        "from pathlib import Path\n",
        "import pickle\n",
        "from typing import List\n",
        "from sklearn.metrics.pairwise import cosine_similarity\n",
        "import nltk\n",
        "from nltk.stem import PorterStemmer\n",
        "import concurrent.futures as cf\n",
        "import time\n",
        "import string\n",
        "import spacy\n",
        "import nltk\n",
        "from nltk.corpus import stopwords\n",
        "from nltk.tokenize import word_tokenize"
      ]
    },
    {
      "cell_type": "markdown",
      "id": "888a7e28",
      "metadata": {
        "id": "888a7e28"
      },
      "source": [
        "Dataset [link here](https://www.kaggle.com/datasets/moon114/imdb-all-movies-dataset)"
      ]
    },
    {
      "cell_type": "code",
      "source": [
        "nltk.download('punkt')"
      ],
      "metadata": {
        "colab": {
          "base_uri": "https://localhost:8080/"
        },
        "id": "1EPglL92eSER",
        "outputId": "b33f9c84-6942-4b94-a5bd-ed41382b17a6"
      },
      "id": "1EPglL92eSER",
      "execution_count": null,
      "outputs": [
        {
          "output_type": "stream",
          "name": "stderr",
          "text": [
            "[nltk_data] Downloading package punkt to /root/nltk_data...\n",
            "[nltk_data]   Package punkt is already up-to-date!\n"
          ]
        },
        {
          "output_type": "execute_result",
          "data": {
            "text/plain": [
              "True"
            ]
          },
          "metadata": {},
          "execution_count": 2
        }
      ]
    },
    {
      "cell_type": "code",
      "source": [
        "if 'colab' in str(get_ipython()):\n",
        "    print('Running in COlab')\n",
        "\n",
        "    # download spacy model\n",
        "    !python -m spacy download en_core_web_lg -q\n",
        "    spacy.load(\"en_core_web_lg\")\n",
        "    nltk.download('stopwords')\n",
        "    nltk.download('punkt')\n",
        "\n",
        "    # get data\n",
        "    try:\n",
        "        ! git clone https://github.com/tikendraw/movie-recommender-system.git\n",
        "    except:\n",
        "        pass\n",
        "\n",
        "    os.chdir('movie-recommender-system')\n",
        "\n",
        "    with zipfile.ZipFile('imdb all movies dataset.zip') as f:\n",
        "        f.extractall('dataset/')"
      ],
      "metadata": {
        "colab": {
          "base_uri": "https://localhost:8080/"
        },
        "id": "IVrqGNwQUJYa",
        "outputId": "336334a6-9b37-4ac7-cdbe-c86a62951566"
      },
      "id": "IVrqGNwQUJYa",
      "execution_count": null,
      "outputs": [
        {
          "output_type": "stream",
          "name": "stdout",
          "text": [
            "Running in COlab\n",
            "2023-07-19 14:24:10.176227: W tensorflow/compiler/tf2tensorrt/utils/py_utils.cc:38] TF-TRT Warning: Could not find TensorRT\n",
            "\u001b[2K     \u001b[90m━━━━━━━━━━━━━━━━━━━━━━━━━━━━━━━━━━━━━━━\u001b[0m \u001b[32m587.7/587.7 MB\u001b[0m \u001b[31m1.5 MB/s\u001b[0m eta \u001b[36m0:00:00\u001b[0m\n",
            "\u001b[?25h\u001b[38;5;2m✔ Download and installation successful\u001b[0m\n",
            "You can now load the package via spacy.load('en_core_web_lg')\n",
            "fatal: destination path 'movie-recommender-system' already exists and is not an empty directory.\n"
          ]
        },
        {
          "output_type": "stream",
          "name": "stderr",
          "text": [
            "[nltk_data] Downloading package stopwords to /root/nltk_data...\n",
            "[nltk_data]   Package stopwords is already up-to-date!\n",
            "[nltk_data] Downloading package punkt to /root/nltk_data...\n",
            "[nltk_data]   Package punkt is already up-to-date!\n"
          ]
        }
      ]
    },
    {
      "cell_type": "code",
      "source": [
        "os.chdir('movie-recommender-system')"
      ],
      "metadata": {
        "id": "GiDQp7ctxrHK"
      },
      "id": "GiDQp7ctxrHK",
      "execution_count": null,
      "outputs": []
    },
    {
      "cell_type": "code",
      "execution_count": null,
      "id": "710ed0b6",
      "metadata": {
        "id": "710ed0b6"
      },
      "outputs": [],
      "source": [
        "dataset_filepath = Path('./dataset/movies.csv')\n",
        "\n",
        "# df = pd.read_csv(dataset_filepath)\n",
        "df = pl.read_csv(dataset_filepath)"
      ]
    },
    {
      "cell_type": "code",
      "source": [],
      "metadata": {
        "id": "1PC_OmC8xzad"
      },
      "id": "1PC_OmC8xzad",
      "execution_count": null,
      "outputs": []
    },
    {
      "cell_type": "code",
      "execution_count": null,
      "id": "1007fc17",
      "metadata": {
        "id": "1007fc17"
      },
      "outputs": [],
      "source": [
        "#lower the column names for ease of typing\n",
        "df.columns = [i.lower() for i in df.columns]\n",
        "\n",
        "# try:\n",
        "#     # dropping extra columns if exists\n",
        "#     df.drop('unnamed: 0', inplace =True, axis = 1)\n",
        "# except:\n",
        "#     pass\n"
      ]
    },
    {
      "cell_type": "code",
      "source": [],
      "metadata": {
        "id": "KmxfExVlyAn7"
      },
      "id": "KmxfExVlyAn7",
      "execution_count": null,
      "outputs": []
    },
    {
      "cell_type": "code",
      "execution_count": null,
      "id": "675bc645",
      "metadata": {
        "colab": {
          "base_uri": "https://localhost:8080/"
        },
        "id": "675bc645",
        "outputId": "ec59e2e8-4afa-483f-9d14-4e89e2f1ab7d"
      },
      "outputs": [
        {
          "output_type": "stream",
          "name": "stdout",
          "text": [
            "<class 'pandas.core.frame.DataFrame'>\n",
            "RangeIndex: 285341 entries, 0 to 285340\n",
            "Data columns (total 16 columns):\n",
            " #   Column       Non-Null Count   Dtype  \n",
            "---  ------       --------------   -----  \n",
            " 0                285341 non-null  int64  \n",
            " 1   title        285340 non-null  object \n",
            " 2   year         245225 non-null  object \n",
            " 3   certificate  72952 non-null   object \n",
            " 4   genre        285341 non-null  object \n",
            " 5   time         204239 non-null  object \n",
            " 6   rating       184313 non-null  float64\n",
            " 7   rate         239176 non-null  object \n",
            " 8   synopsis     285341 non-null  object \n",
            " 9   content      285336 non-null  object \n",
            " 10  director     269260 non-null  object \n",
            " 11  actor 1      253716 non-null  object \n",
            " 12  actor 2      246317 non-null  object \n",
            " 13  actor 3      239798 non-null  object \n",
            " 14  actor 4      230068 non-null  object \n",
            " 15  votes        184368 non-null  object \n",
            "dtypes: float64(1), int64(1), object(14)\n",
            "memory usage: 34.8+ MB\n"
          ]
        },
        {
          "output_type": "execute_result",
          "data": {
            "text/plain": [
              "((285341, 16), None)"
            ]
          },
          "metadata": {},
          "execution_count": 7
        }
      ],
      "source": [
        "df.shape, df.to_pandas().info()"
      ]
    },
    {
      "cell_type": "markdown",
      "id": "ffae942f",
      "metadata": {
        "id": "ffae942f"
      },
      "source": [
        "## Objective\n",
        "\n",
        "We will convert all important features of movies into vectors and then find similarity between movies.\n",
        "\n",
        "### Clean the data\n",
        "0. remove Duplicates\n",
        "1. Remove the alpha chars from years using regex\n",
        "2. Remove \\n chars from genres and synopsis, content using regex\n",
        "3. Remove rate column(no info), drop content(contains director and actors name which we already have)\n",
        "4. Remove spaces from names"
      ]
    },
    {
      "cell_type": "code",
      "execution_count": null,
      "id": "4d7fcc8e",
      "metadata": {
        "colab": {
          "base_uri": "https://localhost:8080/",
          "height": 255
        },
        "id": "4d7fcc8e",
        "outputId": "0c90a98d-e17a-4a33-f99d-e93a4971fe3d"
      },
      "outputs": [
        {
          "output_type": "execute_result",
          "data": {
            "text/plain": [
              "shape: (5, 16)\n",
              "┌─────┬─────────────┬───────┬─────────────┬───┬─────────────┬─────────────┬─────────────┬──────────┐\n",
              "│     ┆ title       ┆ year  ┆ certificate ┆ … ┆ actor 2     ┆ actor 3     ┆ actor 4     ┆ votes    │\n",
              "│ --- ┆ ---         ┆ ---   ┆ ---         ┆   ┆ ---         ┆ ---         ┆ ---         ┆ ---      │\n",
              "│ i64 ┆ str         ┆ str   ┆ str         ┆   ┆ str         ┆ str         ┆ str         ┆ str      │\n",
              "╞═════╪═════════════╪═══════╪═════════════╪═══╪═════════════╪═════════════╪═════════════╪══════════╡\n",
              "│ 0   ┆ Indiana     ┆ -2023 ┆ PG-13       ┆ … ┆ Phoebe Wall ┆ Antonio     ┆ Karen Allen ┆ 41,029   │\n",
              "│     ┆ Jones and   ┆       ┆             ┆   ┆ er-Bridge   ┆ Banderas    ┆             ┆          │\n",
              "│     ┆ the Dial of ┆       ┆             ┆   ┆             ┆             ┆             ┆          │\n",
              "│     ┆ De…         ┆       ┆             ┆   ┆             ┆             ┆             ┆          │\n",
              "│ 1   ┆ The Flash   ┆ -2023 ┆ PG-13       ┆ … ┆ Michael     ┆ Sasha Calle ┆ Michael     ┆ 80,814   │\n",
              "│     ┆             ┆       ┆             ┆   ┆ Keaton      ┆             ┆ Shannon     ┆          │\n",
              "│ 2   ┆ Spider-Man: ┆ -2023 ┆ PG          ┆ … ┆ Justin K.   ┆ Shameik     ┆ Hailee      ┆ 1,68,355 │\n",
              "│     ┆ Across the  ┆       ┆             ┆   ┆ Thompson    ┆ Moore       ┆ Steinfeld   ┆          │\n",
              "│     ┆ Spider-Ve…  ┆       ┆             ┆   ┆             ┆             ┆             ┆          │\n",
              "│ 3   ┆ Extraction  ┆ -2023 ┆ R           ┆ … ┆ Golshifteh  ┆ Adam Bessa  ┆ Tornike     ┆ 81,123   │\n",
              "│     ┆ II          ┆       ┆             ┆   ┆ Farahani    ┆             ┆ Gogrichiani ┆          │\n",
              "│ 4   ┆ Avatar: The ┆ -2022 ┆ PG-13       ┆ … ┆ Zoe Saldana ┆ Sigourney   ┆ Stephen     ┆ 4,24,931 │\n",
              "│     ┆ Way of      ┆       ┆             ┆   ┆             ┆ Weaver      ┆ Lang        ┆          │\n",
              "│     ┆ Water       ┆       ┆             ┆   ┆             ┆             ┆             ┆          │\n",
              "└─────┴─────────────┴───────┴─────────────┴───┴─────────────┴─────────────┴─────────────┴──────────┘"
            ],
            "text/html": [
              "<div><style>\n",
              ".dataframe > thead > tr > th,\n",
              ".dataframe > tbody > tr > td {\n",
              "  text-align: right;\n",
              "}\n",
              "</style>\n",
              "<small>shape: (5, 16)</small><table border=\"1\" class=\"dataframe\"><thead><tr><th></th><th>title</th><th>year</th><th>certificate</th><th>genre</th><th>time</th><th>rating</th><th>rate</th><th>synopsis</th><th>content</th><th>director</th><th>actor 1</th><th>actor 2</th><th>actor 3</th><th>actor 4</th><th>votes</th></tr><tr><td>i64</td><td>str</td><td>str</td><td>str</td><td>str</td><td>str</td><td>f64</td><td>str</td><td>str</td><td>str</td><td>str</td><td>str</td><td>str</td><td>str</td><td>str</td><td>str</td></tr></thead><tbody><tr><td>0</td><td>&quot;Indiana Jones …</td><td>&quot;-2023&quot;</td><td>&quot;PG-13&quot;</td><td>&quot;\n",
              "Action, Adven…</td><td>&quot;154 min&quot;</td><td>6.9</td><td>&quot;Rate this&quot;</td><td>&quot;\n",
              "Archaeologist…</td><td>&quot;\n",
              "    Director:…</td><td>&quot;James Mangold&quot;</td><td>&quot;Harrison Ford&quot;</td><td>&quot;Phoebe Waller-…</td><td>&quot;Antonio Bander…</td><td>&quot;Karen Allen&quot;</td><td>&quot;41,029&quot;</td></tr><tr><td>1</td><td>&quot;The Flash&quot;</td><td>&quot;-2023&quot;</td><td>&quot;PG-13&quot;</td><td>&quot;\n",
              "Action, Adven…</td><td>&quot;144 min&quot;</td><td>7.2</td><td>&quot;Rate this&quot;</td><td>&quot;\n",
              "Barry Allen u…</td><td>&quot;\n",
              "    Director:…</td><td>&quot;Andy Muschiett…</td><td>&quot;Ezra Miller&quot;</td><td>&quot;Michael Keaton…</td><td>&quot;Sasha Calle&quot;</td><td>&quot;Michael Shanno…</td><td>&quot;80,814&quot;</td></tr><tr><td>2</td><td>&quot;Spider-Man: Ac…</td><td>&quot;-2023&quot;</td><td>&quot;PG&quot;</td><td>&quot;\n",
              "Animation, Ac…</td><td>&quot;140 min&quot;</td><td>8.9</td><td>&quot;Rate this&quot;</td><td>&quot;\n",
              "Miles Morales…</td><td>&quot;\n",
              "    Directors…</td><td>&quot;Joaquim Dos Sa…</td><td>&quot;Kemp Powers&quot;</td><td>&quot;Justin K. Thom…</td><td>&quot;Shameik Moore&quot;</td><td>&quot;Hailee Steinfe…</td><td>&quot;1,68,355&quot;</td></tr><tr><td>3</td><td>&quot;Extraction II&quot;</td><td>&quot;-2023&quot;</td><td>&quot;R&quot;</td><td>&quot;\n",
              "Action, Thril…</td><td>&quot;122 min&quot;</td><td>7.1</td><td>&quot;Rate this&quot;</td><td>&quot;\n",
              "After barely …</td><td>&quot;\n",
              "    Director:…</td><td>&quot;Sam Hargrave&quot;</td><td>&quot;Chris Hemswort…</td><td>&quot;Golshifteh Far…</td><td>&quot;Adam Bessa&quot;</td><td>&quot;Tornike Gogric…</td><td>&quot;81,123&quot;</td></tr><tr><td>4</td><td>&quot;Avatar: The Wa…</td><td>&quot;-2022&quot;</td><td>&quot;PG-13&quot;</td><td>&quot;\n",
              "Action, Adven…</td><td>&quot;192 min&quot;</td><td>7.6</td><td>&quot;Rate this&quot;</td><td>&quot;\n",
              "Jake Sully li…</td><td>&quot;\n",
              "    Director:…</td><td>&quot;James Cameron&quot;</td><td>&quot;Sam Worthingto…</td><td>&quot;Zoe Saldana&quot;</td><td>&quot;Sigourney Weav…</td><td>&quot;Stephen Lang&quot;</td><td>&quot;4,24,931&quot;</td></tr></tbody></table></div>"
            ]
          },
          "metadata": {},
          "execution_count": 8
        }
      ],
      "source": [
        "df.head()"
      ]
    },
    {
      "cell_type": "markdown",
      "id": "ee2f953d",
      "metadata": {
        "id": "ee2f953d"
      },
      "source": [
        "# Preprocessing"
      ]
    },
    {
      "cell_type": "code",
      "execution_count": null,
      "id": "712c5d56",
      "metadata": {
        "colab": {
          "base_uri": "https://localhost:8080/"
        },
        "id": "712c5d56",
        "outputId": "8f8e20ff-b8cb-4fba-808e-57c38335014c"
      },
      "outputs": [
        {
          "output_type": "execute_result",
          "data": {
            "text/plain": [
              "0"
            ]
          },
          "metadata": {},
          "execution_count": 9
        }
      ],
      "source": [
        "# check for duplicates\n",
        "df.is_duplicated().sum()"
      ]
    },
    {
      "cell_type": "markdown",
      "id": "d343c239",
      "metadata": {
        "id": "d343c239"
      },
      "source": [
        "## Removing Nulls"
      ]
    },
    {
      "cell_type": "code",
      "execution_count": null,
      "id": "c5190deb",
      "metadata": {
        "scrolled": true,
        "colab": {
          "base_uri": "https://localhost:8080/",
          "height": 129
        },
        "id": "c5190deb",
        "outputId": "cd0df9e8-dd1a-4a7e-9b86-713eaad52d9b"
      },
      "outputs": [
        {
          "output_type": "execute_result",
          "data": {
            "text/plain": [
              "shape: (1, 16)\n",
              "┌─────┬───────┬───────┬─────────────┬───┬─────────┬─────────┬─────────┬────────┐\n",
              "│     ┆ title ┆ year  ┆ certificate ┆ … ┆ actor 2 ┆ actor 3 ┆ actor 4 ┆ votes  │\n",
              "│ --- ┆ ---   ┆ ---   ┆ ---         ┆   ┆ ---     ┆ ---     ┆ ---     ┆ ---    │\n",
              "│ u32 ┆ u32   ┆ u32   ┆ u32         ┆   ┆ u32     ┆ u32     ┆ u32     ┆ u32    │\n",
              "╞═════╪═══════╪═══════╪═════════════╪═══╪═════════╪═════════╪═════════╪════════╡\n",
              "│ 0   ┆ 1     ┆ 40116 ┆ 212389      ┆ … ┆ 39024   ┆ 45543   ┆ 55273   ┆ 100973 │\n",
              "└─────┴───────┴───────┴─────────────┴───┴─────────┴─────────┴─────────┴────────┘"
            ],
            "text/html": [
              "<div><style>\n",
              ".dataframe > thead > tr > th,\n",
              ".dataframe > tbody > tr > td {\n",
              "  text-align: right;\n",
              "}\n",
              "</style>\n",
              "<small>shape: (1, 16)</small><table border=\"1\" class=\"dataframe\"><thead><tr><th></th><th>title</th><th>year</th><th>certificate</th><th>genre</th><th>time</th><th>rating</th><th>rate</th><th>synopsis</th><th>content</th><th>director</th><th>actor 1</th><th>actor 2</th><th>actor 3</th><th>actor 4</th><th>votes</th></tr><tr><td>u32</td><td>u32</td><td>u32</td><td>u32</td><td>u32</td><td>u32</td><td>u32</td><td>u32</td><td>u32</td><td>u32</td><td>u32</td><td>u32</td><td>u32</td><td>u32</td><td>u32</td><td>u32</td></tr></thead><tbody><tr><td>0</td><td>1</td><td>40116</td><td>212389</td><td>0</td><td>81102</td><td>101028</td><td>46165</td><td>0</td><td>5</td><td>16081</td><td>31625</td><td>39024</td><td>45543</td><td>55273</td><td>100973</td></tr></tbody></table></div>"
            ]
          },
          "metadata": {},
          "execution_count": 10
        }
      ],
      "source": [
        "# check for nulls\n",
        "df.null_count()"
      ]
    },
    {
      "cell_type": "markdown",
      "id": "af1ada71",
      "metadata": {
        "id": "af1ada71"
      },
      "source": [
        "Here dataset sets has alot of missing values, That won't stop us from over purpose.\n",
        "\n",
        "The Most Important factor for Movie here is to have a title and content/synopsis. We will fill nans with space. and drop those who doesn't have title or content/synopsis."
      ]
    },
    {
      "cell_type": "code",
      "execution_count": null,
      "id": "d3760b68",
      "metadata": {
        "id": "d3760b68"
      },
      "outputs": [],
      "source": [
        "idx_to_drop  = []"
      ]
    },
    {
      "cell_type": "code",
      "source": [
        "df.shape"
      ],
      "metadata": {
        "id": "8bTvOLsozoNd",
        "outputId": "61b93923-54a9-40b4-f863-9e0a12ac83a8",
        "colab": {
          "base_uri": "https://localhost:8080/"
        }
      },
      "id": "8bTvOLsozoNd",
      "execution_count": null,
      "outputs": [
        {
          "output_type": "execute_result",
          "data": {
            "text/plain": [
              "(285341, 16)"
            ]
          },
          "metadata": {},
          "execution_count": 12
        }
      ]
    },
    {
      "cell_type": "code",
      "execution_count": null,
      "id": "9a9f237d",
      "metadata": {
        "id": "9a9f237d"
      },
      "outputs": [],
      "source": [
        "# movie index with no title\n",
        "df = df.drop_nulls(subset=[\"title\"])"
      ]
    },
    {
      "cell_type": "code",
      "source": [
        "df.shape"
      ],
      "metadata": {
        "id": "buTaolkO0lKR",
        "outputId": "099caf0b-eaa6-4d13-82cc-fe988b455023",
        "colab": {
          "base_uri": "https://localhost:8080/"
        }
      },
      "id": "buTaolkO0lKR",
      "execution_count": null,
      "outputs": [
        {
          "output_type": "execute_result",
          "data": {
            "text/plain": [
              "(285340, 16)"
            ]
          },
          "metadata": {},
          "execution_count": 14
        }
      ]
    },
    {
      "cell_type": "code",
      "source": [
        "df.columns"
      ],
      "metadata": {
        "id": "Drt9x97b2v6F",
        "outputId": "36446948-5cc2-4eee-ef21-af8cdbdbbb0d",
        "colab": {
          "base_uri": "https://localhost:8080/"
        }
      },
      "id": "Drt9x97b2v6F",
      "execution_count": null,
      "outputs": [
        {
          "output_type": "execute_result",
          "data": {
            "text/plain": [
              "['',\n",
              " 'title',\n",
              " 'year',\n",
              " 'certificate',\n",
              " 'genre',\n",
              " 'time',\n",
              " 'rating',\n",
              " 'rate',\n",
              " 'synopsis',\n",
              " 'content',\n",
              " 'director',\n",
              " 'actor 1',\n",
              " 'actor 2',\n",
              " 'actor 3',\n",
              " 'actor 4',\n",
              " 'votes']"
            ]
          },
          "metadata": {},
          "execution_count": 15
        }
      ]
    },
    {
      "cell_type": "markdown",
      "id": "9f595d6d",
      "metadata": {
        "id": "9f595d6d"
      },
      "source": [
        "## Dropping Columns"
      ]
    },
    {
      "cell_type": "markdown",
      "source": [
        "Content column only contains 4 actors name and director's name  which we already have as columns, so dropping it"
      ],
      "metadata": {
        "id": "hCX-EKqtXIg8"
      },
      "id": "hCX-EKqtXIg8"
    },
    {
      "cell_type": "code",
      "execution_count": null,
      "id": "c832caf7",
      "metadata": {
        "id": "c832caf7"
      },
      "outputs": [],
      "source": [
        "#dropping columns\n",
        "df = df.drop(['rate', 'content', ''])"
      ]
    },
    {
      "cell_type": "code",
      "source": [
        "df.shape"
      ],
      "metadata": {
        "id": "Nwc7jK4s3BqN",
        "outputId": "9af69dff-1ec3-49d3-edb3-00be18f815ac",
        "colab": {
          "base_uri": "https://localhost:8080/"
        }
      },
      "id": "Nwc7jK4s3BqN",
      "execution_count": null,
      "outputs": [
        {
          "output_type": "execute_result",
          "data": {
            "text/plain": [
              "(285340, 13)"
            ]
          },
          "metadata": {},
          "execution_count": 17
        }
      ]
    },
    {
      "cell_type": "markdown",
      "id": "45a6c925",
      "metadata": {
        "id": "45a6c925"
      },
      "source": [
        "## Column preprocessing"
      ]
    },
    {
      "cell_type": "code",
      "execution_count": null,
      "id": "8f121bb7",
      "metadata": {
        "id": "8f121bb7"
      },
      "outputs": [],
      "source": [
        "# Movies doesn't have any id, we will create id\n",
        "df= df.with_columns([\n",
        "pl.Series(name=\"movies_id\", values=range(len(df)))\n",
        "    ])"
      ]
    },
    {
      "cell_type": "code",
      "execution_count": null,
      "id": "b21d76cc",
      "metadata": {
        "id": "b21d76cc"
      },
      "outputs": [],
      "source": [
        "# cleaning number columns\n",
        "df = df.with_columns([\n",
        "pl.col('year').str.replace_all(r'[^0-9]', '').alias('year'),\n",
        "pl.col('time').str.replace_all(r'[^0-9]', '').alias('time'),\n",
        "pl.col('votes').str.replace_all(r'[^0-9]', '').alias('votes'),\n",
        "# df['rating'] = df['rating'].str.replace(r'[^\\D]', '', regex=True)\n",
        "])"
      ]
    },
    {
      "cell_type": "code",
      "execution_count": null,
      "id": "1eb90b58-59b7-426a-a2ce-65717b9a8976",
      "metadata": {
        "id": "1eb90b58-59b7-426a-a2ce-65717b9a8976"
      },
      "outputs": [],
      "source": [
        "# filling 0 inplace of Nans, in votes number column (we need this for popular movies)\n",
        "df = df.with_columns([\n",
        "    pl.col('votes').fill_null('0')\n",
        "])\n",
        "\n",
        "df = df.with_columns(\n",
        "    pl.col('votes').cast(pl.Float64)\n",
        ")\n",
        "\n",
        "df = df.with_columns(\n",
        "    pl.col('votes').cast(pl.Int64)\n",
        ")\n",
        "\n"
      ]
    },
    {
      "cell_type": "code",
      "source": [
        "df.head()"
      ],
      "metadata": {
        "id": "PdFfhAIl7eaD",
        "outputId": "d63329f6-2072-4089-dc36-d1f70805fd9b",
        "colab": {
          "base_uri": "https://localhost:8080/",
          "height": 255
        }
      },
      "id": "PdFfhAIl7eaD",
      "execution_count": null,
      "outputs": [
        {
          "output_type": "execute_result",
          "data": {
            "text/plain": [
              "shape: (5, 14)\n",
              "┌─────────────┬──────┬───────────┬─────────────┬───┬─────────────┬────────────┬────────┬───────────┐\n",
              "│ title       ┆ year ┆ certifica ┆ genre       ┆ … ┆ actor 3     ┆ actor 4    ┆ votes  ┆ movies_id │\n",
              "│ ---         ┆ ---  ┆ te        ┆ ---         ┆   ┆ ---         ┆ ---        ┆ ---    ┆ ---       │\n",
              "│ str         ┆ str  ┆ ---       ┆ str         ┆   ┆ str         ┆ str        ┆ i64    ┆ i64       │\n",
              "│             ┆      ┆ str       ┆             ┆   ┆             ┆            ┆        ┆           │\n",
              "╞═════════════╪══════╪═══════════╪═════════════╪═══╪═════════════╪════════════╪════════╪═══════════╡\n",
              "│ Indiana     ┆ 2023 ┆ PG-13     ┆             ┆ … ┆ Antonio     ┆ Karen      ┆ 41029  ┆ 0         │\n",
              "│ Jones and   ┆      ┆           ┆ Action,     ┆   ┆ Banderas    ┆ Allen      ┆        ┆           │\n",
              "│ the Dial of ┆      ┆           ┆ Adventure   ┆   ┆             ┆            ┆        ┆           │\n",
              "│ De…         ┆      ┆           ┆             ┆   ┆             ┆            ┆        ┆           │\n",
              "│ The Flash   ┆ 2023 ┆ PG-13     ┆             ┆ … ┆ Sasha Calle ┆ Michael    ┆ 80814  ┆ 1         │\n",
              "│             ┆      ┆           ┆ Action,     ┆   ┆             ┆ Shannon    ┆        ┆           │\n",
              "│             ┆      ┆           ┆ Adventure,  ┆   ┆             ┆            ┆        ┆           │\n",
              "│             ┆      ┆           ┆ Fantasy     ┆   ┆             ┆            ┆        ┆           │\n",
              "│             ┆      ┆           ┆ …           ┆   ┆             ┆            ┆        ┆           │\n",
              "│ Spider-Man: ┆ 2023 ┆ PG        ┆             ┆ … ┆ Shameik     ┆ Hailee     ┆ 168355 ┆ 2         │\n",
              "│ Across the  ┆      ┆           ┆ Animation,  ┆   ┆ Moore       ┆ Steinfeld  ┆        ┆           │\n",
              "│ Spider-Ve…  ┆      ┆           ┆ Action,     ┆   ┆             ┆            ┆        ┆           │\n",
              "│             ┆      ┆           ┆ Adventure   ┆   ┆             ┆            ┆        ┆           │\n",
              "│             ┆      ┆           ┆ …           ┆   ┆             ┆            ┆        ┆           │\n",
              "│ Extraction  ┆ 2023 ┆ R         ┆             ┆ … ┆ Adam Bessa  ┆ Tornike    ┆ 81123  ┆ 3         │\n",
              "│ II          ┆      ┆           ┆ Action,     ┆   ┆             ┆ Gogrichian ┆        ┆           │\n",
              "│             ┆      ┆           ┆ Thriller    ┆   ┆             ┆ i          ┆        ┆           │\n",
              "│ Avatar: The ┆ 2022 ┆ PG-13     ┆             ┆ … ┆ Sigourney   ┆ Stephen    ┆ 424931 ┆ 4         │\n",
              "│ Way of      ┆      ┆           ┆ Action,     ┆   ┆ Weaver      ┆ Lang       ┆        ┆           │\n",
              "│ Water       ┆      ┆           ┆ Adventure,  ┆   ┆             ┆            ┆        ┆           │\n",
              "│             ┆      ┆           ┆ Fantasy     ┆   ┆             ┆            ┆        ┆           │\n",
              "│             ┆      ┆           ┆ …           ┆   ┆             ┆            ┆        ┆           │\n",
              "└─────────────┴──────┴───────────┴─────────────┴───┴─────────────┴────────────┴────────┴───────────┘"
            ],
            "text/html": [
              "<div><style>\n",
              ".dataframe > thead > tr > th,\n",
              ".dataframe > tbody > tr > td {\n",
              "  text-align: right;\n",
              "}\n",
              "</style>\n",
              "<small>shape: (5, 14)</small><table border=\"1\" class=\"dataframe\"><thead><tr><th>title</th><th>year</th><th>certificate</th><th>genre</th><th>time</th><th>rating</th><th>synopsis</th><th>director</th><th>actor 1</th><th>actor 2</th><th>actor 3</th><th>actor 4</th><th>votes</th><th>movies_id</th></tr><tr><td>str</td><td>str</td><td>str</td><td>str</td><td>str</td><td>f64</td><td>str</td><td>str</td><td>str</td><td>str</td><td>str</td><td>str</td><td>i64</td><td>i64</td></tr></thead><tbody><tr><td>&quot;Indiana Jones …</td><td>&quot;2023&quot;</td><td>&quot;PG-13&quot;</td><td>&quot;\n",
              "Action, Adven…</td><td>&quot;154&quot;</td><td>6.9</td><td>&quot;\n",
              "Archaeologist…</td><td>&quot;James Mangold&quot;</td><td>&quot;Harrison Ford&quot;</td><td>&quot;Phoebe Waller-…</td><td>&quot;Antonio Bander…</td><td>&quot;Karen Allen&quot;</td><td>41029</td><td>0</td></tr><tr><td>&quot;The Flash&quot;</td><td>&quot;2023&quot;</td><td>&quot;PG-13&quot;</td><td>&quot;\n",
              "Action, Adven…</td><td>&quot;144&quot;</td><td>7.2</td><td>&quot;\n",
              "Barry Allen u…</td><td>&quot;Andy Muschiett…</td><td>&quot;Ezra Miller&quot;</td><td>&quot;Michael Keaton…</td><td>&quot;Sasha Calle&quot;</td><td>&quot;Michael Shanno…</td><td>80814</td><td>1</td></tr><tr><td>&quot;Spider-Man: Ac…</td><td>&quot;2023&quot;</td><td>&quot;PG&quot;</td><td>&quot;\n",
              "Animation, Ac…</td><td>&quot;140&quot;</td><td>8.9</td><td>&quot;\n",
              "Miles Morales…</td><td>&quot;Joaquim Dos Sa…</td><td>&quot;Kemp Powers&quot;</td><td>&quot;Justin K. Thom…</td><td>&quot;Shameik Moore&quot;</td><td>&quot;Hailee Steinfe…</td><td>168355</td><td>2</td></tr><tr><td>&quot;Extraction II&quot;</td><td>&quot;2023&quot;</td><td>&quot;R&quot;</td><td>&quot;\n",
              "Action, Thril…</td><td>&quot;122&quot;</td><td>7.1</td><td>&quot;\n",
              "After barely …</td><td>&quot;Sam Hargrave&quot;</td><td>&quot;Chris Hemswort…</td><td>&quot;Golshifteh Far…</td><td>&quot;Adam Bessa&quot;</td><td>&quot;Tornike Gogric…</td><td>81123</td><td>3</td></tr><tr><td>&quot;Avatar: The Wa…</td><td>&quot;2022&quot;</td><td>&quot;PG-13&quot;</td><td>&quot;\n",
              "Action, Adven…</td><td>&quot;192&quot;</td><td>7.6</td><td>&quot;\n",
              "Jake Sully li…</td><td>&quot;James Cameron&quot;</td><td>&quot;Sam Worthingto…</td><td>&quot;Zoe Saldana&quot;</td><td>&quot;Sigourney Weav…</td><td>&quot;Stephen Lang&quot;</td><td>424931</td><td>4</td></tr></tbody></table></div>"
            ]
          },
          "metadata": {},
          "execution_count": 21
        }
      ]
    },
    {
      "cell_type": "code",
      "execution_count": null,
      "id": "531b8c75-fde6-4630-8ef1-eab7482659ec",
      "metadata": {
        "id": "531b8c75-fde6-4630-8ef1-eab7482659ec"
      },
      "outputs": [],
      "source": []
    },
    {
      "cell_type": "code",
      "execution_count": null,
      "id": "ce5cb2d7-36ab-4283-bf18-f56a3204d1e1",
      "metadata": {
        "id": "ce5cb2d7-36ab-4283-bf18-f56a3204d1e1"
      },
      "outputs": [],
      "source": [
        "# filling 0 inplace of Nans, in votes number column (we need this for popular movies)\n",
        "# df['year'] = pd.to_numeric(df['year'] )\n",
        "# df['year']=df.year.fillna(0)\n",
        "# df['year'] = df['year'].astype('int')\n",
        "\n",
        "df = df.with_columns([\n",
        "    pl.col('year').fill_null('0')\n",
        "])\n",
        "\n",
        "df = df.with_columns([\n",
        "    pl.col('year').str.replace('', 0)\n",
        "])\n",
        "\n",
        "df = df.with_columns(\n",
        "    pl.col('year').cast(pl.Float64)\n",
        ")\n",
        "\n",
        "df = df.with_columns(\n",
        "    pl.col('year').cast(pl.Int64)\n",
        ")\n",
        "\n"
      ]
    },
    {
      "cell_type": "code",
      "execution_count": null,
      "id": "f6553a37",
      "metadata": {
        "id": "f6553a37"
      },
      "outputs": [],
      "source": [
        "def remove_newline_chars(text):\n",
        "    \"\"\"Removes `\\n` characters from a text string.\"\"\"\n",
        "    text_str = re.sub(r\"\\n\", \"\", text)\n",
        "    return text_str"
      ]
    },
    {
      "cell_type": "code",
      "execution_count": null,
      "id": "fd41fd10",
      "metadata": {
        "scrolled": true,
        "id": "fd41fd10"
      },
      "outputs": [],
      "source": [
        "# df[\"genre\"] = df[\"genre\"].apply(remove_newline_chars)\n",
        "# df[\"synopsis\"] = df[\"synopsis\"].apply(remove_newline_chars)\n",
        "\n",
        "\n",
        "df = df.with_columns([\n",
        "    pl.col('genre').apply(remove_newline_chars),\n",
        "    pl.col('synopsis').apply(remove_newline_chars)\n",
        "])"
      ]
    },
    {
      "cell_type": "code",
      "execution_count": null,
      "id": "b8e3da9b",
      "metadata": {
        "scrolled": true,
        "colab": {
          "base_uri": "https://localhost:8080/",
          "height": 255
        },
        "id": "b8e3da9b",
        "outputId": "55fa40c4-bad3-4826-aa36-30c1e8efe8a9"
      },
      "outputs": [
        {
          "output_type": "execute_result",
          "data": {
            "text/plain": [
              "shape: (5, 14)\n",
              "┌─────────────┬──────┬───────────┬─────────────┬───┬─────────────┬────────────┬────────┬───────────┐\n",
              "│ title       ┆ year ┆ certifica ┆ genre       ┆ … ┆ actor 3     ┆ actor 4    ┆ votes  ┆ movies_id │\n",
              "│ ---         ┆ ---  ┆ te        ┆ ---         ┆   ┆ ---         ┆ ---        ┆ ---    ┆ ---       │\n",
              "│ str         ┆ i64  ┆ ---       ┆ str         ┆   ┆ str         ┆ str        ┆ i64    ┆ i64       │\n",
              "│             ┆      ┆ str       ┆             ┆   ┆             ┆            ┆        ┆           │\n",
              "╞═════════════╪══════╪═══════════╪═════════════╪═══╪═════════════╪════════════╪════════╪═══════════╡\n",
              "│ Indiana     ┆ 2023 ┆ PG-13     ┆ Action,     ┆ … ┆ Antonio     ┆ Karen      ┆ 41029  ┆ 0         │\n",
              "│ Jones and   ┆      ┆           ┆ Adventure   ┆   ┆ Banderas    ┆ Allen      ┆        ┆           │\n",
              "│ the Dial of ┆      ┆           ┆             ┆   ┆             ┆            ┆        ┆           │\n",
              "│ De…         ┆      ┆           ┆             ┆   ┆             ┆            ┆        ┆           │\n",
              "│ The Flash   ┆ 2023 ┆ PG-13     ┆ Action,     ┆ … ┆ Sasha Calle ┆ Michael    ┆ 80814  ┆ 1         │\n",
              "│             ┆      ┆           ┆ Adventure,  ┆   ┆             ┆ Shannon    ┆        ┆           │\n",
              "│             ┆      ┆           ┆ Fantasy     ┆   ┆             ┆            ┆        ┆           │\n",
              "│             ┆      ┆           ┆ …           ┆   ┆             ┆            ┆        ┆           │\n",
              "│ Spider-Man: ┆ 2023 ┆ PG        ┆ Animation,  ┆ … ┆ Shameik     ┆ Hailee     ┆ 168355 ┆ 2         │\n",
              "│ Across the  ┆      ┆           ┆ Action,     ┆   ┆ Moore       ┆ Steinfeld  ┆        ┆           │\n",
              "│ Spider-Ve…  ┆      ┆           ┆ Adventure   ┆   ┆             ┆            ┆        ┆           │\n",
              "│             ┆      ┆           ┆ …           ┆   ┆             ┆            ┆        ┆           │\n",
              "│ Extraction  ┆ 2023 ┆ R         ┆ Action,     ┆ … ┆ Adam Bessa  ┆ Tornike    ┆ 81123  ┆ 3         │\n",
              "│ II          ┆      ┆           ┆ Thriller    ┆   ┆             ┆ Gogrichian ┆        ┆           │\n",
              "│             ┆      ┆           ┆             ┆   ┆             ┆ i          ┆        ┆           │\n",
              "│ Avatar: The ┆ 2022 ┆ PG-13     ┆ Action,     ┆ … ┆ Sigourney   ┆ Stephen    ┆ 424931 ┆ 4         │\n",
              "│ Way of      ┆      ┆           ┆ Adventure,  ┆   ┆ Weaver      ┆ Lang       ┆        ┆           │\n",
              "│ Water       ┆      ┆           ┆ Fantasy     ┆   ┆             ┆            ┆        ┆           │\n",
              "│             ┆      ┆           ┆ …           ┆   ┆             ┆            ┆        ┆           │\n",
              "└─────────────┴──────┴───────────┴─────────────┴───┴─────────────┴────────────┴────────┴───────────┘"
            ],
            "text/html": [
              "<div><style>\n",
              ".dataframe > thead > tr > th,\n",
              ".dataframe > tbody > tr > td {\n",
              "  text-align: right;\n",
              "}\n",
              "</style>\n",
              "<small>shape: (5, 14)</small><table border=\"1\" class=\"dataframe\"><thead><tr><th>title</th><th>year</th><th>certificate</th><th>genre</th><th>time</th><th>rating</th><th>synopsis</th><th>director</th><th>actor 1</th><th>actor 2</th><th>actor 3</th><th>actor 4</th><th>votes</th><th>movies_id</th></tr><tr><td>str</td><td>i64</td><td>str</td><td>str</td><td>str</td><td>f64</td><td>str</td><td>str</td><td>str</td><td>str</td><td>str</td><td>str</td><td>i64</td><td>i64</td></tr></thead><tbody><tr><td>&quot;Indiana Jones …</td><td>2023</td><td>&quot;PG-13&quot;</td><td>&quot;Action, Advent…</td><td>&quot;154&quot;</td><td>6.9</td><td>&quot;Archaeologist …</td><td>&quot;James Mangold&quot;</td><td>&quot;Harrison Ford&quot;</td><td>&quot;Phoebe Waller-…</td><td>&quot;Antonio Bander…</td><td>&quot;Karen Allen&quot;</td><td>41029</td><td>0</td></tr><tr><td>&quot;The Flash&quot;</td><td>2023</td><td>&quot;PG-13&quot;</td><td>&quot;Action, Advent…</td><td>&quot;144&quot;</td><td>7.2</td><td>&quot;Barry Allen us…</td><td>&quot;Andy Muschiett…</td><td>&quot;Ezra Miller&quot;</td><td>&quot;Michael Keaton…</td><td>&quot;Sasha Calle&quot;</td><td>&quot;Michael Shanno…</td><td>80814</td><td>1</td></tr><tr><td>&quot;Spider-Man: Ac…</td><td>2023</td><td>&quot;PG&quot;</td><td>&quot;Animation, Act…</td><td>&quot;140&quot;</td><td>8.9</td><td>&quot;Miles Morales …</td><td>&quot;Joaquim Dos Sa…</td><td>&quot;Kemp Powers&quot;</td><td>&quot;Justin K. Thom…</td><td>&quot;Shameik Moore&quot;</td><td>&quot;Hailee Steinfe…</td><td>168355</td><td>2</td></tr><tr><td>&quot;Extraction II&quot;</td><td>2023</td><td>&quot;R&quot;</td><td>&quot;Action, Thrill…</td><td>&quot;122&quot;</td><td>7.1</td><td>&quot;After barely s…</td><td>&quot;Sam Hargrave&quot;</td><td>&quot;Chris Hemswort…</td><td>&quot;Golshifteh Far…</td><td>&quot;Adam Bessa&quot;</td><td>&quot;Tornike Gogric…</td><td>81123</td><td>3</td></tr><tr><td>&quot;Avatar: The Wa…</td><td>2022</td><td>&quot;PG-13&quot;</td><td>&quot;Action, Advent…</td><td>&quot;192&quot;</td><td>7.6</td><td>&quot;Jake Sully liv…</td><td>&quot;James Cameron&quot;</td><td>&quot;Sam Worthingto…</td><td>&quot;Zoe Saldana&quot;</td><td>&quot;Sigourney Weav…</td><td>&quot;Stephen Lang&quot;</td><td>424931</td><td>4</td></tr></tbody></table></div>"
            ]
          },
          "metadata": {},
          "execution_count": 25
        }
      ],
      "source": [
        "df.head()"
      ]
    },
    {
      "cell_type": "code",
      "source": [
        "#removing space bw name and surname"
      ],
      "metadata": {
        "id": "2Uw0DWQ9XUTf"
      },
      "id": "2Uw0DWQ9XUTf",
      "execution_count": null,
      "outputs": []
    },
    {
      "cell_type": "code",
      "execution_count": null,
      "id": "18843103",
      "metadata": {
        "id": "18843103"
      },
      "outputs": [],
      "source": [
        "df = df.with_columns([pl.col('director').str.replace(' ', ''),\n",
        "pl.col('actor 1' ).str.replace(' ', ''),\n",
        "pl.col('actor 2' ).str.replace(' ', ''),\n",
        "pl.col('actor 3' ).str.replace(' ', ''),\n",
        "pl.col('actor 4' ).str.replace(' ', ''),\n",
        "pl.col('genre'   ).str.replace(' ', ''),\n",
        "])\n",
        "\n",
        "df= df.with_columns(pl.col('genre'   ).str.replace(',', ', '))"
      ]
    },
    {
      "cell_type": "code",
      "execution_count": null,
      "id": "46cc1b70",
      "metadata": {
        "scrolled": true,
        "colab": {
          "base_uri": "https://localhost:8080/",
          "height": 255
        },
        "id": "46cc1b70",
        "outputId": "db9d6b07-6d81-44f2-d4cb-8eb4329c2256"
      },
      "outputs": [
        {
          "output_type": "execute_result",
          "data": {
            "text/plain": [
              "shape: (5, 14)\n",
              "┌─────────────┬──────┬───────────┬─────────────┬───┬─────────────┬────────────┬────────┬───────────┐\n",
              "│ title       ┆ year ┆ certifica ┆ genre       ┆ … ┆ actor 3     ┆ actor 4    ┆ votes  ┆ movies_id │\n",
              "│ ---         ┆ ---  ┆ te        ┆ ---         ┆   ┆ ---         ┆ ---        ┆ ---    ┆ ---       │\n",
              "│ str         ┆ i64  ┆ ---       ┆ str         ┆   ┆ str         ┆ str        ┆ i64    ┆ i64       │\n",
              "│             ┆      ┆ str       ┆             ┆   ┆             ┆            ┆        ┆           │\n",
              "╞═════════════╪══════╪═══════════╪═════════════╪═══╪═════════════╪════════════╪════════╪═══════════╡\n",
              "│ Indiana     ┆ 2023 ┆ PG-13     ┆ Action,     ┆ … ┆ AntonioBand ┆ KarenAllen ┆ 41029  ┆ 0         │\n",
              "│ Jones and   ┆      ┆           ┆ Adventure   ┆   ┆ eras        ┆            ┆        ┆           │\n",
              "│ the Dial of ┆      ┆           ┆             ┆   ┆             ┆            ┆        ┆           │\n",
              "│ De…         ┆      ┆           ┆             ┆   ┆             ┆            ┆        ┆           │\n",
              "│ The Flash   ┆ 2023 ┆ PG-13     ┆ Action, Adv ┆ … ┆ SashaCalle  ┆ MichaelSha ┆ 80814  ┆ 1         │\n",
              "│             ┆      ┆           ┆ enture,Fant ┆   ┆             ┆ nnon       ┆        ┆           │\n",
              "│             ┆      ┆           ┆ asy       … ┆   ┆             ┆            ┆        ┆           │\n",
              "│ Spider-Man: ┆ 2023 ┆ PG        ┆ Animation,  ┆ … ┆ ShameikMoor ┆ HaileeStei ┆ 168355 ┆ 2         │\n",
              "│ Across the  ┆      ┆           ┆ Action,Adve ┆   ┆ e           ┆ nfeld      ┆        ┆           │\n",
              "│ Spider-Ve…  ┆      ┆           ┆ nture     … ┆   ┆             ┆            ┆        ┆           │\n",
              "│ Extraction  ┆ 2023 ┆ R         ┆ Action,     ┆ … ┆ AdamBessa   ┆ TornikeGog ┆ 81123  ┆ 3         │\n",
              "│ II          ┆      ┆           ┆ Thriller    ┆   ┆             ┆ richiani   ┆        ┆           │\n",
              "│ Avatar: The ┆ 2022 ┆ PG-13     ┆ Action, Adv ┆ … ┆ SigourneyWe ┆ StephenLan ┆ 424931 ┆ 4         │\n",
              "│ Way of      ┆      ┆           ┆ enture,Fant ┆   ┆ aver        ┆ g          ┆        ┆           │\n",
              "│ Water       ┆      ┆           ┆ asy       … ┆   ┆             ┆            ┆        ┆           │\n",
              "└─────────────┴──────┴───────────┴─────────────┴───┴─────────────┴────────────┴────────┴───────────┘"
            ],
            "text/html": [
              "<div><style>\n",
              ".dataframe > thead > tr > th,\n",
              ".dataframe > tbody > tr > td {\n",
              "  text-align: right;\n",
              "}\n",
              "</style>\n",
              "<small>shape: (5, 14)</small><table border=\"1\" class=\"dataframe\"><thead><tr><th>title</th><th>year</th><th>certificate</th><th>genre</th><th>time</th><th>rating</th><th>synopsis</th><th>director</th><th>actor 1</th><th>actor 2</th><th>actor 3</th><th>actor 4</th><th>votes</th><th>movies_id</th></tr><tr><td>str</td><td>i64</td><td>str</td><td>str</td><td>str</td><td>f64</td><td>str</td><td>str</td><td>str</td><td>str</td><td>str</td><td>str</td><td>i64</td><td>i64</td></tr></thead><tbody><tr><td>&quot;Indiana Jones …</td><td>2023</td><td>&quot;PG-13&quot;</td><td>&quot;Action, Advent…</td><td>&quot;154&quot;</td><td>6.9</td><td>&quot;Archaeologist …</td><td>&quot;JamesMangold&quot;</td><td>&quot;HarrisonFord&quot;</td><td>&quot;PhoebeWaller-B…</td><td>&quot;AntonioBandera…</td><td>&quot;KarenAllen&quot;</td><td>41029</td><td>0</td></tr><tr><td>&quot;The Flash&quot;</td><td>2023</td><td>&quot;PG-13&quot;</td><td>&quot;Action, Advent…</td><td>&quot;144&quot;</td><td>7.2</td><td>&quot;Barry Allen us…</td><td>&quot;AndyMuschietti…</td><td>&quot;EzraMiller&quot;</td><td>&quot;MichaelKeaton&quot;</td><td>&quot;SashaCalle&quot;</td><td>&quot;MichaelShannon…</td><td>80814</td><td>1</td></tr><tr><td>&quot;Spider-Man: Ac…</td><td>2023</td><td>&quot;PG&quot;</td><td>&quot;Animation, Act…</td><td>&quot;140&quot;</td><td>8.9</td><td>&quot;Miles Morales …</td><td>&quot;JoaquimDosSant…</td><td>&quot;KempPowers&quot;</td><td>&quot;JustinK.Thomps…</td><td>&quot;ShameikMoore&quot;</td><td>&quot;HaileeSteinfel…</td><td>168355</td><td>2</td></tr><tr><td>&quot;Extraction II&quot;</td><td>2023</td><td>&quot;R&quot;</td><td>&quot;Action, Thrill…</td><td>&quot;122&quot;</td><td>7.1</td><td>&quot;After barely s…</td><td>&quot;SamHargrave&quot;</td><td>&quot;ChrisHemsworth…</td><td>&quot;GolshiftehFara…</td><td>&quot;AdamBessa&quot;</td><td>&quot;TornikeGogrich…</td><td>81123</td><td>3</td></tr><tr><td>&quot;Avatar: The Wa…</td><td>2022</td><td>&quot;PG-13&quot;</td><td>&quot;Action, Advent…</td><td>&quot;192&quot;</td><td>7.6</td><td>&quot;Jake Sully liv…</td><td>&quot;JamesCameron&quot;</td><td>&quot;SamWorthington…</td><td>&quot;ZoeSaldana&quot;</td><td>&quot;SigourneyWeave…</td><td>&quot;StephenLang&quot;</td><td>424931</td><td>4</td></tr></tbody></table></div>"
            ]
          },
          "metadata": {},
          "execution_count": 29
        }
      ],
      "source": [
        "df.head()"
      ]
    },
    {
      "cell_type": "markdown",
      "source": [
        "#remove STOPWORDS"
      ],
      "metadata": {
        "id": "TZFFgm6jH9zo"
      },
      "id": "TZFFgm6jH9zo"
    },
    {
      "cell_type": "code",
      "source": [
        "# 72 sec\n",
        "stop_words = set(stopwords.words('english'))\n"
      ],
      "metadata": {
        "id": "DkWpe661dknp"
      },
      "id": "DkWpe661dknp",
      "execution_count": null,
      "outputs": []
    },
    {
      "cell_type": "code",
      "source": [
        "df  = df.with_columns(\n",
        "    pl.col('synopsis').apply(lambda x: ' '.join([word for word in word_tokenize(x) if word.lower() not in stop_words]))\n",
        ")"
      ],
      "metadata": {
        "id": "IfMyzlFwducI"
      },
      "id": "IfMyzlFwducI",
      "execution_count": null,
      "outputs": []
    },
    {
      "cell_type": "markdown",
      "id": "8ba35865-79fe-41eb-9d74-c642527f5caa",
      "metadata": {
        "id": "8ba35865-79fe-41eb-9d74-c642527f5caa"
      },
      "source": [
        "## Joining Names and SUrnames"
      ]
    },
    {
      "cell_type": "code",
      "source": [
        "''' I wanted to join all names in the data, but it crashes and requires more RAM,\n",
        "'''"
      ],
      "metadata": {
        "id": "Uo29bsDNIPVM",
        "outputId": "dd687b40-aaaa-4000-d947-85d551ce916d",
        "colab": {
          "base_uri": "https://localhost:8080/",
          "height": 35
        }
      },
      "id": "Uo29bsDNIPVM",
      "execution_count": null,
      "outputs": [
        {
          "output_type": "execute_result",
          "data": {
            "text/plain": [
              "' I wanted to join all names in the data, but it crashes and requires more RAM,\\n'"
            ],
            "application/vnd.google.colaboratory.intrinsic+json": {
              "type": "string"
            }
          },
          "metadata": {},
          "execution_count": 32
        }
      ]
    },
    {
      "cell_type": "code",
      "execution_count": null,
      "id": "950e6c6e",
      "metadata": {
        "colab": {
          "base_uri": "https://localhost:8080/"
        },
        "id": "950e6c6e",
        "outputId": "acc5d373-4a91-4591-b7f1-45ebb7525542"
      },
      "outputs": [
        {
          "output_type": "stream",
          "name": "stdout",
          "text": [
            "my name is dickgreyson and this is my girifriend harleyquinn\n"
          ]
        }
      ],
      "source": [
        "import spacy\n",
        "\n",
        "def concatenate_names(sentence):\n",
        "    nlp = spacy.load(\"en_core_web_lg\")\n",
        "    ner_dict = dict()\n",
        "\n",
        "    # Extract names from the sentence using NER\n",
        "    doc = nlp(sentence)\n",
        "\n",
        "    for ent in doc.ents:\n",
        "        if ent.label_ == \"PERSON\":\n",
        "            name = ent.text\n",
        "            new_name = name.replace(' ','')\n",
        "            ner_dict[name] = new_name\n",
        "\n",
        "    # Replace names with names without spaces in the sentence\n",
        "    for i, j in ner_dict.items():\n",
        "        sentence = sentence.replace(i,j)\n",
        "\n",
        "    return sentence\n",
        "\n",
        "# Test the function\n",
        "# sentence = \"Ryan Holiday is an author, and Ryan is famous for his books.\"\n",
        "sentence = 'my name is dick greyson and this is my girifriend harley quinn'\n",
        "result = concatenate_names(sentence)\n",
        "print(result)\n"
      ]
    },
    {
      "cell_type": "code",
      "execution_count": null,
      "id": "13dd684c-9efb-4414-a793-7ed15ed09982",
      "metadata": {
        "id": "13dd684c-9efb-4414-a793-7ed15ed09982"
      },
      "outputs": [],
      "source": [
        "# all_synopsis = df['synopsis'].to_list()"
      ]
    },
    {
      "cell_type": "code",
      "source": [
        "# all_syn = ' <sos> '.join(all_synopsis)"
      ],
      "metadata": {
        "id": "EXvvAb2NfM6T"
      },
      "id": "EXvvAb2NfM6T",
      "execution_count": null,
      "outputs": []
    },
    {
      "cell_type": "code",
      "source": [
        "# df  = df.with_columns(\n",
        "#     pl.col('synopsis').apply(concatenate_names).alias('new')\n",
        "# )"
      ],
      "metadata": {
        "id": "N3DqPR1fb_bA"
      },
      "id": "N3DqPR1fb_bA",
      "execution_count": null,
      "outputs": []
    },
    {
      "cell_type": "code",
      "source": [],
      "metadata": {
        "id": "ID0U9s4Xdjj1"
      },
      "id": "ID0U9s4Xdjj1",
      "execution_count": null,
      "outputs": []
    },
    {
      "cell_type": "code",
      "execution_count": null,
      "id": "b9d4f4ca-21e7-47d7-98ba-71abbdfab269",
      "metadata": {
        "id": "b9d4f4ca-21e7-47d7-98ba-71abbdfab269"
      },
      "outputs": [],
      "source": [
        "# start_time = time.perf_counter()\n",
        "# print('Strated :',  time.strftime(\"%H:%M:%S\", time.localtime()))\n",
        "\n",
        "# with cf.ProcessPoolExecutor() as executer:\n",
        "#     dodo = [executer.submit(concatenate_names, i) for i in all_synopsis]\n",
        "#     # clean_tags = dodo.result()\n",
        "\n",
        "# print('Took: ',time.perf_counter()-start_time)\n",
        "# print('Finished :',  time.strftime(\"%H:%M:%S\", time.localtime()))\n"
      ]
    },
    {
      "cell_type": "markdown",
      "source": [
        "# Create a Tag Column\n",
        "Combining all data"
      ],
      "metadata": {
        "id": "1pbQ8yiOO9NO"
      },
      "id": "1pbQ8yiOO9NO"
    },
    {
      "cell_type": "code",
      "execution_count": null,
      "id": "4d7cae26",
      "metadata": {
        "colab": {
          "base_uri": "https://localhost:8080/"
        },
        "id": "4d7cae26",
        "outputId": "d5d5b61e-307d-4c62-fd24-c1d2b76c00b8"
      },
      "outputs": [
        {
          "output_type": "stream",
          "name": "stdout",
          "text": [
            "<class 'pandas.core.frame.DataFrame'>\n",
            "RangeIndex: 285340 entries, 0 to 285339\n",
            "Data columns (total 14 columns):\n",
            " #   Column       Non-Null Count   Dtype  \n",
            "---  ------       --------------   -----  \n",
            " 0   title        285340 non-null  object \n",
            " 1   year         285340 non-null  int64  \n",
            " 2   certificate  72952 non-null   object \n",
            " 3   genre        285340 non-null  object \n",
            " 4   time         204239 non-null  object \n",
            " 5   rating       184313 non-null  float64\n",
            " 6   synopsis     285340 non-null  object \n",
            " 7   director     269259 non-null  object \n",
            " 8   actor 1      253715 non-null  object \n",
            " 9   actor 2      246316 non-null  object \n",
            " 10  actor 3      239797 non-null  object \n",
            " 11  actor 4      230067 non-null  object \n",
            " 12  votes        285340 non-null  int64  \n",
            " 13  movies_id    285340 non-null  int64  \n",
            "dtypes: float64(1), int64(3), object(10)\n",
            "memory usage: 30.5+ MB\n"
          ]
        }
      ],
      "source": [
        "df.to_pandas().info()"
      ]
    },
    {
      "cell_type": "code",
      "source": [
        "df = df.with_columns([\n",
        "    pl.col('votes').fill_null(0),\n",
        "    pl.col('rating').fill_null(0.0)\n",
        "\n",
        "    ])\n",
        "\n",
        "# df = df.with_columns([\n",
        "#     pl.col('votes').fill_nan(0),\n",
        "#     pl.col('rating').fill_nan(0),\n",
        "\n",
        "#     ])\n",
        "df = df.fill_nan('')\n",
        "df = df.fill_null('')\n"
      ],
      "metadata": {
        "id": "kFOqU0-CMmGK"
      },
      "id": "kFOqU0-CMmGK",
      "execution_count": null,
      "outputs": []
    },
    {
      "cell_type": "code",
      "source": [
        "df = df.with_columns(\n",
        "    pl.col('rating').cast(pl.Float64))\n"
      ],
      "metadata": {
        "id": "iEmA6v9LlgzC"
      },
      "id": "iEmA6v9LlgzC",
      "execution_count": null,
      "outputs": []
    },
    {
      "cell_type": "code",
      "source": [
        "df.sort([ 'votes', 'rating'], descending=True)"
      ],
      "metadata": {
        "id": "Suba4u_6l22A",
        "outputId": "afa5f11b-3e8b-444e-c76c-32d6f77c5455",
        "colab": {
          "base_uri": "https://localhost:8080/",
          "height": 882
        }
      },
      "id": "Suba4u_6l22A",
      "execution_count": null,
      "outputs": [
        {
          "output_type": "execute_result",
          "data": {
            "text/plain": [
              "shape: (285_340, 15)\n",
              "┌─────────────┬──────┬───────────┬─────────────┬───┬────────────┬─────────┬───────────┬────────────┐\n",
              "│ title       ┆ year ┆ certifica ┆ genre       ┆ … ┆ actor 4    ┆ votes   ┆ movies_id ┆ tags       │\n",
              "│ ---         ┆ ---  ┆ te        ┆ ---         ┆   ┆ ---        ┆ ---     ┆ ---       ┆ ---        │\n",
              "│ str         ┆ i64  ┆ ---       ┆ str         ┆   ┆ str        ┆ i64     ┆ i64       ┆ str        │\n",
              "│             ┆      ┆ str       ┆             ┆   ┆            ┆         ┆           ┆            │\n",
              "╞═════════════╪══════╪═══════════╪═════════════╪═══╪════════════╪═════════╪═══════════╪════════════╡\n",
              "│ The         ┆ 1994 ┆ R         ┆ Drama       ┆ … ┆ WilliamSad ┆ 2761119 ┆ 151549    ┆ the        │\n",
              "│ Shawshank   ┆      ┆           ┆             ┆   ┆ ler        ┆         ┆           ┆ shawshank  │\n",
              "│ Redemption  ┆      ┆           ┆             ┆   ┆            ┆         ┆           ┆ redemption │\n",
              "│             ┆      ┆           ┆             ┆   ┆            ┆         ┆           ┆ 1994 r …   │\n",
              "│ The Dark    ┆ 2008 ┆ PG-13     ┆ Action,     ┆ … ┆ MichaelCai ┆ 2733681 ┆ 38        ┆ the dark   │\n",
              "│ Knight      ┆      ┆           ┆ Crime,Drama ┆   ┆ ne         ┆         ┆           ┆ knight     │\n",
              "│             ┆      ┆           ┆             ┆   ┆            ┆         ┆           ┆ 2008 pg13  │\n",
              "│             ┆      ┆           ┆             ┆   ┆            ┆         ┆           ┆ action…    │\n",
              "│ Inception   ┆ 2010 ┆ PG-13     ┆ Action, Adv ┆ … ┆ KenWatanab ┆ 2425939 ┆ 40        ┆ inception  │\n",
              "│             ┆      ┆           ┆ enture,Sci- ┆   ┆ e          ┆         ┆           ┆ 2010 pg13  │\n",
              "│             ┆      ┆           ┆ Fi        … ┆   ┆            ┆         ┆           ┆ action     │\n",
              "│             ┆      ┆           ┆             ┆   ┆            ┆         ┆           ┆ adven…     │\n",
              "│ Fight Club  ┆ 1999 ┆ R         ┆ Drama       ┆ … ┆ ZachGrenie ┆ 2198501 ┆ 151563    ┆ fight club │\n",
              "│             ┆      ┆           ┆             ┆   ┆ r          ┆         ┆           ┆ 1999 r     │\n",
              "│             ┆      ┆           ┆             ┆   ┆            ┆         ┆           ┆ drama      │\n",
              "│             ┆      ┆           ┆             ┆   ┆            ┆         ┆           ┆ …          │\n",
              "│ …           ┆ …    ┆ …         ┆ …           ┆ … ┆ …          ┆ …       ┆ …         ┆ …          │\n",
              "│ Man from    ┆ 0    ┆           ┆ Western     ┆ … ┆            ┆ 0       ┆ 285336    ┆ man from   │\n",
              "│ the West    ┆      ┆           ┆             ┆   ┆            ┆         ┆           ┆ the west 0 │\n",
              "│             ┆      ┆           ┆             ┆   ┆            ┆         ┆           ┆ western    │\n",
              "│             ┆      ┆           ┆             ┆   ┆            ┆         ┆           ┆ …          │\n",
              "│ Horizon: An ┆ 0    ┆           ┆ Western     ┆ … ┆            ┆ 0       ┆ 285337    ┆ horizon an │\n",
              "│ American    ┆      ┆           ┆             ┆   ┆            ┆         ┆           ┆ american   │\n",
              "│ Saga 4      ┆      ┆           ┆             ┆   ┆            ┆         ┆           ┆ saga 4 0   │\n",
              "│             ┆      ┆           ┆             ┆   ┆            ┆         ┆           ┆ we…        │\n",
              "│ Horizon: An ┆ 0    ┆           ┆ Western     ┆ … ┆            ┆ 0       ┆ 285338    ┆ horizon an │\n",
              "│ American    ┆      ┆           ┆             ┆   ┆            ┆         ┆           ┆ american   │\n",
              "│ Saga 3      ┆      ┆           ┆             ┆   ┆            ┆         ┆           ┆ saga 3 0   │\n",
              "│             ┆      ┆           ┆             ┆   ┆            ┆         ┆           ┆ we…        │\n",
              "│ The Perfect ┆ 2023 ┆           ┆ Drama,      ┆ … ┆ SydneyVanD ┆ 0       ┆ 285339    ┆ the        │\n",
              "│ Hand        ┆      ┆           ┆ Western     ┆   ┆ elft       ┆         ┆           ┆ perfect    │\n",
              "│             ┆      ┆           ┆             ┆   ┆            ┆         ┆           ┆ hand 2023  │\n",
              "│             ┆      ┆           ┆             ┆   ┆            ┆         ┆           ┆ drama wes… │\n",
              "└─────────────┴──────┴───────────┴─────────────┴───┴────────────┴─────────┴───────────┴────────────┘"
            ],
            "text/html": [
              "<div><style>\n",
              ".dataframe > thead > tr > th,\n",
              ".dataframe > tbody > tr > td {\n",
              "  text-align: right;\n",
              "}\n",
              "</style>\n",
              "<small>shape: (285340, 15)</small><table border=\"1\" class=\"dataframe\"><thead><tr><th>title</th><th>year</th><th>certificate</th><th>genre</th><th>time</th><th>rating</th><th>synopsis</th><th>director</th><th>actor 1</th><th>actor 2</th><th>actor 3</th><th>actor 4</th><th>votes</th><th>movies_id</th><th>tags</th></tr><tr><td>str</td><td>i64</td><td>str</td><td>str</td><td>str</td><td>f64</td><td>str</td><td>str</td><td>str</td><td>str</td><td>str</td><td>str</td><td>i64</td><td>i64</td><td>str</td></tr></thead><tbody><tr><td>&quot;The Shawshank …</td><td>1994</td><td>&quot;R&quot;</td><td>&quot;Drama         …</td><td>&quot;142&quot;</td><td>9.3</td><td>&quot;course several…</td><td>&quot;FrankDarabont&quot;</td><td>&quot;TimRobbins&quot;</td><td>&quot;MorganFreeman&quot;</td><td>&quot;BobGunton&quot;</td><td>&quot;WilliamSadler&quot;</td><td>2761119</td><td>151549</td><td>&quot;the shawshank …</td></tr><tr><td>&quot;The Dark Knigh…</td><td>2008</td><td>&quot;PG-13&quot;</td><td>&quot;Action, Crime,…</td><td>&quot;152&quot;</td><td>9.0</td><td>&quot;menace known J…</td><td>&quot;ChristopherNol…</td><td>&quot;ChristianBale&quot;</td><td>&quot;HeathLedger&quot;</td><td>&quot;AaronEckhart&quot;</td><td>&quot;MichaelCaine&quot;</td><td>2733681</td><td>38</td><td>&quot;the dark knigh…</td></tr><tr><td>&quot;Inception&quot;</td><td>2010</td><td>&quot;PG-13&quot;</td><td>&quot;Action, Advent…</td><td>&quot;148&quot;</td><td>8.8</td><td>&quot;thief steals c…</td><td>&quot;ChristopherNol…</td><td>&quot;LeonardoDiCapr…</td><td>&quot;JosephGordon-L…</td><td>&quot;ElliotPage&quot;</td><td>&quot;KenWatanabe&quot;</td><td>2425939</td><td>40</td><td>&quot;inception 2010…</td></tr><tr><td>&quot;Fight Club&quot;</td><td>1999</td><td>&quot;R&quot;</td><td>&quot;Drama         …</td><td>&quot;139&quot;</td><td>8.8</td><td>&quot;insomniac offi…</td><td>&quot;DavidFincher&quot;</td><td>&quot;BradPitt&quot;</td><td>&quot;EdwardNorton&quot;</td><td>&quot;MeatLoaf&quot;</td><td>&quot;ZachGrenier&quot;</td><td>2198501</td><td>151563</td><td>&quot;fight club 199…</td></tr><tr><td>&quot;Forrest Gump&quot;</td><td>1994</td><td>&quot;PG-13&quot;</td><td>&quot;Drama, Romance…</td><td>&quot;142&quot;</td><td>8.8</td><td>&quot;history United…</td><td>&quot;RobertZemeckis…</td><td>&quot;TomHanks&quot;</td><td>&quot;RobinWright&quot;</td><td>&quot;GarySinise&quot;</td><td>&quot;SallyField&quot;</td><td>2147674</td><td>151566</td><td>&quot;forrest gump 1…</td></tr><tr><td>&quot;Pulp Fiction&quot;</td><td>1994</td><td>&quot;R&quot;</td><td>&quot;Crime, Drama  …</td><td>&quot;154&quot;</td><td>8.9</td><td>&quot;lives two mob …</td><td>&quot;QuentinTaranti…</td><td>&quot;JohnTravolta&quot;</td><td>&quot;UmaThurman&quot;</td><td>&quot;SamuelL.Jackso…</td><td>&quot;BruceWillis&quot;</td><td>2119742</td><td>141031</td><td>&quot;pulp fiction 1…</td></tr><tr><td>&quot;The Matrix&quot;</td><td>1999</td><td>&quot;R&quot;</td><td>&quot;Action, Sci-Fi…</td><td>&quot;136&quot;</td><td>8.7</td><td>&quot;beautiful stra…</td><td>&quot;LanaWachowski&quot;</td><td>&quot;LillyWachowski…</td><td>&quot;KeanuReeves&quot;</td><td>&quot;LaurenceFishbu…</td><td>&quot;Carrie-AnneMos…</td><td>1967085</td><td>75</td><td>&quot;the matrix 199…</td></tr><tr><td>&quot;Interstellar&quot;</td><td>2014</td><td>&quot;PG-13&quot;</td><td>&quot;Adventure, Dra…</td><td>&quot;169&quot;</td><td>8.7</td><td>&quot;Earth becomes …</td><td>&quot;ChristopherNol…</td><td>&quot;MatthewMcConau…</td><td>&quot;AnneHathaway&quot;</td><td>&quot;JessicaChastai…</td><td>&quot;MackenzieFoy&quot;</td><td>1928943</td><td>49931</td><td>&quot;interstellar 2…</td></tr><tr><td>&quot;The Lord of th…</td><td>2001</td><td>&quot;PG-13&quot;</td><td>&quot;Action, Advent…</td><td>&quot;178&quot;</td><td>8.8</td><td>&quot;meek Hobbit Sh…</td><td>&quot;PeterJackson&quot;</td><td>&quot;ElijahWood&quot;</td><td>&quot;IanMcKellen&quot;</td><td>&quot;OrlandoBloom&quot;</td><td>&quot;SeanBean&quot;</td><td>1923733</td><td>57</td><td>&quot;the lord of th…</td></tr><tr><td>&quot;The Godfather&quot;</td><td>1972</td><td>&quot;R&quot;</td><td>&quot;Crime, Drama  …</td><td>&quot;175&quot;</td><td>9.2</td><td>&quot;Vito Corleone …</td><td>&quot;FrancisFordCop…</td><td>&quot;MarlonBrando&quot;</td><td>&quot;AlPacino&quot;</td><td>&quot;JamesCaan&quot;</td><td>&quot;DianeKeaton&quot;</td><td>1921318</td><td>141032</td><td>&quot;the godfather …</td></tr><tr><td>&quot;The Lord of th…</td><td>2003</td><td>&quot;PG-13&quot;</td><td>&quot;Action, Advent…</td><td>&quot;201&quot;</td><td>9.0</td><td>&quot;Gandalf Aragor…</td><td>&quot;PeterJackson&quot;</td><td>&quot;ElijahWood&quot;</td><td>&quot;ViggoMortensen…</td><td>&quot;IanMcKellen&quot;</td><td>&quot;OrlandoBloom&quot;</td><td>1895296</td><td>143</td><td>&quot;the lord of th…</td></tr><tr><td>&quot;The Dark Knigh…</td><td>2012</td><td>&quot;PG-13&quot;</td><td>&quot;Action, Drama,…</td><td>&quot;164&quot;</td><td>8.4</td><td>&quot;Eight years Jo…</td><td>&quot;ChristopherNol…</td><td>&quot;ChristianBale&quot;</td><td>&quot;TomHardy&quot;</td><td>&quot;AnneHathaway&quot;</td><td>&quot;GaryOldman&quot;</td><td>1750036</td><td>91</td><td>&quot;the dark knigh…</td></tr><tr><td>&hellip;</td><td>&hellip;</td><td>&hellip;</td><td>&hellip;</td><td>&hellip;</td><td>&hellip;</td><td>&hellip;</td><td>&hellip;</td><td>&hellip;</td><td>&hellip;</td><td>&hellip;</td><td>&hellip;</td><td>&hellip;</td><td>&hellip;</td><td>&hellip;</td></tr><tr><td>&quot;Flashing Hoofs…</td><td>1928</td><td>&quot;&quot;</td><td>&quot;Western       …</td><td>&quot;&quot;</td><td>0.0</td><td>&quot;Add Plot&quot;</td><td>&quot;CliffLyons&quot;</td><td>&quot;&quot;</td><td>&quot;&quot;</td><td>&quot;&quot;</td><td>&quot;&quot;</td><td>0</td><td>285328</td><td>&quot;flashing hoofs…</td></tr><tr><td>&quot;Seven Sixgunne…</td><td>1987</td><td>&quot;&quot;</td><td>&quot;Western       …</td><td>&quot;88&quot;</td><td>0.0</td><td>&quot;Flick Farsom u…</td><td>&quot;GeorgePotter&quot;</td><td>&quot;LarryBrooks&quot;</td><td>&quot;PaulFogle&quot;</td><td>&quot;JayGammons&quot;</td><td>&quot;CathyLane&quot;</td><td>0</td><td>285329</td><td>&quot;seven sixgunne…</td></tr><tr><td>&quot;Cigarettes Lik…</td><td>0</td><td>&quot;&quot;</td><td>&quot;Western       …</td><td>&quot;&quot;</td><td>0.0</td><td>&quot;farmer , left …</td><td>&quot;JodyButler&quot;</td><td>&quot;JodyButler&quot;</td><td>&quot;&quot;</td><td>&quot;&quot;</td><td>&quot;&quot;</td><td>0</td><td>285330</td><td>&quot;cigarettes lik…</td></tr><tr><td>&quot;The Wyoming Wi…</td><td>1925</td><td>&quot;Passed&quot;</td><td>&quot;Drama, Western…</td><td>&quot;50&quot;</td><td>0.0</td><td>&quot;Cowboy Phil St…</td><td>&quot;RobertDeLacey&quot;</td><td>&quot;TomTyler&quot;</td><td>&quot;VirginiaSouthe…</td><td>&quot;GilbertClayton…</td><td>&quot;EthanLaidlaw&quot;</td><td>0</td><td>285331</td><td>&quot;the wyoming wi…</td></tr><tr><td>&quot;Alamo Reed&quot;</td><td>0</td><td>&quot;&quot;</td><td>&quot;Comedy, Drama,…</td><td>&quot;&quot;</td><td>0.0</td><td>&quot;Mexican Bandid…</td><td>&quot;&quot;</td><td>&quot;&quot;</td><td>&quot;&quot;</td><td>&quot;&quot;</td><td>&quot;&quot;</td><td>0</td><td>285332</td><td>&quot;alamo reed 0  …</td></tr><tr><td>&quot;Dugong Tigre&quot;</td><td>1964</td><td>&quot;&quot;</td><td>&quot;Western       …</td><td>&quot;&quot;</td><td>0.0</td><td>&quot;Add Plot&quot;</td><td>&quot;ArmandoGarces&quot;</td><td>&quot;JunAristorenas…</td><td>&quot;GinaLaforteza&quot;</td><td>&quot;EddieGarcia&quot;</td><td>&quot;MaxAlvarado&quot;</td><td>0</td><td>285333</td><td>&quot;dugong tigre 1…</td></tr><tr><td>&quot;Lone Fighter&quot;</td><td>1923</td><td>&quot;&quot;</td><td>&quot;Western       …</td><td>&quot;&quot;</td><td>0.0</td><td>&quot;Girl &#x27;s sweeth…</td><td>&quot;AlbertRussell&quot;</td><td>&quot;J.B.Warner&quot;</td><td>&quot;VesterPegg&quot;</td><td>&quot;JosephineHill&quot;</td><td>&quot;JoeRyan&quot;</td><td>0</td><td>285334</td><td>&quot;lone fighter 1…</td></tr><tr><td>&quot;Imposition&quot;</td><td>0</td><td>&quot;&quot;</td><td>&quot;Western       …</td><td>&quot;&quot;</td><td>0.0</td><td>&quot;mentally ill k…</td><td>&quot;&quot;</td><td>&quot;&quot;</td><td>&quot;&quot;</td><td>&quot;&quot;</td><td>&quot;&quot;</td><td>0</td><td>285335</td><td>&quot;imposition 0  …</td></tr><tr><td>&quot;Man from the W…</td><td>0</td><td>&quot;&quot;</td><td>&quot;Western       …</td><td>&quot;&quot;</td><td>0.0</td><td>&quot;1912 . Old Wes…</td><td>&quot;Jean-Christoph…</td><td>&quot;&quot;</td><td>&quot;&quot;</td><td>&quot;&quot;</td><td>&quot;&quot;</td><td>0</td><td>285336</td><td>&quot;man from the w…</td></tr><tr><td>&quot;Horizon: An Am…</td><td>0</td><td>&quot;&quot;</td><td>&quot;Western       …</td><td>&quot;&quot;</td><td>0.0</td><td>&quot;Plot wraps .&quot;</td><td>&quot;KevinCostner&quot;</td><td>&quot;KevinCostner&quot;</td><td>&quot;AustinArcher&quot;</td><td>&quot;&quot;</td><td>&quot;&quot;</td><td>0</td><td>285337</td><td>&quot;horizon an ame…</td></tr><tr><td>&quot;Horizon: An Am…</td><td>0</td><td>&quot;&quot;</td><td>&quot;Western       …</td><td>&quot;&quot;</td><td>0.0</td><td>&quot;Plot wraps .&quot;</td><td>&quot;KevinCostner&quot;</td><td>&quot;KevinCostner&quot;</td><td>&quot;AustinArcher&quot;</td><td>&quot;&quot;</td><td>&quot;&quot;</td><td>0</td><td>285338</td><td>&quot;horizon an ame…</td></tr><tr><td>&quot;The Perfect Ha…</td><td>2023</td><td>&quot;&quot;</td><td>&quot;Drama, Western…</td><td>&quot;113&quot;</td><td>0.0</td><td>&quot;sharp-shooting…</td><td>&quot;MichaelFredian…</td><td>&quot;MichaelFredian…</td><td>&quot;BryanHurd&quot;</td><td>&quot;DanielEdwardMi…</td><td>&quot;SydneyVanDelft…</td><td>0</td><td>285339</td><td>&quot;the perfect ha…</td></tr></tbody></table></div>"
            ]
          },
          "metadata": {},
          "execution_count": 83
        }
      ]
    },
    {
      "cell_type": "code",
      "source": [
        "df.shape"
      ],
      "metadata": {
        "id": "F4si1Sc4Msok",
        "outputId": "83b6411d-224b-4697-8b74-1dbbbffa4329",
        "colab": {
          "base_uri": "https://localhost:8080/"
        }
      },
      "id": "F4si1Sc4Msok",
      "execution_count": null,
      "outputs": [
        {
          "output_type": "execute_result",
          "data": {
            "text/plain": [
              "(285340, 14)"
            ]
          },
          "metadata": {},
          "execution_count": 43
        }
      ]
    },
    {
      "cell_type": "code",
      "source": [
        "df2 = df.with_columns(\n",
        "    pl.col('year').cast('str').alias('year_as_str'),\n",
        "    pl.col('rating').cast('str').alias('rating_as_str')\n",
        ")"
      ],
      "metadata": {
        "id": "1a9JK8rDMRe3"
      },
      "id": "1a9JK8rDMRe3",
      "execution_count": null,
      "outputs": []
    },
    {
      "cell_type": "code",
      "execution_count": null,
      "id": "d130227e-1ce5-47bd-a8fd-b35a8ea28772",
      "metadata": {
        "id": "d130227e-1ce5-47bd-a8fd-b35a8ea28772"
      },
      "outputs": [],
      "source": [
        "cols_to_combine = ['title', 'year_as_str', 'certificate', 'genre', 'time', 'rating_as_str', 'synopsis',\n",
        "       'director', 'actor 1', 'actor 2', 'actor 3', 'actor 4',\n",
        "       ]"
      ]
    },
    {
      "cell_type": "code",
      "execution_count": null,
      "id": "bb915623",
      "metadata": {
        "id": "bb915623"
      },
      "outputs": [],
      "source": [
        "df = df.with_columns(pl.Series('tags', values = df2[cols_to_combine].apply(' '.join).to_series()))\n"
      ]
    },
    {
      "cell_type": "code",
      "execution_count": null,
      "id": "b3722732",
      "metadata": {
        "colab": {
          "base_uri": "https://localhost:8080/",
          "height": 255
        },
        "id": "b3722732",
        "outputId": "2908f54c-6450-4711-ba35-82a65563dcc5"
      },
      "outputs": [
        {
          "output_type": "execute_result",
          "data": {
            "text/plain": [
              "shape: (5, 15)\n",
              "┌─────────────┬──────┬───────────┬─────────────┬───┬─────────────┬────────┬───────────┬────────────┐\n",
              "│ title       ┆ year ┆ certifica ┆ genre       ┆ … ┆ actor 4     ┆ votes  ┆ movies_id ┆ tags       │\n",
              "│ ---         ┆ ---  ┆ te        ┆ ---         ┆   ┆ ---         ┆ ---    ┆ ---       ┆ ---        │\n",
              "│ str         ┆ i64  ┆ ---       ┆ str         ┆   ┆ str         ┆ i64    ┆ i64       ┆ str        │\n",
              "│             ┆      ┆ str       ┆             ┆   ┆             ┆        ┆           ┆            │\n",
              "╞═════════════╪══════╪═══════════╪═════════════╪═══╪═════════════╪════════╪═══════════╪════════════╡\n",
              "│ Indiana     ┆ 2023 ┆ PG-13     ┆ Action,     ┆ … ┆ KarenAllen  ┆ 41029  ┆ 0         ┆ Indiana    │\n",
              "│ Jones and   ┆      ┆           ┆ Adventure   ┆   ┆             ┆        ┆           ┆ Jones and  │\n",
              "│ the Dial of ┆      ┆           ┆             ┆   ┆             ┆        ┆           ┆ the Dial   │\n",
              "│ De…         ┆      ┆           ┆             ┆   ┆             ┆        ┆           ┆ of De…     │\n",
              "│ The Flash   ┆ 2023 ┆ PG-13     ┆ Action, Adv ┆ … ┆ MichaelShan ┆ 80814  ┆ 1         ┆ The Flash  │\n",
              "│             ┆      ┆           ┆ enture,Fant ┆   ┆ non         ┆        ┆           ┆ 2023 PG-13 │\n",
              "│             ┆      ┆           ┆ asy       … ┆   ┆             ┆        ┆           ┆ Action,    │\n",
              "│             ┆      ┆           ┆             ┆   ┆             ┆        ┆           ┆ Adv…       │\n",
              "│ Spider-Man: ┆ 2023 ┆ PG        ┆ Animation,  ┆ … ┆ HaileeStein ┆ 168355 ┆ 2         ┆ Spider-Man │\n",
              "│ Across the  ┆      ┆           ┆ Action,Adve ┆   ┆ feld        ┆        ┆           ┆ : Across   │\n",
              "│ Spider-Ve…  ┆      ┆           ┆ nture     … ┆   ┆             ┆        ┆           ┆ the        │\n",
              "│             ┆      ┆           ┆             ┆   ┆             ┆        ┆           ┆ Spider-Ve… │\n",
              "│ Extraction  ┆ 2023 ┆ R         ┆ Action,     ┆ … ┆ TornikeGogr ┆ 81123  ┆ 3         ┆ Extraction │\n",
              "│ II          ┆      ┆           ┆ Thriller    ┆   ┆ ichiani     ┆        ┆           ┆ II 2023 R  │\n",
              "│             ┆      ┆           ┆             ┆   ┆             ┆        ┆           ┆ Action,    │\n",
              "│             ┆      ┆           ┆             ┆   ┆             ┆        ┆           ┆ Thr…       │\n",
              "│ Avatar: The ┆ 2022 ┆ PG-13     ┆ Action, Adv ┆ … ┆ StephenLang ┆ 424931 ┆ 4         ┆ Avatar:    │\n",
              "│ Way of      ┆      ┆           ┆ enture,Fant ┆   ┆             ┆        ┆           ┆ The Way of │\n",
              "│ Water       ┆      ┆           ┆ asy       … ┆   ┆             ┆        ┆           ┆ Water 2022 │\n",
              "│             ┆      ┆           ┆             ┆   ┆             ┆        ┆           ┆ PG…        │\n",
              "└─────────────┴──────┴───────────┴─────────────┴───┴─────────────┴────────┴───────────┴────────────┘"
            ],
            "text/html": [
              "<div><style>\n",
              ".dataframe > thead > tr > th,\n",
              ".dataframe > tbody > tr > td {\n",
              "  text-align: right;\n",
              "}\n",
              "</style>\n",
              "<small>shape: (5, 15)</small><table border=\"1\" class=\"dataframe\"><thead><tr><th>title</th><th>year</th><th>certificate</th><th>genre</th><th>time</th><th>rating</th><th>synopsis</th><th>director</th><th>actor 1</th><th>actor 2</th><th>actor 3</th><th>actor 4</th><th>votes</th><th>movies_id</th><th>tags</th></tr><tr><td>str</td><td>i64</td><td>str</td><td>str</td><td>str</td><td>str</td><td>str</td><td>str</td><td>str</td><td>str</td><td>str</td><td>str</td><td>i64</td><td>i64</td><td>str</td></tr></thead><tbody><tr><td>&quot;Indiana Jones …</td><td>2023</td><td>&quot;PG-13&quot;</td><td>&quot;Action, Advent…</td><td>&quot;154&quot;</td><td>&quot;6.9&quot;</td><td>&quot;Archaeologist …</td><td>&quot;JamesMangold&quot;</td><td>&quot;HarrisonFord&quot;</td><td>&quot;PhoebeWaller-B…</td><td>&quot;AntonioBandera…</td><td>&quot;KarenAllen&quot;</td><td>41029</td><td>0</td><td>&quot;Indiana Jones …</td></tr><tr><td>&quot;The Flash&quot;</td><td>2023</td><td>&quot;PG-13&quot;</td><td>&quot;Action, Advent…</td><td>&quot;144&quot;</td><td>&quot;7.2&quot;</td><td>&quot;Barry Allen us…</td><td>&quot;AndyMuschietti…</td><td>&quot;EzraMiller&quot;</td><td>&quot;MichaelKeaton&quot;</td><td>&quot;SashaCalle&quot;</td><td>&quot;MichaelShannon…</td><td>80814</td><td>1</td><td>&quot;The Flash 2023…</td></tr><tr><td>&quot;Spider-Man: Ac…</td><td>2023</td><td>&quot;PG&quot;</td><td>&quot;Animation, Act…</td><td>&quot;140&quot;</td><td>&quot;8.9&quot;</td><td>&quot;Miles Morales …</td><td>&quot;JoaquimDosSant…</td><td>&quot;KempPowers&quot;</td><td>&quot;JustinK.Thomps…</td><td>&quot;ShameikMoore&quot;</td><td>&quot;HaileeSteinfel…</td><td>168355</td><td>2</td><td>&quot;Spider-Man: Ac…</td></tr><tr><td>&quot;Extraction II&quot;</td><td>2023</td><td>&quot;R&quot;</td><td>&quot;Action, Thrill…</td><td>&quot;122&quot;</td><td>&quot;7.1&quot;</td><td>&quot;barely survivi…</td><td>&quot;SamHargrave&quot;</td><td>&quot;ChrisHemsworth…</td><td>&quot;GolshiftehFara…</td><td>&quot;AdamBessa&quot;</td><td>&quot;TornikeGogrich…</td><td>81123</td><td>3</td><td>&quot;Extraction II …</td></tr><tr><td>&quot;Avatar: The Wa…</td><td>2022</td><td>&quot;PG-13&quot;</td><td>&quot;Action, Advent…</td><td>&quot;192&quot;</td><td>&quot;7.6&quot;</td><td>&quot;Jake Sully liv…</td><td>&quot;JamesCameron&quot;</td><td>&quot;SamWorthington…</td><td>&quot;ZoeSaldana&quot;</td><td>&quot;SigourneyWeave…</td><td>&quot;StephenLang&quot;</td><td>424931</td><td>4</td><td>&quot;Avatar: The Wa…</td></tr></tbody></table></div>"
            ]
          },
          "metadata": {},
          "execution_count": 47
        }
      ],
      "source": [
        "df.head()"
      ]
    },
    {
      "cell_type": "code",
      "execution_count": null,
      "id": "4b4d1fd6",
      "metadata": {
        "id": "4b4d1fd6"
      },
      "outputs": [],
      "source": [
        "def remove_punctuations(text):\n",
        "    return text.translate(str.maketrans(\"\", \"\", string.punctuation))"
      ]
    },
    {
      "cell_type": "code",
      "execution_count": null,
      "id": "edb65125",
      "metadata": {
        "id": "edb65125"
      },
      "outputs": [],
      "source": [
        "df = df.with_columns(pl.col('tags').apply(remove_punctuations))\n",
        "df = df.with_columns(pl.col('tags').str.to_lowercase())\n"
      ]
    },
    {
      "cell_type": "code",
      "source": [
        "# Create a PorterStemmer object\n",
        "stemmer = PorterStemmer()\n",
        "\n",
        "# Apply the stemming function to each word in the series\n",
        "df = df.with_columns(pl.col('tags').apply(stemmer.stem))\n"
      ],
      "metadata": {
        "id": "aLXVbaUzSInm"
      },
      "id": "aLXVbaUzSInm",
      "execution_count": null,
      "outputs": []
    },
    {
      "cell_type": "code",
      "execution_count": null,
      "id": "6fa4f7d3",
      "metadata": {
        "id": "6fa4f7d3"
      },
      "outputs": [],
      "source": [
        "dff = df[['title', 'movies_id', 'tags', 'votes', 'rating']]"
      ]
    },
    {
      "cell_type": "code",
      "execution_count": null,
      "id": "1fc5f2ad",
      "metadata": {
        "colab": {
          "base_uri": "https://localhost:8080/",
          "height": 255
        },
        "id": "1fc5f2ad",
        "outputId": "2183b5ad-30fd-4ef8-ac3d-397dc833e818"
      },
      "outputs": [
        {
          "output_type": "execute_result",
          "data": {
            "text/plain": [
              "shape: (5, 5)\n",
              "┌──────────────────────────────────┬───────────┬─────────────────────────────────┬────────┬────────┐\n",
              "│ title                            ┆ movies_id ┆ tags                            ┆ votes  ┆ rating │\n",
              "│ ---                              ┆ ---       ┆ ---                             ┆ ---    ┆ ---    │\n",
              "│ str                              ┆ i64       ┆ str                             ┆ i64    ┆ str    │\n",
              "╞══════════════════════════════════╪═══════════╪═════════════════════════════════╪════════╪════════╡\n",
              "│ Indiana Jones and the Dial of    ┆ 0         ┆ indiana jones and the dial of   ┆ 41029  ┆ 6.9    │\n",
              "│ De…                              ┆           ┆ de…                             ┆        ┆        │\n",
              "│ The Flash                        ┆ 1         ┆ the flash 2023 pg13 action      ┆ 80814  ┆ 7.2    │\n",
              "│                                  ┆           ┆ adven…                          ┆        ┆        │\n",
              "│ Spider-Man: Across the           ┆ 2         ┆ spiderman across the            ┆ 168355 ┆ 8.9    │\n",
              "│ Spider-Ve…                       ┆           ┆ spiderverse…                    ┆        ┆        │\n",
              "│ Extraction II                    ┆ 3         ┆ extraction ii 2023 r action     ┆ 81123  ┆ 7.1    │\n",
              "│                                  ┆           ┆ thri…                           ┆        ┆        │\n",
              "│ Avatar: The Way of Water         ┆ 4         ┆ avatar the way of water 2022    ┆ 424931 ┆ 7.6    │\n",
              "│                                  ┆           ┆ pg1…                            ┆        ┆        │\n",
              "└──────────────────────────────────┴───────────┴─────────────────────────────────┴────────┴────────┘"
            ],
            "text/html": [
              "<div><style>\n",
              ".dataframe > thead > tr > th,\n",
              ".dataframe > tbody > tr > td {\n",
              "  text-align: right;\n",
              "}\n",
              "</style>\n",
              "<small>shape: (5, 5)</small><table border=\"1\" class=\"dataframe\"><thead><tr><th>title</th><th>movies_id</th><th>tags</th><th>votes</th><th>rating</th></tr><tr><td>str</td><td>i64</td><td>str</td><td>i64</td><td>str</td></tr></thead><tbody><tr><td>&quot;Indiana Jones …</td><td>0</td><td>&quot;indiana jones …</td><td>41029</td><td>&quot;6.9&quot;</td></tr><tr><td>&quot;The Flash&quot;</td><td>1</td><td>&quot;the flash 2023…</td><td>80814</td><td>&quot;7.2&quot;</td></tr><tr><td>&quot;Spider-Man: Ac…</td><td>2</td><td>&quot;spiderman acro…</td><td>168355</td><td>&quot;8.9&quot;</td></tr><tr><td>&quot;Extraction II&quot;</td><td>3</td><td>&quot;extraction ii …</td><td>81123</td><td>&quot;7.1&quot;</td></tr><tr><td>&quot;Avatar: The Wa…</td><td>4</td><td>&quot;avatar the way…</td><td>424931</td><td>&quot;7.6&quot;</td></tr></tbody></table></div>"
            ]
          },
          "metadata": {},
          "execution_count": 52
        }
      ],
      "source": [
        "dff.head()"
      ]
    },
    {
      "cell_type": "code",
      "execution_count": null,
      "id": "c0097ff9-7777-4dcb-892f-ede516db69b8",
      "metadata": {
        "id": "c0097ff9-7777-4dcb-892f-ede516db69b8"
      },
      "outputs": [],
      "source": [
        "# dff['tags'] = dff['tags'].str.split()\n",
        "# dff = dff.with_columns(pl.col('tags').str.split(' '))\n"
      ]
    },
    {
      "cell_type": "code",
      "execution_count": null,
      "id": "d508815b",
      "metadata": {
        "colab": {
          "base_uri": "https://localhost:8080/",
          "height": 255
        },
        "id": "d508815b",
        "outputId": "64620dba-ce21-4b2f-90e2-c43bbeda71d4"
      },
      "outputs": [
        {
          "output_type": "execute_result",
          "data": {
            "text/plain": [
              "shape: (5, 5)\n",
              "┌──────────────────────────────────┬───────────┬─────────────────────────────────┬────────┬────────┐\n",
              "│ title                            ┆ movies_id ┆ tags                            ┆ votes  ┆ rating │\n",
              "│ ---                              ┆ ---       ┆ ---                             ┆ ---    ┆ ---    │\n",
              "│ str                              ┆ i64       ┆ str                             ┆ i64    ┆ str    │\n",
              "╞══════════════════════════════════╪═══════════╪═════════════════════════════════╪════════╪════════╡\n",
              "│ Indiana Jones and the Dial of    ┆ 0         ┆ indiana jones and the dial of   ┆ 41029  ┆ 6.9    │\n",
              "│ De…                              ┆           ┆ de…                             ┆        ┆        │\n",
              "│ The Flash                        ┆ 1         ┆ the flash 2023 pg13 action      ┆ 80814  ┆ 7.2    │\n",
              "│                                  ┆           ┆ adven…                          ┆        ┆        │\n",
              "│ Spider-Man: Across the           ┆ 2         ┆ spiderman across the            ┆ 168355 ┆ 8.9    │\n",
              "│ Spider-Ve…                       ┆           ┆ spiderverse…                    ┆        ┆        │\n",
              "│ Extraction II                    ┆ 3         ┆ extraction ii 2023 r action     ┆ 81123  ┆ 7.1    │\n",
              "│                                  ┆           ┆ thri…                           ┆        ┆        │\n",
              "│ Avatar: The Way of Water         ┆ 4         ┆ avatar the way of water 2022    ┆ 424931 ┆ 7.6    │\n",
              "│                                  ┆           ┆ pg1…                            ┆        ┆        │\n",
              "└──────────────────────────────────┴───────────┴─────────────────────────────────┴────────┴────────┘"
            ],
            "text/html": [
              "<div><style>\n",
              ".dataframe > thead > tr > th,\n",
              ".dataframe > tbody > tr > td {\n",
              "  text-align: right;\n",
              "}\n",
              "</style>\n",
              "<small>shape: (5, 5)</small><table border=\"1\" class=\"dataframe\"><thead><tr><th>title</th><th>movies_id</th><th>tags</th><th>votes</th><th>rating</th></tr><tr><td>str</td><td>i64</td><td>str</td><td>i64</td><td>str</td></tr></thead><tbody><tr><td>&quot;Indiana Jones …</td><td>0</td><td>&quot;indiana jones …</td><td>41029</td><td>&quot;6.9&quot;</td></tr><tr><td>&quot;The Flash&quot;</td><td>1</td><td>&quot;the flash 2023…</td><td>80814</td><td>&quot;7.2&quot;</td></tr><tr><td>&quot;Spider-Man: Ac…</td><td>2</td><td>&quot;spiderman acro…</td><td>168355</td><td>&quot;8.9&quot;</td></tr><tr><td>&quot;Extraction II&quot;</td><td>3</td><td>&quot;extraction ii …</td><td>81123</td><td>&quot;7.1&quot;</td></tr><tr><td>&quot;Avatar: The Wa…</td><td>4</td><td>&quot;avatar the way…</td><td>424931</td><td>&quot;7.6&quot;</td></tr></tbody></table></div>"
            ]
          },
          "metadata": {},
          "execution_count": 54
        }
      ],
      "source": [
        "dff.head()"
      ]
    },
    {
      "cell_type": "code",
      "execution_count": null,
      "id": "4c4f587c",
      "metadata": {
        "id": "4c4f587c"
      },
      "outputs": [],
      "source": [
        "all_words = dff['tags'].to_list()"
      ]
    },
    {
      "cell_type": "code",
      "execution_count": null,
      "id": "d7b83437",
      "metadata": {
        "id": "d7b83437"
      },
      "outputs": [],
      "source": [
        "def flatten_nested_list(nested_list):\n",
        "    return [item for sublist in nested_list for item in (flatten_nested_list(sublist) if isinstance(sublist, list) else [sublist])]\n"
      ]
    },
    {
      "cell_type": "code",
      "execution_count": null,
      "id": "397c85fd",
      "metadata": {
        "id": "397c85fd"
      },
      "outputs": [],
      "source": [
        "all_wordss = flatten_nested_list(all_words)"
      ]
    },
    {
      "cell_type": "code",
      "execution_count": null,
      "id": "12825677",
      "metadata": {
        "colab": {
          "base_uri": "https://localhost:8080/"
        },
        "id": "12825677",
        "outputId": "c9fdae90-4088-4725-f441-8246d480472f"
      },
      "outputs": [
        {
          "output_type": "execute_result",
          "data": {
            "text/plain": [
              "(285340, 285335)"
            ]
          },
          "metadata": {},
          "execution_count": 58
        }
      ],
      "source": [
        "len(all_wordss), len(set(all_wordss))"
      ]
    },
    {
      "cell_type": "code",
      "execution_count": null,
      "id": "18f1faee",
      "metadata": {
        "id": "18f1faee"
      },
      "outputs": [],
      "source": [
        "from sklearn.feature_extraction.text import  CountVectorizer"
      ]
    },
    {
      "cell_type": "code",
      "execution_count": null,
      "id": "c39bb616",
      "metadata": {
        "id": "c39bb616"
      },
      "outputs": [],
      "source": [
        "cv = CountVectorizer(lowercase=True, stop_words='english', max_features=5000, dtype=np.int16 )"
      ]
    },
    {
      "cell_type": "code",
      "execution_count": null,
      "id": "1e752346",
      "metadata": {
        "id": "1e752346"
      },
      "outputs": [],
      "source": [
        "vector = cv.fit_transform(dff['tags'].to_list())"
      ]
    },
    {
      "cell_type": "code",
      "execution_count": null,
      "id": "99081a64-93dc-4a8c-9e95-c2e9df4998aa",
      "metadata": {
        "colab": {
          "base_uri": "https://localhost:8080/"
        },
        "id": "99081a64-93dc-4a8c-9e95-c2e9df4998aa",
        "outputId": "bff9b88b-852b-45cb-f3d1-5c3c900b7207"
      },
      "outputs": [
        {
          "output_type": "execute_result",
          "data": {
            "text/plain": [
              "<285340x5000 sparse matrix of type '<class 'numpy.int16'>'\n",
              "\twith 4107158 stored elements in Compressed Sparse Row format>"
            ]
          },
          "metadata": {},
          "execution_count": 63
        }
      ],
      "source": [
        "vector"
      ]
    },
    {
      "cell_type": "code",
      "execution_count": null,
      "id": "601be4f9",
      "metadata": {
        "id": "601be4f9"
      },
      "outputs": [],
      "source": []
    },
    {
      "cell_type": "code",
      "execution_count": null,
      "id": "ee907234-77bd-404a-818d-9ec9aa2bb0f5",
      "metadata": {
        "colab": {
          "base_uri": "https://localhost:8080/"
        },
        "id": "ee907234-77bd-404a-818d-9ec9aa2bb0f5",
        "outputId": "e2f50a84-26b0-4856-f448-513d1ad1297a"
      },
      "outputs": [
        {
          "output_type": "execute_result",
          "data": {
            "text/plain": [
              "<1x5000 sparse matrix of type '<class 'numpy.int16'>'\n",
              "\twith 19 stored elements in Compressed Sparse Row format>"
            ]
          },
          "metadata": {},
          "execution_count": 64
        }
      ],
      "source": [
        "vector[2]"
      ]
    },
    {
      "cell_type": "code",
      "execution_count": null,
      "id": "963fb732",
      "metadata": {
        "id": "963fb732"
      },
      "outputs": [],
      "source": [
        "# pickle.dump(movie_vector, open('movie_vector.pkl','wb'))  # creates file of 2.6 gb\n",
        "pickle.dump(vector, open('vector.pkl','wb'))"
      ]
    },
    {
      "cell_type": "code",
      "source": [
        "dff.to_pandas().info()"
      ],
      "metadata": {
        "id": "zGMLc9l-Z2oV",
        "outputId": "df5df77c-2d79-42ee-9808-9565b60894eb",
        "colab": {
          "base_uri": "https://localhost:8080/"
        }
      },
      "id": "zGMLc9l-Z2oV",
      "execution_count": null,
      "outputs": [
        {
          "output_type": "stream",
          "name": "stdout",
          "text": [
            "<class 'pandas.core.frame.DataFrame'>\n",
            "RangeIndex: 285340 entries, 0 to 285339\n",
            "Data columns (total 5 columns):\n",
            " #   Column     Non-Null Count   Dtype \n",
            "---  ------     --------------   ----- \n",
            " 0   title      285340 non-null  object\n",
            " 1   movies_id  285340 non-null  int64 \n",
            " 2   tags       285340 non-null  object\n",
            " 3   votes      285340 non-null  int64 \n",
            " 4   rating     285340 non-null  object\n",
            "dtypes: int64(2), object(3)\n",
            "memory usage: 10.9+ MB\n"
          ]
        }
      ]
    },
    {
      "cell_type": "code",
      "execution_count": null,
      "id": "6b8f693a",
      "metadata": {
        "id": "6b8f693a"
      },
      "outputs": [],
      "source": [
        "def find_similar_movies(x:str, k = 5) -> List[str]:\n",
        "    movie_id  = dff.filter(pl.col('title') == x)['movies_id'].to_list()[0]\n",
        "    # print(movie_id)\n",
        "    sim_vec  = cosine_similarity(vector, vector[movie_id])\n",
        "    y = sorted(enumerate(sim_vec), key=lambda x: x[1], reverse=True)\n",
        "    recommended_movies_ids = [i[0] for i in y[1:k+1]]\n",
        "    # print(recommended_movies_ids)\n",
        "    for i in recommended_movies_ids:\n",
        "        print(dff.filter(pl.col('movies_id') == i)['title'].to_list()[0])"
      ]
    },
    {
      "cell_type": "code",
      "execution_count": null,
      "id": "ea6c78ee",
      "metadata": {
        "colab": {
          "base_uri": "https://localhost:8080/"
        },
        "id": "ea6c78ee",
        "outputId": "fa248d8e-b944-4e14-90dc-4a23bcc20f5d"
      },
      "outputs": [
        {
          "output_type": "stream",
          "name": "stdout",
          "text": [
            "Crestfallen\n",
            "Dead Name\n",
            "Burglar and Umbrella\n",
            "Out of Death\n",
            "Konsento\n",
            "Ferrugem\n",
            "Brother Sister Lover\n",
            "Jailbreak in Hamburg\n",
            "Temptations Again\n",
            "Code of Hunting\n"
          ]
        }
      ],
      "source": [
        "find_similar_movies(\n",
        " 'Intimate Witness',\n",
        "k = 10)"
      ]
    },
    {
      "cell_type": "code",
      "execution_count": null,
      "id": "135dfb37",
      "metadata": {
        "colab": {
          "base_uri": "https://localhost:8080/"
        },
        "id": "135dfb37",
        "outputId": "499ff7ba-6b22-4524-f18a-9e3d0c16bd81"
      },
      "outputs": [
        {
          "output_type": "execute_result",
          "data": {
            "text/plain": [
              "['Ball Lightning',\n",
              " 'Evil Behind You',\n",
              " 'The Smiley Face Killers',\n",
              " 'Kaali Pahadi',\n",
              " 'The Right Juice',\n",
              " 'Seoul Rainbow',\n",
              " 'Andromedia',\n",
              " 'Young Shim',\n",
              " 'Lashkar',\n",
              " '21 Days',\n",
              " 'Man Down',\n",
              " 'Hatyare',\n",
              " 'Leonardo Syndrome',\n",
              " '12 AM Madhyarathri',\n",
              " 'Office Invasion',\n",
              " 'Anandache Jhaad',\n",
              " 'Harts Ridge',\n",
              " 'On the Waterfront',\n",
              " 'The Life of a Jackeroo',\n",
              " 'The Flaming Frontier',\n",
              " 'Dayavan',\n",
              " \"Far til fire's vilde ferie\",\n",
              " 'The Devils Are Here',\n",
              " 'Un amor extraño',\n",
              " 'Caballo patas de acero',\n",
              " 'Hostage: Missing Celebrity',\n",
              " 'Crimen en Chihuahua',\n",
              " 'The Four Poster',\n",
              " 'Acceptera Mig',\n",
              " 'Slime',\n",
              " 'Seven Days in Never',\n",
              " 'Maryade Ramanna',\n",
              " 'Faerie Ring',\n",
              " 'Can yue li hun',\n",
              " 'Salam-e-Madrasa',\n",
              " 'No Retreat, No Surrender',\n",
              " 'Apache Street',\n",
              " 'Kora Kids',\n",
              " 'Hintertreppe',\n",
              " 'Maya and Her Lover',\n",
              " 'Bobby Fischer Live',\n",
              " 'Dirty Rhetoric',\n",
              " 'Suvarna Sundari',\n",
              " 'The Man from the Future',\n",
              " 'Warat',\n",
              " 'Jack Zollo: My Life in Crime',\n",
              " 'R A N D, inc.',\n",
              " 'Missing Evidence',\n",
              " 'Intimate Witness',\n",
              " 'Find the Lady']"
            ]
          },
          "metadata": {},
          "execution_count": 69
        }
      ],
      "source": [
        "dff['title'].sample(50).to_list()"
      ]
    },
    {
      "cell_type": "code",
      "source": [
        "if str(dff['rating'].dtype) == 'Utf8':\n",
        "    dff = dff.with_columns([pl.col('rating').str.replace_all('',0)])\n",
        "    dff = dff.with_columns([pl.col('rating').cast(pl.Float64), pl.col('movies_id').cast(pl.Int64) ])\n",
        "\n",
        "if str(dff['votes'].dtype) == 'Int64':\n",
        "    pass"
      ],
      "metadata": {
        "id": "8RfT566WcwJi"
      },
      "id": "8RfT566WcwJi",
      "execution_count": null,
      "outputs": []
    },
    {
      "cell_type": "code",
      "source": [
        "dff.median()"
      ],
      "metadata": {
        "id": "em-iAGYkg8fz",
        "outputId": "8b0609f9-b1af-46d4-e3cb-38f6ca205cb4",
        "colab": {
          "base_uri": "https://localhost:8080/",
          "height": 129
        }
      },
      "id": "em-iAGYkg8fz",
      "execution_count": null,
      "outputs": [
        {
          "output_type": "execute_result",
          "data": {
            "text/plain": [
              "shape: (1, 5)\n",
              "┌───────┬───────────┬──────┬───────┬────────┐\n",
              "│ title ┆ movies_id ┆ tags ┆ votes ┆ rating │\n",
              "│ ---   ┆ ---       ┆ ---  ┆ ---   ┆ ---    │\n",
              "│ str   ┆ f64       ┆ str  ┆ f64   ┆ f64    │\n",
              "╞═══════╪═══════════╪══════╪═══════╪════════╡\n",
              "│ null  ┆ 142669.5  ┆ null ┆ 26.0  ┆ 50.01  │\n",
              "└───────┴───────────┴──────┴───────┴────────┘"
            ],
            "text/html": [
              "<div><style>\n",
              ".dataframe > thead > tr > th,\n",
              ".dataframe > tbody > tr > td {\n",
              "  text-align: right;\n",
              "}\n",
              "</style>\n",
              "<small>shape: (1, 5)</small><table border=\"1\" class=\"dataframe\"><thead><tr><th>title</th><th>movies_id</th><th>tags</th><th>votes</th><th>rating</th></tr><tr><td>str</td><td>f64</td><td>str</td><td>f64</td><td>f64</td></tr></thead><tbody><tr><td>null</td><td>142669.5</td><td>null</td><td>26.0</td><td>50.01</td></tr></tbody></table></div>"
            ]
          },
          "metadata": {},
          "execution_count": 71
        }
      ]
    },
    {
      "cell_type": "code",
      "execution_count": null,
      "id": "f933c647",
      "metadata": {
        "colab": {
          "base_uri": "https://localhost:8080/",
          "height": 882
        },
        "id": "f933c647",
        "outputId": "1d527dcf-e820-4802-f3d9-8ff98c77b6d0"
      },
      "outputs": [
        {
          "output_type": "execute_result",
          "data": {
            "text/plain": [
              "shape: (285_340, 15)\n",
              "┌─────────────┬──────┬───────────┬─────────────┬───┬─────────────┬───────┬───────────┬─────────────┐\n",
              "│ title       ┆ year ┆ certifica ┆ genre       ┆ … ┆ actor 4     ┆ votes ┆ movies_id ┆ tags        │\n",
              "│ ---         ┆ ---  ┆ te        ┆ ---         ┆   ┆ ---         ┆ ---   ┆ ---       ┆ ---         │\n",
              "│ str         ┆ i64  ┆ ---       ┆ str         ┆   ┆ str         ┆ i64   ┆ i64       ┆ str         │\n",
              "│             ┆      ┆ str       ┆             ┆   ┆             ┆       ┆           ┆             │\n",
              "╞═════════════╪══════╪═══════════╪═════════════╪═══╪═════════════╪═══════╪═══════════╪═════════════╡\n",
              "│ Uruttu Tech ┆ 2023 ┆ U         ┆ Comedy      ┆ … ┆             ┆ 7069  ┆ 78580     ┆ uruttu tech │\n",
              "│             ┆      ┆           ┆             ┆   ┆             ┆       ┆           ┆ 2023 u      │\n",
              "│             ┆      ┆           ┆             ┆   ┆             ┆       ┆           ┆ comedy      │\n",
              "│             ┆      ┆           ┆             ┆   ┆             ┆       ┆           ┆ …           │\n",
              "│ Shubh Yatra ┆ 2023 ┆ UA        ┆ Drama,      ┆ … ┆ HeminTrived ┆ 1337  ┆ 153662    ┆ shubh yatra │\n",
              "│             ┆      ┆           ┆ Family      ┆   ┆ i           ┆       ┆           ┆ 2023 ua     │\n",
              "│             ┆      ┆           ┆             ┆   ┆             ┆       ┆           ┆ drama       │\n",
              "│             ┆      ┆           ┆             ┆   ┆             ┆       ┆           ┆ family…     │\n",
              "│ Saachi      ┆ 2023 ┆           ┆ Drama       ┆ … ┆ ChellySwapn ┆ 1226  ┆ 168388    ┆ saachi 2023 │\n",
              "│             ┆      ┆           ┆             ┆   ┆ a           ┆       ┆           ┆ drama       │\n",
              "│             ┆      ┆           ┆             ┆   ┆             ┆       ┆           ┆ 118…        │\n",
              "│ Mariguddada ┆ 2023 ┆           ┆ Thriller    ┆ … ┆ Avinash     ┆ 710   ┆ 271126    ┆ mariguddada │\n",
              "│ Gaddadharig ┆      ┆           ┆             ┆   ┆             ┆       ┆           ┆ gaddadharig │\n",
              "│ alu         ┆      ┆           ┆             ┆   ┆             ┆       ┆           ┆ alu 2023 …  │\n",
              "│ …           ┆ …    ┆ …         ┆ …           ┆ … ┆ …           ┆ …     ┆ …         ┆ …           │\n",
              "│ Man from    ┆ 0    ┆           ┆ Western     ┆ … ┆             ┆ 0     ┆ 285336    ┆ man from    │\n",
              "│ the West    ┆      ┆           ┆             ┆   ┆             ┆       ┆           ┆ the west 0  │\n",
              "│             ┆      ┆           ┆             ┆   ┆             ┆       ┆           ┆ western     │\n",
              "│             ┆      ┆           ┆             ┆   ┆             ┆       ┆           ┆ …           │\n",
              "│ Horizon: An ┆ 0    ┆           ┆ Western     ┆ … ┆             ┆ 0     ┆ 285337    ┆ horizon an  │\n",
              "│ American    ┆      ┆           ┆             ┆   ┆             ┆       ┆           ┆ american    │\n",
              "│ Saga 4      ┆      ┆           ┆             ┆   ┆             ┆       ┆           ┆ saga 4 0    │\n",
              "│             ┆      ┆           ┆             ┆   ┆             ┆       ┆           ┆ we…         │\n",
              "│ Horizon: An ┆ 0    ┆           ┆ Western     ┆ … ┆             ┆ 0     ┆ 285338    ┆ horizon an  │\n",
              "│ American    ┆      ┆           ┆             ┆   ┆             ┆       ┆           ┆ american    │\n",
              "│ Saga 3      ┆      ┆           ┆             ┆   ┆             ┆       ┆           ┆ saga 3 0    │\n",
              "│             ┆      ┆           ┆             ┆   ┆             ┆       ┆           ┆ we…         │\n",
              "│ The Perfect ┆ 2023 ┆           ┆ Drama,      ┆ … ┆ SydneyVanDe ┆ 0     ┆ 285339    ┆ the perfect │\n",
              "│ Hand        ┆      ┆           ┆ Western     ┆   ┆ lft         ┆       ┆           ┆ hand 2023   │\n",
              "│             ┆      ┆           ┆             ┆   ┆             ┆       ┆           ┆ drama wes…  │\n",
              "└─────────────┴──────┴───────────┴─────────────┴───┴─────────────┴───────┴───────────┴─────────────┘"
            ],
            "text/html": [
              "<div><style>\n",
              ".dataframe > thead > tr > th,\n",
              ".dataframe > tbody > tr > td {\n",
              "  text-align: right;\n",
              "}\n",
              "</style>\n",
              "<small>shape: (285340, 15)</small><table border=\"1\" class=\"dataframe\"><thead><tr><th>title</th><th>year</th><th>certificate</th><th>genre</th><th>time</th><th>rating</th><th>synopsis</th><th>director</th><th>actor 1</th><th>actor 2</th><th>actor 3</th><th>actor 4</th><th>votes</th><th>movies_id</th><th>tags</th></tr><tr><td>str</td><td>i64</td><td>str</td><td>str</td><td>str</td><td>str</td><td>str</td><td>str</td><td>str</td><td>str</td><td>str</td><td>str</td><td>i64</td><td>i64</td><td>str</td></tr></thead><tbody><tr><td>&quot;Uruttu Tech&quot;</td><td>2023</td><td>&quot;U&quot;</td><td>&quot;Comedy        …</td><td>&quot;&quot;</td><td>&quot;9.9&quot;</td><td>&quot;tech war truth…</td><td>&quot;PcdocNandha&quot;</td><td>&quot;&quot;</td><td>&quot;&quot;</td><td>&quot;&quot;</td><td>&quot;&quot;</td><td>7069</td><td>78580</td><td>&quot;uruttu tech 20…</td></tr><tr><td>&quot;Shubh Yatra&quot;</td><td>2023</td><td>&quot;UA&quot;</td><td>&quot;Drama, Family …</td><td>&quot;132&quot;</td><td>&quot;9.9&quot;</td><td>&quot;young man , ad…</td><td>&quot;ManishSaini&quot;</td><td>&quot;MalharThakar&quot;</td><td>&quot;MonalGajjar&quot;</td><td>&quot;DarshanJariwal…</td><td>&quot;HeminTrivedi&quot;</td><td>1337</td><td>153662</td><td>&quot;shubh yatra 20…</td></tr><tr><td>&quot;Saachi&quot;</td><td>2023</td><td>&quot;&quot;</td><td>&quot;Drama         …</td><td>&quot;118&quot;</td><td>&quot;9.9&quot;</td><td>&quot;Saachi high sc…</td><td>&quot;VivekPothagoni…</td><td>&quot;GeethikaRathan…</td><td>&quot;MulaviratAshok…</td><td>&quot;SanjanaReddy&quot;</td><td>&quot;ChellySwapna&quot;</td><td>1226</td><td>168388</td><td>&quot;saachi 2023  d…</td></tr><tr><td>&quot;Mariguddada Ga…</td><td>2023</td><td>&quot;&quot;</td><td>&quot;Thriller      …</td><td>&quot;&quot;</td><td>&quot;9.9&quot;</td><td>&quot;fictional stor…</td><td>&quot;RChandrakant&quot;</td><td>&quot;PraveenRaj&quot;</td><td>&quot;DineshKumarD&quot;</td><td>&quot;Namratha&quot;</td><td>&quot;Avinash&quot;</td><td>710</td><td>271126</td><td>&quot;mariguddada ga…</td></tr><tr><td>&quot;Yuzuru Hanyu I…</td><td>2023</td><td>&quot;&quot;</td><td>&quot;Sport         …</td><td>&quot;&quot;</td><td>&quot;9.9&quot;</td><td>&quot;Add Plot&quot;</td><td>&quot;YuzuruHanyu&quot;</td><td>&quot;YuzuruHanyu&quot;</td><td>&quot;&quot;</td><td>&quot;&quot;</td><td>&quot;&quot;</td><td>292</td><td>267309</td><td>&quot;yuzuru hanyu i…</td></tr><tr><td>&quot;IRavan&quot;</td><td>2023</td><td>&quot;&quot;</td><td>&quot;Thriller      …</td><td>&quot;&quot;</td><td>&quot;9.9&quot;</td><td>&quot;man studying a…</td><td>&quot;RamsRanga&quot;</td><td>&quot;Avinash&quot;</td><td>&quot;KrishnaHebbale…</td><td>&quot;KanthrajuKaddi…</td><td>&quot;J.Karthik&quot;</td><td>97</td><td>269687</td><td>&quot;iravan 2023  t…</td></tr><tr><td>&quot;Oye Jassi Oye&quot;</td><td>2023</td><td>&quot;&quot;</td><td>&quot;Comedy, Romanc…</td><td>&quot;&quot;</td><td>&quot;9.9&quot;</td><td>&quot;Add Plot&quot;</td><td>&quot;GanyaRajput&quot;</td><td>&quot;AshishBhat&quot;</td><td>&quot;GanyaRajput&quot;</td><td>&quot;&quot;</td><td>&quot;&quot;</td><td>68</td><td>88135</td><td>&quot;oye jassi oye …</td></tr><tr><td>&quot;Mary&quot;</td><td>2023</td><td>&quot;UA 13+&quot;</td><td>&quot;Action, Thrill…</td><td>&quot;94&quot;</td><td>&quot;9.9&quot;</td><td>&quot;looking succes…</td><td>&quot;ManojP.Nadalum…</td><td>&quot;AnooshaKrishna…</td><td>&quot;ThejaswiniShar…</td><td>&quot;VikashUttaiah&quot;</td><td>&quot;ChethanVicky&quot;</td><td>45</td><td>8936</td><td>&quot;mary 2023 ua 1…</td></tr><tr><td>&quot;Bablee&quot;</td><td>2023</td><td>&quot;UA&quot;</td><td>&quot;Romance       …</td><td>&quot;130&quot;</td><td>&quot;9.9&quot;</td><td>&quot;Satya exiled m…</td><td>&quot;RobertMegha&quot;</td><td>&quot;ChauthmolAniru…</td><td>&quot;GaggnGajarlwwa…</td><td>&quot;DhoteKanchan&quot;</td><td>&quot;DadgalNilesh&quot;</td><td>41</td><td>258423</td><td>&quot;bablee 2023 ua…</td></tr><tr><td>&quot;The Next Morni…</td><td>2022</td><td>&quot;&quot;</td><td>&quot;Crime         …</td><td>&quot;109&quot;</td><td>&quot;9.9&quot;</td><td>&quot;Children simil…</td><td>&quot;SenthilkumarAl…</td><td>&quot;EramAli&quot;</td><td>&quot;SusmitaBanerje…</td><td>&quot;KaakanDebnath&quot;</td><td>&quot;MinaGhosh&quot;</td><td>32</td><td>144443</td><td>&quot;the next morni…</td></tr><tr><td>&quot;Hathpakda&quot;</td><td>2023</td><td>&quot;&quot;</td><td>&quot;Drama         …</td><td>&quot;&quot;</td><td>&quot;9.9&quot;</td><td>&quot;film made Angi…</td><td>&quot;MauryaKunalMan…</td><td>&quot;JitendraMandal…</td><td>&quot;MauryakunalMan…</td><td>&quot;SanjeetKumarSa…</td><td>&quot;VedantKumarSug…</td><td>23</td><td>192372</td><td>&quot;hathpakda 2023…</td></tr><tr><td>&quot;Uneven Ground:…</td><td>2023</td><td>&quot;&quot;</td><td>&quot;Crime         …</td><td>&quot;48&quot;</td><td>&quot;9.9&quot;</td><td>&quot;Determined fin…</td><td>&quot;LaDonnaHumphre…</td><td>&quot;DeborahSingerS…</td><td>&quot;&quot;</td><td>&quot;&quot;</td><td>&quot;&quot;</td><td>21</td><td>142927</td><td>&quot;uneven ground …</td></tr><tr><td>&hellip;</td><td>&hellip;</td><td>&hellip;</td><td>&hellip;</td><td>&hellip;</td><td>&hellip;</td><td>&hellip;</td><td>&hellip;</td><td>&hellip;</td><td>&hellip;</td><td>&hellip;</td><td>&hellip;</td><td>&hellip;</td><td>&hellip;</td><td>&hellip;</td></tr><tr><td>&quot;Flashing Hoofs…</td><td>1928</td><td>&quot;&quot;</td><td>&quot;Western       …</td><td>&quot;&quot;</td><td>&quot;0.0&quot;</td><td>&quot;Add Plot&quot;</td><td>&quot;CliffLyons&quot;</td><td>&quot;&quot;</td><td>&quot;&quot;</td><td>&quot;&quot;</td><td>&quot;&quot;</td><td>0</td><td>285328</td><td>&quot;flashing hoofs…</td></tr><tr><td>&quot;Seven Sixgunne…</td><td>1987</td><td>&quot;&quot;</td><td>&quot;Western       …</td><td>&quot;88&quot;</td><td>&quot;0.0&quot;</td><td>&quot;Flick Farsom u…</td><td>&quot;GeorgePotter&quot;</td><td>&quot;LarryBrooks&quot;</td><td>&quot;PaulFogle&quot;</td><td>&quot;JayGammons&quot;</td><td>&quot;CathyLane&quot;</td><td>0</td><td>285329</td><td>&quot;seven sixgunne…</td></tr><tr><td>&quot;Cigarettes Lik…</td><td>0</td><td>&quot;&quot;</td><td>&quot;Western       …</td><td>&quot;&quot;</td><td>&quot;0.0&quot;</td><td>&quot;farmer , left …</td><td>&quot;JodyButler&quot;</td><td>&quot;JodyButler&quot;</td><td>&quot;&quot;</td><td>&quot;&quot;</td><td>&quot;&quot;</td><td>0</td><td>285330</td><td>&quot;cigarettes lik…</td></tr><tr><td>&quot;The Wyoming Wi…</td><td>1925</td><td>&quot;Passed&quot;</td><td>&quot;Drama, Western…</td><td>&quot;50&quot;</td><td>&quot;0.0&quot;</td><td>&quot;Cowboy Phil St…</td><td>&quot;RobertDeLacey&quot;</td><td>&quot;TomTyler&quot;</td><td>&quot;VirginiaSouthe…</td><td>&quot;GilbertClayton…</td><td>&quot;EthanLaidlaw&quot;</td><td>0</td><td>285331</td><td>&quot;the wyoming wi…</td></tr><tr><td>&quot;Alamo Reed&quot;</td><td>0</td><td>&quot;&quot;</td><td>&quot;Comedy, Drama,…</td><td>&quot;&quot;</td><td>&quot;0.0&quot;</td><td>&quot;Mexican Bandid…</td><td>&quot;&quot;</td><td>&quot;&quot;</td><td>&quot;&quot;</td><td>&quot;&quot;</td><td>&quot;&quot;</td><td>0</td><td>285332</td><td>&quot;alamo reed 0  …</td></tr><tr><td>&quot;Dugong Tigre&quot;</td><td>1964</td><td>&quot;&quot;</td><td>&quot;Western       …</td><td>&quot;&quot;</td><td>&quot;0.0&quot;</td><td>&quot;Add Plot&quot;</td><td>&quot;ArmandoGarces&quot;</td><td>&quot;JunAristorenas…</td><td>&quot;GinaLaforteza&quot;</td><td>&quot;EddieGarcia&quot;</td><td>&quot;MaxAlvarado&quot;</td><td>0</td><td>285333</td><td>&quot;dugong tigre 1…</td></tr><tr><td>&quot;Lone Fighter&quot;</td><td>1923</td><td>&quot;&quot;</td><td>&quot;Western       …</td><td>&quot;&quot;</td><td>&quot;0.0&quot;</td><td>&quot;Girl &#x27;s sweeth…</td><td>&quot;AlbertRussell&quot;</td><td>&quot;J.B.Warner&quot;</td><td>&quot;VesterPegg&quot;</td><td>&quot;JosephineHill&quot;</td><td>&quot;JoeRyan&quot;</td><td>0</td><td>285334</td><td>&quot;lone fighter 1…</td></tr><tr><td>&quot;Imposition&quot;</td><td>0</td><td>&quot;&quot;</td><td>&quot;Western       …</td><td>&quot;&quot;</td><td>&quot;0.0&quot;</td><td>&quot;mentally ill k…</td><td>&quot;&quot;</td><td>&quot;&quot;</td><td>&quot;&quot;</td><td>&quot;&quot;</td><td>&quot;&quot;</td><td>0</td><td>285335</td><td>&quot;imposition 0  …</td></tr><tr><td>&quot;Man from the W…</td><td>0</td><td>&quot;&quot;</td><td>&quot;Western       …</td><td>&quot;&quot;</td><td>&quot;0.0&quot;</td><td>&quot;1912 . Old Wes…</td><td>&quot;Jean-Christoph…</td><td>&quot;&quot;</td><td>&quot;&quot;</td><td>&quot;&quot;</td><td>&quot;&quot;</td><td>0</td><td>285336</td><td>&quot;man from the w…</td></tr><tr><td>&quot;Horizon: An Am…</td><td>0</td><td>&quot;&quot;</td><td>&quot;Western       …</td><td>&quot;&quot;</td><td>&quot;0.0&quot;</td><td>&quot;Plot wraps .&quot;</td><td>&quot;KevinCostner&quot;</td><td>&quot;KevinCostner&quot;</td><td>&quot;AustinArcher&quot;</td><td>&quot;&quot;</td><td>&quot;&quot;</td><td>0</td><td>285337</td><td>&quot;horizon an ame…</td></tr><tr><td>&quot;Horizon: An Am…</td><td>0</td><td>&quot;&quot;</td><td>&quot;Western       …</td><td>&quot;&quot;</td><td>&quot;0.0&quot;</td><td>&quot;Plot wraps .&quot;</td><td>&quot;KevinCostner&quot;</td><td>&quot;KevinCostner&quot;</td><td>&quot;AustinArcher&quot;</td><td>&quot;&quot;</td><td>&quot;&quot;</td><td>0</td><td>285338</td><td>&quot;horizon an ame…</td></tr><tr><td>&quot;The Perfect Ha…</td><td>2023</td><td>&quot;&quot;</td><td>&quot;Drama, Western…</td><td>&quot;113&quot;</td><td>&quot;0.0&quot;</td><td>&quot;sharp-shooting…</td><td>&quot;MichaelFredian…</td><td>&quot;MichaelFredian…</td><td>&quot;BryanHurd&quot;</td><td>&quot;DanielEdwardMi…</td><td>&quot;SydneyVanDelft…</td><td>0</td><td>285339</td><td>&quot;the perfect ha…</td></tr></tbody></table></div>"
            ]
          },
          "metadata": {},
          "execution_count": 72
        }
      ],
      "source": [
        "df.sort(by=['rating', 'votes'], descending=True)"
      ]
    },
    {
      "cell_type": "code",
      "execution_count": null,
      "id": "758bbed7",
      "metadata": {
        "id": "758bbed7"
      },
      "outputs": [],
      "source": [
        "def find_popular_movies( k = 5) -> List[str]:\n",
        "    movie_id  = dff.filter(pl.col('title') == x)['movies_id'].to_list()[0]\n",
        "    # print(movie_id)\n",
        "    sim_vec  = cosine_similarity(vector, vector[movie_id])\n",
        "    y = sorted(enumerate(sim_vec), key=lambda x: x[1], reverse=True)\n",
        "    recommended_movies_ids = [i[0] for i in y[1:k+1]]\n",
        "    # print(recommended_movies_ids)\n",
        "    for i in recommended_movies_ids:\n",
        "        print(dff.filter(pl.col('movies_id') == i)['title'].to_list()[0])"
      ]
    },
    {
      "cell_type": "code",
      "execution_count": null,
      "id": "84552c46-4000-4adf-8308-de43f53c2725",
      "metadata": {
        "id": "84552c46-4000-4adf-8308-de43f53c2725"
      },
      "outputs": [],
      "source": [
        "df.columns"
      ]
    },
    {
      "cell_type": "code",
      "execution_count": null,
      "id": "3b12221c-8d0c-4838-a8a7-2a71553fc4cd",
      "metadata": {
        "id": "3b12221c-8d0c-4838-a8a7-2a71553fc4cd"
      },
      "outputs": [],
      "source": [
        "df.info()"
      ]
    },
    {
      "cell_type": "code",
      "execution_count": null,
      "id": "d257e496-95c2-4fe7-83f3-27ae473b527a",
      "metadata": {
        "id": "d257e496-95c2-4fe7-83f3-27ae473b527a"
      },
      "outputs": [],
      "source": []
    },
    {
      "cell_type": "code",
      "execution_count": null,
      "id": "c20b2fb9-9426-4751-a340-c1b7cc7d0012",
      "metadata": {
        "id": "c20b2fb9-9426-4751-a340-c1b7cc7d0012"
      },
      "outputs": [],
      "source": []
    },
    {
      "cell_type": "code",
      "execution_count": null,
      "id": "0eb8b706",
      "metadata": {
        "scrolled": true,
        "id": "0eb8b706"
      },
      "outputs": [],
      "source": [
        "df.sort_values(['votes','rating' ], ascending=False)"
      ]
    },
    {
      "cell_type": "code",
      "execution_count": null,
      "id": "770671d9",
      "metadata": {
        "id": "770671d9"
      },
      "outputs": [],
      "source": []
    },
    {
      "cell_type": "code",
      "execution_count": null,
      "id": "60e5877e",
      "metadata": {
        "id": "60e5877e"
      },
      "outputs": [],
      "source": []
    }
  ],
  "metadata": {
    "kernelspec": {
      "display_name": "deep",
      "language": "python",
      "name": "deep"
    },
    "language_info": {
      "codemirror_mode": {
        "name": "ipython",
        "version": 3
      },
      "file_extension": ".py",
      "mimetype": "text/x-python",
      "name": "python",
      "nbconvert_exporter": "python",
      "pygments_lexer": "ipython3",
      "version": "3.11.4"
    },
    "colab": {
      "provenance": []
    }
  },
  "nbformat": 4,
  "nbformat_minor": 5
}